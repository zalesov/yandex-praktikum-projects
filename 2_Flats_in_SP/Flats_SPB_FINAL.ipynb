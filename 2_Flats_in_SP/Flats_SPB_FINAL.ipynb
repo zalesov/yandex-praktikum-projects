{
 "cells": [
  {
   "cell_type": "markdown",
   "metadata": {},
   "source": [
    "# Исследование объявлений о продаже квартир\n",
    "\n",
    "В вашем распоряжении данные сервиса Яндекс.Недвижимость — архив объявлений о продаже квартир в Санкт-Петербурге и соседних населённых пунктах за несколько лет. Нужно научиться определять рыночную стоимость объектов недвижимости. Ваша задача — установить параметры. Это позволит построить автоматизированную систему: она отследит аномалии и мошенническую деятельность. \n",
    "\n",
    "По каждой квартире на продажу доступны два вида данных. Первые вписаны пользователем, вторые получены автоматически на основе картографических данных. Например, расстояние до центра, аэропорта, ближайшего парка и водоёма. "
   ]
  },
  {
   "cell_type": "markdown",
   "metadata": {
    "toc": true
   },
   "source": [
    "<h1>Содержание<span class=\"tocSkip\"></span></h1>\n",
    "<div class=\"toc\"><ul class=\"toc-item\"><li><span><a href=\"#Изучение-данных-из-файла\" data-toc-modified-id=\"Изучение-данных-из-файла-1\"><span class=\"toc-item-num\">1&nbsp;&nbsp;</span>Изучение данных из файла</a></span><ul class=\"toc-item\"><li><span><a href=\"#Вывод\" data-toc-modified-id=\"Вывод-1.1\"><span class=\"toc-item-num\">1.1&nbsp;&nbsp;</span>Вывод</a></span></li></ul></li><li><span><a href=\"#Предобработка-данных\" data-toc-modified-id=\"Предобработка-данных-2\"><span class=\"toc-item-num\">2&nbsp;&nbsp;</span>Предобработка данных</a></span></li><li><span><a href=\"#-Комментарий-студента\" data-toc-modified-id=\"-Комментарий-студента-3\"><span class=\"toc-item-num\">3&nbsp;&nbsp;</span> Комментарий студента</a></span></li><li><span><a href=\"#-Комментарий-студента\" data-toc-modified-id=\"-Комментарий-студента-4\"><span class=\"toc-item-num\">4&nbsp;&nbsp;</span> Комментарий студента</a></span></li><li><span><a href=\"#-Комментарий-студента\" data-toc-modified-id=\"-Комментарий-студента-5\"><span class=\"toc-item-num\">5&nbsp;&nbsp;</span> Комментарий студента</a></span></li><li><span><a href=\"#Рассчёты-и-добавление-результатов-в-таблицу\" data-toc-modified-id=\"Рассчёты-и-добавление-результатов-в-таблицу-6\"><span class=\"toc-item-num\">6&nbsp;&nbsp;</span>Рассчёты и добавление результатов в таблицу</a></span></li><li><span><a href=\"#Исследовательский-анализ-данных\" data-toc-modified-id=\"Исследовательский-анализ-данных-7\"><span class=\"toc-item-num\">7&nbsp;&nbsp;</span>Исследовательский анализ данных</a></span></li><li><span><a href=\"#-Комментарий-студента\" data-toc-modified-id=\"-Комментарий-студента-8\"><span class=\"toc-item-num\">8&nbsp;&nbsp;</span> Комментарий студента</a></span></li><li><span><a href=\"#Уберите-редкие-и-выбивающиеся-значения.-Опишите,-какие-особенности-обнаружили.\" data-toc-modified-id=\"Уберите-редкие-и-выбивающиеся-значения.-Опишите,-какие-особенности-обнаружили.-9\"><span class=\"toc-item-num\">9&nbsp;&nbsp;</span>Уберите редкие и выбивающиеся значения. Опишите, какие особенности обнаружили.</a></span></li><li><span><a href=\"#-Комментарий-студента---3\" data-toc-modified-id=\"-Комментарий-студента---3-10\"><span class=\"toc-item-num\">10&nbsp;&nbsp;</span> Комментарий студента - 3</a></span></li><li><span><a href=\"#-Комментарий-студента\" data-toc-modified-id=\"-Комментарий-студента-11\"><span class=\"toc-item-num\">11&nbsp;&nbsp;</span> Комментарий студента</a></span></li><li><span><a href=\"#Какие-факторы-больше-всего-влияют-на-стоимость-квартиры?-Изучите,-зависит-ли-цена-от-квадратного-метра,-числа-комнат,-этажа-(первого-или-последнего),-удалённости-от-центра.\" data-toc-modified-id=\"Какие-факторы-больше-всего-влияют-на-стоимость-квартиры?-Изучите,-зависит-ли-цена-от-квадратного-метра,-числа-комнат,-этажа-(первого-или-последнего),-удалённости-от-центра.-12\"><span class=\"toc-item-num\">12&nbsp;&nbsp;</span>Какие факторы больше всего влияют на стоимость квартиры? Изучите, зависит ли цена от квадратного метра, числа комнат, этажа (первого или последнего), удалённости от центра.</a></span></li><li><span><a href=\"#-Комментарий-студента\" data-toc-modified-id=\"-Комментарий-студента-13\"><span class=\"toc-item-num\">13&nbsp;&nbsp;</span> Комментарий студента</a></span></li><li><span><a href=\"#Также-изучите-зависимость-от-даты-размещения:-дня-недели,-месяца-и-года.\" data-toc-modified-id=\"Также-изучите-зависимость-от-даты-размещения:-дня-недели,-месяца-и-года.-14\"><span class=\"toc-item-num\">14&nbsp;&nbsp;</span>Также изучите зависимость от даты размещения: дня недели, месяца и года.</a></span></li><li><span><a href=\"#Выберите-10-населённых-пунктов-с-наибольшим-числом-объявлений.-Посчитайте-среднюю-цену-квадратного-метра-в-этих-населённых-пунктах.\" data-toc-modified-id=\"Выберите-10-населённых-пунктов-с-наибольшим-числом-объявлений.-Посчитайте-среднюю-цену-квадратного-метра-в-этих-населённых-пунктах.-15\"><span class=\"toc-item-num\">15&nbsp;&nbsp;</span>Выберите 10 населённых пунктов с наибольшим числом объявлений. Посчитайте среднюю цену квадратного метра в этих населённых пунктах.</a></span></li><li><span><a href=\"#Выделите-населённые-пункты-с-самой-высокой-и-низкой-стоимостью-жилья.-Эти-данные-можно-найти-по-имени-в-столбце-'locality_name'\" data-toc-modified-id=\"Выделите-населённые-пункты-с-самой-высокой-и-низкой-стоимостью-жилья.-Эти-данные-можно-найти-по-имени-в-столбце-'locality_name'-16\"><span class=\"toc-item-num\">16&nbsp;&nbsp;</span>Выделите населённые пункты с самой высокой и низкой стоимостью жилья. Эти данные можно найти по имени в столбце '<em>locality_name'</em></a></span><ul class=\"toc-item\"><li><span><a href=\"#выполнено-задание:-&quot;Изучите-предложения-квартир:-для-каждой-квартиры-есть-информация-о-расстоянии-до-центра.-Выделите-квартиры-в-Санкт-Петербурге-('locality_name').-Ваша-задача-—-выяснить,-какая-область-входит-в-центр.-Создайте-столбец-с-расстоянием-до-центра-в-километрах:-округлите-до-целых-значений.-После-этого-посчитайте-среднюю-цену-для-каждого-километра.-Постройте-график:-он-должен-показывать,-как-цена-зависит-от-удалённости-от-центра.-Определите-границу,-где-график-сильно-меняется-—-это-и-будет-центральная-зона.-&quot;\" data-toc-modified-id=\"выполнено-задание:-&quot;Изучите-предложения-квартир:-для-каждой-квартиры-есть-информация-о-расстоянии-до-центра.-Выделите-квартиры-в-Санкт-Петербурге-('locality_name').-Ваша-задача-—-выяснить,-какая-область-входит-в-центр.-Создайте-столбец-с-расстоянием-до-центра-в-километрах:-округлите-до-целых-значений.-После-этого-посчитайте-среднюю-цену-для-каждого-километра.-Постройте-график:-он-должен-показывать,-как-цена-зависит-от-удалённости-от-центра.-Определите-границу,-где-график-сильно-меняется-—-это-и-будет-центральная-зона.-&quot;-16.1\"><span class=\"toc-item-num\">16.1&nbsp;&nbsp;</span>выполнено задание: \"Изучите предложения квартир: для каждой квартиры есть информация о расстоянии до центра. Выделите квартиры в Санкт-Петербурге (<em>'locality_name'</em>). Ваша задача — выяснить, какая область входит в центр. Создайте столбец с расстоянием до центра в километрах: округлите до целых значений. После этого посчитайте среднюю цену для каждого километра. Постройте график: он должен показывать, как цена зависит от удалённости от центра. Определите границу, где график сильно меняется — это и будет центральная зона. \"</a></span></li><li><span><a href=\"#&quot;Выделите-сегмент-квартир-в-центре.-Проанализируйте-эту-территорию-и-изучите-следующие-параметры:-площадь,-цена,-число-комнат,-высота-потолков.-Также-выделите-факторы,-которые-влияют-на-стоимость-квартиры-(число-комнат,-этаж,-удалённость-от-центра,-дата-размещения-объявления).-Сделайте-выводы.-Отличаются-ли-они-от-общих-выводов-по-всему-городу?&quot;\" data-toc-modified-id=\"&quot;Выделите-сегмент-квартир-в-центре.-Проанализируйте-эту-территорию-и-изучите-следующие-параметры:-площадь,-цена,-число-комнат,-высота-потолков.-Также-выделите-факторы,-которые-влияют-на-стоимость-квартиры-(число-комнат,-этаж,-удалённость-от-центра,-дата-размещения-объявления).-Сделайте-выводы.-Отличаются-ли-они-от-общих-выводов-по-всему-городу?&quot;-16.2\"><span class=\"toc-item-num\">16.2&nbsp;&nbsp;</span>\"Выделите сегмент квартир в центре. Проанализируйте эту территорию и изучите следующие параметры: площадь, цена, число комнат, высота потолков. Также выделите факторы, которые влияют на стоимость квартиры (число комнат, этаж, удалённость от центра, дата размещения объявления). Сделайте выводы. Отличаются ли они от общих выводов по всему городу?\"</a></span></li></ul></li><li><span><a href=\"#-Комментарий-студента---3\" data-toc-modified-id=\"-Комментарий-студента---3-17\"><span class=\"toc-item-num\">17&nbsp;&nbsp;</span> Комментарий студента - 3</a></span></li><li><span><a href=\"#Чек-лист-готовности-проекта\" data-toc-modified-id=\"Чек-лист-готовности-проекта-18\"><span class=\"toc-item-num\">18&nbsp;&nbsp;</span>Чек-лист готовности проекта</a></span></li></ul></div>"
   ]
  },
  {
   "cell_type": "markdown",
   "metadata": {},
   "source": [
    "## Изучение данных из файла"
   ]
  },
  {
   "cell_type": "code",
   "execution_count": 4,
   "metadata": {},
   "outputs": [],
   "source": [
    "import pandas as pd\n",
    "import matplotlib.pyplot as plt\n",
    "import numpy as np\n",
    "import warnings\n",
    "warnings.filterwarnings('ignore')\n",
    "\n",
    "\n"
   ]
  },
  {
   "cell_type": "code",
   "execution_count": 5,
   "metadata": {},
   "outputs": [
    {
     "name": "stdout",
     "output_type": "stream",
     "text": [
      "<class 'pandas.core.frame.DataFrame'>\n",
      "RangeIndex: 23699 entries, 0 to 23698\n",
      "Data columns (total 22 columns):\n",
      " #   Column                Non-Null Count  Dtype  \n",
      "---  ------                --------------  -----  \n",
      " 0   total_images          23699 non-null  int64  \n",
      " 1   last_price            23699 non-null  float64\n",
      " 2   total_area            23699 non-null  float64\n",
      " 3   first_day_exposition  23699 non-null  object \n",
      " 4   rooms                 23699 non-null  int64  \n",
      " 5   ceiling_height        14504 non-null  float64\n",
      " 6   floors_total          23613 non-null  float64\n",
      " 7   living_area           21796 non-null  float64\n",
      " 8   floor                 23699 non-null  int64  \n",
      " 9   is_apartment          2775 non-null   object \n",
      " 10  studio                23699 non-null  bool   \n",
      " 11  open_plan             23699 non-null  bool   \n",
      " 12  kitchen_area          21421 non-null  float64\n",
      " 13  balcony               12180 non-null  float64\n",
      " 14  locality_name         23650 non-null  object \n",
      " 15  airports_nearest      18157 non-null  float64\n",
      " 16  cityCenters_nearest   18180 non-null  float64\n",
      " 17  parks_around3000      18181 non-null  float64\n",
      " 18  parks_nearest         8079 non-null   float64\n",
      " 19  ponds_around3000      18181 non-null  float64\n",
      " 20  ponds_nearest         9110 non-null   float64\n",
      " 21  days_exposition       20518 non-null  float64\n",
      "dtypes: bool(2), float64(14), int64(3), object(3)\n",
      "memory usage: 3.7+ MB\n",
      "None\n"
     ]
    },
    {
     "data": {
      "text/html": [
       "<div>\n",
       "<style scoped>\n",
       "    .dataframe tbody tr th:only-of-type {\n",
       "        vertical-align: middle;\n",
       "    }\n",
       "\n",
       "    .dataframe tbody tr th {\n",
       "        vertical-align: top;\n",
       "    }\n",
       "\n",
       "    .dataframe thead th {\n",
       "        text-align: right;\n",
       "    }\n",
       "</style>\n",
       "<table border=\"1\" class=\"dataframe\">\n",
       "  <thead>\n",
       "    <tr style=\"text-align: right;\">\n",
       "      <th></th>\n",
       "      <th>total_images</th>\n",
       "      <th>last_price</th>\n",
       "      <th>total_area</th>\n",
       "      <th>first_day_exposition</th>\n",
       "      <th>rooms</th>\n",
       "      <th>ceiling_height</th>\n",
       "      <th>floors_total</th>\n",
       "      <th>living_area</th>\n",
       "      <th>floor</th>\n",
       "      <th>is_apartment</th>\n",
       "      <th>...</th>\n",
       "      <th>kitchen_area</th>\n",
       "      <th>balcony</th>\n",
       "      <th>locality_name</th>\n",
       "      <th>airports_nearest</th>\n",
       "      <th>cityCenters_nearest</th>\n",
       "      <th>parks_around3000</th>\n",
       "      <th>parks_nearest</th>\n",
       "      <th>ponds_around3000</th>\n",
       "      <th>ponds_nearest</th>\n",
       "      <th>days_exposition</th>\n",
       "    </tr>\n",
       "  </thead>\n",
       "  <tbody>\n",
       "    <tr>\n",
       "      <th>0</th>\n",
       "      <td>20</td>\n",
       "      <td>13000000.0</td>\n",
       "      <td>108.0</td>\n",
       "      <td>2019-03-07T00:00:00</td>\n",
       "      <td>3</td>\n",
       "      <td>2.70</td>\n",
       "      <td>16.0</td>\n",
       "      <td>51.0</td>\n",
       "      <td>8</td>\n",
       "      <td>NaN</td>\n",
       "      <td>...</td>\n",
       "      <td>25.0</td>\n",
       "      <td>NaN</td>\n",
       "      <td>Санкт-Петербург</td>\n",
       "      <td>18863.0</td>\n",
       "      <td>16028.0</td>\n",
       "      <td>1.0</td>\n",
       "      <td>482.0</td>\n",
       "      <td>2.0</td>\n",
       "      <td>755.0</td>\n",
       "      <td>NaN</td>\n",
       "    </tr>\n",
       "    <tr>\n",
       "      <th>1</th>\n",
       "      <td>7</td>\n",
       "      <td>3350000.0</td>\n",
       "      <td>40.4</td>\n",
       "      <td>2018-12-04T00:00:00</td>\n",
       "      <td>1</td>\n",
       "      <td>NaN</td>\n",
       "      <td>11.0</td>\n",
       "      <td>18.6</td>\n",
       "      <td>1</td>\n",
       "      <td>NaN</td>\n",
       "      <td>...</td>\n",
       "      <td>11.0</td>\n",
       "      <td>2.0</td>\n",
       "      <td>посёлок Шушары</td>\n",
       "      <td>12817.0</td>\n",
       "      <td>18603.0</td>\n",
       "      <td>0.0</td>\n",
       "      <td>NaN</td>\n",
       "      <td>0.0</td>\n",
       "      <td>NaN</td>\n",
       "      <td>81.0</td>\n",
       "    </tr>\n",
       "    <tr>\n",
       "      <th>2</th>\n",
       "      <td>10</td>\n",
       "      <td>5196000.0</td>\n",
       "      <td>56.0</td>\n",
       "      <td>2015-08-20T00:00:00</td>\n",
       "      <td>2</td>\n",
       "      <td>NaN</td>\n",
       "      <td>5.0</td>\n",
       "      <td>34.3</td>\n",
       "      <td>4</td>\n",
       "      <td>NaN</td>\n",
       "      <td>...</td>\n",
       "      <td>8.3</td>\n",
       "      <td>0.0</td>\n",
       "      <td>Санкт-Петербург</td>\n",
       "      <td>21741.0</td>\n",
       "      <td>13933.0</td>\n",
       "      <td>1.0</td>\n",
       "      <td>90.0</td>\n",
       "      <td>2.0</td>\n",
       "      <td>574.0</td>\n",
       "      <td>558.0</td>\n",
       "    </tr>\n",
       "    <tr>\n",
       "      <th>3</th>\n",
       "      <td>0</td>\n",
       "      <td>64900000.0</td>\n",
       "      <td>159.0</td>\n",
       "      <td>2015-07-24T00:00:00</td>\n",
       "      <td>3</td>\n",
       "      <td>NaN</td>\n",
       "      <td>14.0</td>\n",
       "      <td>NaN</td>\n",
       "      <td>9</td>\n",
       "      <td>NaN</td>\n",
       "      <td>...</td>\n",
       "      <td>NaN</td>\n",
       "      <td>0.0</td>\n",
       "      <td>Санкт-Петербург</td>\n",
       "      <td>28098.0</td>\n",
       "      <td>6800.0</td>\n",
       "      <td>2.0</td>\n",
       "      <td>84.0</td>\n",
       "      <td>3.0</td>\n",
       "      <td>234.0</td>\n",
       "      <td>424.0</td>\n",
       "    </tr>\n",
       "    <tr>\n",
       "      <th>4</th>\n",
       "      <td>2</td>\n",
       "      <td>10000000.0</td>\n",
       "      <td>100.0</td>\n",
       "      <td>2018-06-19T00:00:00</td>\n",
       "      <td>2</td>\n",
       "      <td>3.03</td>\n",
       "      <td>14.0</td>\n",
       "      <td>32.0</td>\n",
       "      <td>13</td>\n",
       "      <td>NaN</td>\n",
       "      <td>...</td>\n",
       "      <td>41.0</td>\n",
       "      <td>NaN</td>\n",
       "      <td>Санкт-Петербург</td>\n",
       "      <td>31856.0</td>\n",
       "      <td>8098.0</td>\n",
       "      <td>2.0</td>\n",
       "      <td>112.0</td>\n",
       "      <td>1.0</td>\n",
       "      <td>48.0</td>\n",
       "      <td>121.0</td>\n",
       "    </tr>\n",
       "  </tbody>\n",
       "</table>\n",
       "<p>5 rows × 22 columns</p>\n",
       "</div>"
      ],
      "text/plain": [
       "   total_images  last_price  total_area first_day_exposition  rooms  \\\n",
       "0            20  13000000.0       108.0  2019-03-07T00:00:00      3   \n",
       "1             7   3350000.0        40.4  2018-12-04T00:00:00      1   \n",
       "2            10   5196000.0        56.0  2015-08-20T00:00:00      2   \n",
       "3             0  64900000.0       159.0  2015-07-24T00:00:00      3   \n",
       "4             2  10000000.0       100.0  2018-06-19T00:00:00      2   \n",
       "\n",
       "   ceiling_height  floors_total  living_area  floor is_apartment  ...  \\\n",
       "0            2.70          16.0         51.0      8          NaN  ...   \n",
       "1             NaN          11.0         18.6      1          NaN  ...   \n",
       "2             NaN           5.0         34.3      4          NaN  ...   \n",
       "3             NaN          14.0          NaN      9          NaN  ...   \n",
       "4            3.03          14.0         32.0     13          NaN  ...   \n",
       "\n",
       "   kitchen_area  balcony    locality_name  airports_nearest  \\\n",
       "0          25.0      NaN  Санкт-Петербург           18863.0   \n",
       "1          11.0      2.0   посёлок Шушары           12817.0   \n",
       "2           8.3      0.0  Санкт-Петербург           21741.0   \n",
       "3           NaN      0.0  Санкт-Петербург           28098.0   \n",
       "4          41.0      NaN  Санкт-Петербург           31856.0   \n",
       "\n",
       "  cityCenters_nearest  parks_around3000  parks_nearest  ponds_around3000  \\\n",
       "0             16028.0               1.0          482.0               2.0   \n",
       "1             18603.0               0.0            NaN               0.0   \n",
       "2             13933.0               1.0           90.0               2.0   \n",
       "3              6800.0               2.0           84.0               3.0   \n",
       "4              8098.0               2.0          112.0               1.0   \n",
       "\n",
       "   ponds_nearest  days_exposition  \n",
       "0          755.0              NaN  \n",
       "1            NaN             81.0  \n",
       "2          574.0            558.0  \n",
       "3          234.0            424.0  \n",
       "4           48.0            121.0  \n",
       "\n",
       "[5 rows x 22 columns]"
      ]
     },
     "execution_count": 5,
     "metadata": {},
     "output_type": "execute_result"
    }
   ],
   "source": [
    "df = pd.read_csv('/Users/alexey_zalesov/Desktop/ya_prakrikum/ds/datasets/real_estate_data.csv', sep='\\t')\n",
    "\n",
    "print(df.info())\n",
    "df.head()"
   ]
  },
  {
   "cell_type": "markdown",
   "metadata": {},
   "source": [
    "### Краткий вывод"
   ]
  },
  {
   "cell_type": "markdown",
   "metadata": {},
   "source": [
    "В столбцах ceiling_height, floors_total, living_area, is_apartment, kitchen_area, balcony, locality_name, airports_nearest, cityCenters_nearest, parks_around3000, parks_nearest, ponds_around3000, days_exposition число значений отлично от 23699. В столбцах balcony и is_apartment присутствует NaN, но если в столбце balcony его можно без потерь убрать, то в столбце is_apartment этого лучше не делать - вдруг мошенники не хотят сообщать покупателю, что жилплощадь - это апартаменты. В столбцах parks_around3000, floors_total и ponds_around3000 тип данных float64, хотя количество парков, этажей  и прудов не может быть нецелым."
   ]
  },
  {
   "cell_type": "markdown",
   "metadata": {},
   "source": [
    "## Предобработка данных"
   ]
  },
  {
   "cell_type": "code",
   "execution_count": 6,
   "metadata": {
    "scrolled": true
   },
   "outputs": [
    {
     "name": "stdout",
     "output_type": "stream",
     "text": [
      "Исходные данные\n",
      "9195 количество нулевых и пропущенных значений ceiling_height \n",
      "\n",
      "Значений много - нельзя просто выбросить. Заменим пропущенные значения на моду \n",
      "\n",
      "86 количество нулевых и пропущенных значений floors_total \n",
      "\n",
      "Их немного - можно удалить строки с пропущенными значениями \n",
      "\n",
      "1903 количество нулевых и пропущенных значений living_area \n",
      "\n",
      "Нечем заменить нули \n",
      "\n",
      "20924 количество нулевых и пропущенных значений is_apartment \n",
      "\n",
      "Заменим NaN на ноль. \"0\" означает \"не апартаменты \" \n",
      "\n"
     ]
    }
   ],
   "source": [
    "#print(df.duplicated(), 'количество дубликатов')\n",
    "print('Исходные данные')\n",
    "print(df['ceiling_height'].isnull().sum(), 'количество нулевых и пропущенных значений ceiling_height \\n'  )\n",
    "\n",
    "print('Значений много - нельзя просто выбросить. Заменим пропущенные значения на моду \\n')\n",
    "\n",
    "print(df['floors_total'].isnull().sum(), 'количество нулевых и пропущенных значений floors_total \\n' )\n",
    "\n",
    "print(\"Их немного - можно удалить строки с пропущенными значениями \\n\")\n",
    "\n",
    "print(df['living_area'].isnull().sum(), 'количество нулевых и пропущенных значений living_area \\n')\n",
    "\n",
    "print('Нечем заменить нули \\n')\n",
    "\n",
    "print(df['is_apartment'].isnull().sum(), 'количество нулевых и пропущенных значений is_apartment \\n' )\n",
    "\n",
    "print('Заменим NaN на ноль. \"0\" означает \"не апартаменты \\\" \\n')\n",
    "\n"
   ]
  },
  {
   "cell_type": "code",
   "execution_count": 7,
   "metadata": {},
   "outputs": [
    {
     "name": "stdout",
     "output_type": "stream",
     "text": [
      "2278 количество нулевых и пропущенных значений kitchen_area \n",
      "\n",
      "Нечем заменить нули \n",
      "\n",
      "11519 количество нулевых и пропущенных значений balcony \n",
      "\n",
      "Заменим на 0, тк скорее всего их нет \n",
      "\n",
      "49 количество нулевых и пропущенных значений locality_name \n",
      "\n",
      "Оставим только ненулевые строки, так как нулевых очень мало \n",
      "\n",
      "5542 количество нулевых и пропущенных значений airports_nearest \n",
      "\n",
      "выкинуть нельзя, будем больше страдать при расчетах \n",
      "\n"
     ]
    }
   ],
   "source": [
    "print(df['kitchen_area'].isnull().sum(), 'количество нулевых и пропущенных значений kitchen_area \\n')\n",
    "\n",
    "print('Нечем заменить нули \\n')\n",
    "\n",
    "print(df['balcony'].isnull().sum(), 'количество нулевых и пропущенных значений balcony \\n')\n",
    "\n",
    "print(\"Заменим на 0, тк скорее всего их нет \\n\")\n",
    "\n",
    "print(df['locality_name'].isnull().sum(), 'количество нулевых и пропущенных значений locality_name \\n')\n",
    "\n",
    "print('Оставим только ненулевые строки, так как нулевых очень мало \\n')\n",
    "\n",
    "print(df['airports_nearest'].isnull().sum(), 'количество нулевых и пропущенных значений airports_nearest \\n' )\n",
    "\n",
    "print(\"выкинуть нельзя, будем больше страдать при расчетах \\n\")"
   ]
  },
  {
   "cell_type": "code",
   "execution_count": 8,
   "metadata": {},
   "outputs": [
    {
     "name": "stdout",
     "output_type": "stream",
     "text": [
      "5519 количество нулевых и пропущенных значений cityCenters_nearest \n",
      "\n",
      "Аналогично - выкинуть нельзя, будем больше страдать при расчетах \n",
      "\n",
      "5518 количество нулевых и пропущенных значений parks_around3000 \n",
      "\n",
      "Возможно, парков в радиусе 3км просто нет \n",
      "\n",
      "15620 количество нулевых и пропущенных значений parks_nearest \n",
      "\n",
      "Также - выкинуть нельзя, а заменить нечем -  будем больше страдать при расчетах \n",
      "\n",
      "5518 количество нулевых и пропущенных значений ponds_around3000 \n",
      "\n",
      "Возможно, водоемов просто нет \n",
      "\n",
      "3181 количество нулевых и пропущенных значений days_exposition \n",
      "\n",
      "Возможно, некоторые значения - нули, так как это первый день существования объявления. \n",
      "Таких объявлений 3171 - похоже на правду \n",
      "\n"
     ]
    }
   ],
   "source": [
    "print(df['cityCenters_nearest'].isnull().sum(), 'количество нулевых и пропущенных значений cityCenters_nearest \\n' )\n",
    "\n",
    "print(\"Аналогично - выкинуть нельзя, будем больше страдать при расчетах \\n\")\n",
    "\n",
    "print(df['parks_around3000'].isnull().sum(), 'количество нулевых и пропущенных значений parks_around3000 \\n' )\n",
    "\n",
    "print(\"Возможно, парков в радиусе 3км просто нет \\n\")\n",
    "\n",
    "print(df['parks_nearest'].isnull().sum(), 'количество нулевых и пропущенных значений parks_nearest \\n' )\n",
    "\n",
    "print(\"Также - выкинуть нельзя, а заменить нечем -  будем больше страдать при расчетах \\n\")\n",
    "\n",
    "print(df['ponds_around3000'].isnull().sum(), 'количество нулевых и пропущенных значений ponds_around3000 \\n' )\n",
    "\n",
    "print('Возможно, водоемов просто нет \\n')\n",
    "\n",
    "print(df['days_exposition'].isnull().sum(), 'количество нулевых и пропущенных значений days_exposition \\n' )\n",
    "\n",
    "print('Возможно, некоторые значения - нули, так как это первый день существования объявления. \\nТаких объявлений 3171 - похоже на правду \\n')"
   ]
  },
  {
   "cell_type": "code",
   "execution_count": 9,
   "metadata": {},
   "outputs": [],
   "source": [
    "df['balcony'] = df['balcony'].fillna(0) #продавец не указал количество балконов, тк скорее всего их нет, заменим пропущенные на 0\n",
    "\n",
    "df['is_apartment'] = df['is_apartment'].fillna(0)\n",
    "df['parks_around3000'] = df['parks_around3000'].fillna(0)\n",
    "df['ponds_around3000'] = df['ponds_around3000'].fillna(0)\n",
    "#df['days_exposition'] = df['days_exposition'].fillna(0)\n",
    "#print(df['days_exposition'].value_counts().head()) #посмотрим на разброс значений потолков, возьмем самое популярное (моду)\n",
    "\n",
    "df['ceiling_height'] = df['ceiling_height'].fillna(2.5) #заменим на самое популярное значение (моду)\n",
    "\n",
    "def ceiling_mistyped(a): #возможно продавец опечатался при составлении объявления и ввел вместо \"2,5\" \"25\"\n",
    "    if a >=20:\n",
    "        b = a / 10\n",
    "        return b\n",
    "    else:\n",
    "        return a\n",
    "    \n",
    "df['ceiling_height'] = df['ceiling_height'].apply(ceiling_mistyped)"
   ]
  },
  {
   "cell_type": "code",
   "execution_count": 10,
   "metadata": {},
   "outputs": [
    {
     "name": "stdout",
     "output_type": "stream",
     "text": [
      "Проверка\n",
      "0 количество нулевых значений ceiling_height\n",
      "\n",
      "0 количество нулевых значений floors_total\n",
      "\n",
      "1865 количество нулевых значений living_area\n",
      "\n",
      "0 количество нулевых значений is_apartment\n",
      "\n",
      "2222 количество нулевых значений kitchen_area\n",
      "\n",
      "0 количество нулевых значений balcony\n",
      "\n",
      "0 количество нулевых значений locality_name\n",
      "\n",
      "5524 количество нулевых значений airports_nearest\n",
      "\n",
      "5501 количество нулевых значений cityCenters_nearest\n",
      "\n",
      "0 количество нулевых значений parks_around3000\n",
      "\n",
      "15535 количество нулевых значений parks_nearest\n",
      "\n",
      "0 количество нулевых значений ponds_around3000\n",
      "\n",
      "3171 количество нулевых значений days_exposition\n",
      "\n",
      "\n",
      "0 количество нулевых значений days_exposition_cleared\n"
     ]
    }
   ],
   "source": [
    "#print(df['ceiling_height'].value_counts().tail(10)) #посмотрим на разброс значений потолков - все получилось!\n",
    "\n",
    "\n",
    "df = df[df['floors_total'].notna()] #так как пропущенных значений мало (86), ихможно отбросить\n",
    "df = df[df['locality_name'].notna()] #так как пропущенных значений мало (49), ихможно отбросить\n",
    "\n",
    "df['balcony'] = df['balcony'].astype(int) #дробных балконов не бывает\n",
    "df['floors_total'] = df['floors_total'].astype(int) #этажей дробных тоже не бывает\n",
    "df['is_apartment'] = df['is_apartment'].astype(bool) #проще заменить на булев тип данных\n",
    "df['parks_around3000'] = df['parks_around3000'].astype(int) #парков дробных тоже не бывает\n",
    "df['ponds_around3000'] = df['ponds_around3000'].astype(int) #как и прудов\n",
    "\n",
    "\n",
    "\n",
    "print('Проверка')\n",
    "print(df['ceiling_height'].isnull().sum(), 'количество нулевых значений ceiling_height'  )\n",
    "print()\n",
    "print(df['floors_total'].isnull().sum(), 'количество нулевых значений floors_total' )\n",
    "print()\n",
    "print(df['living_area'].isnull().sum(), 'количество нулевых значений living_area')\n",
    "print()\n",
    "print(df['is_apartment'].isnull().sum(), 'количество нулевых значений is_apartment' )\n",
    "print()\n",
    "print(df['kitchen_area'].isnull().sum(), 'количество нулевых значений kitchen_area')\n",
    "print()\n",
    "print(df['balcony'].isnull().sum(), 'количество нулевых значений balcony')\n",
    "print()\n",
    "print(df['locality_name'].isnull().sum(), 'количество нулевых значений locality_name')\n",
    "print()\n",
    "print(df['airports_nearest'].isnull().sum(), 'количество нулевых значений airports_nearest' )\n",
    "print()\n",
    "print(df['cityCenters_nearest'].isnull().sum(), 'количество нулевых значений cityCenters_nearest' )\n",
    "print()\n",
    "print(df['parks_around3000'].isnull().sum(), 'количество нулевых значений parks_around3000' )\n",
    "print()\n",
    "print(df['parks_nearest'].isnull().sum(), 'количество нулевых значений parks_nearest' )\n",
    "print()\n",
    "print(df['ponds_around3000'].isnull().sum(), 'количество нулевых значений ponds_around3000' )\n",
    "print()\n",
    "print(df['days_exposition'].isnull().sum(), 'количество нулевых значений days_exposition' )\n",
    "print()\n",
    "\n",
    "days_exposition_median = df['days_exposition'].median()\n",
    "\n",
    "\n",
    "df['days_exposition_cleared'] = df['days_exposition'].replace(np.nan, days_exposition_median)\n",
    "#заменяем пропущенные значения на медиану, но оставляем нули, если они есть\n",
    "df['days_exposition_cleared'] = df['days_exposition_cleared'].astype(int)\n",
    "#чтобы не было ошибок из-за типа данных 'float' - переводим в int. \n",
    "print()\n",
    "\n",
    "print(df['days_exposition_cleared'].isnull().sum(), 'количество нулевых значений days_exposition_cleared' )\n",
    "\n",
    "\n"
   ]
  },
  {
   "cell_type": "markdown",
   "metadata": {},
   "source": [
    "## Краткий вывод\n",
    "\n",
    "Пропуски в столбцах \"living_area\", \"kitchen_area\" - скорее всего, продавцы не указали размер жилой площади и кухни, а в столбцах \"airports_nearest\", \"cityCenters_nearest\" и \"parks_nearest\" - возможно это данные из поселков, где сложно выделить центр \"города\" и парки как таковые, также как и аэропорты. \n"
   ]
  },
  {
   "cell_type": "markdown",
   "metadata": {},
   "source": [
    "## Расчёты и добавление результатов в таблицу\n"
   ]
  },
  {
   "cell_type": "code",
   "execution_count": 11,
   "metadata": {},
   "outputs": [],
   "source": [
    "df['price_perr_sq_metre'] = df['last_price']/df['total_area']\n",
    "df['living_to_total_ratio'] = df['living_area']/df['total_area']\n",
    "df['kitchen_to_total_ratio'] = df['kitchen_area']/df['total_area']\n",
    "\n",
    "\n",
    "def floor_type_func(row):\n",
    "    floor = row['floor']\n",
    "    total_floor = row['floors_total']\n",
    "    if floor == 1:\n",
    "        return 'первый'\n",
    "    if floor == total_floor:\n",
    "        return 'последний'              \n",
    "    else:\n",
    "        return 'другой'\n",
    "    \n",
    "df['floor_type'] = df.apply(floor_type_func, axis=1)\n",
    "#df.head() проверка\n",
    "#first_day_exposition\n",
    "df['dow_exposition'] = pd.DatetimeIndex(df['first_day_exposition']).weekday\n",
    "df['month_of_exposition'] = pd.DatetimeIndex(df['first_day_exposition']).month \n",
    "df['year_of_exposition'] = pd.DatetimeIndex(df['first_day_exposition']).year\n",
    "\n",
    "def weekday_func (day):\n",
    "    if day ==0:\n",
    "        return 'Monday'\n",
    "    if day ==1:\n",
    "        return 'Tuesday'\n",
    "    if day ==2:\n",
    "        return 'Wednesday'\n",
    "    if day ==3:\n",
    "        return 'Thursday'\n",
    "    if day ==4:\n",
    "        return 'Friday'\n",
    "    if day ==5:\n",
    "        return 'Saturday'\n",
    "    if day ==6:\n",
    "        return 'Sunday'\n",
    "df['day_of_the_week'] = df['dow_exposition'].apply(weekday_func)\n",
    "\n",
    "#print(df['day_of_the_week'].value_counts()) проверка\n"
   ]
  },
  {
   "cell_type": "markdown",
   "metadata": {},
   "source": [
    "## Исследовательский анализ данных\n",
    "\n",
    "\n"
   ]
  },
  {
   "cell_type": "code",
   "execution_count": 12,
   "metadata": {},
   "outputs": [
    {
     "data": {
      "image/png": "[encoded data removed]",
      "text/plain": [
       "<Figure size 576x432 with 1 Axes>"
      ]
     },
     "metadata": {
      "needs_background": "light"
     },
     "output_type": "display_data"
    },
    {
     "name": "stdout",
     "output_type": "stream",
     "text": [
      " Пик от 35 метров до 65 - это реалистично. Также есть значительное количество квартир чуть больше,\n",
      " вплоть до 105 квадратных метров, также чуть меньшее, но также значительное количество предожений от 0 до 40 \n",
      " квадратных метров. Странно, что так много квартир с указанной площадью \"0\".\n",
      " Также есть квартиры более 100 метров, влоть до 320.   \n"
     ]
    },
    {
     "data": {
      "image/png": "[encoded data removed]",
      "text/plain": [
       "<Figure size 576x432 with 1 Axes>"
      ]
     },
     "metadata": {
      "needs_background": "light"
     },
     "output_type": "display_data"
    },
    {
     "name": "stdout",
     "output_type": "stream",
     "text": [
      "Странно, что так много объявлений с ценой 0. Сам график выглядит реалистично - вершина в сегменте 0-6,\n",
      "затем есть предложения влоть до 60 млн рублей.\n"
     ]
    },
    {
     "data": {
      "image/png": "[encoded data removed]",
      "text/plain": [
       "<Figure size 576x432 with 1 Axes>"
      ]
     },
     "metadata": {
      "needs_background": "light"
     },
     "output_type": "display_data"
    },
    {
     "name": "stdout",
     "output_type": "stream",
     "text": [
      "График выглядит реалистично - некоторое количество предложений от 0 до 1 комнаты, пик \"двушек\", чуть меньшее\n",
      "количество \"трешек\", еще чуть меньше 4-х комнатных квартир,\n",
      "а затем график падает и предложений по 5--6 комнат мало.\n"
     ]
    },
    {
     "data": {
      "image/png": "[encoded data removed]",
      "text/plain": [
       "<Figure size 576x432 with 1 Axes>"
      ]
     },
     "metadata": {
      "needs_background": "light"
     },
     "output_type": "display_data"
    },
    {
     "name": "stdout",
     "output_type": "stream",
     "text": [
      "Заменили пропущенные значения на моду и поличили реалистичную картину - несколько \"нулевых\" потолков,\n",
      "затем пик в 2,5-3 метра, затем некоторое количество недвижимости с потолками вплоть до 4-х метров.\n",
      "\n"
     ]
    }
   ],
   "source": [
    "df['total_area'].plot(kind='hist', range =(0,350), grid=True, figsize=(8,6), title='Площадь') #площадь >400 не имеет смысла\n",
    "plt.show()\n",
    "print(' Пик от 35 метров до 65 - это реалистично. Также есть значительное количество квартир чуть больше,\\n вплоть до 105 квадратных метров, также чуть меньшее, но также значительное количество предожений от 0 до 40 \\n квадратных метров. Странно, что так много квартир с указанной площадью \"0\".\\n Также есть квартиры более 100 метров, влоть до 320.   ')\n",
    "\n",
    "df['last_price_in_million'] = df['last_price']/1000000\n",
    "df['last_price_in_million'].plot(kind='hist', range =(0,60), grid=True, figsize=(8,6), title='Цена') #цена более 60 млн не встречается\n",
    "plt.show()\n",
    "print('Странно, что так много объявлений с ценой 0. Сам график выглядит реалистично - вершина в сегменте 0-6,\\nзатем есть предложения влоть до 60 млн рублей.')\n",
    "df['rooms'].plot(kind='hist', range =(0,10), grid=True, figsize=(8,6), title='Комнаты')\n",
    "plt.show()\n",
    "print('График выглядит реалистично - некоторое количество предложений от 0 до 1 комнаты, пик \"двушек\", чуть меньшее\\nколичество \"трешек\", еще чуть меньше 4-х комнатных квартир,\\nа затем график падает и предложений по 5--6 комнат мало.')\n",
    "df['ceiling_height'].plot(kind='hist', range =(0,5), grid=True, figsize=(8,6), title='Высота потолков')\n",
    "plt.show()\n",
    "print('Заменили пропущенные значения на моду и поличили реалистичную картину - несколько \"нулевых\" потолков,\\nзатем пик в 2,5-3 метра, затем некоторое количество недвижимости с потолками вплоть до 4-х метров.\\n')\n"
   ]
  },
  {
   "cell_type": "code",
   "execution_count": 13,
   "metadata": {},
   "outputs": [
    {
     "data": {
      "image/png": "[encoded data removed]",
      "text/plain": [
       "<Figure size 576x432 with 1 Axes>"
      ]
     },
     "metadata": {
      "needs_background": "light"
     },
     "output_type": "display_data"
    },
    {
     "name": "stdout",
     "output_type": "stream",
     "text": [
      "Медиана = 95.0 дней,\n",
      "Среднее = 169.2036919159771 дней.\n"
     ]
    }
   ],
   "source": [
    "df['days_exposition_cleared'].plot(kind='hist', grid=True, figsize=(8,6), title='количество дней размещения объявления', bins=10)\n",
    "plt.show()\n",
    "days_exposition_median = df['days_exposition_cleared'].median()\n",
    "days_exposition_mean = df['days_exposition_cleared'].mean()\n",
    "print('Медиана = {} дней,'.format(days_exposition_median))\n",
    "print('Среднее = {} дней.'.format(days_exposition_mean))\n"
   ]
  },
  {
   "cell_type": "markdown",
   "metadata": {},
   "source": [
    "Большая часть продаж проходит за 0-180 дней. Также значительное количество за 180-300 дней, некоторое количество за 300-450 дней, незначительное количество за 450-625, малая часть за 625-790. Экстремально мало продаж закрывается за большее количество времени. Скорее всего, самые долгие значения времени продаж (около 4 лет) - это объявления, которые продавцы не стали снимать или забыли снять.\n",
    "\n",
    "Учитывая, что после создания объявления о продаже квартиры, проходит некоторое время до просмотра квартиры потенциальными покупателями, ее оценки (если квартира будет покупаться в ипотеку), оформления всех документов (а продавцы скорее сначала выложат объявление, а потом будут собирать необходимые документы, чем наоборот) , а также медианное время продажи квартиры в 95 дней - поставим границу слишком быстрых продаж в 30 дней."
   ]
  },
  {
   "cell_type": "markdown",
   "metadata": {},
   "source": [
    "## Убираем аномалии"
   ]
  },
  {
   "cell_type": "code",
   "execution_count": 14,
   "metadata": {},
   "outputs": [
    {
     "data": {
      "image/png": "[encoded data removed]",
      "text/plain": [
       "<Figure size 432x288 with 1 Axes>"
      ]
     },
     "metadata": {
      "needs_background": "light"
     },
     "output_type": "display_data"
    },
    {
     "name": "stdout",
     "output_type": "stream",
     "text": [
      "Выбросов нет\n"
     ]
    },
    {
     "data": {
      "image/png": "[encoded data removed]",
      "text/plain": [
       "<Figure size 576x432 with 1 Axes>"
      ]
     },
     "metadata": {
      "needs_background": "light"
     },
     "output_type": "display_data"
    },
    {
     "name": "stdout",
     "output_type": "stream",
     "text": [
      "Выбросов нет\n"
     ]
    },
    {
     "data": {
      "image/png": "[encoded data removed]",
      "text/plain": [
       "<Figure size 432x288 with 1 Axes>"
      ]
     },
     "metadata": {
      "needs_background": "light"
     },
     "output_type": "display_data"
    },
    {
     "name": "stdout",
     "output_type": "stream",
     "text": [
      "Выбросов нет\n"
     ]
    },
    {
     "data": {
      "image/png": "[encoded data removed]",
      "text/plain": [
       "<Figure size 576x432 with 1 Axes>"
      ]
     },
     "metadata": {
      "needs_background": "light"
     },
     "output_type": "display_data"
    },
    {
     "name": "stdout",
     "output_type": "stream",
     "text": [
      "Выбросов нет\n"
     ]
    }
   ],
   "source": [
    "\n",
    "df_cleared = df.query('30<days_exposition_cleared<790 & total_area< 150 & 1000000<=last_price<=25000000 & 2.4<=ceiling_height<=4 & rooms<=8')\n",
    "\n",
    "#df_cleared.info() #отбросили\n",
    "df_cleared['days_exposition_cleared'].plot(kind='hist', title='Срок выложенного объявления')\n",
    "plt.show()\n",
    "print('Выбросов нет')\n",
    "### ИСПРАВЛЕНИЯ ###\n",
    "df_cleared['total_images'].plot(kind='hist', range =(0,60), grid=True, figsize=(8,6), title='Всего фотографий')\n",
    "plt.show()\n",
    "print('Выбросов нет')\n",
    "\n",
    "df_cleared['last_price'].plot(kind='hist', range=(0,10000000), title='Последняя цена')\n",
    "plt.show()\n",
    "print('Выбросов нет')\n",
    "\n",
    "df_cleared['living_area'].plot(kind='hist', grid=True, figsize=(8,6), title='Жилая площадь')\n",
    "plt.show()\n",
    "print('Выбросов нет')\n",
    "\n",
    "\n",
    "\n"
   ]
  },
  {
   "cell_type": "code",
   "execution_count": 15,
   "metadata": {},
   "outputs": [
    {
     "data": {
      "image/png": "[encoded data removed]",
      "text/plain": [
       "<Figure size 576x432 with 1 Axes>"
      ]
     },
     "metadata": {
      "needs_background": "light"
     },
     "output_type": "display_data"
    },
    {
     "name": "stdout",
     "output_type": "stream",
     "text": [
      "Выбросов нет\n"
     ]
    }
   ],
   "source": [
    "\n",
    "df_cleared['kitchen_area'].plot(kind='hist', range =(0,60), grid=True, figsize=(8,6), title='Площадь кухни')\n",
    "plt.show()\n",
    "print('Выбросов нет')\n",
    "\n",
    "\n",
    "\n",
    "\n",
    "\n",
    "\n",
    "\n"
   ]
  },
  {
   "cell_type": "markdown",
   "metadata": {},
   "source": [
    "## Какие факторы больше всего влияют на стоимость квартиры? "
   ]
  },
  {
   "cell_type": "code",
   "execution_count": 16,
   "metadata": {},
   "outputs": [
    {
     "data": {
      "image/png": "[encoded data removed]",
      "text/plain": [
       "<Figure size 432x288 with 1 Axes>"
      ]
     },
     "metadata": {
      "needs_background": "light"
     },
     "output_type": "display_data"
    },
    {
     "name": "stdout",
     "output_type": "stream",
     "text": [
      "С увеличением площади, цена в среднем повышается, но до определенного уровня - 400 квадратных метров.\n",
      "Скорее всего, потому что мало кому нужна такая большая площадь и мало у кого такая в принципе есть. \n"
     ]
    },
    {
     "data": {
      "image/png": "[encoded data removed]",
      "text/plain": [
       "<Figure size 432x288 with 1 Axes>"
      ]
     },
     "metadata": {
      "needs_background": "light"
     },
     "output_type": "display_data"
    },
    {
     "name": "stdout",
     "output_type": "stream",
     "text": [
      "Цена увеличивается до 4х комнат включительно, затем начинает уменьшаться.\n",
      "Скорее всего, это связано с тем, что больше 4х комнат - это скорее всего дома в частном секторе, далеко от центра и города.\n"
     ]
    },
    {
     "data": {
      "image/png": "[encoded data removed]",
      "text/plain": [
       "<Figure size 432x288 with 1 Axes>"
      ]
     },
     "metadata": {
      "needs_background": "light"
     },
     "output_type": "display_data"
    },
    {
     "name": "stdout",
     "output_type": "stream",
     "text": [
      "В среднем - чем ближе к центру, тем дороже недвижимость и больше предложений.\n",
      "Это логично, ведь в городе и в центре города застройка плотнее - больше предложений и больше благ - соответственно цена тоже больше.\n",
      "А в чистом поле в 60км от города и домов мало, и спрос на них меньше.\n"
     ]
    },
    {
     "data": {
      "image/png": "[encoded data removed]",
      "text/plain": [
       "<Figure size 432x288 with 1 Axes>"
      ]
     },
     "metadata": {
      "needs_background": "light"
     },
     "output_type": "display_data"
    },
    {
     "name": "stdout",
     "output_type": "stream",
     "text": [
      "В среднем цена на недвижимость на последнем этаже больше, чем на остальных этажах, особенно на 1-ом этаже\n"
     ]
    }
   ],
   "source": [
    "df_cleared.plot(x='total_area', y='last_price', kind='scatter')\n",
    "plt.show()\n",
    "print('С увеличением площади, цена в среднем повышается, но до определенного уровня - 400 квадратных метров.\\nСкорее всего, потому что мало кому нужна такая большая площадь и мало у кого такая в принципе есть. ')\n",
    "\n",
    "df_cleared.plot(x='rooms', y='last_price', kind='scatter')\n",
    "plt.show()\n",
    "print('Цена увеличивается до 4х комнат включительно, затем начинает уменьшаться.\\nСкорее всего, это связано с тем, что больше 4х комнат - это скорее всего дома в частном секторе, далеко от центра и города.')\n",
    "\n",
    "df_cleared.plot(x='cityCenters_nearest', y='last_price', kind='scatter')\n",
    "plt.show()\n",
    "print('В среднем - чем ближе к центру, тем дороже недвижимость и больше предложений.\\nЭто логично, ведь в городе и в центре города застройка плотнее - больше предложений и больше благ - соответственно цена тоже больше.\\nА в чистом поле в 60км от города и домов мало, и спрос на них меньше.')\n",
    "\n",
    "\n",
    "\n",
    "def floor_for_graph(floortype):\n",
    "    if floortype == 'первый':\n",
    "        return 0\n",
    "    if floortype == 'последний':\n",
    "        return 1\n",
    "    else:\n",
    "        return 2\n",
    "\n",
    "df_cleared['floor_for_graph'] = df_cleared['floor_type'].apply(floor_for_graph)\n",
    "\n",
    "df_cleared.plot(x='floor_for_graph', y='last_price', kind='scatter', title='0-1 этаж, 1 - последний, 2- остальные')\n",
    "plt.show()\n",
    "print('В среднем цена на недвижимость на последнем этаже больше, чем на остальных этажах, особенно на 1-ом этаже')\n"
   ]
  },
  {
   "cell_type": "markdown",
   "metadata": {},
   "source": [
    "## Посмотрим на медианы цен в зависимости от этажа"
   ]
  },
  {
   "cell_type": "code",
   "execution_count": 17,
   "metadata": {},
   "outputs": [
    {
     "data": {
      "text/plain": [
       "Text(0, 0.5, 'Медиана цены')"
      ]
     },
     "execution_count": 17,
     "metadata": {},
     "output_type": "execute_result"
    },
    {
     "data": {
      "image/png": "[encoded data removed]",
      "text/plain": [
       "<Figure size 432x288 with 1 Axes>"
      ]
     },
     "metadata": {
      "needs_background": "light"
     },
     "output_type": "display_data"
    }
   ],
   "source": [
    "df_cleared.groupby('floor_type')['last_price'].agg('median').plot()\n",
    "plt.title('Изменения медианы цены от этажа')\n",
    "plt.xlabel('Этаж')\n",
    "plt.ylabel('Медиана цены')"
   ]
  },
  {
   "cell_type": "markdown",
   "metadata": {},
   "source": [
    "## Также изучим зависимость от даты размещения: дня недели, месяца и года. "
   ]
  },
  {
   "cell_type": "code",
   "execution_count": 18,
   "metadata": {},
   "outputs": [
    {
     "data": {
      "image/png": "[encoded data removed]",
      "text/plain": [
       "<Figure size 432x288 with 1 Axes>"
      ]
     },
     "metadata": {
      "needs_background": "light"
     },
     "output_type": "display_data"
    },
    {
     "name": "stdout",
     "output_type": "stream",
     "text": [
      "\n",
      " \n",
      "\n"
     ]
    },
    {
     "data": {
      "image/png": "[encoded data removed]",
      "text/plain": [
       "<Figure size 432x288 with 1 Axes>"
      ]
     },
     "metadata": {
      "needs_background": "light"
     },
     "output_type": "display_data"
    },
    {
     "name": "stdout",
     "output_type": "stream",
     "text": [
      "Видно, что в 1-ой половине года больше предложений как таковых и цена выше, чем во второй.\n",
      "Особенно мало предложений летом.\n"
     ]
    },
    {
     "data": {
      "image/png": "[encoded data removed]",
      "text/plain": [
       "<Figure size 432x288 with 1 Axes>"
      ]
     },
     "metadata": {
      "needs_background": "light"
     },
     "output_type": "display_data"
    },
    {
     "name": "stdout",
     "output_type": "stream",
     "text": [
      "Не считая 14-го года, основная масса объявлений похожа, имеются необычно высокие значения в 2017 году\n",
      "и несколько чуть меньших значений в 2016, 2018, 2019 годах.\n"
     ]
    }
   ],
   "source": [
    "df_cleared.plot(x='dow_exposition', y='last_price', kind='scatter')\n",
    "plt.show()\n",
    "print('\\n \\n')\n",
    "\n",
    "df_cleared.plot(x='month_of_exposition', y='last_price', kind='scatter')\n",
    "plt.show()\n",
    "print('Видно, что в 1-ой половине года больше предложений как таковых и цена выше, чем во второй.\\nОсобенно мало предложений летом.')\n",
    "\n",
    "df_cleared.plot(x='year_of_exposition', y='last_price', kind='scatter')\n",
    "plt.show()\n",
    "print('Не считая 14-го года, основная масса объявлений похожа, имеются необычно высокие значения в 2017 году\\nи несколько чуть меньших значений в 2016, 2018, 2019 годах.')\n",
    "\n"
   ]
  },
  {
   "cell_type": "code",
   "execution_count": 19,
   "metadata": {
    "scrolled": true
   },
   "outputs": [
    {
     "data": {
      "text/plain": [
       "Text(0, 0.5, 'Медиана цены')"
      ]
     },
     "execution_count": 19,
     "metadata": {},
     "output_type": "execute_result"
    },
    {
     "data": {
      "image/png": "[encoded data removed]",
      "text/plain": [
       "<Figure size 432x288 with 1 Axes>"
      ]
     },
     "metadata": {
      "needs_background": "light"
     },
     "output_type": "display_data"
    }
   ],
   "source": [
    "df_cleared.groupby('year_of_exposition')['last_price'].agg('median').plot()\n",
    "plt.title('Кривая изменения медианы цены по годам')\n",
    "plt.xlabel('Года')\n",
    "plt.ylabel('Медиана цены')"
   ]
  },
  {
   "cell_type": "markdown",
   "metadata": {},
   "source": [
    "### Краткий вывод\n",
    "\n",
    "Видно, что цена падала. Тут причина в экономике и покупательской способности, что вполне очевидно.  "
   ]
  },
  {
   "cell_type": "markdown",
   "metadata": {},
   "source": [
    "## Выберем 10 населённых пунктов с наибольшим числом объявлений и посчитаем среднюю цену квадратного метра в этих населённых пунктах."
   ]
  },
  {
   "cell_type": "code",
   "execution_count": 20,
   "metadata": {},
   "outputs": [
    {
     "name": "stdout",
     "output_type": "stream",
     "text": [
      "['Санкт-Петербург', 'посёлок Мурино', 'посёлок Шушары', 'Всеволожск', 'Пушкин', 'Колпино', 'посёлок Парголово', 'Гатчина', 'деревня Кудрово', 'Выборг']\n",
      "\n",
      "         locality_name    last_price\n",
      "33     Санкт-Петербург  6.642960e+06\n",
      "32              Пушкин  5.950544e+06\n",
      "262  посёлок Парголово  4.540039e+06\n",
      "88     деревня Кудрово  4.242177e+06\n",
      "290     посёлок Шушары  4.145167e+06\n",
      "13             Колпино  3.962264e+06\n",
      "3           Всеволожск  3.839354e+06\n",
      "257     посёлок Мурино  3.674644e+06\n",
      "6              Гатчина  3.492170e+06\n",
      "4               Выборг  3.270734e+06\n"
     ]
    }
   ],
   "source": [
    "pd.set_option('max_columns', None)\n",
    "\n",
    "\n",
    "top_10_by_quantity = df_cleared['locality_name'].value_counts()[:10].index.tolist()\n",
    "print(top_10_by_quantity) #10 населенных пунктов с наибольшим числом объявлений\n",
    "print()\n",
    "\n",
    "\n",
    "\n",
    "mean_price_all = df_cleared.groupby('locality_name', as_index=False)['last_price'].mean().sort_values(by='last_price', ascending=False)\n",
    "#!!! используем as_index=False чтобы вернулся датафрейм\n",
    "\n",
    "mean_top_10_by_quantity = mean_price_all.query('locality_name in @top_10_by_quantity')\n",
    "print(mean_top_10_by_quantity)"
   ]
  },
  {
   "cell_type": "markdown",
   "metadata": {},
   "source": [
    "## Выделим населённые пункты с самой высокой и низкой стоимостью жилья"
   ]
  },
  {
   "cell_type": "code",
   "execution_count": 21,
   "metadata": {},
   "outputs": [
    {
     "name": "stdout",
     "output_type": "stream",
     "text": [
      "         locality_name    last_price\n",
      "252  посёлок Лисий Нос  7.305000e+06\n",
      "33     Санкт-Петербург  6.642960e+06\n",
      "7          Зеленогорск  6.626117e+06\n",
      "36          Сестрорецк  6.362009e+06\n",
      "32              Пушкин  5.950544e+06\n",
      "                     locality_name  last_price\n",
      "47   городской посёлок Лесогорский   1075000.0\n",
      "120               деревня Раздолье   1050000.0\n",
      "161                поселок Житково   1050000.0\n",
      "162              поселок Заводской   1040000.0\n",
      "236             посёлок Алексеевка   1000000.0\n"
     ]
    }
   ],
   "source": [
    "print(mean_price_all.head())\n",
    "print(mean_price_all.tail())\n",
    "\n",
    "#не уверен, что так можно выделять пункты по стоимости, ведь мы не учитываем время, возможно есть объявления \n",
    "#выложенные в 2014 году, которые в реальном выражении стоят сильно больше \"дорогих\" объявлений 2019 года"
   ]
  },
  {
   "cell_type": "markdown",
   "metadata": {},
   "source": [
    "### Выделим квартиры в \"центре\""
   ]
  },
  {
   "cell_type": "code",
   "execution_count": 22,
   "metadata": {},
   "outputs": [
    {
     "data": {
      "text/plain": [
       "<AxesSubplot:>"
      ]
     },
     "execution_count": 22,
     "metadata": {},
     "output_type": "execute_result"
    },
    {
     "data": {
      "image/png": "[encoded data removed]",
      "text/plain": [
       "<Figure size 720x720 with 1 Axes>"
      ]
     },
     "metadata": {
      "needs_background": "light"
     },
     "output_type": "display_data"
    }
   ],
   "source": [
    "df_cleared['cityCenters_km'] = df_cleared['cityCenters_nearest']/1000\n",
    "\n",
    "df_cleared_2 = df_cleared.dropna(subset=['cityCenters_km'])\n",
    "#df_cleared_2.head()\n",
    "flats_spb = df_cleared_2.query('locality_name == \"Санкт-Петербург\" ')\n",
    "#print(df_cleared.count())\n",
    "\n",
    "#print(df_cleared_2['cityCenters_km'].isna().sum()) #проверка - все пропущенные значения отбросили\n",
    "#print(df_cleared_2['cityCenters_km'].isnull().sum())\n",
    "\n",
    "flats_spb['cityCenters_km'] = flats_spb['cityCenters_km'].astype('int')\n",
    "\n",
    "#df_cleared_2.head()\n",
    "\n",
    "average_price_km = flats_spb.groupby('cityCenters_km', as_index=False)['last_price'].mean()\n",
    "\n",
    "#flats_spb.head(15)\n",
    "average_price_km.plot(figsize=(10,10))"
   ]
  },
  {
   "cell_type": "markdown",
   "metadata": {},
   "source": [
    "Цена быстро падает до примерно 3 километров, после этого цена изменяется незначительно. Поставим границу \"центра\" в радиусе 3 километров. "
   ]
  },
  {
   "cell_type": "markdown",
   "metadata": {},
   "source": [
    "### \"Выделите сегмент квартир в центре. Проанализируйте эту территорию и изучите следующие параметры: площадь, цена, число комнат, высота потолков. Также выделите факторы, которые влияют на стоимость квартиры (число комнат, этаж, удалённость от центра, дата размещения объявления). Сделайте выводы. Отличаются ли они от общих выводов по всему городу?\""
   ]
  },
  {
   "cell_type": "code",
   "execution_count": 23,
   "metadata": {},
   "outputs": [
    {
     "data": {
      "image/png": "[encoded data removed]",
      "text/plain": [
       "<Figure size 576x432 with 1 Axes>"
      ]
     },
     "metadata": {
      "needs_background": "light"
     },
     "output_type": "display_data"
    },
    {
     "name": "stdout",
     "output_type": "stream",
     "text": [
      "\n"
     ]
    },
    {
     "data": {
      "image/png": "[encoded data removed]",
      "text/plain": [
       "<Figure size 576x432 with 1 Axes>"
      ]
     },
     "metadata": {
      "needs_background": "light"
     },
     "output_type": "display_data"
    },
    {
     "name": "stdout",
     "output_type": "stream",
     "text": [
      "\n"
     ]
    },
    {
     "data": {
      "image/png": "[encoded data removed]",
      "text/plain": [
       "<Figure size 576x432 with 1 Axes>"
      ]
     },
     "metadata": {
      "needs_background": "light"
     },
     "output_type": "display_data"
    },
    {
     "name": "stdout",
     "output_type": "stream",
     "text": [
      "\n"
     ]
    },
    {
     "data": {
      "image/png": "[encoded data removed]",
      "text/plain": [
       "<Figure size 576x432 with 1 Axes>"
      ]
     },
     "metadata": {
      "needs_background": "light"
     },
     "output_type": "display_data"
    }
   ],
   "source": [
    "flats_city_centre = flats_spb.query('cityCenters_km <= 3')\n",
    "\n",
    "\n",
    "\n",
    "flats_city_centre['total_area'].plot(kind='hist', range =(0,350), grid=True, figsize=(8,6), title='Площадь') #площадь >400 не имеет смысла\n",
    "plt.show()\n",
    "print()\n",
    "\n",
    "\n",
    "flats_city_centre['last_price_in_million'].plot(kind='hist', range =(0,60), grid=True, figsize=(8,6), title='Цена') #цена более 60 млн не встречается\n",
    "plt.show()\n",
    "print()\n",
    "flats_city_centre['rooms'].plot(kind='hist', range =(0,10), grid=True, figsize=(8,6), title='Комнаты')\n",
    "plt.show()\n",
    "print()\n",
    "flats_city_centre['ceiling_height'].plot(kind='hist', range =(0,5), grid=True, figsize=(8,6), title='Высота потолков')\n",
    "plt.show()\n",
    "\n",
    "\n",
    "\n",
    "\n",
    "#flats_city_centre.head()"
   ]
  },
  {
   "cell_type": "markdown",
   "metadata": {},
   "source": [
    "Графики площадей отличаются - в среднем в центре квартиры больше по площади. \n",
    "\n",
    "Графики цен сильно отличаются - квартиры в центре гораздо дороже, \"вершина колокола\" смещена к 10 млн рублей. \n",
    "\n",
    "График по количеству комнат отличается - вершина \"колокола\" смещена к 3 - скорее всего в центре Санкт-Петербурга больше квартир-коммуналок и старых доходных домов.\n",
    "\n",
    "График высоты потолков совпадает. "
   ]
  },
  {
   "cell_type": "code",
   "execution_count": 24,
   "metadata": {},
   "outputs": [
    {
     "data": {
      "image/png": "[encoded data removed]",
      "text/plain": [
       "<Figure size 432x288 with 1 Axes>"
      ]
     },
     "metadata": {
      "needs_background": "light"
     },
     "output_type": "display_data"
    },
    {
     "data": {
      "image/png": "[encoded data removed]",
      "text/plain": [
       "<Figure size 432x288 with 1 Axes>"
      ]
     },
     "metadata": {
      "needs_background": "light"
     },
     "output_type": "display_data"
    },
    {
     "data": {
      "image/png": "[encoded data removed]",
      "text/plain": [
       "<Figure size 432x288 with 1 Axes>"
      ]
     },
     "metadata": {
      "needs_background": "light"
     },
     "output_type": "display_data"
    },
    {
     "data": {
      "image/png": "[encoded data removed]",
      "text/plain": [
       "<Figure size 432x288 with 1 Axes>"
      ]
     },
     "metadata": {
      "needs_background": "light"
     },
     "output_type": "display_data"
    }
   ],
   "source": [
    "flats_city_centre.plot(x='dow_exposition', y='last_price', kind='scatter')\n",
    "plt.show()\n",
    "\n",
    "\n",
    "flats_city_centre.plot(x='month_of_exposition', y='last_price', kind='scatter')\n",
    "plt.show()\n",
    "\n",
    "\n",
    "\n",
    "\n",
    "flats_city_centre.groupby('floor_for_graph')['last_price'].agg('median').plot()\n",
    "plt.title('Кривая изменения медианы цены от этажа')\n",
    "plt.xlabel('0 - первый, 1 - последний, 2 - другие')\n",
    "plt.ylabel('Медиана цены')\n",
    "plt.show()\n",
    "\n",
    "\n",
    "flats_city_centre.groupby('year_of_exposition')['last_price'].agg('median').plot()\n",
    "plt.title('Кривая изменения медианы цены по годам')\n",
    "plt.xlabel('Года')\n",
    "plt.ylabel('Медиана цены')\n",
    "plt.show()"
   ]
  },
  {
   "cell_type": "markdown",
   "metadata": {},
   "source": [
    "Незначительно отличается график по этажам (1/последний/остальные), отличий в графиках по месяцам/дням недели/годам нет.  \n",
    "\n",
    "Получается, квартиры в центре в среднем сильно отличаются по цене и ценности (площадью, количеством комнат, ценой(!)), а поведение продавцов квартир отличается незначительно (время появления объявлений схожее)."
   ]
  },
  {
   "cell_type": "markdown",
   "metadata": {},
   "source": [
    "## Краткий вывод \n",
    "Сильно отличается кривая медианы цены по этажам - меньше всего значения у квартир на 1-м этаже (скорее всего, это связано с шумом, тк это центр города и плотность толп прохожих мало кому понравится, также не хочется соседствовать с магазином или баром), затем медиана цены растет вплоть до последнего этажа, но в среднем медиана цены на \"другие\" этажи еще выше. \n",
    "    \n",
    "Также отличается график изменения медианы цены по годам - медиана выше, чем в целом по городу, также падает она до 2015 менее стремительно, чем в целом по городу, с 2015 по 2016 показывает рост, хотя в городе в целом падала медиана цены на недвижимость, затем тренд повторяется, но, начиная с 2017 года, растет она также более стремительно и продолжает расти сейчас, несмотря на кризис. \n"
   ]
  },
  {
   "cell_type": "markdown",
   "metadata": {},
   "source": [
    "# Общий вывод\n",
    "\n",
    "Данные проанализированы, очищены, изменен тип данных некоторых столбцов, выделены закономерности в факторах, влияющих на цену недвижимости, также выделен радиус квартир в центре, сам сегмент, выявлены закономерности. \n",
    "Поведение продавцов недвижимости в центре Санкт-Петербурга не отличается от поведения продавцов недвижимости в Санкт-Петербурге в целом. Отличается ценой и площадью: медиана площади в Санкт-Петербурге = 56.0, а цены = 5650000.0, а в центре: медиана цены: 9900000.0, а медиана площади: 86.0.\n"
   ]
  }
 ],
 "metadata": {
  "ExecuteTimeLog": [
   {
    "duration": 719,
    "start_time": "2021-07-14T13:18:58.190Z"
   },
   {
    "duration": 61,
    "start_time": "2021-07-14T13:18:58.911Z"
   },
   {
    "duration": 402,
    "start_time": "2021-07-14T13:18:58.974Z"
   },
   {
    "duration": 3,
    "start_time": "2021-07-14T13:18:59.378Z"
   },
   {
    "duration": 210,
    "start_time": "2021-07-14T13:18:59.383Z"
   },
   {
    "duration": 180,
    "start_time": "2021-07-14T13:18:59.595Z"
   },
   {
    "duration": 1781,
    "start_time": "2021-07-14T13:18:59.776Z"
   },
   {
    "duration": 277,
    "start_time": "2021-07-14T13:19:01.559Z"
   },
   {
    "duration": 1898,
    "start_time": "2021-07-17T09:20:23.990Z"
   },
   {
    "duration": -1092,
    "start_time": "2021-07-17T09:20:26.983Z"
   },
   {
    "duration": -1094,
    "start_time": "2021-07-17T09:20:26.986Z"
   },
   {
    "duration": -1097,
    "start_time": "2021-07-17T09:20:26.990Z"
   },
   {
    "duration": -1100,
    "start_time": "2021-07-17T09:20:26.993Z"
   },
   {
    "duration": -1102,
    "start_time": "2021-07-17T09:20:26.996Z"
   },
   {
    "duration": -1104,
    "start_time": "2021-07-17T09:20:26.999Z"
   },
   {
    "duration": -1107,
    "start_time": "2021-07-17T09:20:27.003Z"
   },
   {
    "duration": -1109,
    "start_time": "2021-07-17T09:20:27.006Z"
   },
   {
    "duration": -1111,
    "start_time": "2021-07-17T09:20:27.009Z"
   },
   {
    "duration": -1113,
    "start_time": "2021-07-17T09:20:27.012Z"
   },
   {
    "duration": -1116,
    "start_time": "2021-07-17T09:20:27.016Z"
   },
   {
    "duration": -1117,
    "start_time": "2021-07-17T09:20:27.018Z"
   },
   {
    "duration": -1119,
    "start_time": "2021-07-17T09:20:27.021Z"
   },
   {
    "duration": 3,
    "start_time": "2021-07-17T09:22:32.452Z"
   },
   {
    "duration": 1085,
    "start_time": "2021-07-19T10:30:56.929Z"
   },
   {
    "duration": 127,
    "start_time": "2021-07-19T10:31:01.842Z"
   },
   {
    "duration": 68,
    "start_time": "2021-07-19T10:31:01.972Z"
   },
   {
    "duration": 26,
    "start_time": "2021-07-19T10:31:02.043Z"
   },
   {
    "duration": 71,
    "start_time": "2021-07-19T10:31:02.072Z"
   },
   {
    "duration": 799,
    "start_time": "2021-07-19T10:31:02.145Z"
   },
   {
    "duration": 1535,
    "start_time": "2021-07-19T10:31:02.947Z"
   },
   {
    "duration": 401,
    "start_time": "2021-07-19T10:31:04.484Z"
   },
   {
    "duration": 370,
    "start_time": "2021-07-19T10:31:04.888Z"
   },
   {
    "duration": 2757,
    "start_time": "2021-07-19T10:31:05.261Z"
   },
   {
    "duration": 533,
    "start_time": "2021-07-19T10:31:08.021Z"
   },
   {
    "duration": -55,
    "start_time": "2021-07-19T10:31:08.612Z"
   },
   {
    "duration": -55,
    "start_time": "2021-07-19T10:31:08.613Z"
   },
   {
    "duration": -65,
    "start_time": "2021-07-19T10:31:08.625Z"
   },
   {
    "duration": -65,
    "start_time": "2021-07-19T10:31:08.627Z"
   },
   {
    "duration": -66,
    "start_time": "2021-07-19T10:31:08.629Z"
   },
   {
    "duration": 54,
    "start_time": "2021-07-19T11:06:19.311Z"
   },
   {
    "duration": 50,
    "start_time": "2021-07-19T11:07:44.090Z"
   },
   {
    "duration": 45,
    "start_time": "2021-07-19T11:08:59.159Z"
   },
   {
    "duration": 18,
    "start_time": "2021-07-19T11:09:57.467Z"
   },
   {
    "duration": 11,
    "start_time": "2021-07-19T11:10:28.394Z"
   },
   {
    "duration": 15,
    "start_time": "2021-07-19T11:10:39.594Z"
   },
   {
    "duration": 11,
    "start_time": "2021-07-19T11:11:20.609Z"
   },
   {
    "duration": 28,
    "start_time": "2021-07-19T11:11:30.639Z"
   },
   {
    "duration": 12,
    "start_time": "2021-07-19T11:11:56.474Z"
   },
   {
    "duration": 14,
    "start_time": "2021-07-19T11:12:09.506Z"
   },
   {
    "duration": 18,
    "start_time": "2021-07-19T11:12:41.402Z"
   },
   {
    "duration": 13,
    "start_time": "2021-07-19T12:13:19.540Z"
   },
   {
    "duration": 12,
    "start_time": "2021-07-19T12:13:32.722Z"
   },
   {
    "duration": 11,
    "start_time": "2021-07-19T12:13:36.287Z"
   },
   {
    "duration": 140,
    "start_time": "2021-07-19T14:34:12.855Z"
   },
   {
    "duration": 12,
    "start_time": "2021-07-19T14:34:12.998Z"
   },
   {
    "duration": 33,
    "start_time": "2021-07-19T14:34:13.013Z"
   },
   {
    "duration": 28,
    "start_time": "2021-07-19T14:34:13.049Z"
   },
   {
    "duration": 32,
    "start_time": "2021-07-19T14:34:13.079Z"
   },
   {
    "duration": 4,
    "start_time": "2021-07-19T14:34:13.113Z"
   },
   {
    "duration": 84,
    "start_time": "2021-07-19T14:34:13.119Z"
   },
   {
    "duration": 793,
    "start_time": "2021-07-19T14:34:13.205Z"
   },
   {
    "duration": 1572,
    "start_time": "2021-07-19T14:34:14.002Z"
   },
   {
    "duration": 398,
    "start_time": "2021-07-19T14:34:15.577Z"
   },
   {
    "duration": 361,
    "start_time": "2021-07-19T14:34:15.977Z"
   },
   {
    "duration": 2807,
    "start_time": "2021-07-19T14:34:16.340Z"
   },
   {
    "duration": 383,
    "start_time": "2021-07-19T14:34:19.149Z"
   },
   {
    "duration": 82,
    "start_time": "2021-07-19T14:34:19.452Z"
   },
   {
    "duration": 81,
    "start_time": "2021-07-19T14:34:19.454Z"
   },
   {
    "duration": 81,
    "start_time": "2021-07-19T14:34:19.456Z"
   },
   {
    "duration": 80,
    "start_time": "2021-07-19T14:34:19.458Z"
   },
   {
    "duration": 80,
    "start_time": "2021-07-19T14:34:19.459Z"
   },
   {
    "duration": 1652,
    "start_time": "2021-07-19T14:56:00.252Z"
   },
   {
    "duration": 1618,
    "start_time": "2021-07-19T14:56:12.581Z"
   },
   {
    "duration": 1698,
    "start_time": "2021-07-19T14:56:21.940Z"
   },
   {
    "duration": 1855,
    "start_time": "2021-07-19T14:57:16.096Z"
   },
   {
    "duration": 1579,
    "start_time": "2021-07-19T14:57:24.888Z"
   },
   {
    "duration": 1640,
    "start_time": "2021-07-19T14:57:31.014Z"
   },
   {
    "duration": 1620,
    "start_time": "2021-07-19T15:01:59.510Z"
   },
   {
    "duration": 1545,
    "start_time": "2021-07-19T15:02:08.311Z"
   },
   {
    "duration": 1547,
    "start_time": "2021-07-19T15:02:25.844Z"
   },
   {
    "duration": 1585,
    "start_time": "2021-07-19T15:06:09.504Z"
   },
   {
    "duration": 1481,
    "start_time": "2021-07-19T15:06:23.323Z"
   },
   {
    "duration": 1497,
    "start_time": "2021-07-19T15:10:21.113Z"
   },
   {
    "duration": 1568,
    "start_time": "2021-07-19T15:10:41.486Z"
   },
   {
    "duration": 1715,
    "start_time": "2021-07-19T15:10:52.056Z"
   },
   {
    "duration": 1608,
    "start_time": "2021-07-19T15:11:02.133Z"
   },
   {
    "duration": 1209,
    "start_time": "2021-07-19T15:58:02.950Z"
   },
   {
    "duration": 710,
    "start_time": "2021-07-19T15:58:51.342Z"
   },
   {
    "duration": 3940,
    "start_time": "2021-07-19T15:59:19.369Z"
   },
   {
    "duration": 1554,
    "start_time": "2021-07-19T15:59:39.336Z"
   },
   {
    "duration": 1278,
    "start_time": "2021-07-19T15:59:45.232Z"
   },
   {
    "duration": 1611,
    "start_time": "2021-07-19T15:59:53.964Z"
   },
   {
    "duration": 153,
    "start_time": "2021-07-19T16:02:41.934Z"
   },
   {
    "duration": 152,
    "start_time": "2021-07-19T16:02:49.236Z"
   },
   {
    "duration": 1830,
    "start_time": "2021-07-19T16:03:04.517Z"
   },
   {
    "duration": 1825,
    "start_time": "2021-07-19T16:03:59.450Z"
   },
   {
    "duration": 1513,
    "start_time": "2021-07-19T16:04:18.678Z"
   },
   {
    "duration": 1480,
    "start_time": "2021-07-19T16:04:35.069Z"
   },
   {
    "duration": 1541,
    "start_time": "2021-07-19T16:04:54.881Z"
   },
   {
    "duration": 113,
    "start_time": "2021-07-19T16:04:59.071Z"
   },
   {
    "duration": 1392,
    "start_time": "2021-07-19T16:05:04.278Z"
   },
   {
    "duration": 348,
    "start_time": "2021-07-19T17:20:43.051Z"
   },
   {
    "duration": 123,
    "start_time": "2021-07-19T17:20:58.590Z"
   },
   {
    "duration": 12,
    "start_time": "2021-07-19T17:20:58.716Z"
   },
   {
    "duration": 36,
    "start_time": "2021-07-19T17:20:58.732Z"
   },
   {
    "duration": 15,
    "start_time": "2021-07-19T17:20:58.771Z"
   },
   {
    "duration": 30,
    "start_time": "2021-07-19T17:20:58.788Z"
   },
   {
    "duration": 4,
    "start_time": "2021-07-19T17:20:58.820Z"
   },
   {
    "duration": 87,
    "start_time": "2021-07-19T17:20:58.827Z"
   },
   {
    "duration": 775,
    "start_time": "2021-07-19T17:20:58.916Z"
   },
   {
    "duration": 1598,
    "start_time": "2021-07-19T17:20:59.695Z"
   },
   {
    "duration": 440,
    "start_time": "2021-07-19T17:21:01.296Z"
   },
   {
    "duration": 1469,
    "start_time": "2021-07-19T17:21:01.738Z"
   },
   {
    "duration": 1437,
    "start_time": "2021-07-19T17:21:03.210Z"
   },
   {
    "duration": 2858,
    "start_time": "2021-07-19T17:21:04.649Z"
   },
   {
    "duration": 383,
    "start_time": "2021-07-19T17:21:07.510Z"
   },
   {
    "duration": 109,
    "start_time": "2021-07-19T17:21:07.787Z"
   },
   {
    "duration": 109,
    "start_time": "2021-07-19T17:21:07.788Z"
   },
   {
    "duration": 108,
    "start_time": "2021-07-19T17:21:07.791Z"
   },
   {
    "duration": 109,
    "start_time": "2021-07-19T17:21:07.792Z"
   },
   {
    "duration": 108,
    "start_time": "2021-07-19T17:21:07.794Z"
   },
   {
    "duration": 1339,
    "start_time": "2021-07-19T17:55:03.125Z"
   },
   {
    "duration": 1427,
    "start_time": "2021-07-19T17:58:58.244Z"
   },
   {
    "duration": 145,
    "start_time": "2021-07-19T17:59:38.712Z"
   },
   {
    "duration": 1490,
    "start_time": "2021-07-19T17:59:42.661Z"
   },
   {
    "duration": 2678,
    "start_time": "2021-07-19T18:02:05.618Z"
   },
   {
    "duration": 130,
    "start_time": "2021-07-19T18:04:45.810Z"
   },
   {
    "duration": 13,
    "start_time": "2021-07-19T18:04:45.943Z"
   },
   {
    "duration": 14,
    "start_time": "2021-07-19T18:04:45.968Z"
   },
   {
    "duration": 13,
    "start_time": "2021-07-19T18:04:45.985Z"
   },
   {
    "duration": 30,
    "start_time": "2021-07-19T18:04:46.001Z"
   },
   {
    "duration": 4,
    "start_time": "2021-07-19T18:04:46.068Z"
   },
   {
    "duration": 50,
    "start_time": "2021-07-19T18:04:46.074Z"
   },
   {
    "duration": 822,
    "start_time": "2021-07-19T18:04:46.127Z"
   },
   {
    "duration": 1523,
    "start_time": "2021-07-19T18:04:46.953Z"
   },
   {
    "duration": 489,
    "start_time": "2021-07-19T18:04:48.478Z"
   },
   {
    "duration": 1447,
    "start_time": "2021-07-19T18:04:48.969Z"
   },
   {
    "duration": 1456,
    "start_time": "2021-07-19T18:04:50.418Z"
   },
   {
    "duration": 3347,
    "start_time": "2021-07-19T18:04:51.876Z"
   },
   {
    "duration": 1472,
    "start_time": "2021-07-19T18:04:55.226Z"
   },
   {
    "duration": 26,
    "start_time": "2021-07-19T18:04:56.700Z"
   },
   {
    "duration": 41,
    "start_time": "2021-07-19T18:04:56.728Z"
   },
   {
    "duration": 454,
    "start_time": "2021-07-19T18:04:56.772Z"
   },
   {
    "duration": 1491,
    "start_time": "2021-07-19T18:04:57.229Z"
   },
   {
    "duration": 907,
    "start_time": "2021-07-19T18:04:58.723Z"
   },
   {
    "duration": 432,
    "start_time": "2021-07-19T18:05:09.823Z"
   },
   {
    "duration": 1438,
    "start_time": "2021-07-19T18:05:34.344Z"
   },
   {
    "duration": 1373,
    "start_time": "2021-07-19T18:06:01.850Z"
   },
   {
    "duration": 2096,
    "start_time": "2021-07-19T18:06:25.425Z"
   },
   {
    "duration": 2007,
    "start_time": "2021-07-19T18:06:28.964Z"
   },
   {
    "duration": 2114,
    "start_time": "2021-07-19T18:10:51.058Z"
   },
   {
    "duration": 2154,
    "start_time": "2021-07-19T18:12:11.869Z"
   },
   {
    "duration": 1438,
    "start_time": "2021-07-19T18:14:41.468Z"
   },
   {
    "duration": 1564,
    "start_time": "2021-07-19T18:14:49.650Z"
   },
   {
    "duration": 1462,
    "start_time": "2021-07-19T18:14:59.906Z"
   },
   {
    "duration": 1458,
    "start_time": "2021-07-19T18:15:07.018Z"
   },
   {
    "duration": 2011,
    "start_time": "2021-07-19T18:15:56.077Z"
   },
   {
    "duration": 1439,
    "start_time": "2021-07-19T18:17:22.970Z"
   },
   {
    "duration": 43,
    "start_time": "2021-07-19T18:22:27.238Z"
   },
   {
    "duration": 40,
    "start_time": "2021-07-19T18:22:42.788Z"
   },
   {
    "duration": 6,
    "start_time": "2021-07-19T18:23:06.600Z"
   },
   {
    "duration": 5,
    "start_time": "2021-07-19T18:25:16.176Z"
   },
   {
    "duration": 7,
    "start_time": "2021-07-19T18:25:58.414Z"
   },
   {
    "duration": 6,
    "start_time": "2021-07-19T18:26:21.669Z"
   },
   {
    "duration": 1731,
    "start_time": "2021-07-19T18:29:32.243Z"
   },
   {
    "duration": 1577,
    "start_time": "2021-07-19T18:30:51.242Z"
   },
   {
    "duration": 1478,
    "start_time": "2021-07-19T18:31:02.242Z"
   },
   {
    "duration": 1063,
    "start_time": "2021-07-19T18:31:38.315Z"
   },
   {
    "duration": 1192,
    "start_time": "2021-07-19T18:31:46.454Z"
   },
   {
    "duration": 1430,
    "start_time": "2021-07-19T18:32:23.707Z"
   },
   {
    "duration": 1400,
    "start_time": "2021-07-19T18:36:19.083Z"
   },
   {
    "duration": 1614,
    "start_time": "2021-07-19T18:36:32.873Z"
   },
   {
    "duration": 1380,
    "start_time": "2021-07-19T18:36:39.916Z"
   },
   {
    "duration": 1392,
    "start_time": "2021-07-19T18:36:50.299Z"
   },
   {
    "duration": 126,
    "start_time": "2021-07-19T18:37:00.884Z"
   },
   {
    "duration": 13,
    "start_time": "2021-07-19T18:37:01.013Z"
   },
   {
    "duration": 18,
    "start_time": "2021-07-19T18:37:01.029Z"
   },
   {
    "duration": 14,
    "start_time": "2021-07-19T18:37:01.068Z"
   },
   {
    "duration": 39,
    "start_time": "2021-07-19T18:37:01.085Z"
   },
   {
    "duration": 5,
    "start_time": "2021-07-19T18:37:01.126Z"
   },
   {
    "duration": 160,
    "start_time": "2021-07-19T18:37:01.133Z"
   },
   {
    "duration": 811,
    "start_time": "2021-07-19T18:37:01.297Z"
   },
   {
    "duration": 1503,
    "start_time": "2021-07-19T18:37:02.111Z"
   },
   {
    "duration": 407,
    "start_time": "2021-07-19T18:37:03.616Z"
   },
   {
    "duration": 1422,
    "start_time": "2021-07-19T18:37:04.025Z"
   },
   {
    "duration": 1181,
    "start_time": "2021-07-19T18:37:05.451Z"
   },
   {
    "duration": 2782,
    "start_time": "2021-07-19T18:37:06.635Z"
   },
   {
    "duration": 2069,
    "start_time": "2021-07-19T18:37:09.420Z"
   },
   {
    "duration": 22,
    "start_time": "2021-07-19T18:37:11.492Z"
   },
   {
    "duration": 9,
    "start_time": "2021-07-19T18:37:11.517Z"
   },
   {
    "duration": 472,
    "start_time": "2021-07-19T18:37:11.528Z"
   },
   {
    "duration": 1621,
    "start_time": "2021-07-19T18:37:12.003Z"
   },
   {
    "duration": 1870,
    "start_time": "2021-07-19T18:37:13.627Z"
   },
   {
    "duration": 936,
    "start_time": "2021-07-19T19:27:48.621Z"
   },
   {
    "duration": 23,
    "start_time": "2021-07-19T19:27:49.560Z"
   },
   {
    "duration": 12,
    "start_time": "2021-07-19T19:27:49.586Z"
   },
   {
    "duration": 16,
    "start_time": "2021-07-19T19:27:49.600Z"
   },
   {
    "duration": 64,
    "start_time": "2021-07-19T19:27:49.618Z"
   },
   {
    "duration": 5,
    "start_time": "2021-07-19T19:27:49.685Z"
   },
   {
    "duration": 56,
    "start_time": "2021-07-19T19:27:49.693Z"
   },
   {
    "duration": 706,
    "start_time": "2021-07-19T19:27:49.784Z"
   },
   {
    "duration": 1443,
    "start_time": "2021-07-19T19:27:50.493Z"
   },
   {
    "duration": 390,
    "start_time": "2021-07-19T19:27:51.938Z"
   },
   {
    "duration": 1628,
    "start_time": "2021-07-19T19:27:52.331Z"
   },
   {
    "duration": 1684,
    "start_time": "2021-07-19T19:27:53.962Z"
   },
   {
    "duration": 36,
    "start_time": "2021-07-19T19:28:18.118Z"
   },
   {
    "duration": 249,
    "start_time": "2021-07-19T19:39:57.470Z"
   },
   {
    "duration": 227,
    "start_time": "2021-07-19T19:40:29.613Z"
   },
   {
    "duration": 350,
    "start_time": "2021-07-19T19:41:55.680Z"
   },
   {
    "duration": 780,
    "start_time": "2021-07-20T07:38:30.002Z"
   },
   {
    "duration": 1010,
    "start_time": "2021-07-20T07:38:39.325Z"
   },
   {
    "duration": 18,
    "start_time": "2021-07-20T07:38:40.338Z"
   },
   {
    "duration": 14,
    "start_time": "2021-07-20T07:38:40.359Z"
   },
   {
    "duration": 14,
    "start_time": "2021-07-20T07:38:40.375Z"
   },
   {
    "duration": 71,
    "start_time": "2021-07-20T07:38:40.392Z"
   },
   {
    "duration": 4,
    "start_time": "2021-07-20T07:38:40.466Z"
   },
   {
    "duration": 55,
    "start_time": "2021-07-20T07:38:40.473Z"
   },
   {
    "duration": 732,
    "start_time": "2021-07-20T07:38:40.555Z"
   },
   {
    "duration": 1528,
    "start_time": "2021-07-20T07:38:41.291Z"
   },
   {
    "duration": 393,
    "start_time": "2021-07-20T07:38:42.821Z"
   },
   {
    "duration": 1469,
    "start_time": "2021-07-20T07:38:43.217Z"
   },
   {
    "duration": 1055,
    "start_time": "2021-07-20T07:38:44.689Z"
   },
   {
    "duration": 42,
    "start_time": "2021-07-20T07:38:45.746Z"
   },
   {
    "duration": 2788,
    "start_time": "2021-07-20T07:38:45.791Z"
   },
   {
    "duration": 244,
    "start_time": "2021-07-20T07:38:48.582Z"
   },
   {
    "duration": 2010,
    "start_time": "2021-07-20T07:38:48.829Z"
   },
   {
    "duration": 326,
    "start_time": "2021-07-20T07:38:50.842Z"
   },
   {
    "duration": 21,
    "start_time": "2021-07-20T07:38:51.171Z"
   },
   {
    "duration": 9,
    "start_time": "2021-07-20T07:38:51.195Z"
   },
   {
    "duration": 444,
    "start_time": "2021-07-20T07:38:51.206Z"
   },
   {
    "duration": 1432,
    "start_time": "2021-07-20T07:38:51.654Z"
   },
   {
    "duration": 1679,
    "start_time": "2021-07-20T07:38:53.089Z"
   },
   {
    "duration": 245,
    "start_time": "2021-07-20T07:42:38.151Z"
   },
   {
    "duration": 368,
    "start_time": "2021-07-20T07:52:12.553Z"
   },
   {
    "duration": 306,
    "start_time": "2021-07-20T07:52:42.965Z"
   },
   {
    "duration": 1158,
    "start_time": "2021-07-20T07:53:21.370Z"
   },
   {
    "duration": 577,
    "start_time": "2021-07-20T07:54:59.771Z"
   },
   {
    "duration": 682,
    "start_time": "2021-07-20T07:57:10.006Z"
   },
   {
    "duration": 1421,
    "start_time": "2021-07-20T07:59:21.233Z"
   },
   {
    "duration": 127,
    "start_time": "2021-07-20T08:17:26.510Z"
   },
   {
    "duration": 23,
    "start_time": "2021-07-20T08:17:26.640Z"
   },
   {
    "duration": 12,
    "start_time": "2021-07-20T08:17:26.667Z"
   },
   {
    "duration": 16,
    "start_time": "2021-07-20T08:17:26.682Z"
   },
   {
    "duration": 67,
    "start_time": "2021-07-20T08:17:26.700Z"
   },
   {
    "duration": 4,
    "start_time": "2021-07-20T08:17:26.769Z"
   },
   {
    "duration": 82,
    "start_time": "2021-07-20T08:17:26.775Z"
   },
   {
    "duration": 852,
    "start_time": "2021-07-20T08:17:26.861Z"
   },
   {
    "duration": 1536,
    "start_time": "2021-07-20T08:17:27.718Z"
   },
   {
    "duration": 387,
    "start_time": "2021-07-20T08:17:29.257Z"
   },
   {
    "duration": 1371,
    "start_time": "2021-07-20T08:17:29.655Z"
   },
   {
    "duration": 1019,
    "start_time": "2021-07-20T08:17:31.029Z"
   },
   {
    "duration": 35,
    "start_time": "2021-07-20T08:17:32.054Z"
   },
   {
    "duration": 2698,
    "start_time": "2021-07-20T08:17:32.091Z"
   },
   {
    "duration": 251,
    "start_time": "2021-07-20T08:17:34.791Z"
   },
   {
    "duration": 1933,
    "start_time": "2021-07-20T08:17:35.045Z"
   },
   {
    "duration": 325,
    "start_time": "2021-07-20T08:17:36.980Z"
   },
   {
    "duration": 23,
    "start_time": "2021-07-20T08:17:37.308Z"
   },
   {
    "duration": 25,
    "start_time": "2021-07-20T08:17:37.334Z"
   },
   {
    "duration": 482,
    "start_time": "2021-07-20T08:17:37.362Z"
   },
   {
    "duration": 1473,
    "start_time": "2021-07-20T08:17:37.854Z"
   },
   {
    "duration": 1556,
    "start_time": "2021-07-20T08:17:39.329Z"
   },
   {
    "duration": 968,
    "start_time": "2021-07-20T09:05:24.891Z"
   },
   {
    "duration": 29,
    "start_time": "2021-07-20T09:05:25.863Z"
   },
   {
    "duration": 19,
    "start_time": "2021-07-20T09:05:25.895Z"
   },
   {
    "duration": 14,
    "start_time": "2021-07-20T09:05:25.917Z"
   },
   {
    "duration": 64,
    "start_time": "2021-07-20T09:05:25.933Z"
   },
   {
    "duration": 4,
    "start_time": "2021-07-20T09:05:25.999Z"
   },
   {
    "duration": 79,
    "start_time": "2021-07-20T09:05:26.006Z"
   },
   {
    "duration": 1074,
    "start_time": "2021-07-20T09:05:26.089Z"
   },
   {
    "duration": 1530,
    "start_time": "2021-07-20T09:05:27.166Z"
   },
   {
    "duration": 379,
    "start_time": "2021-07-20T09:05:28.699Z"
   },
   {
    "duration": 1508,
    "start_time": "2021-07-20T09:05:29.082Z"
   },
   {
    "duration": 1164,
    "start_time": "2021-07-20T09:05:30.593Z"
   },
   {
    "duration": 49,
    "start_time": "2021-07-20T09:05:31.760Z"
   },
   {
    "duration": 2819,
    "start_time": "2021-07-20T09:05:31.811Z"
   },
   {
    "duration": 270,
    "start_time": "2021-07-20T09:05:34.633Z"
   },
   {
    "duration": 2010,
    "start_time": "2021-07-20T09:05:34.906Z"
   },
   {
    "duration": 334,
    "start_time": "2021-07-20T09:05:36.918Z"
   },
   {
    "duration": 36,
    "start_time": "2021-07-20T09:05:37.254Z"
   },
   {
    "duration": 10,
    "start_time": "2021-07-20T09:05:37.293Z"
   },
   {
    "duration": 467,
    "start_time": "2021-07-20T09:05:37.305Z"
   },
   {
    "duration": 1478,
    "start_time": "2021-07-20T09:05:37.782Z"
   },
   {
    "duration": 1671,
    "start_time": "2021-07-20T09:05:39.262Z"
   },
   {
    "duration": 348,
    "start_time": "2021-07-20T09:24:28.061Z"
   },
   {
    "duration": 122,
    "start_time": "2021-07-20T10:03:48.376Z"
   },
   {
    "duration": 13,
    "start_time": "2021-07-20T10:03:48.501Z"
   },
   {
    "duration": 39,
    "start_time": "2021-07-20T10:03:48.519Z"
   },
   {
    "duration": 13,
    "start_time": "2021-07-20T10:03:48.561Z"
   },
   {
    "duration": 45,
    "start_time": "2021-07-20T10:03:48.576Z"
   },
   {
    "duration": 13,
    "start_time": "2021-07-20T10:03:48.624Z"
   },
   {
    "duration": 63,
    "start_time": "2021-07-20T10:03:48.640Z"
   },
   {
    "duration": 758,
    "start_time": "2021-07-20T10:03:48.706Z"
   },
   {
    "duration": 1541,
    "start_time": "2021-07-20T10:03:49.468Z"
   },
   {
    "duration": 485,
    "start_time": "2021-07-20T10:03:51.013Z"
   },
   {
    "duration": 106,
    "start_time": "2021-07-20T10:03:51.501Z"
   },
   {
    "duration": -48,
    "start_time": "2021-07-20T10:03:51.658Z"
   },
   {
    "duration": -48,
    "start_time": "2021-07-20T10:03:51.660Z"
   },
   {
    "duration": -48,
    "start_time": "2021-07-20T10:03:51.662Z"
   },
   {
    "duration": -50,
    "start_time": "2021-07-20T10:03:51.665Z"
   },
   {
    "duration": -49,
    "start_time": "2021-07-20T10:03:51.667Z"
   },
   {
    "duration": -51,
    "start_time": "2021-07-20T10:03:51.670Z"
   },
   {
    "duration": -51,
    "start_time": "2021-07-20T10:03:51.672Z"
   },
   {
    "duration": -51,
    "start_time": "2021-07-20T10:03:51.674Z"
   },
   {
    "duration": -53,
    "start_time": "2021-07-20T10:03:51.677Z"
   },
   {
    "duration": -54,
    "start_time": "2021-07-20T10:03:51.680Z"
   },
   {
    "duration": -55,
    "start_time": "2021-07-20T10:03:51.682Z"
   },
   {
    "duration": 116,
    "start_time": "2021-07-20T10:04:41.789Z"
   },
   {
    "duration": 148,
    "start_time": "2021-07-20T10:04:55.356Z"
   },
   {
    "duration": 102,
    "start_time": "2021-07-20T10:10:22.834Z"
   },
   {
    "duration": 1395,
    "start_time": "2021-07-20T10:13:01.179Z"
   },
   {
    "duration": 137,
    "start_time": "2021-07-20T10:17:30.781Z"
   },
   {
    "duration": 16,
    "start_time": "2021-07-20T10:17:30.921Z"
   },
   {
    "duration": 12,
    "start_time": "2021-07-20T10:17:30.956Z"
   },
   {
    "duration": 24,
    "start_time": "2021-07-20T10:17:30.971Z"
   },
   {
    "duration": 36,
    "start_time": "2021-07-20T10:17:30.998Z"
   },
   {
    "duration": 20,
    "start_time": "2021-07-20T10:17:31.037Z"
   },
   {
    "duration": 52,
    "start_time": "2021-07-20T10:17:31.060Z"
   },
   {
    "duration": 776,
    "start_time": "2021-07-20T10:17:31.115Z"
   },
   {
    "duration": 1435,
    "start_time": "2021-07-20T10:17:31.895Z"
   },
   {
    "duration": 388,
    "start_time": "2021-07-20T10:17:33.333Z"
   },
   {
    "duration": 1434,
    "start_time": "2021-07-20T10:17:33.724Z"
   },
   {
    "duration": 350,
    "start_time": "2021-07-20T10:17:35.161Z"
   },
   {
    "duration": 52,
    "start_time": "2021-07-20T10:17:35.513Z"
   },
   {
    "duration": 2610,
    "start_time": "2021-07-20T10:17:35.567Z"
   },
   {
    "duration": 257,
    "start_time": "2021-07-20T10:17:38.179Z"
   },
   {
    "duration": 1986,
    "start_time": "2021-07-20T10:17:38.438Z"
   },
   {
    "duration": 296,
    "start_time": "2021-07-20T10:17:40.426Z"
   },
   {
    "duration": 38,
    "start_time": "2021-07-20T10:17:40.724Z"
   },
   {
    "duration": 9,
    "start_time": "2021-07-20T10:17:40.765Z"
   },
   {
    "duration": 439,
    "start_time": "2021-07-20T10:17:40.777Z"
   },
   {
    "duration": 1368,
    "start_time": "2021-07-20T10:17:41.218Z"
   },
   {
    "duration": 1359,
    "start_time": "2021-07-20T10:17:42.589Z"
   },
   {
    "duration": 38,
    "start_time": "2021-07-20T10:18:03.069Z"
   },
   {
    "duration": 126,
    "start_time": "2021-07-20T10:24:59.906Z"
   },
   {
    "duration": 100,
    "start_time": "2021-07-20T10:25:00.035Z"
   },
   {
    "duration": 25,
    "start_time": "2021-07-20T10:25:00.139Z"
   },
   {
    "duration": 17,
    "start_time": "2021-07-20T10:25:00.167Z"
   },
   {
    "duration": 35,
    "start_time": "2021-07-20T10:25:00.187Z"
   },
   {
    "duration": 4,
    "start_time": "2021-07-20T10:25:00.224Z"
   },
   {
    "duration": 72,
    "start_time": "2021-07-20T10:25:00.231Z"
   },
   {
    "duration": 742,
    "start_time": "2021-07-20T10:25:00.306Z"
   },
   {
    "duration": 1449,
    "start_time": "2021-07-20T10:25:01.055Z"
   },
   {
    "duration": 397,
    "start_time": "2021-07-20T10:25:02.508Z"
   },
   {
    "duration": 1357,
    "start_time": "2021-07-20T10:25:02.908Z"
   },
   {
    "duration": 350,
    "start_time": "2021-07-20T10:25:04.267Z"
   },
   {
    "duration": 51,
    "start_time": "2021-07-20T10:25:04.619Z"
   },
   {
    "duration": 2671,
    "start_time": "2021-07-20T10:25:04.672Z"
   },
   {
    "duration": 263,
    "start_time": "2021-07-20T10:25:07.345Z"
   },
   {
    "duration": 1927,
    "start_time": "2021-07-20T10:25:07.611Z"
   },
   {
    "duration": 416,
    "start_time": "2021-07-20T10:25:09.541Z"
   },
   {
    "duration": 23,
    "start_time": "2021-07-20T10:25:09.959Z"
   },
   {
    "duration": 10,
    "start_time": "2021-07-20T10:25:09.985Z"
   },
   {
    "duration": 463,
    "start_time": "2021-07-20T10:25:09.997Z"
   },
   {
    "duration": 1482,
    "start_time": "2021-07-20T10:25:10.463Z"
   },
   {
    "duration": 1380,
    "start_time": "2021-07-20T10:25:11.955Z"
   }
  ],
  "kernelspec": {
   "display_name": "Python 3",
   "language": "python",
   "name": "python3"
  },
  "language_info": {
   "codemirror_mode": {
    "name": "ipython",
    "version": 3
   },
   "file_extension": ".py",
   "mimetype": "text/x-python",
   "name": "python",
   "nbconvert_exporter": "python",
   "pygments_lexer": "ipython3",
   "version": "3.8.5"
  },
  "toc": {
   "base_numbering": 1,
   "nav_menu": {},
   "number_sections": true,
   "sideBar": true,
   "skip_h1_title": true,
   "title_cell": "Содержание",
   "title_sidebar": "Contents",
   "toc_cell": true,
   "toc_position": {
    "height": "calc(100% - 180px)",
    "left": "10px",
    "top": "150px",
    "width": "261px"
   },
   "toc_section_display": true,
   "toc_window_display": true
  }
 },
 "nbformat": 4,
 "nbformat_minor": 2
}
