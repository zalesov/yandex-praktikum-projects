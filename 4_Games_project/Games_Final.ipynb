{
 "cells": [
  {
   "cell_type": "markdown",
   "metadata": {},
   "source": [
    "# Определение успешности продаж игр"
   ]
  },
  {
   "cell_type": "code",
   "execution_count": 75,
   "metadata": {},
   "outputs": [],
   "source": [
    "import pandas as pd\n",
    "import matplotlib.pyplot as plt\n",
    "import numpy as np\n",
    "import warnings\n",
    "from scipy import stats as st\n",
    "import math \n",
    "import plotly.express \n",
    "from plotly.subplots import make_subplots\n",
    "import plotly.graph_objects as go\n",
    "\n",
    "warnings.filterwarnings('ignore')"
   ]
  },
  {
   "cell_type": "code",
   "execution_count": 40,
   "metadata": {
    "scrolled": true
   },
   "outputs": [
    {
     "name": "stdout",
     "output_type": "stream",
     "text": [
      "<class 'pandas.core.frame.DataFrame'>\n",
      "RangeIndex: 16715 entries, 0 to 16714\n",
      "Data columns (total 11 columns):\n",
      " #   Column           Non-Null Count  Dtype  \n",
      "---  ------           --------------  -----  \n",
      " 0   Name             16713 non-null  object \n",
      " 1   Platform         16715 non-null  object \n",
      " 2   Year_of_Release  16446 non-null  float64\n",
      " 3   Genre            16713 non-null  object \n",
      " 4   NA_sales         16715 non-null  float64\n",
      " 5   EU_sales         16715 non-null  float64\n",
      " 6   JP_sales         16715 non-null  float64\n",
      " 7   Other_sales      16715 non-null  float64\n",
      " 8   Critic_Score     8137 non-null   float64\n",
      " 9   User_Score       10014 non-null  object \n",
      " 10  Rating           9949 non-null   object \n",
      "dtypes: float64(6), object(5)\n",
      "memory usage: 1.4+ MB\n"
     ]
    },
    {
     "data": {
      "text/html": [
       "<div>\n",
       "<style scoped>\n",
       "    .dataframe tbody tr th:only-of-type {\n",
       "        vertical-align: middle;\n",
       "    }\n",
       "\n",
       "    .dataframe tbody tr th {\n",
       "        vertical-align: top;\n",
       "    }\n",
       "\n",
       "    .dataframe thead th {\n",
       "        text-align: right;\n",
       "    }\n",
       "</style>\n",
       "<table border=\"1\" class=\"dataframe\">\n",
       "  <thead>\n",
       "    <tr style=\"text-align: right;\">\n",
       "      <th></th>\n",
       "      <th>Name</th>\n",
       "      <th>Platform</th>\n",
       "      <th>Year_of_Release</th>\n",
       "      <th>Genre</th>\n",
       "      <th>NA_sales</th>\n",
       "      <th>EU_sales</th>\n",
       "      <th>JP_sales</th>\n",
       "      <th>Other_sales</th>\n",
       "      <th>Critic_Score</th>\n",
       "      <th>User_Score</th>\n",
       "      <th>Rating</th>\n",
       "    </tr>\n",
       "  </thead>\n",
       "  <tbody>\n",
       "    <tr>\n",
       "      <th>0</th>\n",
       "      <td>Wii Sports</td>\n",
       "      <td>Wii</td>\n",
       "      <td>2006.0</td>\n",
       "      <td>Sports</td>\n",
       "      <td>41.36</td>\n",
       "      <td>28.96</td>\n",
       "      <td>3.77</td>\n",
       "      <td>8.45</td>\n",
       "      <td>76.0</td>\n",
       "      <td>8</td>\n",
       "      <td>E</td>\n",
       "    </tr>\n",
       "    <tr>\n",
       "      <th>1</th>\n",
       "      <td>Super Mario Bros.</td>\n",
       "      <td>NES</td>\n",
       "      <td>1985.0</td>\n",
       "      <td>Platform</td>\n",
       "      <td>29.08</td>\n",
       "      <td>3.58</td>\n",
       "      <td>6.81</td>\n",
       "      <td>0.77</td>\n",
       "      <td>NaN</td>\n",
       "      <td>NaN</td>\n",
       "      <td>NaN</td>\n",
       "    </tr>\n",
       "    <tr>\n",
       "      <th>2</th>\n",
       "      <td>Mario Kart Wii</td>\n",
       "      <td>Wii</td>\n",
       "      <td>2008.0</td>\n",
       "      <td>Racing</td>\n",
       "      <td>15.68</td>\n",
       "      <td>12.76</td>\n",
       "      <td>3.79</td>\n",
       "      <td>3.29</td>\n",
       "      <td>82.0</td>\n",
       "      <td>8.3</td>\n",
       "      <td>E</td>\n",
       "    </tr>\n",
       "    <tr>\n",
       "      <th>3</th>\n",
       "      <td>Wii Sports Resort</td>\n",
       "      <td>Wii</td>\n",
       "      <td>2009.0</td>\n",
       "      <td>Sports</td>\n",
       "      <td>15.61</td>\n",
       "      <td>10.93</td>\n",
       "      <td>3.28</td>\n",
       "      <td>2.95</td>\n",
       "      <td>80.0</td>\n",
       "      <td>8</td>\n",
       "      <td>E</td>\n",
       "    </tr>\n",
       "    <tr>\n",
       "      <th>4</th>\n",
       "      <td>Pokemon Red/Pokemon Blue</td>\n",
       "      <td>GB</td>\n",
       "      <td>1996.0</td>\n",
       "      <td>Role-Playing</td>\n",
       "      <td>11.27</td>\n",
       "      <td>8.89</td>\n",
       "      <td>10.22</td>\n",
       "      <td>1.00</td>\n",
       "      <td>NaN</td>\n",
       "      <td>NaN</td>\n",
       "      <td>NaN</td>\n",
       "    </tr>\n",
       "    <tr>\n",
       "      <th>5</th>\n",
       "      <td>Tetris</td>\n",
       "      <td>GB</td>\n",
       "      <td>1989.0</td>\n",
       "      <td>Puzzle</td>\n",
       "      <td>23.20</td>\n",
       "      <td>2.26</td>\n",
       "      <td>4.22</td>\n",
       "      <td>0.58</td>\n",
       "      <td>NaN</td>\n",
       "      <td>NaN</td>\n",
       "      <td>NaN</td>\n",
       "    </tr>\n",
       "    <tr>\n",
       "      <th>6</th>\n",
       "      <td>New Super Mario Bros.</td>\n",
       "      <td>DS</td>\n",
       "      <td>2006.0</td>\n",
       "      <td>Platform</td>\n",
       "      <td>11.28</td>\n",
       "      <td>9.14</td>\n",
       "      <td>6.50</td>\n",
       "      <td>2.88</td>\n",
       "      <td>89.0</td>\n",
       "      <td>8.5</td>\n",
       "      <td>E</td>\n",
       "    </tr>\n",
       "    <tr>\n",
       "      <th>7</th>\n",
       "      <td>Wii Play</td>\n",
       "      <td>Wii</td>\n",
       "      <td>2006.0</td>\n",
       "      <td>Misc</td>\n",
       "      <td>13.96</td>\n",
       "      <td>9.18</td>\n",
       "      <td>2.93</td>\n",
       "      <td>2.84</td>\n",
       "      <td>58.0</td>\n",
       "      <td>6.6</td>\n",
       "      <td>E</td>\n",
       "    </tr>\n",
       "    <tr>\n",
       "      <th>8</th>\n",
       "      <td>New Super Mario Bros. Wii</td>\n",
       "      <td>Wii</td>\n",
       "      <td>2009.0</td>\n",
       "      <td>Platform</td>\n",
       "      <td>14.44</td>\n",
       "      <td>6.94</td>\n",
       "      <td>4.70</td>\n",
       "      <td>2.24</td>\n",
       "      <td>87.0</td>\n",
       "      <td>8.4</td>\n",
       "      <td>E</td>\n",
       "    </tr>\n",
       "    <tr>\n",
       "      <th>9</th>\n",
       "      <td>Duck Hunt</td>\n",
       "      <td>NES</td>\n",
       "      <td>1984.0</td>\n",
       "      <td>Shooter</td>\n",
       "      <td>26.93</td>\n",
       "      <td>0.63</td>\n",
       "      <td>0.28</td>\n",
       "      <td>0.47</td>\n",
       "      <td>NaN</td>\n",
       "      <td>NaN</td>\n",
       "      <td>NaN</td>\n",
       "    </tr>\n",
       "    <tr>\n",
       "      <th>10</th>\n",
       "      <td>Nintendogs</td>\n",
       "      <td>DS</td>\n",
       "      <td>2005.0</td>\n",
       "      <td>Simulation</td>\n",
       "      <td>9.05</td>\n",
       "      <td>10.95</td>\n",
       "      <td>1.93</td>\n",
       "      <td>2.74</td>\n",
       "      <td>NaN</td>\n",
       "      <td>NaN</td>\n",
       "      <td>NaN</td>\n",
       "    </tr>\n",
       "    <tr>\n",
       "      <th>11</th>\n",
       "      <td>Mario Kart DS</td>\n",
       "      <td>DS</td>\n",
       "      <td>2005.0</td>\n",
       "      <td>Racing</td>\n",
       "      <td>9.71</td>\n",
       "      <td>7.47</td>\n",
       "      <td>4.13</td>\n",
       "      <td>1.90</td>\n",
       "      <td>91.0</td>\n",
       "      <td>8.6</td>\n",
       "      <td>E</td>\n",
       "    </tr>\n",
       "    <tr>\n",
       "      <th>12</th>\n",
       "      <td>Pokemon Gold/Pokemon Silver</td>\n",
       "      <td>GB</td>\n",
       "      <td>1999.0</td>\n",
       "      <td>Role-Playing</td>\n",
       "      <td>9.00</td>\n",
       "      <td>6.18</td>\n",
       "      <td>7.20</td>\n",
       "      <td>0.71</td>\n",
       "      <td>NaN</td>\n",
       "      <td>NaN</td>\n",
       "      <td>NaN</td>\n",
       "    </tr>\n",
       "    <tr>\n",
       "      <th>13</th>\n",
       "      <td>Wii Fit</td>\n",
       "      <td>Wii</td>\n",
       "      <td>2007.0</td>\n",
       "      <td>Sports</td>\n",
       "      <td>8.92</td>\n",
       "      <td>8.03</td>\n",
       "      <td>3.60</td>\n",
       "      <td>2.15</td>\n",
       "      <td>80.0</td>\n",
       "      <td>7.7</td>\n",
       "      <td>E</td>\n",
       "    </tr>\n",
       "    <tr>\n",
       "      <th>14</th>\n",
       "      <td>Kinect Adventures!</td>\n",
       "      <td>X360</td>\n",
       "      <td>2010.0</td>\n",
       "      <td>Misc</td>\n",
       "      <td>15.00</td>\n",
       "      <td>4.89</td>\n",
       "      <td>0.24</td>\n",
       "      <td>1.69</td>\n",
       "      <td>61.0</td>\n",
       "      <td>6.3</td>\n",
       "      <td>E</td>\n",
       "    </tr>\n",
       "    <tr>\n",
       "      <th>15</th>\n",
       "      <td>Wii Fit Plus</td>\n",
       "      <td>Wii</td>\n",
       "      <td>2009.0</td>\n",
       "      <td>Sports</td>\n",
       "      <td>9.01</td>\n",
       "      <td>8.49</td>\n",
       "      <td>2.53</td>\n",
       "      <td>1.77</td>\n",
       "      <td>80.0</td>\n",
       "      <td>7.4</td>\n",
       "      <td>E</td>\n",
       "    </tr>\n",
       "    <tr>\n",
       "      <th>16</th>\n",
       "      <td>Grand Theft Auto V</td>\n",
       "      <td>PS3</td>\n",
       "      <td>2013.0</td>\n",
       "      <td>Action</td>\n",
       "      <td>7.02</td>\n",
       "      <td>9.09</td>\n",
       "      <td>0.98</td>\n",
       "      <td>3.96</td>\n",
       "      <td>97.0</td>\n",
       "      <td>8.2</td>\n",
       "      <td>M</td>\n",
       "    </tr>\n",
       "    <tr>\n",
       "      <th>17</th>\n",
       "      <td>Grand Theft Auto: San Andreas</td>\n",
       "      <td>PS2</td>\n",
       "      <td>2004.0</td>\n",
       "      <td>Action</td>\n",
       "      <td>9.43</td>\n",
       "      <td>0.40</td>\n",
       "      <td>0.41</td>\n",
       "      <td>10.57</td>\n",
       "      <td>95.0</td>\n",
       "      <td>9</td>\n",
       "      <td>M</td>\n",
       "    </tr>\n",
       "    <tr>\n",
       "      <th>18</th>\n",
       "      <td>Super Mario World</td>\n",
       "      <td>SNES</td>\n",
       "      <td>1990.0</td>\n",
       "      <td>Platform</td>\n",
       "      <td>12.78</td>\n",
       "      <td>3.75</td>\n",
       "      <td>3.54</td>\n",
       "      <td>0.55</td>\n",
       "      <td>NaN</td>\n",
       "      <td>NaN</td>\n",
       "      <td>NaN</td>\n",
       "    </tr>\n",
       "    <tr>\n",
       "      <th>19</th>\n",
       "      <td>Brain Age: Train Your Brain in Minutes a Day</td>\n",
       "      <td>DS</td>\n",
       "      <td>2005.0</td>\n",
       "      <td>Misc</td>\n",
       "      <td>4.74</td>\n",
       "      <td>9.20</td>\n",
       "      <td>4.16</td>\n",
       "      <td>2.04</td>\n",
       "      <td>77.0</td>\n",
       "      <td>7.9</td>\n",
       "      <td>E</td>\n",
       "    </tr>\n",
       "  </tbody>\n",
       "</table>\n",
       "</div>"
      ],
      "text/plain": [
       "                                            Name Platform  Year_of_Release  \\\n",
       "0                                     Wii Sports      Wii           2006.0   \n",
       "1                              Super Mario Bros.      NES           1985.0   \n",
       "2                                 Mario Kart Wii      Wii           2008.0   \n",
       "3                              Wii Sports Resort      Wii           2009.0   \n",
       "4                       Pokemon Red/Pokemon Blue       GB           1996.0   \n",
       "5                                         Tetris       GB           1989.0   \n",
       "6                          New Super Mario Bros.       DS           2006.0   \n",
       "7                                       Wii Play      Wii           2006.0   \n",
       "8                      New Super Mario Bros. Wii      Wii           2009.0   \n",
       "9                                      Duck Hunt      NES           1984.0   \n",
       "10                                    Nintendogs       DS           2005.0   \n",
       "11                                 Mario Kart DS       DS           2005.0   \n",
       "12                   Pokemon Gold/Pokemon Silver       GB           1999.0   \n",
       "13                                       Wii Fit      Wii           2007.0   \n",
       "14                            Kinect Adventures!     X360           2010.0   \n",
       "15                                  Wii Fit Plus      Wii           2009.0   \n",
       "16                            Grand Theft Auto V      PS3           2013.0   \n",
       "17                 Grand Theft Auto: San Andreas      PS2           2004.0   \n",
       "18                             Super Mario World     SNES           1990.0   \n",
       "19  Brain Age: Train Your Brain in Minutes a Day       DS           2005.0   \n",
       "\n",
       "           Genre  NA_sales  EU_sales  JP_sales  Other_sales  Critic_Score  \\\n",
       "0         Sports     41.36     28.96      3.77         8.45          76.0   \n",
       "1       Platform     29.08      3.58      6.81         0.77           NaN   \n",
       "2         Racing     15.68     12.76      3.79         3.29          82.0   \n",
       "3         Sports     15.61     10.93      3.28         2.95          80.0   \n",
       "4   Role-Playing     11.27      8.89     10.22         1.00           NaN   \n",
       "5         Puzzle     23.20      2.26      4.22         0.58           NaN   \n",
       "6       Platform     11.28      9.14      6.50         2.88          89.0   \n",
       "7           Misc     13.96      9.18      2.93         2.84          58.0   \n",
       "8       Platform     14.44      6.94      4.70         2.24          87.0   \n",
       "9        Shooter     26.93      0.63      0.28         0.47           NaN   \n",
       "10    Simulation      9.05     10.95      1.93         2.74           NaN   \n",
       "11        Racing      9.71      7.47      4.13         1.90          91.0   \n",
       "12  Role-Playing      9.00      6.18      7.20         0.71           NaN   \n",
       "13        Sports      8.92      8.03      3.60         2.15          80.0   \n",
       "14          Misc     15.00      4.89      0.24         1.69          61.0   \n",
       "15        Sports      9.01      8.49      2.53         1.77          80.0   \n",
       "16        Action      7.02      9.09      0.98         3.96          97.0   \n",
       "17        Action      9.43      0.40      0.41        10.57          95.0   \n",
       "18      Platform     12.78      3.75      3.54         0.55           NaN   \n",
       "19          Misc      4.74      9.20      4.16         2.04          77.0   \n",
       "\n",
       "   User_Score Rating  \n",
       "0           8      E  \n",
       "1         NaN    NaN  \n",
       "2         8.3      E  \n",
       "3           8      E  \n",
       "4         NaN    NaN  \n",
       "5         NaN    NaN  \n",
       "6         8.5      E  \n",
       "7         6.6      E  \n",
       "8         8.4      E  \n",
       "9         NaN    NaN  \n",
       "10        NaN    NaN  \n",
       "11        8.6      E  \n",
       "12        NaN    NaN  \n",
       "13        7.7      E  \n",
       "14        6.3      E  \n",
       "15        7.4      E  \n",
       "16        8.2      M  \n",
       "17          9      M  \n",
       "18        NaN    NaN  \n",
       "19        7.9      E  "
      ]
     },
     "metadata": {},
     "output_type": "display_data"
    },
    {
     "data": {
      "text/html": [
       "<div>\n",
       "<style scoped>\n",
       "    .dataframe tbody tr th:only-of-type {\n",
       "        vertical-align: middle;\n",
       "    }\n",
       "\n",
       "    .dataframe tbody tr th {\n",
       "        vertical-align: top;\n",
       "    }\n",
       "\n",
       "    .dataframe thead th {\n",
       "        text-align: right;\n",
       "    }\n",
       "</style>\n",
       "<table border=\"1\" class=\"dataframe\">\n",
       "  <thead>\n",
       "    <tr style=\"text-align: right;\">\n",
       "      <th></th>\n",
       "      <th>Year_of_Release</th>\n",
       "      <th>NA_sales</th>\n",
       "      <th>EU_sales</th>\n",
       "      <th>JP_sales</th>\n",
       "      <th>Other_sales</th>\n",
       "      <th>Critic_Score</th>\n",
       "    </tr>\n",
       "  </thead>\n",
       "  <tbody>\n",
       "    <tr>\n",
       "      <th>count</th>\n",
       "      <td>16446.000000</td>\n",
       "      <td>16715.000000</td>\n",
       "      <td>16715.000000</td>\n",
       "      <td>16715.000000</td>\n",
       "      <td>16715.000000</td>\n",
       "      <td>8137.000000</td>\n",
       "    </tr>\n",
       "    <tr>\n",
       "      <th>mean</th>\n",
       "      <td>2006.484616</td>\n",
       "      <td>0.263377</td>\n",
       "      <td>0.145060</td>\n",
       "      <td>0.077617</td>\n",
       "      <td>0.047342</td>\n",
       "      <td>68.967679</td>\n",
       "    </tr>\n",
       "    <tr>\n",
       "      <th>std</th>\n",
       "      <td>5.877050</td>\n",
       "      <td>0.813604</td>\n",
       "      <td>0.503339</td>\n",
       "      <td>0.308853</td>\n",
       "      <td>0.186731</td>\n",
       "      <td>13.938165</td>\n",
       "    </tr>\n",
       "    <tr>\n",
       "      <th>min</th>\n",
       "      <td>1980.000000</td>\n",
       "      <td>0.000000</td>\n",
       "      <td>0.000000</td>\n",
       "      <td>0.000000</td>\n",
       "      <td>0.000000</td>\n",
       "      <td>13.000000</td>\n",
       "    </tr>\n",
       "    <tr>\n",
       "      <th>25%</th>\n",
       "      <td>2003.000000</td>\n",
       "      <td>0.000000</td>\n",
       "      <td>0.000000</td>\n",
       "      <td>0.000000</td>\n",
       "      <td>0.000000</td>\n",
       "      <td>60.000000</td>\n",
       "    </tr>\n",
       "    <tr>\n",
       "      <th>50%</th>\n",
       "      <td>2007.000000</td>\n",
       "      <td>0.080000</td>\n",
       "      <td>0.020000</td>\n",
       "      <td>0.000000</td>\n",
       "      <td>0.010000</td>\n",
       "      <td>71.000000</td>\n",
       "    </tr>\n",
       "    <tr>\n",
       "      <th>75%</th>\n",
       "      <td>2010.000000</td>\n",
       "      <td>0.240000</td>\n",
       "      <td>0.110000</td>\n",
       "      <td>0.040000</td>\n",
       "      <td>0.030000</td>\n",
       "      <td>79.000000</td>\n",
       "    </tr>\n",
       "    <tr>\n",
       "      <th>max</th>\n",
       "      <td>2016.000000</td>\n",
       "      <td>41.360000</td>\n",
       "      <td>28.960000</td>\n",
       "      <td>10.220000</td>\n",
       "      <td>10.570000</td>\n",
       "      <td>98.000000</td>\n",
       "    </tr>\n",
       "  </tbody>\n",
       "</table>\n",
       "</div>"
      ],
      "text/plain": [
       "       Year_of_Release      NA_sales      EU_sales      JP_sales  \\\n",
       "count     16446.000000  16715.000000  16715.000000  16715.000000   \n",
       "mean       2006.484616      0.263377      0.145060      0.077617   \n",
       "std           5.877050      0.813604      0.503339      0.308853   \n",
       "min        1980.000000      0.000000      0.000000      0.000000   \n",
       "25%        2003.000000      0.000000      0.000000      0.000000   \n",
       "50%        2007.000000      0.080000      0.020000      0.000000   \n",
       "75%        2010.000000      0.240000      0.110000      0.040000   \n",
       "max        2016.000000     41.360000     28.960000     10.220000   \n",
       "\n",
       "        Other_sales  Critic_Score  \n",
       "count  16715.000000   8137.000000  \n",
       "mean       0.047342     68.967679  \n",
       "std        0.186731     13.938165  \n",
       "min        0.000000     13.000000  \n",
       "25%        0.000000     60.000000  \n",
       "50%        0.010000     71.000000  \n",
       "75%        0.030000     79.000000  \n",
       "max       10.570000     98.000000  "
      ]
     },
     "metadata": {},
     "output_type": "display_data"
    }
   ],
   "source": [
    "games = pd.read_csv('/Users/alexey_zalesov/Desktop/ya_prakrikum/ds/datasets/games.csv')\n",
    "\n",
    "games.info()\n",
    "display(games.head(20))\n",
    "display(games.describe())\n",
    "\n",
    "\n"
   ]
  },
  {
   "cell_type": "markdown",
   "metadata": {},
   "source": [
    "Краткие выводы по предварительному анализу:  \n",
    "В таблице всего 16715 строчек, есть пропуски в столбцах \"Name\", \"Year_of_Release\", \"Genre\", \"Critic_Score\", \"User_Score\" и \"Rating\". В столбцах \"Name\", \"Genre\" всего по 2 пропуска - скорее всего, это одни и те же строчки. Больше всего пропусков в столбцах \"Critic_Score\", \"User_Score\", \"Rating\" - удалить просто так не получится. Заменим пропуски на нули. \n",
    "Также требуется заменить тип данных: \"Year_of_Release\" - года не бывают дробными,так как нам не потребуется формат времени, переведем его в int,  \"User_score\" - там дробные значения, а не строчные. "
   ]
  },
  {
   "cell_type": "markdown",
   "metadata": {},
   "source": [
    "# Подготавливаем данные"
   ]
  },
  {
   "cell_type": "code",
   "execution_count": 41,
   "metadata": {},
   "outputs": [
    {
     "data": {
      "text/html": [
       "<div>\n",
       "<style scoped>\n",
       "    .dataframe tbody tr th:only-of-type {\n",
       "        vertical-align: middle;\n",
       "    }\n",
       "\n",
       "    .dataframe tbody tr th {\n",
       "        vertical-align: top;\n",
       "    }\n",
       "\n",
       "    .dataframe thead th {\n",
       "        text-align: right;\n",
       "    }\n",
       "</style>\n",
       "<table border=\"1\" class=\"dataframe\">\n",
       "  <thead>\n",
       "    <tr style=\"text-align: right;\">\n",
       "      <th></th>\n",
       "      <th>name</th>\n",
       "      <th>platform</th>\n",
       "      <th>year_of_release</th>\n",
       "      <th>genre</th>\n",
       "      <th>na_sales</th>\n",
       "      <th>eu_sales</th>\n",
       "      <th>jp_sales</th>\n",
       "      <th>other_sales</th>\n",
       "      <th>critic_score</th>\n",
       "      <th>user_score</th>\n",
       "      <th>rating</th>\n",
       "    </tr>\n",
       "  </thead>\n",
       "  <tbody>\n",
       "    <tr>\n",
       "      <th>0</th>\n",
       "      <td>Wii Sports</td>\n",
       "      <td>Wii</td>\n",
       "      <td>2006.0</td>\n",
       "      <td>Sports</td>\n",
       "      <td>41.36</td>\n",
       "      <td>28.96</td>\n",
       "      <td>3.77</td>\n",
       "      <td>8.45</td>\n",
       "      <td>76.0</td>\n",
       "      <td>8</td>\n",
       "      <td>E</td>\n",
       "    </tr>\n",
       "    <tr>\n",
       "      <th>1</th>\n",
       "      <td>Super Mario Bros.</td>\n",
       "      <td>NES</td>\n",
       "      <td>1985.0</td>\n",
       "      <td>Platform</td>\n",
       "      <td>29.08</td>\n",
       "      <td>3.58</td>\n",
       "      <td>6.81</td>\n",
       "      <td>0.77</td>\n",
       "      <td>NaN</td>\n",
       "      <td>NaN</td>\n",
       "      <td>NaN</td>\n",
       "    </tr>\n",
       "    <tr>\n",
       "      <th>2</th>\n",
       "      <td>Mario Kart Wii</td>\n",
       "      <td>Wii</td>\n",
       "      <td>2008.0</td>\n",
       "      <td>Racing</td>\n",
       "      <td>15.68</td>\n",
       "      <td>12.76</td>\n",
       "      <td>3.79</td>\n",
       "      <td>3.29</td>\n",
       "      <td>82.0</td>\n",
       "      <td>8.3</td>\n",
       "      <td>E</td>\n",
       "    </tr>\n",
       "    <tr>\n",
       "      <th>3</th>\n",
       "      <td>Wii Sports Resort</td>\n",
       "      <td>Wii</td>\n",
       "      <td>2009.0</td>\n",
       "      <td>Sports</td>\n",
       "      <td>15.61</td>\n",
       "      <td>10.93</td>\n",
       "      <td>3.28</td>\n",
       "      <td>2.95</td>\n",
       "      <td>80.0</td>\n",
       "      <td>8</td>\n",
       "      <td>E</td>\n",
       "    </tr>\n",
       "    <tr>\n",
       "      <th>4</th>\n",
       "      <td>Pokemon Red/Pokemon Blue</td>\n",
       "      <td>GB</td>\n",
       "      <td>1996.0</td>\n",
       "      <td>Role-Playing</td>\n",
       "      <td>11.27</td>\n",
       "      <td>8.89</td>\n",
       "      <td>10.22</td>\n",
       "      <td>1.00</td>\n",
       "      <td>NaN</td>\n",
       "      <td>NaN</td>\n",
       "      <td>NaN</td>\n",
       "    </tr>\n",
       "  </tbody>\n",
       "</table>\n",
       "</div>"
      ],
      "text/plain": [
       "                       name platform  year_of_release         genre  na_sales  \\\n",
       "0                Wii Sports      Wii           2006.0        Sports     41.36   \n",
       "1         Super Mario Bros.      NES           1985.0      Platform     29.08   \n",
       "2            Mario Kart Wii      Wii           2008.0        Racing     15.68   \n",
       "3         Wii Sports Resort      Wii           2009.0        Sports     15.61   \n",
       "4  Pokemon Red/Pokemon Blue       GB           1996.0  Role-Playing     11.27   \n",
       "\n",
       "   eu_sales  jp_sales  other_sales  critic_score user_score rating  \n",
       "0     28.96      3.77         8.45          76.0          8      E  \n",
       "1      3.58      6.81         0.77           NaN        NaN    NaN  \n",
       "2     12.76      3.79         3.29          82.0        8.3      E  \n",
       "3     10.93      3.28         2.95          80.0          8      E  \n",
       "4      8.89     10.22         1.00           NaN        NaN    NaN  "
      ]
     },
     "metadata": {},
     "output_type": "display_data"
    }
   ],
   "source": [
    "games.columns = games.columns.str.lower()\n",
    "\n",
    "display(games.head())\n",
    "#все работает"
   ]
  },
  {
   "cell_type": "markdown",
   "metadata": {},
   "source": [
    "### пропуски"
   ]
  },
  {
   "cell_type": "code",
   "execution_count": 42,
   "metadata": {},
   "outputs": [],
   "source": [
    "games = games.dropna(subset=['name','genre'])\n",
    "#удалили 2 строки с пропущенными значениями\n",
    "\n",
    "#вынес в отдельную ячейку, чтобы не вылетала ошибка при повторном запуске ячейки (так\n",
    "#как столбец будет уже удален)"
   ]
  },
  {
   "cell_type": "code",
   "execution_count": 43,
   "metadata": {},
   "outputs": [
    {
     "data": {
      "text/plain": [
       "0      6699\n",
       "tbd    2424\n",
       "7.8     324\n",
       "8       290\n",
       "8.2     282\n",
       "       ... \n",
       "0.2       2\n",
       "0.6       2\n",
       "1.9       2\n",
       "0         1\n",
       "9.7       1\n",
       "Name: user_score, Length: 97, dtype: int64"
      ]
     },
     "metadata": {},
     "output_type": "display_data"
    },
    {
     "data": {
      "text/plain": [
       "0.0     8576\n",
       "70.0     256\n",
       "71.0     254\n",
       "75.0     245\n",
       "78.0     240\n",
       "        ... \n",
       "20.0       3\n",
       "13.0       1\n",
       "17.0       1\n",
       "22.0       1\n",
       "21.0       1\n",
       "Name: critic_score, Length: 83, dtype: int64"
      ]
     },
     "metadata": {},
     "output_type": "display_data"
    },
    {
     "data": {
      "text/plain": [
       "0      6699\n",
       "tbd    2424\n",
       "7.8     324\n",
       "8       290\n",
       "8.2     282\n",
       "       ... \n",
       "0.2       2\n",
       "0.6       2\n",
       "1.9       2\n",
       "0         1\n",
       "9.7       1\n",
       "Name: user_score, Length: 97, dtype: int64"
      ]
     },
     "metadata": {},
     "output_type": "display_data"
    },
    {
     "name": "stdout",
     "output_type": "stream",
     "text": [
      "0\n"
     ]
    }
   ],
   "source": [
    "games['year_of_release'] = games['year_of_release'].fillna(0)\n",
    "games['critic_score'] = games['critic_score'].fillna(0)\n",
    "games['user_score'] = games['user_score'].fillna(0)\n",
    "\n",
    "display(games['user_score'].value_counts())\n",
    "display(games['critic_score'].value_counts())\n",
    "display(games['user_score'].value_counts())\n",
    "\n",
    "print(len(games[games.duplicated()]))\n"
   ]
  },
  {
   "cell_type": "markdown",
   "metadata": {},
   "source": [
    "Обнаружена часто встречающаяся строка \"tbd\" - скорее всего, сокращение от \"To Be Defined\"\n",
    "\n",
    "Заменим ее на ноль, а после, если потребуется - придумаем, что с ней делать. \n",
    "\n",
    "Дубликаты не обнаружены"
   ]
  },
  {
   "cell_type": "code",
   "execution_count": 44,
   "metadata": {},
   "outputs": [
    {
     "data": {
      "text/plain": [
       "0      9123\n",
       "7.8     324\n",
       "8       290\n",
       "8.2     282\n",
       "8.3     254\n",
       "       ... \n",
       "0.6       2\n",
       "9.6       2\n",
       "1.3       2\n",
       "9.7       1\n",
       "0         1\n",
       "Name: user_score, Length: 96, dtype: int64"
      ]
     },
     "metadata": {},
     "output_type": "display_data"
    }
   ],
   "source": [
    "games[games['user_score']=='tbd'] = games[games['user_score']=='tbd'].replace('tbd',0)\n",
    "display(games['user_score'].value_counts())\n",
    "#проверили, все работает"
   ]
  },
  {
   "cell_type": "code",
   "execution_count": 45,
   "metadata": {},
   "outputs": [
    {
     "name": "stdout",
     "output_type": "stream",
     "text": [
      "<class 'pandas.core.frame.DataFrame'>\n",
      "Int64Index: 16713 entries, 0 to 16714\n",
      "Data columns (total 11 columns):\n",
      " #   Column           Non-Null Count  Dtype  \n",
      "---  ------           --------------  -----  \n",
      " 0   name             16713 non-null  object \n",
      " 1   platform         16713 non-null  object \n",
      " 2   year_of_release  16713 non-null  float64\n",
      " 3   genre            16713 non-null  object \n",
      " 4   na_sales         16713 non-null  float64\n",
      " 5   eu_sales         16713 non-null  float64\n",
      " 6   jp_sales         16713 non-null  float64\n",
      " 7   other_sales      16713 non-null  float64\n",
      " 8   critic_score     16713 non-null  float64\n",
      " 9   user_score       16713 non-null  object \n",
      " 10  rating           16713 non-null  object \n",
      "dtypes: float64(6), object(5)\n",
      "memory usage: 1.5+ MB\n"
     ]
    }
   ],
   "source": [
    "games[\"rating\"] = games['rating'].fillna(0)\n",
    "games.info()"
   ]
  },
  {
   "cell_type": "markdown",
   "metadata": {},
   "source": [
    "Убрали пропуски"
   ]
  },
  {
   "cell_type": "markdown",
   "metadata": {},
   "source": [
    "### Изменяем типы данных"
   ]
  },
  {
   "cell_type": "code",
   "execution_count": 46,
   "metadata": {},
   "outputs": [
    {
     "name": "stdout",
     "output_type": "stream",
     "text": [
      "<class 'pandas.core.frame.DataFrame'>\n",
      "Int64Index: 16713 entries, 0 to 16714\n",
      "Data columns (total 11 columns):\n",
      " #   Column           Non-Null Count  Dtype  \n",
      "---  ------           --------------  -----  \n",
      " 0   name             16713 non-null  object \n",
      " 1   platform         16713 non-null  object \n",
      " 2   year_of_release  16713 non-null  int64  \n",
      " 3   genre            16713 non-null  object \n",
      " 4   na_sales         16713 non-null  float64\n",
      " 5   eu_sales         16713 non-null  float64\n",
      " 6   jp_sales         16713 non-null  float64\n",
      " 7   other_sales      16713 non-null  float64\n",
      " 8   critic_score     16713 non-null  float64\n",
      " 9   user_score       16713 non-null  float64\n",
      " 10  rating           16713 non-null  object \n",
      "dtypes: float64(6), int64(1), object(4)\n",
      "memory usage: 1.5+ MB\n"
     ]
    }
   ],
   "source": [
    "games['year_of_release'] = games['year_of_release'].astype('int')  #года не бывают дробными, а формат \"datetime\"\n",
    "#нам при таком задании не нужен\n",
    "\n",
    "\n",
    "games['user_score'] = games['user_score'].astype('float') #а вот оценки бывают\n",
    "games.info()"
   ]
  },
  {
   "cell_type": "markdown",
   "metadata": {},
   "source": [
    "### Суммарные продажи во всех регионахэ"
   ]
  },
  {
   "cell_type": "code",
   "execution_count": 47,
   "metadata": {},
   "outputs": [
    {
     "data": {
      "text/html": [
       "<div>\n",
       "<style scoped>\n",
       "    .dataframe tbody tr th:only-of-type {\n",
       "        vertical-align: middle;\n",
       "    }\n",
       "\n",
       "    .dataframe tbody tr th {\n",
       "        vertical-align: top;\n",
       "    }\n",
       "\n",
       "    .dataframe thead th {\n",
       "        text-align: right;\n",
       "    }\n",
       "</style>\n",
       "<table border=\"1\" class=\"dataframe\">\n",
       "  <thead>\n",
       "    <tr style=\"text-align: right;\">\n",
       "      <th></th>\n",
       "      <th>name</th>\n",
       "      <th>platform</th>\n",
       "      <th>year_of_release</th>\n",
       "      <th>genre</th>\n",
       "      <th>na_sales</th>\n",
       "      <th>eu_sales</th>\n",
       "      <th>jp_sales</th>\n",
       "      <th>other_sales</th>\n",
       "      <th>critic_score</th>\n",
       "      <th>user_score</th>\n",
       "      <th>rating</th>\n",
       "      <th>total_sales</th>\n",
       "    </tr>\n",
       "  </thead>\n",
       "  <tbody>\n",
       "    <tr>\n",
       "      <th>0</th>\n",
       "      <td>Wii Sports</td>\n",
       "      <td>Wii</td>\n",
       "      <td>2006</td>\n",
       "      <td>Sports</td>\n",
       "      <td>41.36</td>\n",
       "      <td>28.96</td>\n",
       "      <td>3.77</td>\n",
       "      <td>8.45</td>\n",
       "      <td>76.0</td>\n",
       "      <td>8.0</td>\n",
       "      <td>E</td>\n",
       "      <td>82.54</td>\n",
       "    </tr>\n",
       "    <tr>\n",
       "      <th>1</th>\n",
       "      <td>Super Mario Bros.</td>\n",
       "      <td>NES</td>\n",
       "      <td>1985</td>\n",
       "      <td>Platform</td>\n",
       "      <td>29.08</td>\n",
       "      <td>3.58</td>\n",
       "      <td>6.81</td>\n",
       "      <td>0.77</td>\n",
       "      <td>0.0</td>\n",
       "      <td>0.0</td>\n",
       "      <td>0</td>\n",
       "      <td>40.24</td>\n",
       "    </tr>\n",
       "    <tr>\n",
       "      <th>2</th>\n",
       "      <td>Mario Kart Wii</td>\n",
       "      <td>Wii</td>\n",
       "      <td>2008</td>\n",
       "      <td>Racing</td>\n",
       "      <td>15.68</td>\n",
       "      <td>12.76</td>\n",
       "      <td>3.79</td>\n",
       "      <td>3.29</td>\n",
       "      <td>82.0</td>\n",
       "      <td>8.3</td>\n",
       "      <td>E</td>\n",
       "      <td>35.52</td>\n",
       "    </tr>\n",
       "    <tr>\n",
       "      <th>3</th>\n",
       "      <td>Wii Sports Resort</td>\n",
       "      <td>Wii</td>\n",
       "      <td>2009</td>\n",
       "      <td>Sports</td>\n",
       "      <td>15.61</td>\n",
       "      <td>10.93</td>\n",
       "      <td>3.28</td>\n",
       "      <td>2.95</td>\n",
       "      <td>80.0</td>\n",
       "      <td>8.0</td>\n",
       "      <td>E</td>\n",
       "      <td>32.77</td>\n",
       "    </tr>\n",
       "    <tr>\n",
       "      <th>4</th>\n",
       "      <td>Pokemon Red/Pokemon Blue</td>\n",
       "      <td>GB</td>\n",
       "      <td>1996</td>\n",
       "      <td>Role-Playing</td>\n",
       "      <td>11.27</td>\n",
       "      <td>8.89</td>\n",
       "      <td>10.22</td>\n",
       "      <td>1.00</td>\n",
       "      <td>0.0</td>\n",
       "      <td>0.0</td>\n",
       "      <td>0</td>\n",
       "      <td>31.38</td>\n",
       "    </tr>\n",
       "  </tbody>\n",
       "</table>\n",
       "</div>"
      ],
      "text/plain": [
       "                       name platform  year_of_release         genre  na_sales  \\\n",
       "0                Wii Sports      Wii             2006        Sports     41.36   \n",
       "1         Super Mario Bros.      NES             1985      Platform     29.08   \n",
       "2            Mario Kart Wii      Wii             2008        Racing     15.68   \n",
       "3         Wii Sports Resort      Wii             2009        Sports     15.61   \n",
       "4  Pokemon Red/Pokemon Blue       GB             1996  Role-Playing     11.27   \n",
       "\n",
       "   eu_sales  jp_sales  other_sales  critic_score  user_score rating  \\\n",
       "0     28.96      3.77         8.45          76.0         8.0      E   \n",
       "1      3.58      6.81         0.77           0.0         0.0      0   \n",
       "2     12.76      3.79         3.29          82.0         8.3      E   \n",
       "3     10.93      3.28         2.95          80.0         8.0      E   \n",
       "4      8.89     10.22         1.00           0.0         0.0      0   \n",
       "\n",
       "   total_sales  \n",
       "0        82.54  \n",
       "1        40.24  \n",
       "2        35.52  \n",
       "3        32.77  \n",
       "4        31.38  "
      ]
     },
     "execution_count": 47,
     "metadata": {},
     "output_type": "execute_result"
    }
   ],
   "source": [
    "games['total_sales'] = games['na_sales']+games['eu_sales']+games['jp_sales']+games['other_sales']\n",
    "games.head()"
   ]
  },
  {
   "cell_type": "markdown",
   "metadata": {},
   "source": [
    "# Исследовательский анализ данных\n",
    "\n",
    "###  Сколько игр выпускалось в разные годы"
   ]
  },
  {
   "cell_type": "code",
   "execution_count": 48,
   "metadata": {},
   "outputs": [
    {
     "data": {
      "text/html": [
       "<div>\n",
       "<style scoped>\n",
       "    .dataframe tbody tr th:only-of-type {\n",
       "        vertical-align: middle;\n",
       "    }\n",
       "\n",
       "    .dataframe tbody tr th {\n",
       "        vertical-align: top;\n",
       "    }\n",
       "\n",
       "    .dataframe thead th {\n",
       "        text-align: right;\n",
       "    }\n",
       "</style>\n",
       "<table border=\"1\" class=\"dataframe\">\n",
       "  <thead>\n",
       "    <tr style=\"text-align: right;\">\n",
       "      <th></th>\n",
       "      <th>name</th>\n",
       "    </tr>\n",
       "    <tr>\n",
       "      <th>year_of_release</th>\n",
       "      <th></th>\n",
       "    </tr>\n",
       "  </thead>\n",
       "  <tbody>\n",
       "    <tr>\n",
       "      <th>0</th>\n",
       "      <td>269</td>\n",
       "    </tr>\n",
       "    <tr>\n",
       "      <th>1980</th>\n",
       "      <td>9</td>\n",
       "    </tr>\n",
       "    <tr>\n",
       "      <th>1981</th>\n",
       "      <td>46</td>\n",
       "    </tr>\n",
       "    <tr>\n",
       "      <th>1982</th>\n",
       "      <td>36</td>\n",
       "    </tr>\n",
       "    <tr>\n",
       "      <th>1983</th>\n",
       "      <td>17</td>\n",
       "    </tr>\n",
       "    <tr>\n",
       "      <th>1984</th>\n",
       "      <td>14</td>\n",
       "    </tr>\n",
       "    <tr>\n",
       "      <th>1985</th>\n",
       "      <td>14</td>\n",
       "    </tr>\n",
       "    <tr>\n",
       "      <th>1986</th>\n",
       "      <td>21</td>\n",
       "    </tr>\n",
       "    <tr>\n",
       "      <th>1987</th>\n",
       "      <td>16</td>\n",
       "    </tr>\n",
       "    <tr>\n",
       "      <th>1988</th>\n",
       "      <td>15</td>\n",
       "    </tr>\n",
       "    <tr>\n",
       "      <th>1989</th>\n",
       "      <td>17</td>\n",
       "    </tr>\n",
       "    <tr>\n",
       "      <th>1990</th>\n",
       "      <td>16</td>\n",
       "    </tr>\n",
       "    <tr>\n",
       "      <th>1991</th>\n",
       "      <td>41</td>\n",
       "    </tr>\n",
       "    <tr>\n",
       "      <th>1992</th>\n",
       "      <td>43</td>\n",
       "    </tr>\n",
       "    <tr>\n",
       "      <th>1993</th>\n",
       "      <td>60</td>\n",
       "    </tr>\n",
       "    <tr>\n",
       "      <th>1994</th>\n",
       "      <td>121</td>\n",
       "    </tr>\n",
       "    <tr>\n",
       "      <th>1995</th>\n",
       "      <td>219</td>\n",
       "    </tr>\n",
       "    <tr>\n",
       "      <th>1996</th>\n",
       "      <td>263</td>\n",
       "    </tr>\n",
       "    <tr>\n",
       "      <th>1997</th>\n",
       "      <td>289</td>\n",
       "    </tr>\n",
       "    <tr>\n",
       "      <th>1998</th>\n",
       "      <td>379</td>\n",
       "    </tr>\n",
       "    <tr>\n",
       "      <th>1999</th>\n",
       "      <td>338</td>\n",
       "    </tr>\n",
       "    <tr>\n",
       "      <th>2000</th>\n",
       "      <td>350</td>\n",
       "    </tr>\n",
       "    <tr>\n",
       "      <th>2001</th>\n",
       "      <td>482</td>\n",
       "    </tr>\n",
       "    <tr>\n",
       "      <th>2002</th>\n",
       "      <td>829</td>\n",
       "    </tr>\n",
       "    <tr>\n",
       "      <th>2003</th>\n",
       "      <td>775</td>\n",
       "    </tr>\n",
       "    <tr>\n",
       "      <th>2004</th>\n",
       "      <td>762</td>\n",
       "    </tr>\n",
       "    <tr>\n",
       "      <th>2005</th>\n",
       "      <td>939</td>\n",
       "    </tr>\n",
       "    <tr>\n",
       "      <th>2006</th>\n",
       "      <td>1006</td>\n",
       "    </tr>\n",
       "    <tr>\n",
       "      <th>2007</th>\n",
       "      <td>1197</td>\n",
       "    </tr>\n",
       "    <tr>\n",
       "      <th>2008</th>\n",
       "      <td>1427</td>\n",
       "    </tr>\n",
       "    <tr>\n",
       "      <th>2009</th>\n",
       "      <td>1426</td>\n",
       "    </tr>\n",
       "    <tr>\n",
       "      <th>2010</th>\n",
       "      <td>1255</td>\n",
       "    </tr>\n",
       "    <tr>\n",
       "      <th>2011</th>\n",
       "      <td>1136</td>\n",
       "    </tr>\n",
       "    <tr>\n",
       "      <th>2012</th>\n",
       "      <td>653</td>\n",
       "    </tr>\n",
       "    <tr>\n",
       "      <th>2013</th>\n",
       "      <td>544</td>\n",
       "    </tr>\n",
       "    <tr>\n",
       "      <th>2014</th>\n",
       "      <td>581</td>\n",
       "    </tr>\n",
       "    <tr>\n",
       "      <th>2015</th>\n",
       "      <td>606</td>\n",
       "    </tr>\n",
       "    <tr>\n",
       "      <th>2016</th>\n",
       "      <td>502</td>\n",
       "    </tr>\n",
       "  </tbody>\n",
       "</table>\n",
       "</div>"
      ],
      "text/plain": [
       "                 name\n",
       "year_of_release      \n",
       "0                 269\n",
       "1980                9\n",
       "1981               46\n",
       "1982               36\n",
       "1983               17\n",
       "1984               14\n",
       "1985               14\n",
       "1986               21\n",
       "1987               16\n",
       "1988               15\n",
       "1989               17\n",
       "1990               16\n",
       "1991               41\n",
       "1992               43\n",
       "1993               60\n",
       "1994              121\n",
       "1995              219\n",
       "1996              263\n",
       "1997              289\n",
       "1998              379\n",
       "1999              338\n",
       "2000              350\n",
       "2001              482\n",
       "2002              829\n",
       "2003              775\n",
       "2004              762\n",
       "2005              939\n",
       "2006             1006\n",
       "2007             1197\n",
       "2008             1427\n",
       "2009             1426\n",
       "2010             1255\n",
       "2011             1136\n",
       "2012              653\n",
       "2013              544\n",
       "2014              581\n",
       "2015              606\n",
       "2016              502"
      ]
     },
     "metadata": {},
     "output_type": "display_data"
    }
   ],
   "source": [
    "games_perr_year = games.pivot_table(index='year_of_release', values='name', aggfunc='count')\n",
    "display(games_perr_year)\n"
   ]
  },
  {
   "cell_type": "markdown",
   "metadata": {},
   "source": [
    "Нулевых значений всего 269, это менее 1% от общего количества строчек. Предлагаю их удалить. "
   ]
  },
  {
   "cell_type": "code",
   "execution_count": 74,
   "metadata": {},
   "outputs": [],
   "source": [
    "games.loc[games['year_of_release']==0,:] = np.NaN\n",
    "\n",
    "games = games.dropna(subset=['year_of_release'])"
   ]
  },
  {
   "cell_type": "code",
   "execution_count": 50,
   "metadata": {},
   "outputs": [
    {
     "data": {
      "text/html": [
       "<div>\n",
       "<style scoped>\n",
       "    .dataframe tbody tr th:only-of-type {\n",
       "        vertical-align: middle;\n",
       "    }\n",
       "\n",
       "    .dataframe tbody tr th {\n",
       "        vertical-align: top;\n",
       "    }\n",
       "\n",
       "    .dataframe thead th {\n",
       "        text-align: right;\n",
       "    }\n",
       "</style>\n",
       "<table border=\"1\" class=\"dataframe\">\n",
       "  <thead>\n",
       "    <tr style=\"text-align: right;\">\n",
       "      <th></th>\n",
       "      <th>year_of_release</th>\n",
       "      <th>game_count</th>\n",
       "    </tr>\n",
       "  </thead>\n",
       "  <tbody>\n",
       "    <tr>\n",
       "      <th>0</th>\n",
       "      <td>1980</td>\n",
       "      <td>9</td>\n",
       "    </tr>\n",
       "    <tr>\n",
       "      <th>1</th>\n",
       "      <td>1981</td>\n",
       "      <td>46</td>\n",
       "    </tr>\n",
       "    <tr>\n",
       "      <th>2</th>\n",
       "      <td>1982</td>\n",
       "      <td>36</td>\n",
       "    </tr>\n",
       "    <tr>\n",
       "      <th>3</th>\n",
       "      <td>1983</td>\n",
       "      <td>17</td>\n",
       "    </tr>\n",
       "    <tr>\n",
       "      <th>4</th>\n",
       "      <td>1984</td>\n",
       "      <td>14</td>\n",
       "    </tr>\n",
       "    <tr>\n",
       "      <th>5</th>\n",
       "      <td>1985</td>\n",
       "      <td>14</td>\n",
       "    </tr>\n",
       "    <tr>\n",
       "      <th>6</th>\n",
       "      <td>1986</td>\n",
       "      <td>21</td>\n",
       "    </tr>\n",
       "    <tr>\n",
       "      <th>7</th>\n",
       "      <td>1987</td>\n",
       "      <td>16</td>\n",
       "    </tr>\n",
       "    <tr>\n",
       "      <th>8</th>\n",
       "      <td>1988</td>\n",
       "      <td>15</td>\n",
       "    </tr>\n",
       "    <tr>\n",
       "      <th>9</th>\n",
       "      <td>1989</td>\n",
       "      <td>17</td>\n",
       "    </tr>\n",
       "    <tr>\n",
       "      <th>10</th>\n",
       "      <td>1990</td>\n",
       "      <td>16</td>\n",
       "    </tr>\n",
       "    <tr>\n",
       "      <th>11</th>\n",
       "      <td>1991</td>\n",
       "      <td>41</td>\n",
       "    </tr>\n",
       "    <tr>\n",
       "      <th>12</th>\n",
       "      <td>1992</td>\n",
       "      <td>43</td>\n",
       "    </tr>\n",
       "    <tr>\n",
       "      <th>13</th>\n",
       "      <td>1993</td>\n",
       "      <td>60</td>\n",
       "    </tr>\n",
       "    <tr>\n",
       "      <th>14</th>\n",
       "      <td>1994</td>\n",
       "      <td>121</td>\n",
       "    </tr>\n",
       "    <tr>\n",
       "      <th>15</th>\n",
       "      <td>1995</td>\n",
       "      <td>219</td>\n",
       "    </tr>\n",
       "    <tr>\n",
       "      <th>16</th>\n",
       "      <td>1996</td>\n",
       "      <td>263</td>\n",
       "    </tr>\n",
       "    <tr>\n",
       "      <th>17</th>\n",
       "      <td>1997</td>\n",
       "      <td>289</td>\n",
       "    </tr>\n",
       "    <tr>\n",
       "      <th>18</th>\n",
       "      <td>1998</td>\n",
       "      <td>379</td>\n",
       "    </tr>\n",
       "    <tr>\n",
       "      <th>19</th>\n",
       "      <td>1999</td>\n",
       "      <td>338</td>\n",
       "    </tr>\n",
       "    <tr>\n",
       "      <th>20</th>\n",
       "      <td>2000</td>\n",
       "      <td>350</td>\n",
       "    </tr>\n",
       "    <tr>\n",
       "      <th>21</th>\n",
       "      <td>2001</td>\n",
       "      <td>482</td>\n",
       "    </tr>\n",
       "    <tr>\n",
       "      <th>22</th>\n",
       "      <td>2002</td>\n",
       "      <td>829</td>\n",
       "    </tr>\n",
       "    <tr>\n",
       "      <th>23</th>\n",
       "      <td>2003</td>\n",
       "      <td>775</td>\n",
       "    </tr>\n",
       "    <tr>\n",
       "      <th>24</th>\n",
       "      <td>2004</td>\n",
       "      <td>762</td>\n",
       "    </tr>\n",
       "    <tr>\n",
       "      <th>25</th>\n",
       "      <td>2005</td>\n",
       "      <td>939</td>\n",
       "    </tr>\n",
       "    <tr>\n",
       "      <th>26</th>\n",
       "      <td>2006</td>\n",
       "      <td>1006</td>\n",
       "    </tr>\n",
       "    <tr>\n",
       "      <th>27</th>\n",
       "      <td>2007</td>\n",
       "      <td>1197</td>\n",
       "    </tr>\n",
       "    <tr>\n",
       "      <th>28</th>\n",
       "      <td>2008</td>\n",
       "      <td>1427</td>\n",
       "    </tr>\n",
       "    <tr>\n",
       "      <th>29</th>\n",
       "      <td>2009</td>\n",
       "      <td>1426</td>\n",
       "    </tr>\n",
       "    <tr>\n",
       "      <th>30</th>\n",
       "      <td>2010</td>\n",
       "      <td>1255</td>\n",
       "    </tr>\n",
       "    <tr>\n",
       "      <th>31</th>\n",
       "      <td>2011</td>\n",
       "      <td>1136</td>\n",
       "    </tr>\n",
       "    <tr>\n",
       "      <th>32</th>\n",
       "      <td>2012</td>\n",
       "      <td>653</td>\n",
       "    </tr>\n",
       "    <tr>\n",
       "      <th>33</th>\n",
       "      <td>2013</td>\n",
       "      <td>544</td>\n",
       "    </tr>\n",
       "    <tr>\n",
       "      <th>34</th>\n",
       "      <td>2014</td>\n",
       "      <td>581</td>\n",
       "    </tr>\n",
       "    <tr>\n",
       "      <th>35</th>\n",
       "      <td>2015</td>\n",
       "      <td>606</td>\n",
       "    </tr>\n",
       "    <tr>\n",
       "      <th>36</th>\n",
       "      <td>2016</td>\n",
       "      <td>502</td>\n",
       "    </tr>\n",
       "  </tbody>\n",
       "</table>\n",
       "</div>"
      ],
      "text/plain": [
       "    year_of_release  game_count\n",
       "0              1980           9\n",
       "1              1981          46\n",
       "2              1982          36\n",
       "3              1983          17\n",
       "4              1984          14\n",
       "5              1985          14\n",
       "6              1986          21\n",
       "7              1987          16\n",
       "8              1988          15\n",
       "9              1989          17\n",
       "10             1990          16\n",
       "11             1991          41\n",
       "12             1992          43\n",
       "13             1993          60\n",
       "14             1994         121\n",
       "15             1995         219\n",
       "16             1996         263\n",
       "17             1997         289\n",
       "18             1998         379\n",
       "19             1999         338\n",
       "20             2000         350\n",
       "21             2001         482\n",
       "22             2002         829\n",
       "23             2003         775\n",
       "24             2004         762\n",
       "25             2005         939\n",
       "26             2006        1006\n",
       "27             2007        1197\n",
       "28             2008        1427\n",
       "29             2009        1426\n",
       "30             2010        1255\n",
       "31             2011        1136\n",
       "32             2012         653\n",
       "33             2013         544\n",
       "34             2014         581\n",
       "35             2015         606\n",
       "36             2016         502"
      ]
     },
     "metadata": {},
     "output_type": "display_data"
    }
   ],
   "source": [
    "games['year_of_release'] = games['year_of_release'].astype('int')\n",
    "#пришлось опять поменять тип данных, так как операция .dropna() привела к форматированию столбца во 'float'\n",
    "\n",
    "games_perr_year = games.pivot_table(index='year_of_release', values='name', aggfunc='count').reset_index()\n",
    "\n",
    "\n",
    "games_perr_year = games_perr_year.set_axis(['year_of_release', 'game_count'], axis='columns',inplace=False)\n",
    "\n",
    "\n",
    "display(games_perr_year)"
   ]
  },
  {
   "cell_type": "code",
   "execution_count": 51,
   "metadata": {},
   "outputs": [
    {
     "data": {
      "image/png": "[encoded data removed]",
      "text/plain": [
       "<Figure size 432x288 with 1 Axes>"
      ]
     },
     "metadata": {},
     "output_type": "display_data"
    }
   ],
   "source": [
    "plt.plot(games_perr_year['year_of_release'], games_perr_year['game_count'])\n",
    "\n",
    "plt.xlabel('года')\n",
    "plt.ylabel('количество игр')\n",
    "plt.title('продажи игр')\n",
    "plt.show()"
   ]
  },
  {
   "cell_type": "markdown",
   "metadata": {},
   "source": [
    "Исходя из данных, видно, что в целом продажи игр увеличиваются. \n",
    "С 1980 года рост, взрывной рост с 2000 года.    \n",
    "Был пик в 2008, затем падение по приведенным данным, но по данным (из интернета) сейчас идет рост.\n",
    "Предлагаю взять данные, начиная с 2000 года. "
   ]
  },
  {
   "cell_type": "markdown",
   "metadata": {},
   "source": [
    "### Как менялись продажи по платформам. Выберем платформы с наибольшими суммарными продажами и построим распределение по годам. За какой характерный срок появляются новые и исчезают старые платформы?"
   ]
  },
  {
   "cell_type": "code",
   "execution_count": 52,
   "metadata": {
    "scrolled": true
   },
   "outputs": [
    {
     "data": {
      "text/plain": [
       "platform\n",
       "PS2     1233.56\n",
       "X360     961.24\n",
       "PS3      931.34\n",
       "Wii      891.18\n",
       "DS       802.78\n",
       "PS       727.58\n",
       "PS4      314.14\n",
       "GBA      312.88\n",
       "PSP      289.53\n",
       "3DS      257.81\n",
       "PC       255.76\n",
       "GB       254.43\n",
       "XB       251.57\n",
       "NES      251.05\n",
       "N64      218.01\n",
       "Name: total_sales, dtype: float64"
      ]
     },
     "metadata": {},
     "output_type": "display_data"
    }
   ],
   "source": [
    "platforms = games.groupby('platform')['total_sales'].sum().sort_values(ascending=False)\n",
    "display(platforms.head(15))"
   ]
  },
  {
   "cell_type": "markdown",
   "metadata": {},
   "source": [
    "Возьмем данные по первым 6-ти платформам по прибыли. "
   ]
  },
  {
   "cell_type": "code",
   "execution_count": 53,
   "metadata": {},
   "outputs": [
    {
     "data": {
      "text/html": [
       "<div>\n",
       "<style scoped>\n",
       "    .dataframe tbody tr th:only-of-type {\n",
       "        vertical-align: middle;\n",
       "    }\n",
       "\n",
       "    .dataframe tbody tr th {\n",
       "        vertical-align: top;\n",
       "    }\n",
       "\n",
       "    .dataframe thead th {\n",
       "        text-align: right;\n",
       "    }\n",
       "</style>\n",
       "<table border=\"1\" class=\"dataframe\">\n",
       "  <thead>\n",
       "    <tr style=\"text-align: right;\">\n",
       "      <th></th>\n",
       "      <th>name</th>\n",
       "      <th>platform</th>\n",
       "      <th>year_of_release</th>\n",
       "      <th>genre</th>\n",
       "      <th>na_sales</th>\n",
       "      <th>eu_sales</th>\n",
       "      <th>jp_sales</th>\n",
       "      <th>other_sales</th>\n",
       "      <th>critic_score</th>\n",
       "      <th>user_score</th>\n",
       "      <th>rating</th>\n",
       "      <th>total_sales</th>\n",
       "    </tr>\n",
       "  </thead>\n",
       "  <tbody>\n",
       "    <tr>\n",
       "      <th>17</th>\n",
       "      <td>Grand Theft Auto: San Andreas</td>\n",
       "      <td>PS2</td>\n",
       "      <td>2004</td>\n",
       "      <td>Action</td>\n",
       "      <td>9.43</td>\n",
       "      <td>0.40</td>\n",
       "      <td>0.41</td>\n",
       "      <td>10.57</td>\n",
       "      <td>95.0</td>\n",
       "      <td>9.0</td>\n",
       "      <td>M</td>\n",
       "      <td>20.81</td>\n",
       "    </tr>\n",
       "    <tr>\n",
       "      <th>24</th>\n",
       "      <td>Grand Theft Auto: Vice City</td>\n",
       "      <td>PS2</td>\n",
       "      <td>2002</td>\n",
       "      <td>Action</td>\n",
       "      <td>8.41</td>\n",
       "      <td>5.49</td>\n",
       "      <td>0.47</td>\n",
       "      <td>1.78</td>\n",
       "      <td>95.0</td>\n",
       "      <td>8.7</td>\n",
       "      <td>M</td>\n",
       "      <td>16.15</td>\n",
       "    </tr>\n",
       "    <tr>\n",
       "      <th>28</th>\n",
       "      <td>Gran Turismo 3: A-Spec</td>\n",
       "      <td>PS2</td>\n",
       "      <td>2001</td>\n",
       "      <td>Racing</td>\n",
       "      <td>6.85</td>\n",
       "      <td>5.09</td>\n",
       "      <td>1.87</td>\n",
       "      <td>1.16</td>\n",
       "      <td>95.0</td>\n",
       "      <td>8.4</td>\n",
       "      <td>E</td>\n",
       "      <td>14.97</td>\n",
       "    </tr>\n",
       "    <tr>\n",
       "      <th>38</th>\n",
       "      <td>Grand Theft Auto III</td>\n",
       "      <td>PS2</td>\n",
       "      <td>2001</td>\n",
       "      <td>Action</td>\n",
       "      <td>6.99</td>\n",
       "      <td>4.51</td>\n",
       "      <td>0.30</td>\n",
       "      <td>1.30</td>\n",
       "      <td>97.0</td>\n",
       "      <td>8.5</td>\n",
       "      <td>M</td>\n",
       "      <td>13.10</td>\n",
       "    </tr>\n",
       "    <tr>\n",
       "      <th>48</th>\n",
       "      <td>Gran Turismo 4</td>\n",
       "      <td>PS2</td>\n",
       "      <td>2004</td>\n",
       "      <td>Racing</td>\n",
       "      <td>3.01</td>\n",
       "      <td>0.01</td>\n",
       "      <td>1.10</td>\n",
       "      <td>7.53</td>\n",
       "      <td>89.0</td>\n",
       "      <td>8.5</td>\n",
       "      <td>E</td>\n",
       "      <td>11.65</td>\n",
       "    </tr>\n",
       "  </tbody>\n",
       "</table>\n",
       "</div>"
      ],
      "text/plain": [
       "                             name platform  year_of_release   genre  na_sales  \\\n",
       "17  Grand Theft Auto: San Andreas      PS2             2004  Action      9.43   \n",
       "24    Grand Theft Auto: Vice City      PS2             2002  Action      8.41   \n",
       "28         Gran Turismo 3: A-Spec      PS2             2001  Racing      6.85   \n",
       "38           Grand Theft Auto III      PS2             2001  Action      6.99   \n",
       "48                 Gran Turismo 4      PS2             2004  Racing      3.01   \n",
       "\n",
       "    eu_sales  jp_sales  other_sales  critic_score  user_score rating  \\\n",
       "17      0.40      0.41        10.57          95.0         9.0      M   \n",
       "24      5.49      0.47         1.78          95.0         8.7      M   \n",
       "28      5.09      1.87         1.16          95.0         8.4      E   \n",
       "38      4.51      0.30         1.30          97.0         8.5      M   \n",
       "48      0.01      1.10         7.53          89.0         8.5      E   \n",
       "\n",
       "    total_sales  \n",
       "17        20.81  \n",
       "24        16.15  \n",
       "28        14.97  \n",
       "38        13.10  \n",
       "48        11.65  "
      ]
     },
     "metadata": {},
     "output_type": "display_data"
    },
    {
     "data": {
      "text/plain": [
       "year_of_release\n",
       "2006    137.15\n",
       "2007    152.77\n",
       "2008    171.32\n",
       "2009    206.97\n",
       "2010    127.95\n",
       "Name: total_sales, dtype: float64"
      ]
     },
     "metadata": {},
     "output_type": "display_data"
    }
   ],
   "source": [
    "#PS2     1233.56\n",
    "#X360     961.24\n",
    "#PS3      931.34\n",
    "#Wii      891.18\n",
    "#DS       802.78\n",
    "#PS       727.58\n",
    "\n",
    "ps2=games.query('platform == \"PS2\" ')\n",
    "display(ps2.head())\n",
    "#работает\n",
    "\n",
    "ps2=games.query('platform == \"PS2\" ').groupby('year_of_release')['total_sales'].sum()\n",
    "ps3=games.query('platform == \"PS3\" ').groupby('year_of_release')['total_sales'].sum()\n",
    "X360=games.query('platform == \"X360\" ').groupby('year_of_release')['total_sales'].sum()\n",
    "Wii=games.query('platform == \"Wii\" ').groupby('year_of_release')['total_sales'].sum()\n",
    "DS=games.query('platform == \"DS\" ').groupby('year_of_release')['total_sales'].sum()\n",
    "PS=games.query('platform == \"PS\" ').groupby('year_of_release')['total_sales'].sum()\n",
    "\n",
    "#ps2=ps2.groupby('year_of_release')['total_sales'].sum()\n",
    "display(Wii.head())\n",
    "\n",
    "\n",
    "\n",
    "\n",
    "\n",
    "\n",
    "\n",
    "\n"
   ]
  },
  {
   "cell_type": "code",
   "execution_count": 55,
   "metadata": {},
   "outputs": [
    {
     "data": {
      "application/vnd.plotly.v1+json": {
       "config": {
        "plotlyServerURL": "https://plot.ly"
       },
       "data": [
        {
         "type": "scatter",
         "x": [
          2006,
          2007,
          2008,
          2009,
          2010,
          2011,
          2012,
          2013,
          2014,
          2015,
          2016
         ],
         "xaxis": "x",
         "y": [
          137.14999999999992,
          152.76999999999998,
          171.31999999999996,
          206.97000000000028,
          127.95,
          59.65000000000003,
          21.710000000000008,
          8.59,
          3.75,
          1.14,
          0.18
         ],
         "yaxis": "y"
        },
        {
         "type": "scatter",
         "x": [
          1983,
          1984,
          1985,
          1986,
          1987,
          1988,
          1989,
          1990,
          1991,
          1992,
          1993,
          1994
         ],
         "xaxis": "x2",
         "y": [
          10.959999999999999,
          50.08000000000001,
          53.44,
          36.41,
          19.759999999999998,
          45.010000000000005,
          7.849999999999999,
          15.73,
          6.11,
          1.9800000000000002,
          3.61,
          0.11
         ],
         "yaxis": "y2"
        },
        {
         "type": "scatter",
         "x": [
          1988,
          1989,
          1990,
          1991,
          1992,
          1994,
          1995,
          1996,
          1997,
          1998,
          1999,
          2000,
          2001
         ],
         "xaxis": "x3",
         "y": [
          1.43,
          64.97,
          4.89,
          5.57,
          25.49,
          12.18,
          3.5999999999999996,
          36.03000000000001,
          6.370000000000001,
          26.9,
          38,
          19.759999999999998,
          9.24
         ],
         "yaxis": "y3"
        },
        {
         "type": "scatter",
         "x": [
          1985,
          2004,
          2005,
          2006,
          2007,
          2008,
          2009,
          2010,
          2011,
          2012,
          2013
         ],
         "xaxis": "x4",
         "y": [
          0.02,
          17.269999999999996,
          130.14000000000013,
          119.80999999999999,
          146.9400000000003,
          145.31000000000074,
          119.54000000000009,
          85.02,
          26.179999999999996,
          11.009999999999996,
          1.54
         ],
         "yaxis": "y4"
        },
        {
         "type": "scatter",
         "x": [
          2005,
          2006,
          2007,
          2008,
          2009,
          2010,
          2011,
          2012,
          2013,
          2014,
          2015,
          2016
         ],
         "xaxis": "x5",
         "y": [
          8.25,
          51.62,
          95.41000000000001,
          135.26000000000005,
          120.29,
          170.02999999999992,
          143.8400000000003,
          99.7400000000001,
          88.58000000000008,
          34.739999999999995,
          11.959999999999997,
          1.5200000000000002
         ],
         "yaxis": "y5"
        },
        {
         "type": "scatter",
         "x": [
          2006,
          2007,
          2008,
          2009,
          2010,
          2011,
          2012,
          2013,
          2014,
          2015,
          2016
         ],
         "xaxis": "x6",
         "y": [
          20.960000000000004,
          73.19000000000001,
          118.52000000000001,
          130.9300000000001,
          142.17000000000004,
          156.7800000000001,
          107.36000000000001,
          113.24999999999999,
          47.76000000000002,
          16.820000000000007,
          3.5999999999999988
         ],
         "yaxis": "y6"
        },
        {
         "type": "scatter",
         "x": [
          2000,
          2001,
          2002,
          2003,
          2004,
          2005,
          2006,
          2007,
          2008,
          2009,
          2010,
          2011
         ],
         "xaxis": "x7",
         "y": [
          39.170000000000016,
          166.43000000000012,
          205.37999999999997,
          184.30999999999986,
          211.80999999999992,
          160.6600000000002,
          103.41999999999989,
          75.99000000000001,
          53.90000000000004,
          26.400000000000006,
          5.639999999999996,
          0.45
         ],
         "yaxis": "y7"
        },
        {
         "type": "scatter",
         "x": [
          1990,
          1991,
          1992,
          1993,
          1994,
          1995,
          1996,
          1997,
          1998,
          1999
         ],
         "xaxis": "x8",
         "y": [
          26.15,
          16.220000000000002,
          32.98,
          40.02000000000001,
          35.08,
          32.2,
          15.919999999999996,
          0.99,
          0.22000000000000003,
          0.26
         ],
         "yaxis": "y8"
        },
        {
         "type": "scatter",
         "x": [
          2000,
          2001,
          2002,
          2003,
          2004,
          2005,
          2006,
          2007
         ],
         "xaxis": "x9",
         "y": [
          0.07,
          61.52999999999999,
          74.16000000000012,
          56.66999999999993,
          77.91000000000005,
          33.86000000000001,
          5.280000000000001,
          3.3999999999999995
         ],
         "yaxis": "y9"
        },
        {
         "type": "scatter",
         "x": [
          2013,
          2014,
          2015,
          2016
         ],
         "xaxis": "x10",
         "y": [
          25.990000000000002,
          99.99999999999996,
          118.90000000000008,
          69.25000000000001
         ],
         "yaxis": "y10"
        },
        {
         "type": "scatter",
         "x": [
          2011,
          2012,
          2013,
          2014,
          2015,
          2016
         ],
         "xaxis": "x11",
         "y": [
          63.2,
          51.36000000000002,
          56.57,
          43.76000000000003,
          27.78,
          15.13999999999999
         ],
         "yaxis": "y11"
        },
        {
         "type": "scatter",
         "x": [
          1996,
          1997,
          1998,
          1999,
          2000,
          2001,
          2002
         ],
         "xaxis": "x12",
         "y": [
          34.1,
          39.499999999999986,
          49.24000000000002,
          57.86999999999999,
          33.96999999999999,
          3.2500000000000004,
          0.08
         ],
         "yaxis": "y12"
        },
        {
         "type": "scatter",
         "x": [
          1994,
          1995,
          1996,
          1997,
          1998,
          1999,
          2000,
          2001,
          2002,
          2003
         ],
         "xaxis": "x13",
         "y": [
          6.029999999999999,
          35.96,
          94.69999999999989,
          136.16999999999996,
          169.49000000000004,
          144.53000000000046,
          96.36999999999993,
          35.59000000000001,
          6.669999999999998,
          2.0700000000000003
         ],
         "yaxis": "y13"
        },
        {
         "type": "scatter",
         "x": [
          2000,
          2001,
          2002,
          2003,
          2004,
          2005,
          2006,
          2007,
          2008
         ],
         "xaxis": "x14",
         "y": [
          0.99,
          22.259999999999994,
          48.01000000000002,
          55.040000000000006,
          65.42000000000004,
          49.08000000000003,
          10.03999999999999,
          0.55,
          0.18000000000000002
         ],
         "yaxis": "y14"
        },
        {
         "type": "scatter",
         "x": [
          1985,
          1988,
          1992,
          1994,
          1995,
          1996,
          1997,
          1998,
          1999,
          2000,
          2001,
          2002,
          2003,
          2004,
          2005,
          2006,
          2007,
          2008,
          2009,
          2010,
          2011,
          2012,
          2013,
          2014,
          2015,
          2016
         ],
         "xaxis": "x15",
         "y": [
          0.04,
          0.03,
          3.0300000000000002,
          12.870000000000001,
          4.22,
          10.58,
          11.27,
          3.26,
          4.739999999999999,
          4.659999999999998,
          5.469999999999999,
          8.569999999999997,
          8.839999999999991,
          10.389999999999995,
          4.369999999999995,
          2.849999999999998,
          9.279999999999987,
          12.41999999999998,
          16.910000000000025,
          24.28000000000002,
          35.03000000000001,
          23.21999999999999,
          12.379999999999997,
          13.279999999999994,
          8.51999999999999,
          5.249999999999997
         ],
         "yaxis": "y15"
        },
        {
         "type": "scatter",
         "x": [
          1980,
          1981,
          1982,
          1983,
          1984,
          1985,
          1986,
          1987,
          1988,
          1989
         ],
         "xaxis": "x16",
         "y": [
          11.379999999999999,
          35.68,
          28.880000000000003,
          5.840000000000001,
          0.27,
          0.44999999999999996,
          0.67,
          1.9400000000000002,
          0.74,
          0.6300000000000001
         ],
         "yaxis": "y16"
        },
        {
         "type": "scatter",
         "x": [
          2004,
          2005,
          2006,
          2007,
          2008,
          2009,
          2010,
          2011,
          2012,
          2013,
          2014,
          2015
         ],
         "xaxis": "x17",
         "y": [
          7.06,
          43.83999999999999,
          55.32000000000003,
          46.930000000000014,
          34.55000000000005,
          37.780000000000044,
          35.04000000000007,
          17.820000000000014,
          7.68999999999999,
          3.139999999999996,
          0.24000000000000005,
          0.12000000000000001
         ],
         "yaxis": "y17"
        },
        {
         "type": "scatter",
         "x": [
          2013,
          2014,
          2015,
          2016
         ],
         "xaxis": "x18",
         "y": [
          18.959999999999994,
          54.06999999999999,
          60.14000000000002,
          26.15000000000002
         ],
         "yaxis": "y18"
        },
        {
         "type": "scatter",
         "x": [
          2012,
          2013,
          2014,
          2015,
          2016
         ],
         "xaxis": "x19",
         "y": [
          17.559999999999995,
          21.65,
          22.029999999999994,
          16.35000000000001,
          4.6000000000000005
         ],
         "yaxis": "y19"
        },
        {
         "type": "scatter",
         "x": [
          2001,
          2002,
          2003,
          2004,
          2005,
          2006,
          2007
         ],
         "xaxis": "x20",
         "y": [
          26.34,
          51.809999999999995,
          50.609999999999964,
          28.81999999999999,
          27.619999999999976,
          11.26,
          0.27
         ],
         "yaxis": "y20"
        },
        {
         "type": "scatter",
         "x": [
          1990,
          1991,
          1992,
          1993,
          1994
         ],
         "xaxis": "x21",
         "y": [
          2.6,
          4.33,
          12.640000000000002,
          0.6500000000000001,
          8.129999999999997
         ],
         "yaxis": "y21"
        },
        {
         "type": "scatter",
         "x": [
          1998,
          1999,
          2000,
          2001,
          2002,
          2007,
          2008
         ],
         "xaxis": "x22",
         "y": [
          3.3800000000000003,
          5.159999999999999,
          5.989999999999998,
          1.07,
          0.29,
          0.02,
          0.04
         ],
         "yaxis": "y22"
        },
        {
         "type": "scatter",
         "x": [
          2011,
          2012,
          2013,
          2014,
          2015,
          2016
         ],
         "xaxis": "x23",
         "y": [
          4.629999999999998,
          16.190000000000005,
          10.589999999999995,
          11.899999999999988,
          6.249999999999988,
          4.249999999999992
         ],
         "yaxis": "y23"
        },
        {
         "type": "scatter",
         "x": [
          1994,
          1995,
          1996,
          1997,
          1998,
          1999
         ],
         "xaxis": "x24",
         "y": [
          3.6500000000000004,
          11.57,
          7.69,
          6.7700000000000005,
          3.819999999999999,
          0.09
         ],
         "yaxis": "y24"
        },
        {
         "type": "scatter",
         "x": [
          1993,
          1994
         ],
         "xaxis": "x25",
         "y": [
          1.5,
          0.36
         ],
         "yaxis": "y25"
        },
        {
         "type": "scatter",
         "x": [
          1999,
          2000,
          2001
         ],
         "xaxis": "x26",
         "y": [
          0.46,
          0.68,
          0.28
         ],
         "yaxis": "y26"
        },
        {
         "type": "scatter",
         "x": [
          1993,
          1994,
          1995,
          1996
         ],
         "xaxis": "x27",
         "y": [
          0.21000000000000002,
          0.7999999999999999,
          0.33000000000000007,
          0.1
         ],
         "yaxis": "y27"
        },
        {
         "type": "scatter",
         "x": [
          1995
         ],
         "xaxis": "x28",
         "y": [
          0.16
         ],
         "yaxis": "y28"
        },
        {
         "type": "scatter",
         "x": [
          1994,
          1995
         ],
         "xaxis": "x29",
         "y": [
          0.02,
          0.08
         ],
         "yaxis": "y29"
        },
        {
         "type": "scatter",
         "x": [
          1992
         ],
         "xaxis": "x30",
         "y": [
          0.04
         ],
         "yaxis": "y30"
        },
        {
         "type": "scatter",
         "x": [
          1996
         ],
         "xaxis": "x31",
         "y": [
          0.03
         ],
         "yaxis": "y31"
        }
       ],
       "layout": {
        "annotations": [
         {
          "font": {
           "size": 16
          },
          "showarrow": false,
          "text": "Wii",
          "x": 0.06944444444444445,
          "xanchor": "center",
          "xref": "paper",
          "y": 0.9999999999999999,
          "yanchor": "bottom",
          "yref": "paper"
         },
         {
          "font": {
           "size": 16
          },
          "showarrow": false,
          "text": "NES",
          "x": 0.24166666666666667,
          "xanchor": "center",
          "xref": "paper",
          "y": 0.9999999999999999,
          "yanchor": "bottom",
          "yref": "paper"
         },
         {
          "font": {
           "size": 16
          },
          "showarrow": false,
          "text": "GB",
          "x": 0.41388888888888886,
          "xanchor": "center",
          "xref": "paper",
          "y": 0.9999999999999999,
          "yanchor": "bottom",
          "yref": "paper"
         },
         {
          "font": {
           "size": 16
          },
          "showarrow": false,
          "text": "DS",
          "x": 0.5861111111111112,
          "xanchor": "center",
          "xref": "paper",
          "y": 0.9999999999999999,
          "yanchor": "bottom",
          "yref": "paper"
         },
         {
          "font": {
           "size": 16
          },
          "showarrow": false,
          "text": "X360",
          "x": 0.7583333333333333,
          "xanchor": "center",
          "xref": "paper",
          "y": 0.9999999999999999,
          "yanchor": "bottom",
          "yref": "paper"
         },
         {
          "font": {
           "size": 16
          },
          "showarrow": false,
          "text": "PS3",
          "x": 0.9305555555555556,
          "xanchor": "center",
          "xref": "paper",
          "y": 0.9999999999999999,
          "yanchor": "bottom",
          "yref": "paper"
         },
         {
          "font": {
           "size": 16
          },
          "showarrow": false,
          "text": "PS2",
          "x": 0.06944444444444445,
          "xanchor": "center",
          "xref": "paper",
          "y": 0.8194444444444444,
          "yanchor": "bottom",
          "yref": "paper"
         },
         {
          "font": {
           "size": 16
          },
          "showarrow": false,
          "text": "SNES",
          "x": 0.24166666666666667,
          "xanchor": "center",
          "xref": "paper",
          "y": 0.8194444444444444,
          "yanchor": "bottom",
          "yref": "paper"
         },
         {
          "font": {
           "size": 16
          },
          "showarrow": false,
          "text": "GBA",
          "x": 0.41388888888888886,
          "xanchor": "center",
          "xref": "paper",
          "y": 0.8194444444444444,
          "yanchor": "bottom",
          "yref": "paper"
         },
         {
          "font": {
           "size": 16
          },
          "showarrow": false,
          "text": "PS4",
          "x": 0.5861111111111112,
          "xanchor": "center",
          "xref": "paper",
          "y": 0.8194444444444444,
          "yanchor": "bottom",
          "yref": "paper"
         },
         {
          "font": {
           "size": 16
          },
          "showarrow": false,
          "text": "3DS",
          "x": 0.7583333333333333,
          "xanchor": "center",
          "xref": "paper",
          "y": 0.8194444444444444,
          "yanchor": "bottom",
          "yref": "paper"
         },
         {
          "font": {
           "size": 16
          },
          "showarrow": false,
          "text": "N64",
          "x": 0.9305555555555556,
          "xanchor": "center",
          "xref": "paper",
          "y": 0.8194444444444444,
          "yanchor": "bottom",
          "yref": "paper"
         },
         {
          "font": {
           "size": 16
          },
          "showarrow": false,
          "text": "PS",
          "x": 0.06944444444444445,
          "xanchor": "center",
          "xref": "paper",
          "y": 0.638888888888889,
          "yanchor": "bottom",
          "yref": "paper"
         },
         {
          "font": {
           "size": 16
          },
          "showarrow": false,
          "text": "XB",
          "x": 0.24166666666666667,
          "xanchor": "center",
          "xref": "paper",
          "y": 0.638888888888889,
          "yanchor": "bottom",
          "yref": "paper"
         },
         {
          "font": {
           "size": 16
          },
          "showarrow": false,
          "text": "PC",
          "x": 0.41388888888888886,
          "xanchor": "center",
          "xref": "paper",
          "y": 0.638888888888889,
          "yanchor": "bottom",
          "yref": "paper"
         },
         {
          "font": {
           "size": 16
          },
          "showarrow": false,
          "text": "2600",
          "x": 0.5861111111111112,
          "xanchor": "center",
          "xref": "paper",
          "y": 0.638888888888889,
          "yanchor": "bottom",
          "yref": "paper"
         },
         {
          "font": {
           "size": 16
          },
          "showarrow": false,
          "text": "PSP",
          "x": 0.7583333333333333,
          "xanchor": "center",
          "xref": "paper",
          "y": 0.638888888888889,
          "yanchor": "bottom",
          "yref": "paper"
         },
         {
          "font": {
           "size": 16
          },
          "showarrow": false,
          "text": "XOne",
          "x": 0.9305555555555556,
          "xanchor": "center",
          "xref": "paper",
          "y": 0.638888888888889,
          "yanchor": "bottom",
          "yref": "paper"
         },
         {
          "font": {
           "size": 16
          },
          "showarrow": false,
          "text": "WiiU",
          "x": 0.06944444444444445,
          "xanchor": "center",
          "xref": "paper",
          "y": 0.4583333333333333,
          "yanchor": "bottom",
          "yref": "paper"
         },
         {
          "font": {
           "size": 16
          },
          "showarrow": false,
          "text": "GC",
          "x": 0.24166666666666667,
          "xanchor": "center",
          "xref": "paper",
          "y": 0.4583333333333333,
          "yanchor": "bottom",
          "yref": "paper"
         },
         {
          "font": {
           "size": 16
          },
          "showarrow": false,
          "text": "GEN",
          "x": 0.41388888888888886,
          "xanchor": "center",
          "xref": "paper",
          "y": 0.4583333333333333,
          "yanchor": "bottom",
          "yref": "paper"
         },
         {
          "font": {
           "size": 16
          },
          "showarrow": false,
          "text": "DC",
          "x": 0.5861111111111112,
          "xanchor": "center",
          "xref": "paper",
          "y": 0.4583333333333333,
          "yanchor": "bottom",
          "yref": "paper"
         },
         {
          "font": {
           "size": 16
          },
          "showarrow": false,
          "text": "PSV",
          "x": 0.7583333333333333,
          "xanchor": "center",
          "xref": "paper",
          "y": 0.4583333333333333,
          "yanchor": "bottom",
          "yref": "paper"
         },
         {
          "font": {
           "size": 16
          },
          "showarrow": false,
          "text": "SAT",
          "x": 0.9305555555555556,
          "xanchor": "center",
          "xref": "paper",
          "y": 0.4583333333333333,
          "yanchor": "bottom",
          "yref": "paper"
         },
         {
          "font": {
           "size": 16
          },
          "showarrow": false,
          "text": "SCD",
          "x": 0.06944444444444445,
          "xanchor": "center",
          "xref": "paper",
          "y": 0.2777777777777778,
          "yanchor": "bottom",
          "yref": "paper"
         },
         {
          "font": {
           "size": 16
          },
          "showarrow": false,
          "text": "WS",
          "x": 0.24166666666666667,
          "xanchor": "center",
          "xref": "paper",
          "y": 0.2777777777777778,
          "yanchor": "bottom",
          "yref": "paper"
         },
         {
          "font": {
           "size": 16
          },
          "showarrow": false,
          "text": "NG",
          "x": 0.41388888888888886,
          "xanchor": "center",
          "xref": "paper",
          "y": 0.2777777777777778,
          "yanchor": "bottom",
          "yref": "paper"
         },
         {
          "font": {
           "size": 16
          },
          "showarrow": false,
          "text": "TG16",
          "x": 0.5861111111111112,
          "xanchor": "center",
          "xref": "paper",
          "y": 0.2777777777777778,
          "yanchor": "bottom",
          "yref": "paper"
         },
         {
          "font": {
           "size": 16
          },
          "showarrow": false,
          "text": "3DO",
          "x": 0.7583333333333333,
          "xanchor": "center",
          "xref": "paper",
          "y": 0.2777777777777778,
          "yanchor": "bottom",
          "yref": "paper"
         },
         {
          "font": {
           "size": 16
          },
          "showarrow": false,
          "text": "GG",
          "x": 0.9305555555555556,
          "xanchor": "center",
          "xref": "paper",
          "y": 0.2777777777777778,
          "yanchor": "bottom",
          "yref": "paper"
         },
         {
          "font": {
           "size": 16
          },
          "showarrow": false,
          "text": "PCFX",
          "x": 0.06944444444444445,
          "xanchor": "center",
          "xref": "paper",
          "y": 0.09722222222222222,
          "yanchor": "bottom",
          "yref": "paper"
         }
        ],
        "height": 1000,
        "template": {
         "data": {
          "bar": [
           {
            "error_x": {
             "color": "#2a3f5f"
            },
            "error_y": {
             "color": "#2a3f5f"
            },
            "marker": {
             "line": {
              "color": "#E5ECF6",
              "width": 0.5
             },
             "pattern": {
              "fillmode": "overlay",
              "size": 10,
              "solidity": 0.2
             }
            },
            "type": "bar"
           }
          ],
          "barpolar": [
           {
            "marker": {
             "line": {
              "color": "#E5ECF6",
              "width": 0.5
             },
             "pattern": {
              "fillmode": "overlay",
              "size": 10,
              "solidity": 0.2
             }
            },
            "type": "barpolar"
           }
          ],
          "carpet": [
           {
            "aaxis": {
             "endlinecolor": "#2a3f5f",
             "gridcolor": "white",
             "linecolor": "white",
             "minorgridcolor": "white",
             "startlinecolor": "#2a3f5f"
            },
            "baxis": {
             "endlinecolor": "#2a3f5f",
             "gridcolor": "white",
             "linecolor": "white",
             "minorgridcolor": "white",
             "startlinecolor": "#2a3f5f"
            },
            "type": "carpet"
           }
          ],
          "choropleth": [
           {
            "colorbar": {
             "outlinewidth": 0,
             "ticks": ""
            },
            "type": "choropleth"
           }
          ],
          "contour": [
           {
            "colorbar": {
             "outlinewidth": 0,
             "ticks": ""
            },
            "colorscale": [
             [
              0,
              "#0d0887"
             ],
             [
              0.1111111111111111,
              "#46039f"
             ],
             [
              0.2222222222222222,
              "#7201a8"
             ],
             [
              0.3333333333333333,
              "#9c179e"
             ],
             [
              0.4444444444444444,
              "#bd3786"
             ],
             [
              0.5555555555555556,
              "#d8576b"
             ],
             [
              0.6666666666666666,
              "#ed7953"
             ],
             [
              0.7777777777777778,
              "#fb9f3a"
             ],
             [
              0.8888888888888888,
              "#fdca26"
             ],
             [
              1,
              "#f0f921"
             ]
            ],
            "type": "contour"
           }
          ],
          "contourcarpet": [
           {
            "colorbar": {
             "outlinewidth": 0,
             "ticks": ""
            },
            "type": "contourcarpet"
           }
          ],
          "heatmap": [
           {
            "colorbar": {
             "outlinewidth": 0,
             "ticks": ""
            },
            "colorscale": [
             [
              0,
              "#0d0887"
             ],
             [
              0.1111111111111111,
              "#46039f"
             ],
             [
              0.2222222222222222,
              "#7201a8"
             ],
             [
              0.3333333333333333,
              "#9c179e"
             ],
             [
              0.4444444444444444,
              "#bd3786"
             ],
             [
              0.5555555555555556,
              "#d8576b"
             ],
             [
              0.6666666666666666,
              "#ed7953"
             ],
             [
              0.7777777777777778,
              "#fb9f3a"
             ],
             [
              0.8888888888888888,
              "#fdca26"
             ],
             [
              1,
              "#f0f921"
             ]
            ],
            "type": "heatmap"
           }
          ],
          "heatmapgl": [
           {
            "colorbar": {
             "outlinewidth": 0,
             "ticks": ""
            },
            "colorscale": [
             [
              0,
              "#0d0887"
             ],
             [
              0.1111111111111111,
              "#46039f"
             ],
             [
              0.2222222222222222,
              "#7201a8"
             ],
             [
              0.3333333333333333,
              "#9c179e"
             ],
             [
              0.4444444444444444,
              "#bd3786"
             ],
             [
              0.5555555555555556,
              "#d8576b"
             ],
             [
              0.6666666666666666,
              "#ed7953"
             ],
             [
              0.7777777777777778,
              "#fb9f3a"
             ],
             [
              0.8888888888888888,
              "#fdca26"
             ],
             [
              1,
              "#f0f921"
             ]
            ],
            "type": "heatmapgl"
           }
          ],
          "histogram": [
           {
            "marker": {
             "pattern": {
              "fillmode": "overlay",
              "size": 10,
              "solidity": 0.2
             }
            },
            "type": "histogram"
           }
          ],
          "histogram2d": [
           {
            "colorbar": {
             "outlinewidth": 0,
             "ticks": ""
            },
            "colorscale": [
             [
              0,
              "#0d0887"
             ],
             [
              0.1111111111111111,
              "#46039f"
             ],
             [
              0.2222222222222222,
              "#7201a8"
             ],
             [
              0.3333333333333333,
              "#9c179e"
             ],
             [
              0.4444444444444444,
              "#bd3786"
             ],
             [
              0.5555555555555556,
              "#d8576b"
             ],
             [
              0.6666666666666666,
              "#ed7953"
             ],
             [
              0.7777777777777778,
              "#fb9f3a"
             ],
             [
              0.8888888888888888,
              "#fdca26"
             ],
             [
              1,
              "#f0f921"
             ]
            ],
            "type": "histogram2d"
           }
          ],
          "histogram2dcontour": [
           {
            "colorbar": {
             "outlinewidth": 0,
             "ticks": ""
            },
            "colorscale": [
             [
              0,
              "#0d0887"
             ],
             [
              0.1111111111111111,
              "#46039f"
             ],
             [
              0.2222222222222222,
              "#7201a8"
             ],
             [
              0.3333333333333333,
              "#9c179e"
             ],
             [
              0.4444444444444444,
              "#bd3786"
             ],
             [
              0.5555555555555556,
              "#d8576b"
             ],
             [
              0.6666666666666666,
              "#ed7953"
             ],
             [
              0.7777777777777778,
              "#fb9f3a"
             ],
             [
              0.8888888888888888,
              "#fdca26"
             ],
             [
              1,
              "#f0f921"
             ]
            ],
            "type": "histogram2dcontour"
           }
          ],
          "mesh3d": [
           {
            "colorbar": {
             "outlinewidth": 0,
             "ticks": ""
            },
            "type": "mesh3d"
           }
          ],
          "parcoords": [
           {
            "line": {
             "colorbar": {
              "outlinewidth": 0,
              "ticks": ""
             }
            },
            "type": "parcoords"
           }
          ],
          "pie": [
           {
            "automargin": true,
            "type": "pie"
           }
          ],
          "scatter": [
           {
            "marker": {
             "colorbar": {
              "outlinewidth": 0,
              "ticks": ""
             }
            },
            "type": "scatter"
           }
          ],
          "scatter3d": [
           {
            "line": {
             "colorbar": {
              "outlinewidth": 0,
              "ticks": ""
             }
            },
            "marker": {
             "colorbar": {
              "outlinewidth": 0,
              "ticks": ""
             }
            },
            "type": "scatter3d"
           }
          ],
          "scattercarpet": [
           {
            "marker": {
             "colorbar": {
              "outlinewidth": 0,
              "ticks": ""
             }
            },
            "type": "scattercarpet"
           }
          ],
          "scattergeo": [
           {
            "marker": {
             "colorbar": {
              "outlinewidth": 0,
              "ticks": ""
             }
            },
            "type": "scattergeo"
           }
          ],
          "scattergl": [
           {
            "marker": {
             "colorbar": {
              "outlinewidth": 0,
              "ticks": ""
             }
            },
            "type": "scattergl"
           }
          ],
          "scattermapbox": [
           {
            "marker": {
             "colorbar": {
              "outlinewidth": 0,
              "ticks": ""
             }
            },
            "type": "scattermapbox"
           }
          ],
          "scatterpolar": [
           {
            "marker": {
             "colorbar": {
              "outlinewidth": 0,
              "ticks": ""
             }
            },
            "type": "scatterpolar"
           }
          ],
          "scatterpolargl": [
           {
            "marker": {
             "colorbar": {
              "outlinewidth": 0,
              "ticks": ""
             }
            },
            "type": "scatterpolargl"
           }
          ],
          "scatterternary": [
           {
            "marker": {
             "colorbar": {
              "outlinewidth": 0,
              "ticks": ""
             }
            },
            "type": "scatterternary"
           }
          ],
          "surface": [
           {
            "colorbar": {
             "outlinewidth": 0,
             "ticks": ""
            },
            "colorscale": [
             [
              0,
              "#0d0887"
             ],
             [
              0.1111111111111111,
              "#46039f"
             ],
             [
              0.2222222222222222,
              "#7201a8"
             ],
             [
              0.3333333333333333,
              "#9c179e"
             ],
             [
              0.4444444444444444,
              "#bd3786"
             ],
             [
              0.5555555555555556,
              "#d8576b"
             ],
             [
              0.6666666666666666,
              "#ed7953"
             ],
             [
              0.7777777777777778,
              "#fb9f3a"
             ],
             [
              0.8888888888888888,
              "#fdca26"
             ],
             [
              1,
              "#f0f921"
             ]
            ],
            "type": "surface"
           }
          ],
          "table": [
           {
            "cells": {
             "fill": {
              "color": "#EBF0F8"
             },
             "line": {
              "color": "white"
             }
            },
            "header": {
             "fill": {
              "color": "#C8D4E3"
             },
             "line": {
              "color": "white"
             }
            },
            "type": "table"
           }
          ]
         },
         "layout": {
          "annotationdefaults": {
           "arrowcolor": "#2a3f5f",
           "arrowhead": 0,
           "arrowwidth": 1
          },
          "autotypenumbers": "strict",
          "coloraxis": {
           "colorbar": {
            "outlinewidth": 0,
            "ticks": ""
           }
          },
          "colorscale": {
           "diverging": [
            [
             0,
             "#8e0152"
            ],
            [
             0.1,
             "#c51b7d"
            ],
            [
             0.2,
             "#de77ae"
            ],
            [
             0.3,
             "#f1b6da"
            ],
            [
             0.4,
             "#fde0ef"
            ],
            [
             0.5,
             "#f7f7f7"
            ],
            [
             0.6,
             "#e6f5d0"
            ],
            [
             0.7,
             "#b8e186"
            ],
            [
             0.8,
             "#7fbc41"
            ],
            [
             0.9,
             "#4d9221"
            ],
            [
             1,
             "#276419"
            ]
           ],
           "sequential": [
            [
             0,
             "#0d0887"
            ],
            [
             0.1111111111111111,
             "#46039f"
            ],
            [
             0.2222222222222222,
             "#7201a8"
            ],
            [
             0.3333333333333333,
             "#9c179e"
            ],
            [
             0.4444444444444444,
             "#bd3786"
            ],
            [
             0.5555555555555556,
             "#d8576b"
            ],
            [
             0.6666666666666666,
             "#ed7953"
            ],
            [
             0.7777777777777778,
             "#fb9f3a"
            ],
            [
             0.8888888888888888,
             "#fdca26"
            ],
            [
             1,
             "#f0f921"
            ]
           ],
           "sequentialminus": [
            [
             0,
             "#0d0887"
            ],
            [
             0.1111111111111111,
             "#46039f"
            ],
            [
             0.2222222222222222,
             "#7201a8"
            ],
            [
             0.3333333333333333,
             "#9c179e"
            ],
            [
             0.4444444444444444,
             "#bd3786"
            ],
            [
             0.5555555555555556,
             "#d8576b"
            ],
            [
             0.6666666666666666,
             "#ed7953"
            ],
            [
             0.7777777777777778,
             "#fb9f3a"
            ],
            [
             0.8888888888888888,
             "#fdca26"
            ],
            [
             1,
             "#f0f921"
            ]
           ]
          },
          "colorway": [
           "#636efa",
           "#EF553B",
           "#00cc96",
           "#ab63fa",
           "#FFA15A",
           "#19d3f3",
           "#FF6692",
           "#B6E880",
           "#FF97FF",
           "#FECB52"
          ],
          "font": {
           "color": "#2a3f5f"
          },
          "geo": {
           "bgcolor": "white",
           "lakecolor": "white",
           "landcolor": "#E5ECF6",
           "showlakes": true,
           "showland": true,
           "subunitcolor": "white"
          },
          "hoverlabel": {
           "align": "left"
          },
          "hovermode": "closest",
          "mapbox": {
           "style": "light"
          },
          "paper_bgcolor": "white",
          "plot_bgcolor": "#E5ECF6",
          "polar": {
           "angularaxis": {
            "gridcolor": "white",
            "linecolor": "white",
            "ticks": ""
           },
           "bgcolor": "#E5ECF6",
           "radialaxis": {
            "gridcolor": "white",
            "linecolor": "white",
            "ticks": ""
           }
          },
          "scene": {
           "xaxis": {
            "backgroundcolor": "#E5ECF6",
            "gridcolor": "white",
            "gridwidth": 2,
            "linecolor": "white",
            "showbackground": true,
            "ticks": "",
            "zerolinecolor": "white"
           },
           "yaxis": {
            "backgroundcolor": "#E5ECF6",
            "gridcolor": "white",
            "gridwidth": 2,
            "linecolor": "white",
            "showbackground": true,
            "ticks": "",
            "zerolinecolor": "white"
           },
           "zaxis": {
            "backgroundcolor": "#E5ECF6",
            "gridcolor": "white",
            "gridwidth": 2,
            "linecolor": "white",
            "showbackground": true,
            "ticks": "",
            "zerolinecolor": "white"
           }
          },
          "shapedefaults": {
           "line": {
            "color": "#2a3f5f"
           }
          },
          "ternary": {
           "aaxis": {
            "gridcolor": "white",
            "linecolor": "white",
            "ticks": ""
           },
           "baxis": {
            "gridcolor": "white",
            "linecolor": "white",
            "ticks": ""
           },
           "bgcolor": "#E5ECF6",
           "caxis": {
            "gridcolor": "white",
            "linecolor": "white",
            "ticks": ""
           }
          },
          "title": {
           "x": 0.05
          },
          "xaxis": {
           "automargin": true,
           "gridcolor": "white",
           "linecolor": "white",
           "ticks": "",
           "title": {
            "standoff": 15
           },
           "zerolinecolor": "white",
           "zerolinewidth": 2
          },
          "yaxis": {
           "automargin": true,
           "gridcolor": "white",
           "linecolor": "white",
           "ticks": "",
           "title": {
            "standoff": 15
           },
           "zerolinecolor": "white",
           "zerolinewidth": 2
          }
         }
        },
        "title": {
         "text": "Распределение продаж по годам"
        },
        "width": 1000,
        "xaxis": {
         "anchor": "y",
         "domain": [
          0,
          0.1388888888888889
         ]
        },
        "xaxis10": {
         "anchor": "y10",
         "domain": [
          0.5166666666666667,
          0.6555555555555557
         ]
        },
        "xaxis11": {
         "anchor": "y11",
         "domain": [
          0.6888888888888889,
          0.8277777777777777
         ]
        },
        "xaxis12": {
         "anchor": "y12",
         "domain": [
          0.861111111111111,
          1
         ]
        },
        "xaxis13": {
         "anchor": "y13",
         "domain": [
          0,
          0.1388888888888889
         ]
        },
        "xaxis14": {
         "anchor": "y14",
         "domain": [
          0.17222222222222222,
          0.3111111111111111
         ]
        },
        "xaxis15": {
         "anchor": "y15",
         "domain": [
          0.34444444444444444,
          0.48333333333333334
         ]
        },
        "xaxis16": {
         "anchor": "y16",
         "domain": [
          0.5166666666666667,
          0.6555555555555557
         ]
        },
        "xaxis17": {
         "anchor": "y17",
         "domain": [
          0.6888888888888889,
          0.8277777777777777
         ]
        },
        "xaxis18": {
         "anchor": "y18",
         "domain": [
          0.861111111111111,
          1
         ]
        },
        "xaxis19": {
         "anchor": "y19",
         "domain": [
          0,
          0.1388888888888889
         ]
        },
        "xaxis2": {
         "anchor": "y2",
         "domain": [
          0.17222222222222222,
          0.3111111111111111
         ]
        },
        "xaxis20": {
         "anchor": "y20",
         "domain": [
          0.17222222222222222,
          0.3111111111111111
         ]
        },
        "xaxis21": {
         "anchor": "y21",
         "domain": [
          0.34444444444444444,
          0.48333333333333334
         ]
        },
        "xaxis22": {
         "anchor": "y22",
         "domain": [
          0.5166666666666667,
          0.6555555555555557
         ]
        },
        "xaxis23": {
         "anchor": "y23",
         "domain": [
          0.6888888888888889,
          0.8277777777777777
         ]
        },
        "xaxis24": {
         "anchor": "y24",
         "domain": [
          0.861111111111111,
          1
         ]
        },
        "xaxis25": {
         "anchor": "y25",
         "domain": [
          0,
          0.1388888888888889
         ]
        },
        "xaxis26": {
         "anchor": "y26",
         "domain": [
          0.17222222222222222,
          0.3111111111111111
         ]
        },
        "xaxis27": {
         "anchor": "y27",
         "domain": [
          0.34444444444444444,
          0.48333333333333334
         ]
        },
        "xaxis28": {
         "anchor": "y28",
         "domain": [
          0.5166666666666667,
          0.6555555555555557
         ]
        },
        "xaxis29": {
         "anchor": "y29",
         "domain": [
          0.6888888888888889,
          0.8277777777777777
         ]
        },
        "xaxis3": {
         "anchor": "y3",
         "domain": [
          0.34444444444444444,
          0.48333333333333334
         ]
        },
        "xaxis30": {
         "anchor": "y30",
         "domain": [
          0.861111111111111,
          1
         ]
        },
        "xaxis31": {
         "anchor": "y31",
         "domain": [
          0,
          0.1388888888888889
         ]
        },
        "xaxis32": {
         "anchor": "y32",
         "domain": [
          0.17222222222222222,
          0.3111111111111111
         ]
        },
        "xaxis33": {
         "anchor": "y33",
         "domain": [
          0.34444444444444444,
          0.48333333333333334
         ]
        },
        "xaxis34": {
         "anchor": "y34",
         "domain": [
          0.5166666666666667,
          0.6555555555555557
         ]
        },
        "xaxis35": {
         "anchor": "y35",
         "domain": [
          0.6888888888888889,
          0.8277777777777777
         ]
        },
        "xaxis36": {
         "anchor": "y36",
         "domain": [
          0.861111111111111,
          1
         ]
        },
        "xaxis4": {
         "anchor": "y4",
         "domain": [
          0.5166666666666667,
          0.6555555555555557
         ]
        },
        "xaxis5": {
         "anchor": "y5",
         "domain": [
          0.6888888888888889,
          0.8277777777777777
         ]
        },
        "xaxis6": {
         "anchor": "y6",
         "domain": [
          0.861111111111111,
          1
         ]
        },
        "xaxis7": {
         "anchor": "y7",
         "domain": [
          0,
          0.1388888888888889
         ]
        },
        "xaxis8": {
         "anchor": "y8",
         "domain": [
          0.17222222222222222,
          0.3111111111111111
         ]
        },
        "xaxis9": {
         "anchor": "y9",
         "domain": [
          0.34444444444444444,
          0.48333333333333334
         ]
        },
        "yaxis": {
         "anchor": "x",
         "domain": [
          0.9027777777777777,
          0.9999999999999999
         ]
        },
        "yaxis10": {
         "anchor": "x10",
         "domain": [
          0.7222222222222222,
          0.8194444444444444
         ]
        },
        "yaxis11": {
         "anchor": "x11",
         "domain": [
          0.7222222222222222,
          0.8194444444444444
         ]
        },
        "yaxis12": {
         "anchor": "x12",
         "domain": [
          0.7222222222222222,
          0.8194444444444444
         ]
        },
        "yaxis13": {
         "anchor": "x13",
         "domain": [
          0.5416666666666667,
          0.638888888888889
         ]
        },
        "yaxis14": {
         "anchor": "x14",
         "domain": [
          0.5416666666666667,
          0.638888888888889
         ]
        },
        "yaxis15": {
         "anchor": "x15",
         "domain": [
          0.5416666666666667,
          0.638888888888889
         ]
        },
        "yaxis16": {
         "anchor": "x16",
         "domain": [
          0.5416666666666667,
          0.638888888888889
         ]
        },
        "yaxis17": {
         "anchor": "x17",
         "domain": [
          0.5416666666666667,
          0.638888888888889
         ]
        },
        "yaxis18": {
         "anchor": "x18",
         "domain": [
          0.5416666666666667,
          0.638888888888889
         ]
        },
        "yaxis19": {
         "anchor": "x19",
         "domain": [
          0.3611111111111111,
          0.4583333333333333
         ]
        },
        "yaxis2": {
         "anchor": "x2",
         "domain": [
          0.9027777777777777,
          0.9999999999999999
         ]
        },
        "yaxis20": {
         "anchor": "x20",
         "domain": [
          0.3611111111111111,
          0.4583333333333333
         ]
        },
        "yaxis21": {
         "anchor": "x21",
         "domain": [
          0.3611111111111111,
          0.4583333333333333
         ]
        },
        "yaxis22": {
         "anchor": "x22",
         "domain": [
          0.3611111111111111,
          0.4583333333333333
         ]
        },
        "yaxis23": {
         "anchor": "x23",
         "domain": [
          0.3611111111111111,
          0.4583333333333333
         ]
        },
        "yaxis24": {
         "anchor": "x24",
         "domain": [
          0.3611111111111111,
          0.4583333333333333
         ]
        },
        "yaxis25": {
         "anchor": "x25",
         "domain": [
          0.18055555555555555,
          0.2777777777777778
         ]
        },
        "yaxis26": {
         "anchor": "x26",
         "domain": [
          0.18055555555555555,
          0.2777777777777778
         ]
        },
        "yaxis27": {
         "anchor": "x27",
         "domain": [
          0.18055555555555555,
          0.2777777777777778
         ]
        },
        "yaxis28": {
         "anchor": "x28",
         "domain": [
          0.18055555555555555,
          0.2777777777777778
         ]
        },
        "yaxis29": {
         "anchor": "x29",
         "domain": [
          0.18055555555555555,
          0.2777777777777778
         ]
        },
        "yaxis3": {
         "anchor": "x3",
         "domain": [
          0.9027777777777777,
          0.9999999999999999
         ]
        },
        "yaxis30": {
         "anchor": "x30",
         "domain": [
          0.18055555555555555,
          0.2777777777777778
         ]
        },
        "yaxis31": {
         "anchor": "x31",
         "domain": [
          0,
          0.09722222222222222
         ]
        },
        "yaxis32": {
         "anchor": "x32",
         "domain": [
          0,
          0.09722222222222222
         ]
        },
        "yaxis33": {
         "anchor": "x33",
         "domain": [
          0,
          0.09722222222222222
         ]
        },
        "yaxis34": {
         "anchor": "x34",
         "domain": [
          0,
          0.09722222222222222
         ]
        },
        "yaxis35": {
         "anchor": "x35",
         "domain": [
          0,
          0.09722222222222222
         ]
        },
        "yaxis36": {
         "anchor": "x36",
         "domain": [
          0,
          0.09722222222222222
         ]
        },
        "yaxis4": {
         "anchor": "x4",
         "domain": [
          0.9027777777777777,
          0.9999999999999999
         ]
        },
        "yaxis5": {
         "anchor": "x5",
         "domain": [
          0.9027777777777777,
          0.9999999999999999
         ]
        },
        "yaxis6": {
         "anchor": "x6",
         "domain": [
          0.9027777777777777,
          0.9999999999999999
         ]
        },
        "yaxis7": {
         "anchor": "x7",
         "domain": [
          0.7222222222222222,
          0.8194444444444444
         ]
        },
        "yaxis8": {
         "anchor": "x8",
         "domain": [
          0.7222222222222222,
          0.8194444444444444
         ]
        },
        "yaxis9": {
         "anchor": "x9",
         "domain": [
          0.7222222222222222,
          0.8194444444444444
         ]
        }
       }
      },
      "text/html": [
       "<div>                            <div id=\"1d17b9eb-e4f9-408f-98ce-2a25293253ed\" class=\"plotly-graph-div\" style=\"height:1000px; width:1000px;\"></div>            <script type=\"text/javascript\">                require([\"plotly\"], function(Plotly) {                    window.PLOTLYENV=window.PLOTLYENV || {};                                    if (document.getElementById(\"1d17b9eb-e4f9-408f-98ce-2a25293253ed\")) {                    Plotly.newPlot(                        \"1d17b9eb-e4f9-408f-98ce-2a25293253ed\",                        [{\"type\":\"scatter\",\"x\":[2006,2007,2008,2009,2010,2011,2012,2013,2014,2015,2016],\"xaxis\":\"x\",\"y\":[137.14999999999992,152.76999999999998,171.31999999999996,206.97000000000028,127.95,59.65000000000003,21.710000000000008,8.59,3.75,1.14,0.18],\"yaxis\":\"y\"},{\"type\":\"scatter\",\"x\":[1983,1984,1985,1986,1987,1988,1989,1990,1991,1992,1993,1994],\"xaxis\":\"x2\",\"y\":[10.959999999999999,50.08000000000001,53.44,36.41,19.759999999999998,45.010000000000005,7.849999999999999,15.73,6.11,1.9800000000000002,3.61,0.11],\"yaxis\":\"y2\"},{\"type\":\"scatter\",\"x\":[1988,1989,1990,1991,1992,1994,1995,1996,1997,1998,1999,2000,2001],\"xaxis\":\"x3\",\"y\":[1.43,64.97,4.89,5.57,25.49,12.18,3.5999999999999996,36.03000000000001,6.370000000000001,26.9,38.0,19.759999999999998,9.24],\"yaxis\":\"y3\"},{\"type\":\"scatter\",\"x\":[1985,2004,2005,2006,2007,2008,2009,2010,2011,2012,2013],\"xaxis\":\"x4\",\"y\":[0.02,17.269999999999996,130.14000000000013,119.80999999999999,146.9400000000003,145.31000000000074,119.54000000000009,85.02,26.179999999999996,11.009999999999996,1.54],\"yaxis\":\"y4\"},{\"type\":\"scatter\",\"x\":[2005,2006,2007,2008,2009,2010,2011,2012,2013,2014,2015,2016],\"xaxis\":\"x5\",\"y\":[8.25,51.62,95.41000000000001,135.26000000000005,120.29,170.02999999999992,143.8400000000003,99.7400000000001,88.58000000000008,34.739999999999995,11.959999999999997,1.5200000000000002],\"yaxis\":\"y5\"},{\"type\":\"scatter\",\"x\":[2006,2007,2008,2009,2010,2011,2012,2013,2014,2015,2016],\"xaxis\":\"x6\",\"y\":[20.960000000000004,73.19000000000001,118.52000000000001,130.9300000000001,142.17000000000004,156.7800000000001,107.36000000000001,113.24999999999999,47.76000000000002,16.820000000000007,3.5999999999999988],\"yaxis\":\"y6\"},{\"type\":\"scatter\",\"x\":[2000,2001,2002,2003,2004,2005,2006,2007,2008,2009,2010,2011],\"xaxis\":\"x7\",\"y\":[39.170000000000016,166.43000000000012,205.37999999999997,184.30999999999986,211.80999999999992,160.6600000000002,103.41999999999989,75.99000000000001,53.90000000000004,26.400000000000006,5.639999999999996,0.45],\"yaxis\":\"y7\"},{\"type\":\"scatter\",\"x\":[1990,1991,1992,1993,1994,1995,1996,1997,1998,1999],\"xaxis\":\"x8\",\"y\":[26.15,16.220000000000002,32.98,40.02000000000001,35.08,32.2,15.919999999999996,0.99,0.22000000000000003,0.26],\"yaxis\":\"y8\"},{\"type\":\"scatter\",\"x\":[2000,2001,2002,2003,2004,2005,2006,2007],\"xaxis\":\"x9\",\"y\":[0.07,61.52999999999999,74.16000000000012,56.66999999999993,77.91000000000005,33.86000000000001,5.280000000000001,3.3999999999999995],\"yaxis\":\"y9\"},{\"type\":\"scatter\",\"x\":[2013,2014,2015,2016],\"xaxis\":\"x10\",\"y\":[25.990000000000002,99.99999999999996,118.90000000000008,69.25000000000001],\"yaxis\":\"y10\"},{\"type\":\"scatter\",\"x\":[2011,2012,2013,2014,2015,2016],\"xaxis\":\"x11\",\"y\":[63.2,51.36000000000002,56.57,43.76000000000003,27.78,15.13999999999999],\"yaxis\":\"y11\"},{\"type\":\"scatter\",\"x\":[1996,1997,1998,1999,2000,2001,2002],\"xaxis\":\"x12\",\"y\":[34.1,39.499999999999986,49.24000000000002,57.86999999999999,33.96999999999999,3.2500000000000004,0.08],\"yaxis\":\"y12\"},{\"type\":\"scatter\",\"x\":[1994,1995,1996,1997,1998,1999,2000,2001,2002,2003],\"xaxis\":\"x13\",\"y\":[6.029999999999999,35.96,94.69999999999989,136.16999999999996,169.49000000000004,144.53000000000046,96.36999999999993,35.59000000000001,6.669999999999998,2.0700000000000003],\"yaxis\":\"y13\"},{\"type\":\"scatter\",\"x\":[2000,2001,2002,2003,2004,2005,2006,2007,2008],\"xaxis\":\"x14\",\"y\":[0.99,22.259999999999994,48.01000000000002,55.040000000000006,65.42000000000004,49.08000000000003,10.03999999999999,0.55,0.18000000000000002],\"yaxis\":\"y14\"},{\"type\":\"scatter\",\"x\":[1985,1988,1992,1994,1995,1996,1997,1998,1999,2000,2001,2002,2003,2004,2005,2006,2007,2008,2009,2010,2011,2012,2013,2014,2015,2016],\"xaxis\":\"x15\",\"y\":[0.04,0.03,3.0300000000000002,12.870000000000001,4.22,10.58,11.27,3.26,4.739999999999999,4.659999999999998,5.469999999999999,8.569999999999997,8.839999999999991,10.389999999999995,4.369999999999995,2.849999999999998,9.279999999999987,12.41999999999998,16.910000000000025,24.28000000000002,35.03000000000001,23.21999999999999,12.379999999999997,13.279999999999994,8.51999999999999,5.249999999999997],\"yaxis\":\"y15\"},{\"type\":\"scatter\",\"x\":[1980,1981,1982,1983,1984,1985,1986,1987,1988,1989],\"xaxis\":\"x16\",\"y\":[11.379999999999999,35.68,28.880000000000003,5.840000000000001,0.27,0.44999999999999996,0.67,1.9400000000000002,0.74,0.6300000000000001],\"yaxis\":\"y16\"},{\"type\":\"scatter\",\"x\":[2004,2005,2006,2007,2008,2009,2010,2011,2012,2013,2014,2015],\"xaxis\":\"x17\",\"y\":[7.06,43.83999999999999,55.32000000000003,46.930000000000014,34.55000000000005,37.780000000000044,35.04000000000007,17.820000000000014,7.68999999999999,3.139999999999996,0.24000000000000005,0.12000000000000001],\"yaxis\":\"y17\"},{\"type\":\"scatter\",\"x\":[2013,2014,2015,2016],\"xaxis\":\"x18\",\"y\":[18.959999999999994,54.06999999999999,60.14000000000002,26.15000000000002],\"yaxis\":\"y18\"},{\"type\":\"scatter\",\"x\":[2012,2013,2014,2015,2016],\"xaxis\":\"x19\",\"y\":[17.559999999999995,21.65,22.029999999999994,16.35000000000001,4.6000000000000005],\"yaxis\":\"y19\"},{\"type\":\"scatter\",\"x\":[2001,2002,2003,2004,2005,2006,2007],\"xaxis\":\"x20\",\"y\":[26.34,51.809999999999995,50.609999999999964,28.81999999999999,27.619999999999976,11.26,0.27],\"yaxis\":\"y20\"},{\"type\":\"scatter\",\"x\":[1990,1991,1992,1993,1994],\"xaxis\":\"x21\",\"y\":[2.6,4.33,12.640000000000002,0.6500000000000001,8.129999999999997],\"yaxis\":\"y21\"},{\"type\":\"scatter\",\"x\":[1998,1999,2000,2001,2002,2007,2008],\"xaxis\":\"x22\",\"y\":[3.3800000000000003,5.159999999999999,5.989999999999998,1.07,0.29,0.02,0.04],\"yaxis\":\"y22\"},{\"type\":\"scatter\",\"x\":[2011,2012,2013,2014,2015,2016],\"xaxis\":\"x23\",\"y\":[4.629999999999998,16.190000000000005,10.589999999999995,11.899999999999988,6.249999999999988,4.249999999999992],\"yaxis\":\"y23\"},{\"type\":\"scatter\",\"x\":[1994,1995,1996,1997,1998,1999],\"xaxis\":\"x24\",\"y\":[3.6500000000000004,11.57,7.69,6.7700000000000005,3.819999999999999,0.09],\"yaxis\":\"y24\"},{\"type\":\"scatter\",\"x\":[1993,1994],\"xaxis\":\"x25\",\"y\":[1.5,0.36],\"yaxis\":\"y25\"},{\"type\":\"scatter\",\"x\":[1999,2000,2001],\"xaxis\":\"x26\",\"y\":[0.46,0.68,0.28],\"yaxis\":\"y26\"},{\"type\":\"scatter\",\"x\":[1993,1994,1995,1996],\"xaxis\":\"x27\",\"y\":[0.21000000000000002,0.7999999999999999,0.33000000000000007,0.1],\"yaxis\":\"y27\"},{\"type\":\"scatter\",\"x\":[1995],\"xaxis\":\"x28\",\"y\":[0.16],\"yaxis\":\"y28\"},{\"type\":\"scatter\",\"x\":[1994,1995],\"xaxis\":\"x29\",\"y\":[0.02,0.08],\"yaxis\":\"y29\"},{\"type\":\"scatter\",\"x\":[1992],\"xaxis\":\"x30\",\"y\":[0.04],\"yaxis\":\"y30\"},{\"type\":\"scatter\",\"x\":[1996],\"xaxis\":\"x31\",\"y\":[0.03],\"yaxis\":\"y31\"}],                        {\"annotations\":[{\"font\":{\"size\":16},\"showarrow\":false,\"text\":\"Wii\",\"x\":0.06944444444444445,\"xanchor\":\"center\",\"xref\":\"paper\",\"y\":0.9999999999999999,\"yanchor\":\"bottom\",\"yref\":\"paper\"},{\"font\":{\"size\":16},\"showarrow\":false,\"text\":\"NES\",\"x\":0.24166666666666667,\"xanchor\":\"center\",\"xref\":\"paper\",\"y\":0.9999999999999999,\"yanchor\":\"bottom\",\"yref\":\"paper\"},{\"font\":{\"size\":16},\"showarrow\":false,\"text\":\"GB\",\"x\":0.41388888888888886,\"xanchor\":\"center\",\"xref\":\"paper\",\"y\":0.9999999999999999,\"yanchor\":\"bottom\",\"yref\":\"paper\"},{\"font\":{\"size\":16},\"showarrow\":false,\"text\":\"DS\",\"x\":0.5861111111111112,\"xanchor\":\"center\",\"xref\":\"paper\",\"y\":0.9999999999999999,\"yanchor\":\"bottom\",\"yref\":\"paper\"},{\"font\":{\"size\":16},\"showarrow\":false,\"text\":\"X360\",\"x\":0.7583333333333333,\"xanchor\":\"center\",\"xref\":\"paper\",\"y\":0.9999999999999999,\"yanchor\":\"bottom\",\"yref\":\"paper\"},{\"font\":{\"size\":16},\"showarrow\":false,\"text\":\"PS3\",\"x\":0.9305555555555556,\"xanchor\":\"center\",\"xref\":\"paper\",\"y\":0.9999999999999999,\"yanchor\":\"bottom\",\"yref\":\"paper\"},{\"font\":{\"size\":16},\"showarrow\":false,\"text\":\"PS2\",\"x\":0.06944444444444445,\"xanchor\":\"center\",\"xref\":\"paper\",\"y\":0.8194444444444444,\"yanchor\":\"bottom\",\"yref\":\"paper\"},{\"font\":{\"size\":16},\"showarrow\":false,\"text\":\"SNES\",\"x\":0.24166666666666667,\"xanchor\":\"center\",\"xref\":\"paper\",\"y\":0.8194444444444444,\"yanchor\":\"bottom\",\"yref\":\"paper\"},{\"font\":{\"size\":16},\"showarrow\":false,\"text\":\"GBA\",\"x\":0.41388888888888886,\"xanchor\":\"center\",\"xref\":\"paper\",\"y\":0.8194444444444444,\"yanchor\":\"bottom\",\"yref\":\"paper\"},{\"font\":{\"size\":16},\"showarrow\":false,\"text\":\"PS4\",\"x\":0.5861111111111112,\"xanchor\":\"center\",\"xref\":\"paper\",\"y\":0.8194444444444444,\"yanchor\":\"bottom\",\"yref\":\"paper\"},{\"font\":{\"size\":16},\"showarrow\":false,\"text\":\"3DS\",\"x\":0.7583333333333333,\"xanchor\":\"center\",\"xref\":\"paper\",\"y\":0.8194444444444444,\"yanchor\":\"bottom\",\"yref\":\"paper\"},{\"font\":{\"size\":16},\"showarrow\":false,\"text\":\"N64\",\"x\":0.9305555555555556,\"xanchor\":\"center\",\"xref\":\"paper\",\"y\":0.8194444444444444,\"yanchor\":\"bottom\",\"yref\":\"paper\"},{\"font\":{\"size\":16},\"showarrow\":false,\"text\":\"PS\",\"x\":0.06944444444444445,\"xanchor\":\"center\",\"xref\":\"paper\",\"y\":0.638888888888889,\"yanchor\":\"bottom\",\"yref\":\"paper\"},{\"font\":{\"size\":16},\"showarrow\":false,\"text\":\"XB\",\"x\":0.24166666666666667,\"xanchor\":\"center\",\"xref\":\"paper\",\"y\":0.638888888888889,\"yanchor\":\"bottom\",\"yref\":\"paper\"},{\"font\":{\"size\":16},\"showarrow\":false,\"text\":\"PC\",\"x\":0.41388888888888886,\"xanchor\":\"center\",\"xref\":\"paper\",\"y\":0.638888888888889,\"yanchor\":\"bottom\",\"yref\":\"paper\"},{\"font\":{\"size\":16},\"showarrow\":false,\"text\":\"2600\",\"x\":0.5861111111111112,\"xanchor\":\"center\",\"xref\":\"paper\",\"y\":0.638888888888889,\"yanchor\":\"bottom\",\"yref\":\"paper\"},{\"font\":{\"size\":16},\"showarrow\":false,\"text\":\"PSP\",\"x\":0.7583333333333333,\"xanchor\":\"center\",\"xref\":\"paper\",\"y\":0.638888888888889,\"yanchor\":\"bottom\",\"yref\":\"paper\"},{\"font\":{\"size\":16},\"showarrow\":false,\"text\":\"XOne\",\"x\":0.9305555555555556,\"xanchor\":\"center\",\"xref\":\"paper\",\"y\":0.638888888888889,\"yanchor\":\"bottom\",\"yref\":\"paper\"},{\"font\":{\"size\":16},\"showarrow\":false,\"text\":\"WiiU\",\"x\":0.06944444444444445,\"xanchor\":\"center\",\"xref\":\"paper\",\"y\":0.4583333333333333,\"yanchor\":\"bottom\",\"yref\":\"paper\"},{\"font\":{\"size\":16},\"showarrow\":false,\"text\":\"GC\",\"x\":0.24166666666666667,\"xanchor\":\"center\",\"xref\":\"paper\",\"y\":0.4583333333333333,\"yanchor\":\"bottom\",\"yref\":\"paper\"},{\"font\":{\"size\":16},\"showarrow\":false,\"text\":\"GEN\",\"x\":0.41388888888888886,\"xanchor\":\"center\",\"xref\":\"paper\",\"y\":0.4583333333333333,\"yanchor\":\"bottom\",\"yref\":\"paper\"},{\"font\":{\"size\":16},\"showarrow\":false,\"text\":\"DC\",\"x\":0.5861111111111112,\"xanchor\":\"center\",\"xref\":\"paper\",\"y\":0.4583333333333333,\"yanchor\":\"bottom\",\"yref\":\"paper\"},{\"font\":{\"size\":16},\"showarrow\":false,\"text\":\"PSV\",\"x\":0.7583333333333333,\"xanchor\":\"center\",\"xref\":\"paper\",\"y\":0.4583333333333333,\"yanchor\":\"bottom\",\"yref\":\"paper\"},{\"font\":{\"size\":16},\"showarrow\":false,\"text\":\"SAT\",\"x\":0.9305555555555556,\"xanchor\":\"center\",\"xref\":\"paper\",\"y\":0.4583333333333333,\"yanchor\":\"bottom\",\"yref\":\"paper\"},{\"font\":{\"size\":16},\"showarrow\":false,\"text\":\"SCD\",\"x\":0.06944444444444445,\"xanchor\":\"center\",\"xref\":\"paper\",\"y\":0.2777777777777778,\"yanchor\":\"bottom\",\"yref\":\"paper\"},{\"font\":{\"size\":16},\"showarrow\":false,\"text\":\"WS\",\"x\":0.24166666666666667,\"xanchor\":\"center\",\"xref\":\"paper\",\"y\":0.2777777777777778,\"yanchor\":\"bottom\",\"yref\":\"paper\"},{\"font\":{\"size\":16},\"showarrow\":false,\"text\":\"NG\",\"x\":0.41388888888888886,\"xanchor\":\"center\",\"xref\":\"paper\",\"y\":0.2777777777777778,\"yanchor\":\"bottom\",\"yref\":\"paper\"},{\"font\":{\"size\":16},\"showarrow\":false,\"text\":\"TG16\",\"x\":0.5861111111111112,\"xanchor\":\"center\",\"xref\":\"paper\",\"y\":0.2777777777777778,\"yanchor\":\"bottom\",\"yref\":\"paper\"},{\"font\":{\"size\":16},\"showarrow\":false,\"text\":\"3DO\",\"x\":0.7583333333333333,\"xanchor\":\"center\",\"xref\":\"paper\",\"y\":0.2777777777777778,\"yanchor\":\"bottom\",\"yref\":\"paper\"},{\"font\":{\"size\":16},\"showarrow\":false,\"text\":\"GG\",\"x\":0.9305555555555556,\"xanchor\":\"center\",\"xref\":\"paper\",\"y\":0.2777777777777778,\"yanchor\":\"bottom\",\"yref\":\"paper\"},{\"font\":{\"size\":16},\"showarrow\":false,\"text\":\"PCFX\",\"x\":0.06944444444444445,\"xanchor\":\"center\",\"xref\":\"paper\",\"y\":0.09722222222222222,\"yanchor\":\"bottom\",\"yref\":\"paper\"}],\"height\":1000,\"template\":{\"data\":{\"bar\":[{\"error_x\":{\"color\":\"#2a3f5f\"},\"error_y\":{\"color\":\"#2a3f5f\"},\"marker\":{\"line\":{\"color\":\"#E5ECF6\",\"width\":0.5},\"pattern\":{\"fillmode\":\"overlay\",\"size\":10,\"solidity\":0.2}},\"type\":\"bar\"}],\"barpolar\":[{\"marker\":{\"line\":{\"color\":\"#E5ECF6\",\"width\":0.5},\"pattern\":{\"fillmode\":\"overlay\",\"size\":10,\"solidity\":0.2}},\"type\":\"barpolar\"}],\"carpet\":[{\"aaxis\":{\"endlinecolor\":\"#2a3f5f\",\"gridcolor\":\"white\",\"linecolor\":\"white\",\"minorgridcolor\":\"white\",\"startlinecolor\":\"#2a3f5f\"},\"baxis\":{\"endlinecolor\":\"#2a3f5f\",\"gridcolor\":\"white\",\"linecolor\":\"white\",\"minorgridcolor\":\"white\",\"startlinecolor\":\"#2a3f5f\"},\"type\":\"carpet\"}],\"choropleth\":[{\"colorbar\":{\"outlinewidth\":0,\"ticks\":\"\"},\"type\":\"choropleth\"}],\"contour\":[{\"colorbar\":{\"outlinewidth\":0,\"ticks\":\"\"},\"colorscale\":[[0.0,\"#0d0887\"],[0.1111111111111111,\"#46039f\"],[0.2222222222222222,\"#7201a8\"],[0.3333333333333333,\"#9c179e\"],[0.4444444444444444,\"#bd3786\"],[0.5555555555555556,\"#d8576b\"],[0.6666666666666666,\"#ed7953\"],[0.7777777777777778,\"#fb9f3a\"],[0.8888888888888888,\"#fdca26\"],[1.0,\"#f0f921\"]],\"type\":\"contour\"}],\"contourcarpet\":[{\"colorbar\":{\"outlinewidth\":0,\"ticks\":\"\"},\"type\":\"contourcarpet\"}],\"heatmap\":[{\"colorbar\":{\"outlinewidth\":0,\"ticks\":\"\"},\"colorscale\":[[0.0,\"#0d0887\"],[0.1111111111111111,\"#46039f\"],[0.2222222222222222,\"#7201a8\"],[0.3333333333333333,\"#9c179e\"],[0.4444444444444444,\"#bd3786\"],[0.5555555555555556,\"#d8576b\"],[0.6666666666666666,\"#ed7953\"],[0.7777777777777778,\"#fb9f3a\"],[0.8888888888888888,\"#fdca26\"],[1.0,\"#f0f921\"]],\"type\":\"heatmap\"}],\"heatmapgl\":[{\"colorbar\":{\"outlinewidth\":0,\"ticks\":\"\"},\"colorscale\":[[0.0,\"#0d0887\"],[0.1111111111111111,\"#46039f\"],[0.2222222222222222,\"#7201a8\"],[0.3333333333333333,\"#9c179e\"],[0.4444444444444444,\"#bd3786\"],[0.5555555555555556,\"#d8576b\"],[0.6666666666666666,\"#ed7953\"],[0.7777777777777778,\"#fb9f3a\"],[0.8888888888888888,\"#fdca26\"],[1.0,\"#f0f921\"]],\"type\":\"heatmapgl\"}],\"histogram\":[{\"marker\":{\"pattern\":{\"fillmode\":\"overlay\",\"size\":10,\"solidity\":0.2}},\"type\":\"histogram\"}],\"histogram2d\":[{\"colorbar\":{\"outlinewidth\":0,\"ticks\":\"\"},\"colorscale\":[[0.0,\"#0d0887\"],[0.1111111111111111,\"#46039f\"],[0.2222222222222222,\"#7201a8\"],[0.3333333333333333,\"#9c179e\"],[0.4444444444444444,\"#bd3786\"],[0.5555555555555556,\"#d8576b\"],[0.6666666666666666,\"#ed7953\"],[0.7777777777777778,\"#fb9f3a\"],[0.8888888888888888,\"#fdca26\"],[1.0,\"#f0f921\"]],\"type\":\"histogram2d\"}],\"histogram2dcontour\":[{\"colorbar\":{\"outlinewidth\":0,\"ticks\":\"\"},\"colorscale\":[[0.0,\"#0d0887\"],[0.1111111111111111,\"#46039f\"],[0.2222222222222222,\"#7201a8\"],[0.3333333333333333,\"#9c179e\"],[0.4444444444444444,\"#bd3786\"],[0.5555555555555556,\"#d8576b\"],[0.6666666666666666,\"#ed7953\"],[0.7777777777777778,\"#fb9f3a\"],[0.8888888888888888,\"#fdca26\"],[1.0,\"#f0f921\"]],\"type\":\"histogram2dcontour\"}],\"mesh3d\":[{\"colorbar\":{\"outlinewidth\":0,\"ticks\":\"\"},\"type\":\"mesh3d\"}],\"parcoords\":[{\"line\":{\"colorbar\":{\"outlinewidth\":0,\"ticks\":\"\"}},\"type\":\"parcoords\"}],\"pie\":[{\"automargin\":true,\"type\":\"pie\"}],\"scatter\":[{\"marker\":{\"colorbar\":{\"outlinewidth\":0,\"ticks\":\"\"}},\"type\":\"scatter\"}],\"scatter3d\":[{\"line\":{\"colorbar\":{\"outlinewidth\":0,\"ticks\":\"\"}},\"marker\":{\"colorbar\":{\"outlinewidth\":0,\"ticks\":\"\"}},\"type\":\"scatter3d\"}],\"scattercarpet\":[{\"marker\":{\"colorbar\":{\"outlinewidth\":0,\"ticks\":\"\"}},\"type\":\"scattercarpet\"}],\"scattergeo\":[{\"marker\":{\"colorbar\":{\"outlinewidth\":0,\"ticks\":\"\"}},\"type\":\"scattergeo\"}],\"scattergl\":[{\"marker\":{\"colorbar\":{\"outlinewidth\":0,\"ticks\":\"\"}},\"type\":\"scattergl\"}],\"scattermapbox\":[{\"marker\":{\"colorbar\":{\"outlinewidth\":0,\"ticks\":\"\"}},\"type\":\"scattermapbox\"}],\"scatterpolar\":[{\"marker\":{\"colorbar\":{\"outlinewidth\":0,\"ticks\":\"\"}},\"type\":\"scatterpolar\"}],\"scatterpolargl\":[{\"marker\":{\"colorbar\":{\"outlinewidth\":0,\"ticks\":\"\"}},\"type\":\"scatterpolargl\"}],\"scatterternary\":[{\"marker\":{\"colorbar\":{\"outlinewidth\":0,\"ticks\":\"\"}},\"type\":\"scatterternary\"}],\"surface\":[{\"colorbar\":{\"outlinewidth\":0,\"ticks\":\"\"},\"colorscale\":[[0.0,\"#0d0887\"],[0.1111111111111111,\"#46039f\"],[0.2222222222222222,\"#7201a8\"],[0.3333333333333333,\"#9c179e\"],[0.4444444444444444,\"#bd3786\"],[0.5555555555555556,\"#d8576b\"],[0.6666666666666666,\"#ed7953\"],[0.7777777777777778,\"#fb9f3a\"],[0.8888888888888888,\"#fdca26\"],[1.0,\"#f0f921\"]],\"type\":\"surface\"}],\"table\":[{\"cells\":{\"fill\":{\"color\":\"#EBF0F8\"},\"line\":{\"color\":\"white\"}},\"header\":{\"fill\":{\"color\":\"#C8D4E3\"},\"line\":{\"color\":\"white\"}},\"type\":\"table\"}]},\"layout\":{\"annotationdefaults\":{\"arrowcolor\":\"#2a3f5f\",\"arrowhead\":0,\"arrowwidth\":1},\"autotypenumbers\":\"strict\",\"coloraxis\":{\"colorbar\":{\"outlinewidth\":0,\"ticks\":\"\"}},\"colorscale\":{\"diverging\":[[0,\"#8e0152\"],[0.1,\"#c51b7d\"],[0.2,\"#de77ae\"],[0.3,\"#f1b6da\"],[0.4,\"#fde0ef\"],[0.5,\"#f7f7f7\"],[0.6,\"#e6f5d0\"],[0.7,\"#b8e186\"],[0.8,\"#7fbc41\"],[0.9,\"#4d9221\"],[1,\"#276419\"]],\"sequential\":[[0.0,\"#0d0887\"],[0.1111111111111111,\"#46039f\"],[0.2222222222222222,\"#7201a8\"],[0.3333333333333333,\"#9c179e\"],[0.4444444444444444,\"#bd3786\"],[0.5555555555555556,\"#d8576b\"],[0.6666666666666666,\"#ed7953\"],[0.7777777777777778,\"#fb9f3a\"],[0.8888888888888888,\"#fdca26\"],[1.0,\"#f0f921\"]],\"sequentialminus\":[[0.0,\"#0d0887\"],[0.1111111111111111,\"#46039f\"],[0.2222222222222222,\"#7201a8\"],[0.3333333333333333,\"#9c179e\"],[0.4444444444444444,\"#bd3786\"],[0.5555555555555556,\"#d8576b\"],[0.6666666666666666,\"#ed7953\"],[0.7777777777777778,\"#fb9f3a\"],[0.8888888888888888,\"#fdca26\"],[1.0,\"#f0f921\"]]},\"colorway\":[\"#636efa\",\"#EF553B\",\"#00cc96\",\"#ab63fa\",\"#FFA15A\",\"#19d3f3\",\"#FF6692\",\"#B6E880\",\"#FF97FF\",\"#FECB52\"],\"font\":{\"color\":\"#2a3f5f\"},\"geo\":{\"bgcolor\":\"white\",\"lakecolor\":\"white\",\"landcolor\":\"#E5ECF6\",\"showlakes\":true,\"showland\":true,\"subunitcolor\":\"white\"},\"hoverlabel\":{\"align\":\"left\"},\"hovermode\":\"closest\",\"mapbox\":{\"style\":\"light\"},\"paper_bgcolor\":\"white\",\"plot_bgcolor\":\"#E5ECF6\",\"polar\":{\"angularaxis\":{\"gridcolor\":\"white\",\"linecolor\":\"white\",\"ticks\":\"\"},\"bgcolor\":\"#E5ECF6\",\"radialaxis\":{\"gridcolor\":\"white\",\"linecolor\":\"white\",\"ticks\":\"\"}},\"scene\":{\"xaxis\":{\"backgroundcolor\":\"#E5ECF6\",\"gridcolor\":\"white\",\"gridwidth\":2,\"linecolor\":\"white\",\"showbackground\":true,\"ticks\":\"\",\"zerolinecolor\":\"white\"},\"yaxis\":{\"backgroundcolor\":\"#E5ECF6\",\"gridcolor\":\"white\",\"gridwidth\":2,\"linecolor\":\"white\",\"showbackground\":true,\"ticks\":\"\",\"zerolinecolor\":\"white\"},\"zaxis\":{\"backgroundcolor\":\"#E5ECF6\",\"gridcolor\":\"white\",\"gridwidth\":2,\"linecolor\":\"white\",\"showbackground\":true,\"ticks\":\"\",\"zerolinecolor\":\"white\"}},\"shapedefaults\":{\"line\":{\"color\":\"#2a3f5f\"}},\"ternary\":{\"aaxis\":{\"gridcolor\":\"white\",\"linecolor\":\"white\",\"ticks\":\"\"},\"baxis\":{\"gridcolor\":\"white\",\"linecolor\":\"white\",\"ticks\":\"\"},\"bgcolor\":\"#E5ECF6\",\"caxis\":{\"gridcolor\":\"white\",\"linecolor\":\"white\",\"ticks\":\"\"}},\"title\":{\"x\":0.05},\"xaxis\":{\"automargin\":true,\"gridcolor\":\"white\",\"linecolor\":\"white\",\"ticks\":\"\",\"title\":{\"standoff\":15},\"zerolinecolor\":\"white\",\"zerolinewidth\":2},\"yaxis\":{\"automargin\":true,\"gridcolor\":\"white\",\"linecolor\":\"white\",\"ticks\":\"\",\"title\":{\"standoff\":15},\"zerolinecolor\":\"white\",\"zerolinewidth\":2}}},\"title\":{\"text\":\"\\u0420\\u0430\\u0441\\u043f\\u0440\\u0435\\u0434\\u0435\\u043b\\u0435\\u043d\\u0438\\u0435 \\u043f\\u0440\\u043e\\u0434\\u0430\\u0436 \\u043f\\u043e \\u0433\\u043e\\u0434\\u0430\\u043c\"},\"width\":1000,\"xaxis\":{\"anchor\":\"y\",\"domain\":[0.0,0.1388888888888889]},\"xaxis10\":{\"anchor\":\"y10\",\"domain\":[0.5166666666666667,0.6555555555555557]},\"xaxis11\":{\"anchor\":\"y11\",\"domain\":[0.6888888888888889,0.8277777777777777]},\"xaxis12\":{\"anchor\":\"y12\",\"domain\":[0.861111111111111,1.0]},\"xaxis13\":{\"anchor\":\"y13\",\"domain\":[0.0,0.1388888888888889]},\"xaxis14\":{\"anchor\":\"y14\",\"domain\":[0.17222222222222222,0.3111111111111111]},\"xaxis15\":{\"anchor\":\"y15\",\"domain\":[0.34444444444444444,0.48333333333333334]},\"xaxis16\":{\"anchor\":\"y16\",\"domain\":[0.5166666666666667,0.6555555555555557]},\"xaxis17\":{\"anchor\":\"y17\",\"domain\":[0.6888888888888889,0.8277777777777777]},\"xaxis18\":{\"anchor\":\"y18\",\"domain\":[0.861111111111111,1.0]},\"xaxis19\":{\"anchor\":\"y19\",\"domain\":[0.0,0.1388888888888889]},\"xaxis2\":{\"anchor\":\"y2\",\"domain\":[0.17222222222222222,0.3111111111111111]},\"xaxis20\":{\"anchor\":\"y20\",\"domain\":[0.17222222222222222,0.3111111111111111]},\"xaxis21\":{\"anchor\":\"y21\",\"domain\":[0.34444444444444444,0.48333333333333334]},\"xaxis22\":{\"anchor\":\"y22\",\"domain\":[0.5166666666666667,0.6555555555555557]},\"xaxis23\":{\"anchor\":\"y23\",\"domain\":[0.6888888888888889,0.8277777777777777]},\"xaxis24\":{\"anchor\":\"y24\",\"domain\":[0.861111111111111,1.0]},\"xaxis25\":{\"anchor\":\"y25\",\"domain\":[0.0,0.1388888888888889]},\"xaxis26\":{\"anchor\":\"y26\",\"domain\":[0.17222222222222222,0.3111111111111111]},\"xaxis27\":{\"anchor\":\"y27\",\"domain\":[0.34444444444444444,0.48333333333333334]},\"xaxis28\":{\"anchor\":\"y28\",\"domain\":[0.5166666666666667,0.6555555555555557]},\"xaxis29\":{\"anchor\":\"y29\",\"domain\":[0.6888888888888889,0.8277777777777777]},\"xaxis3\":{\"anchor\":\"y3\",\"domain\":[0.34444444444444444,0.48333333333333334]},\"xaxis30\":{\"anchor\":\"y30\",\"domain\":[0.861111111111111,1.0]},\"xaxis31\":{\"anchor\":\"y31\",\"domain\":[0.0,0.1388888888888889]},\"xaxis32\":{\"anchor\":\"y32\",\"domain\":[0.17222222222222222,0.3111111111111111]},\"xaxis33\":{\"anchor\":\"y33\",\"domain\":[0.34444444444444444,0.48333333333333334]},\"xaxis34\":{\"anchor\":\"y34\",\"domain\":[0.5166666666666667,0.6555555555555557]},\"xaxis35\":{\"anchor\":\"y35\",\"domain\":[0.6888888888888889,0.8277777777777777]},\"xaxis36\":{\"anchor\":\"y36\",\"domain\":[0.861111111111111,1.0]},\"xaxis4\":{\"anchor\":\"y4\",\"domain\":[0.5166666666666667,0.6555555555555557]},\"xaxis5\":{\"anchor\":\"y5\",\"domain\":[0.6888888888888889,0.8277777777777777]},\"xaxis6\":{\"anchor\":\"y6\",\"domain\":[0.861111111111111,1.0]},\"xaxis7\":{\"anchor\":\"y7\",\"domain\":[0.0,0.1388888888888889]},\"xaxis8\":{\"anchor\":\"y8\",\"domain\":[0.17222222222222222,0.3111111111111111]},\"xaxis9\":{\"anchor\":\"y9\",\"domain\":[0.34444444444444444,0.48333333333333334]},\"yaxis\":{\"anchor\":\"x\",\"domain\":[0.9027777777777777,0.9999999999999999]},\"yaxis10\":{\"anchor\":\"x10\",\"domain\":[0.7222222222222222,0.8194444444444444]},\"yaxis11\":{\"anchor\":\"x11\",\"domain\":[0.7222222222222222,0.8194444444444444]},\"yaxis12\":{\"anchor\":\"x12\",\"domain\":[0.7222222222222222,0.8194444444444444]},\"yaxis13\":{\"anchor\":\"x13\",\"domain\":[0.5416666666666667,0.638888888888889]},\"yaxis14\":{\"anchor\":\"x14\",\"domain\":[0.5416666666666667,0.638888888888889]},\"yaxis15\":{\"anchor\":\"x15\",\"domain\":[0.5416666666666667,0.638888888888889]},\"yaxis16\":{\"anchor\":\"x16\",\"domain\":[0.5416666666666667,0.638888888888889]},\"yaxis17\":{\"anchor\":\"x17\",\"domain\":[0.5416666666666667,0.638888888888889]},\"yaxis18\":{\"anchor\":\"x18\",\"domain\":[0.5416666666666667,0.638888888888889]},\"yaxis19\":{\"anchor\":\"x19\",\"domain\":[0.3611111111111111,0.4583333333333333]},\"yaxis2\":{\"anchor\":\"x2\",\"domain\":[0.9027777777777777,0.9999999999999999]},\"yaxis20\":{\"anchor\":\"x20\",\"domain\":[0.3611111111111111,0.4583333333333333]},\"yaxis21\":{\"anchor\":\"x21\",\"domain\":[0.3611111111111111,0.4583333333333333]},\"yaxis22\":{\"anchor\":\"x22\",\"domain\":[0.3611111111111111,0.4583333333333333]},\"yaxis23\":{\"anchor\":\"x23\",\"domain\":[0.3611111111111111,0.4583333333333333]},\"yaxis24\":{\"anchor\":\"x24\",\"domain\":[0.3611111111111111,0.4583333333333333]},\"yaxis25\":{\"anchor\":\"x25\",\"domain\":[0.18055555555555555,0.2777777777777778]},\"yaxis26\":{\"anchor\":\"x26\",\"domain\":[0.18055555555555555,0.2777777777777778]},\"yaxis27\":{\"anchor\":\"x27\",\"domain\":[0.18055555555555555,0.2777777777777778]},\"yaxis28\":{\"anchor\":\"x28\",\"domain\":[0.18055555555555555,0.2777777777777778]},\"yaxis29\":{\"anchor\":\"x29\",\"domain\":[0.18055555555555555,0.2777777777777778]},\"yaxis3\":{\"anchor\":\"x3\",\"domain\":[0.9027777777777777,0.9999999999999999]},\"yaxis30\":{\"anchor\":\"x30\",\"domain\":[0.18055555555555555,0.2777777777777778]},\"yaxis31\":{\"anchor\":\"x31\",\"domain\":[0.0,0.09722222222222222]},\"yaxis32\":{\"anchor\":\"x32\",\"domain\":[0.0,0.09722222222222222]},\"yaxis33\":{\"anchor\":\"x33\",\"domain\":[0.0,0.09722222222222222]},\"yaxis34\":{\"anchor\":\"x34\",\"domain\":[0.0,0.09722222222222222]},\"yaxis35\":{\"anchor\":\"x35\",\"domain\":[0.0,0.09722222222222222]},\"yaxis36\":{\"anchor\":\"x36\",\"domain\":[0.0,0.09722222222222222]},\"yaxis4\":{\"anchor\":\"x4\",\"domain\":[0.9027777777777777,0.9999999999999999]},\"yaxis5\":{\"anchor\":\"x5\",\"domain\":[0.9027777777777777,0.9999999999999999]},\"yaxis6\":{\"anchor\":\"x6\",\"domain\":[0.9027777777777777,0.9999999999999999]},\"yaxis7\":{\"anchor\":\"x7\",\"domain\":[0.7222222222222222,0.8194444444444444]},\"yaxis8\":{\"anchor\":\"x8\",\"domain\":[0.7222222222222222,0.8194444444444444]},\"yaxis9\":{\"anchor\":\"x9\",\"domain\":[0.7222222222222222,0.8194444444444444]}},                        {\"responsive\": true}                    ).then(function(){\n",
       "                            \n",
       "var gd = document.getElementById('1d17b9eb-e4f9-408f-98ce-2a25293253ed');\n",
       "var x = new MutationObserver(function (mutations, observer) {{\n",
       "        var display = window.getComputedStyle(gd).display;\n",
       "        if (!display || display === 'none') {{\n",
       "            console.log([gd, 'removed!']);\n",
       "            Plotly.purge(gd);\n",
       "            observer.disconnect();\n",
       "        }}\n",
       "}});\n",
       "\n",
       "// Listen for the removal of the full notebook cells\n",
       "var notebookContainer = gd.closest('#notebook-container');\n",
       "if (notebookContainer) {{\n",
       "    x.observe(notebookContainer, {childList: true});\n",
       "}}\n",
       "\n",
       "// Listen for the clearing of the current output cell\n",
       "var outputEl = gd.closest('.output');\n",
       "if (outputEl) {{\n",
       "    x.observe(outputEl, {childList: true});\n",
       "}}\n",
       "\n",
       "                        })                };                });            </script>        </div>"
      ]
     },
     "metadata": {},
     "output_type": "display_data"
    }
   ],
   "source": [
    "platforms = games['platform'].unique()\n",
    "\n",
    "size = math.ceil(math.sqrt(len(platforms)))\n",
    "\n",
    "all_sales = games.groupby(['platform','year_of_release']).agg({'total_sales' : 'sum'}).reset_index()\n",
    "\n",
    "fig = make_subplots(\n",
    "    rows=size, cols=size,\n",
    "    subplot_titles=(platforms))\n",
    "\n",
    "row = 0\n",
    "col = 0\n",
    "\n",
    "for i,p in enumerate(platforms):        \n",
    "    \n",
    "    if i % size == 0:\n",
    "        col = 1\n",
    "        row += 1\n",
    "    else:\n",
    "        col += 1\n",
    "    data_ = all_sales[all_sales['platform'] == p]\n",
    "    fig.add_trace(go.Scatter(x = data_['year_of_release'], y = data_['total_sales']),\n",
    "              row=row, col=col)\n",
    "    \n",
    "\n",
    "fig.update_layout(height=1000, width=1000,\n",
    "                  title_text=\"Распределение продаж по годам\")\n",
    "\n",
    "fig.show()"
   ]
  },
  {
   "cell_type": "markdown",
   "metadata": {},
   "source": [
    "Из графика видно, что средняя продолжительность \"популярности\" платформы - примерно 5-7 лет"
   ]
  },
  {
   "cell_type": "markdown",
   "metadata": {},
   "source": [
    "### Возьмем данные за соответствующий актуальный период."
   ]
  },
  {
   "cell_type": "markdown",
   "metadata": {},
   "source": [
    "Так как максимальное значение столбца \"year_of_release\" = 2016 год, предлагаю взять 5-летний срок для анализа. \n",
    "Начиная с  2012 года(и включая 2016) как раз получится 5 лет.  "
   ]
  },
  {
   "cell_type": "code",
   "execution_count": 56,
   "metadata": {},
   "outputs": [
    {
     "data": {
      "text/html": [
       "<div>\n",
       "<style scoped>\n",
       "    .dataframe tbody tr th:only-of-type {\n",
       "        vertical-align: middle;\n",
       "    }\n",
       "\n",
       "    .dataframe tbody tr th {\n",
       "        vertical-align: top;\n",
       "    }\n",
       "\n",
       "    .dataframe thead th {\n",
       "        text-align: right;\n",
       "    }\n",
       "</style>\n",
       "<table border=\"1\" class=\"dataframe\">\n",
       "  <thead>\n",
       "    <tr style=\"text-align: right;\">\n",
       "      <th></th>\n",
       "      <th>name</th>\n",
       "      <th>platform</th>\n",
       "      <th>year_of_release</th>\n",
       "      <th>genre</th>\n",
       "      <th>na_sales</th>\n",
       "      <th>eu_sales</th>\n",
       "      <th>jp_sales</th>\n",
       "      <th>other_sales</th>\n",
       "      <th>critic_score</th>\n",
       "      <th>user_score</th>\n",
       "      <th>rating</th>\n",
       "      <th>total_sales</th>\n",
       "    </tr>\n",
       "  </thead>\n",
       "  <tbody>\n",
       "    <tr>\n",
       "      <th>16</th>\n",
       "      <td>Grand Theft Auto V</td>\n",
       "      <td>PS3</td>\n",
       "      <td>2013</td>\n",
       "      <td>Action</td>\n",
       "      <td>7.02</td>\n",
       "      <td>9.09</td>\n",
       "      <td>0.98</td>\n",
       "      <td>3.96</td>\n",
       "      <td>97.0</td>\n",
       "      <td>8.2</td>\n",
       "      <td>M</td>\n",
       "      <td>21.05</td>\n",
       "    </tr>\n",
       "    <tr>\n",
       "      <th>23</th>\n",
       "      <td>Grand Theft Auto V</td>\n",
       "      <td>X360</td>\n",
       "      <td>2013</td>\n",
       "      <td>Action</td>\n",
       "      <td>9.66</td>\n",
       "      <td>5.14</td>\n",
       "      <td>0.06</td>\n",
       "      <td>1.41</td>\n",
       "      <td>97.0</td>\n",
       "      <td>8.1</td>\n",
       "      <td>M</td>\n",
       "      <td>16.27</td>\n",
       "    </tr>\n",
       "    <tr>\n",
       "      <th>31</th>\n",
       "      <td>Call of Duty: Black Ops 3</td>\n",
       "      <td>PS4</td>\n",
       "      <td>2015</td>\n",
       "      <td>Shooter</td>\n",
       "      <td>6.03</td>\n",
       "      <td>5.86</td>\n",
       "      <td>0.36</td>\n",
       "      <td>2.38</td>\n",
       "      <td>0.0</td>\n",
       "      <td>0.0</td>\n",
       "      <td>0</td>\n",
       "      <td>14.63</td>\n",
       "    </tr>\n",
       "    <tr>\n",
       "      <th>33</th>\n",
       "      <td>Pokemon X/Pokemon Y</td>\n",
       "      <td>3DS</td>\n",
       "      <td>2013</td>\n",
       "      <td>Role-Playing</td>\n",
       "      <td>5.28</td>\n",
       "      <td>4.19</td>\n",
       "      <td>4.35</td>\n",
       "      <td>0.78</td>\n",
       "      <td>0.0</td>\n",
       "      <td>0.0</td>\n",
       "      <td>0</td>\n",
       "      <td>14.60</td>\n",
       "    </tr>\n",
       "    <tr>\n",
       "      <th>34</th>\n",
       "      <td>Call of Duty: Black Ops II</td>\n",
       "      <td>PS3</td>\n",
       "      <td>2012</td>\n",
       "      <td>Shooter</td>\n",
       "      <td>4.99</td>\n",
       "      <td>5.73</td>\n",
       "      <td>0.65</td>\n",
       "      <td>2.42</td>\n",
       "      <td>83.0</td>\n",
       "      <td>5.3</td>\n",
       "      <td>M</td>\n",
       "      <td>13.79</td>\n",
       "    </tr>\n",
       "  </tbody>\n",
       "</table>\n",
       "</div>"
      ],
      "text/plain": [
       "                          name platform  year_of_release         genre  \\\n",
       "16          Grand Theft Auto V      PS3             2013        Action   \n",
       "23          Grand Theft Auto V     X360             2013        Action   \n",
       "31   Call of Duty: Black Ops 3      PS4             2015       Shooter   \n",
       "33         Pokemon X/Pokemon Y      3DS             2013  Role-Playing   \n",
       "34  Call of Duty: Black Ops II      PS3             2012       Shooter   \n",
       "\n",
       "    na_sales  eu_sales  jp_sales  other_sales  critic_score  user_score  \\\n",
       "16      7.02      9.09      0.98         3.96          97.0         8.2   \n",
       "23      9.66      5.14      0.06         1.41          97.0         8.1   \n",
       "31      6.03      5.86      0.36         2.38           0.0         0.0   \n",
       "33      5.28      4.19      4.35         0.78           0.0         0.0   \n",
       "34      4.99      5.73      0.65         2.42          83.0         5.3   \n",
       "\n",
       "   rating  total_sales  \n",
       "16      M        21.05  \n",
       "23      M        16.27  \n",
       "31      0        14.63  \n",
       "33      0        14.60  \n",
       "34      M        13.79  "
      ]
     },
     "metadata": {},
     "output_type": "display_data"
    },
    {
     "name": "stdout",
     "output_type": "stream",
     "text": [
      "<class 'pandas.core.frame.DataFrame'>\n",
      "Int64Index: 2886 entries, 16 to 16714\n",
      "Data columns (total 12 columns):\n",
      " #   Column           Non-Null Count  Dtype  \n",
      "---  ------           --------------  -----  \n",
      " 0   name             2886 non-null   object \n",
      " 1   platform         2886 non-null   object \n",
      " 2   year_of_release  2886 non-null   int64  \n",
      " 3   genre            2886 non-null   object \n",
      " 4   na_sales         2886 non-null   float64\n",
      " 5   eu_sales         2886 non-null   float64\n",
      " 6   jp_sales         2886 non-null   float64\n",
      " 7   other_sales      2886 non-null   float64\n",
      " 8   critic_score     2886 non-null   float64\n",
      " 9   user_score       2886 non-null   float64\n",
      " 10  rating           2886 non-null   object \n",
      " 11  total_sales      2886 non-null   float64\n",
      "dtypes: float64(7), int64(1), object(4)\n",
      "memory usage: 293.1+ KB\n"
     ]
    }
   ],
   "source": [
    "data_for_analysis = games.query(\"year_of_release>=2012\")\n",
    "display(data_for_analysis.head())\n",
    "data_for_analysis.info()"
   ]
  },
  {
   "cell_type": "markdown",
   "metadata": {},
   "source": [
    "### Найдем платформы, которые: лидируют по продажам, растут или падают"
   ]
  },
  {
   "cell_type": "code",
   "execution_count": 57,
   "metadata": {},
   "outputs": [
    {
     "data": {
      "text/html": [
       "<div>\n",
       "<style scoped>\n",
       "    .dataframe tbody tr th:only-of-type {\n",
       "        vertical-align: middle;\n",
       "    }\n",
       "\n",
       "    .dataframe tbody tr th {\n",
       "        vertical-align: top;\n",
       "    }\n",
       "\n",
       "    .dataframe thead th {\n",
       "        text-align: right;\n",
       "    }\n",
       "</style>\n",
       "<table border=\"1\" class=\"dataframe\">\n",
       "  <thead>\n",
       "    <tr style=\"text-align: right;\">\n",
       "      <th></th>\n",
       "      <th>total_sales</th>\n",
       "    </tr>\n",
       "    <tr>\n",
       "      <th>platform</th>\n",
       "      <th></th>\n",
       "    </tr>\n",
       "  </thead>\n",
       "  <tbody>\n",
       "    <tr>\n",
       "      <th>3DS</th>\n",
       "      <td>194.61</td>\n",
       "    </tr>\n",
       "    <tr>\n",
       "      <th>DS</th>\n",
       "      <td>12.55</td>\n",
       "    </tr>\n",
       "    <tr>\n",
       "      <th>PC</th>\n",
       "      <td>62.65</td>\n",
       "    </tr>\n",
       "    <tr>\n",
       "      <th>PS3</th>\n",
       "      <td>288.79</td>\n",
       "    </tr>\n",
       "    <tr>\n",
       "      <th>PS4</th>\n",
       "      <td>314.14</td>\n",
       "    </tr>\n",
       "    <tr>\n",
       "      <th>PSP</th>\n",
       "      <td>11.19</td>\n",
       "    </tr>\n",
       "    <tr>\n",
       "      <th>PSV</th>\n",
       "      <td>49.18</td>\n",
       "    </tr>\n",
       "    <tr>\n",
       "      <th>Wii</th>\n",
       "      <td>35.37</td>\n",
       "    </tr>\n",
       "    <tr>\n",
       "      <th>WiiU</th>\n",
       "      <td>82.19</td>\n",
       "    </tr>\n",
       "    <tr>\n",
       "      <th>X360</th>\n",
       "      <td>236.54</td>\n",
       "    </tr>\n",
       "    <tr>\n",
       "      <th>XOne</th>\n",
       "      <td>159.32</td>\n",
       "    </tr>\n",
       "  </tbody>\n",
       "</table>\n",
       "</div>"
      ],
      "text/plain": [
       "          total_sales\n",
       "platform             \n",
       "3DS            194.61\n",
       "DS              12.55\n",
       "PC              62.65\n",
       "PS3            288.79\n",
       "PS4            314.14\n",
       "PSP             11.19\n",
       "PSV             49.18\n",
       "Wii             35.37\n",
       "WiiU            82.19\n",
       "X360           236.54\n",
       "XOne           159.32"
      ]
     },
     "metadata": {},
     "output_type": "display_data"
    },
    {
     "data": {
      "text/html": [
       "<div>\n",
       "<style scoped>\n",
       "    .dataframe tbody tr th:only-of-type {\n",
       "        vertical-align: middle;\n",
       "    }\n",
       "\n",
       "    .dataframe tbody tr th {\n",
       "        vertical-align: top;\n",
       "    }\n",
       "\n",
       "    .dataframe thead th {\n",
       "        text-align: right;\n",
       "    }\n",
       "</style>\n",
       "<table border=\"1\" class=\"dataframe\">\n",
       "  <thead>\n",
       "    <tr style=\"text-align: right;\">\n",
       "      <th></th>\n",
       "      <th>total_sales</th>\n",
       "    </tr>\n",
       "    <tr>\n",
       "      <th>platform</th>\n",
       "      <th></th>\n",
       "    </tr>\n",
       "  </thead>\n",
       "  <tbody>\n",
       "    <tr>\n",
       "      <th>PS4</th>\n",
       "      <td>314.14</td>\n",
       "    </tr>\n",
       "    <tr>\n",
       "      <th>PS3</th>\n",
       "      <td>288.79</td>\n",
       "    </tr>\n",
       "    <tr>\n",
       "      <th>X360</th>\n",
       "      <td>236.54</td>\n",
       "    </tr>\n",
       "    <tr>\n",
       "      <th>3DS</th>\n",
       "      <td>194.61</td>\n",
       "    </tr>\n",
       "    <tr>\n",
       "      <th>XOne</th>\n",
       "      <td>159.32</td>\n",
       "    </tr>\n",
       "    <tr>\n",
       "      <th>WiiU</th>\n",
       "      <td>82.19</td>\n",
       "    </tr>\n",
       "    <tr>\n",
       "      <th>PC</th>\n",
       "      <td>62.65</td>\n",
       "    </tr>\n",
       "    <tr>\n",
       "      <th>PSV</th>\n",
       "      <td>49.18</td>\n",
       "    </tr>\n",
       "    <tr>\n",
       "      <th>Wii</th>\n",
       "      <td>35.37</td>\n",
       "    </tr>\n",
       "    <tr>\n",
       "      <th>DS</th>\n",
       "      <td>12.55</td>\n",
       "    </tr>\n",
       "    <tr>\n",
       "      <th>PSP</th>\n",
       "      <td>11.19</td>\n",
       "    </tr>\n",
       "  </tbody>\n",
       "</table>\n",
       "</div>"
      ],
      "text/plain": [
       "          total_sales\n",
       "platform             \n",
       "PS4            314.14\n",
       "PS3            288.79\n",
       "X360           236.54\n",
       "3DS            194.61\n",
       "XOne           159.32\n",
       "WiiU            82.19\n",
       "PC              62.65\n",
       "PSV             49.18\n",
       "Wii             35.37\n",
       "DS              12.55\n",
       "PSP             11.19"
      ]
     },
     "metadata": {},
     "output_type": "display_data"
    }
   ],
   "source": [
    "top_platforms=data_for_analysis.pivot_table(index='platform', values='total_sales', aggfunc ='sum')\n",
    "display(top_platforms)\n",
    "display(top_platforms.sort_values(by='total_sales' , ascending=False))"
   ]
  },
  {
   "cell_type": "markdown",
   "metadata": {},
   "source": [
    "Больше всех зарабатывает Sony с линейкой PlayStation, PSP, PSV. Затем идет Microsoft с иксбоксами и пк, после них Nintendo с Wii и портативными консолями. "
   ]
  },
  {
   "cell_type": "code",
   "execution_count": 58,
   "metadata": {},
   "outputs": [],
   "source": [
    "PS4=data_for_analysis.query('platform == \"PS4\" ').groupby('year_of_release')['total_sales'].sum()\n",
    "PS3=data_for_analysis.query('platform == \"PS3\" ').groupby('year_of_release')['total_sales'].sum()\n",
    "X360=data_for_analysis.query('platform == \"X360 \" ').groupby('year_of_release')['total_sales'].sum()\n",
    "Wii=data_for_analysis.query('platform == \"Wii\" ').groupby('year_of_release')['total_sales'].sum()\n",
    "DS=data_for_analysis.query('platform == \"DS\" ').groupby('year_of_release')['total_sales'].sum()\n",
    "\n",
    "    \n",
    "    \n",
    "    \n",
    "ThreeDS=data_for_analysis.query('platform == \"3DS\" ').groupby('year_of_release')['total_sales'].sum()\n",
    "XOne=data_for_analysis.query('platform == \"XOne\" ').groupby('year_of_release')['total_sales'].sum()\n",
    "WiiU=data_for_analysis.query('platform == \"WiiU \" ').groupby('year_of_release')['total_sales'].sum()\n",
    "PC=data_for_analysis.query('platform == \"PC\" ').groupby('year_of_release')['total_sales'].sum()\n",
    "PSV=data_for_analysis.query('platform == \"PSV\" ').groupby('year_of_release')['total_sales'].sum()\n",
    "PSP=data_for_analysis.query('platform == \"PSP\" ').groupby('year_of_release')['total_sales'].sum()\n",
    "\n",
    "\n",
    "\n",
    "\n"
   ]
  },
  {
   "cell_type": "code",
   "execution_count": 59,
   "metadata": {},
   "outputs": [
    {
     "data": {
      "application/vnd.plotly.v1+json": {
       "config": {
        "plotlyServerURL": "https://plot.ly"
       },
       "data": [
        {
         "type": "scatter",
         "x": [
          2013,
          2014,
          2015,
          2016
         ],
         "xaxis": "x",
         "y": [
          25.990000000000002,
          99.99999999999996,
          118.90000000000008,
          69.25000000000001
         ],
         "yaxis": "y"
        },
        {
         "type": "scatter",
         "x": [
          2012,
          2013,
          2014,
          2015,
          2016
         ],
         "xaxis": "x2",
         "y": [
          107.36000000000001,
          113.24999999999999,
          47.76000000000002,
          16.820000000000007,
          3.5999999999999988
         ],
         "yaxis": "y2"
        },
        {
         "type": "scatter",
         "x": [
          2012,
          2013,
          2014,
          2015,
          2016
         ],
         "xaxis": "x3",
         "y": [
          23.21999999999999,
          12.379999999999997,
          13.279999999999994,
          8.51999999999999,
          5.249999999999997
         ],
         "yaxis": "y3"
        },
        {
         "type": "scatter",
         "x": [
          2013,
          2014,
          2015,
          2016
         ],
         "xaxis": "x4",
         "y": [
          18.959999999999994,
          54.06999999999999,
          60.14000000000002,
          26.15000000000002
         ],
         "yaxis": "y4"
        },
        {
         "type": "scatter",
         "x": [
          2012,
          2013,
          2014,
          2015,
          2016
         ],
         "xaxis": "x5",
         "y": [
          99.7400000000001,
          88.58000000000008,
          34.739999999999995,
          11.959999999999997,
          1.5200000000000002
         ],
         "yaxis": "y5"
        },
        {
         "type": "scatter",
         "x": [
          2012,
          2013,
          2014,
          2015,
          2016
         ],
         "xaxis": "x6",
         "y": [
          21.710000000000008,
          8.59,
          3.75,
          1.14,
          0.18
         ],
         "yaxis": "y6"
        },
        {
         "type": "scatter",
         "x": [
          2012,
          2013
         ],
         "xaxis": "x7",
         "y": [
          11.009999999999996,
          1.54
         ],
         "yaxis": "y7"
        },
        {
         "type": "scatter",
         "x": [
          2012,
          2013,
          2014,
          2015,
          2016
         ],
         "xaxis": "x8",
         "y": [
          51.36000000000002,
          56.57,
          43.76000000000003,
          27.78,
          15.13999999999999
         ],
         "yaxis": "y8"
        },
        {
         "type": "scatter",
         "x": [
          2012,
          2013,
          2014,
          2015,
          2016
         ],
         "xaxis": "x9",
         "y": [
          17.559999999999995,
          21.65,
          22.029999999999994,
          16.35000000000001,
          4.6000000000000005
         ],
         "yaxis": "y9"
        },
        {
         "type": "scatter",
         "x": [
          2012,
          2013,
          2014,
          2015
         ],
         "xaxis": "x10",
         "y": [
          7.68999999999999,
          3.139999999999996,
          0.24000000000000005,
          0.12000000000000001
         ],
         "yaxis": "y10"
        },
        {
         "type": "scatter",
         "x": [
          2012,
          2013,
          2014,
          2015,
          2016
         ],
         "xaxis": "x11",
         "y": [
          16.190000000000005,
          10.589999999999995,
          11.899999999999988,
          6.249999999999988,
          4.249999999999992
         ],
         "yaxis": "y11"
        }
       ],
       "layout": {
        "annotations": [
         {
          "font": {
           "size": 16
          },
          "showarrow": false,
          "text": "PS4",
          "x": 0.10625,
          "xanchor": "center",
          "xref": "paper",
          "y": 1,
          "yanchor": "bottom",
          "yref": "paper"
         },
         {
          "font": {
           "size": 16
          },
          "showarrow": false,
          "text": "PS3",
          "x": 0.36875,
          "xanchor": "center",
          "xref": "paper",
          "y": 1,
          "yanchor": "bottom",
          "yref": "paper"
         },
         {
          "font": {
           "size": 16
          },
          "showarrow": false,
          "text": "PC",
          "x": 0.6312500000000001,
          "xanchor": "center",
          "xref": "paper",
          "y": 1,
          "yanchor": "bottom",
          "yref": "paper"
         },
         {
          "font": {
           "size": 16
          },
          "showarrow": false,
          "text": "XOne",
          "x": 0.89375,
          "xanchor": "center",
          "xref": "paper",
          "y": 1,
          "yanchor": "bottom",
          "yref": "paper"
         },
         {
          "font": {
           "size": 16
          },
          "showarrow": false,
          "text": "X360",
          "x": 0.10625,
          "xanchor": "center",
          "xref": "paper",
          "y": 0.71875,
          "yanchor": "bottom",
          "yref": "paper"
         },
         {
          "font": {
           "size": 16
          },
          "showarrow": false,
          "text": "Wii",
          "x": 0.36875,
          "xanchor": "center",
          "xref": "paper",
          "y": 0.71875,
          "yanchor": "bottom",
          "yref": "paper"
         },
         {
          "font": {
           "size": 16
          },
          "showarrow": false,
          "text": "DS",
          "x": 0.6312500000000001,
          "xanchor": "center",
          "xref": "paper",
          "y": 0.71875,
          "yanchor": "bottom",
          "yref": "paper"
         },
         {
          "font": {
           "size": 16
          },
          "showarrow": false,
          "text": "3DS",
          "x": 0.89375,
          "xanchor": "center",
          "xref": "paper",
          "y": 0.71875,
          "yanchor": "bottom",
          "yref": "paper"
         },
         {
          "font": {
           "size": 16
          },
          "showarrow": false,
          "text": "WiiU",
          "x": 0.10625,
          "xanchor": "center",
          "xref": "paper",
          "y": 0.4375,
          "yanchor": "bottom",
          "yref": "paper"
         },
         {
          "font": {
           "size": 16
          },
          "showarrow": false,
          "text": "PSP",
          "x": 0.36875,
          "xanchor": "center",
          "xref": "paper",
          "y": 0.4375,
          "yanchor": "bottom",
          "yref": "paper"
         },
         {
          "font": {
           "size": 16
          },
          "showarrow": false,
          "text": "PSV",
          "x": 0.6312500000000001,
          "xanchor": "center",
          "xref": "paper",
          "y": 0.4375,
          "yanchor": "bottom",
          "yref": "paper"
         }
        ],
        "height": 1000,
        "template": {
         "data": {
          "bar": [
           {
            "error_x": {
             "color": "#2a3f5f"
            },
            "error_y": {
             "color": "#2a3f5f"
            },
            "marker": {
             "line": {
              "color": "#E5ECF6",
              "width": 0.5
             },
             "pattern": {
              "fillmode": "overlay",
              "size": 10,
              "solidity": 0.2
             }
            },
            "type": "bar"
           }
          ],
          "barpolar": [
           {
            "marker": {
             "line": {
              "color": "#E5ECF6",
              "width": 0.5
             },
             "pattern": {
              "fillmode": "overlay",
              "size": 10,
              "solidity": 0.2
             }
            },
            "type": "barpolar"
           }
          ],
          "carpet": [
           {
            "aaxis": {
             "endlinecolor": "#2a3f5f",
             "gridcolor": "white",
             "linecolor": "white",
             "minorgridcolor": "white",
             "startlinecolor": "#2a3f5f"
            },
            "baxis": {
             "endlinecolor": "#2a3f5f",
             "gridcolor": "white",
             "linecolor": "white",
             "minorgridcolor": "white",
             "startlinecolor": "#2a3f5f"
            },
            "type": "carpet"
           }
          ],
          "choropleth": [
           {
            "colorbar": {
             "outlinewidth": 0,
             "ticks": ""
            },
            "type": "choropleth"
           }
          ],
          "contour": [
           {
            "colorbar": {
             "outlinewidth": 0,
             "ticks": ""
            },
            "colorscale": [
             [
              0,
              "#0d0887"
             ],
             [
              0.1111111111111111,
              "#46039f"
             ],
             [
              0.2222222222222222,
              "#7201a8"
             ],
             [
              0.3333333333333333,
              "#9c179e"
             ],
             [
              0.4444444444444444,
              "#bd3786"
             ],
             [
              0.5555555555555556,
              "#d8576b"
             ],
             [
              0.6666666666666666,
              "#ed7953"
             ],
             [
              0.7777777777777778,
              "#fb9f3a"
             ],
             [
              0.8888888888888888,
              "#fdca26"
             ],
             [
              1,
              "#f0f921"
             ]
            ],
            "type": "contour"
           }
          ],
          "contourcarpet": [
           {
            "colorbar": {
             "outlinewidth": 0,
             "ticks": ""
            },
            "type": "contourcarpet"
           }
          ],
          "heatmap": [
           {
            "colorbar": {
             "outlinewidth": 0,
             "ticks": ""
            },
            "colorscale": [
             [
              0,
              "#0d0887"
             ],
             [
              0.1111111111111111,
              "#46039f"
             ],
             [
              0.2222222222222222,
              "#7201a8"
             ],
             [
              0.3333333333333333,
              "#9c179e"
             ],
             [
              0.4444444444444444,
              "#bd3786"
             ],
             [
              0.5555555555555556,
              "#d8576b"
             ],
             [
              0.6666666666666666,
              "#ed7953"
             ],
             [
              0.7777777777777778,
              "#fb9f3a"
             ],
             [
              0.8888888888888888,
              "#fdca26"
             ],
             [
              1,
              "#f0f921"
             ]
            ],
            "type": "heatmap"
           }
          ],
          "heatmapgl": [
           {
            "colorbar": {
             "outlinewidth": 0,
             "ticks": ""
            },
            "colorscale": [
             [
              0,
              "#0d0887"
             ],
             [
              0.1111111111111111,
              "#46039f"
             ],
             [
              0.2222222222222222,
              "#7201a8"
             ],
             [
              0.3333333333333333,
              "#9c179e"
             ],
             [
              0.4444444444444444,
              "#bd3786"
             ],
             [
              0.5555555555555556,
              "#d8576b"
             ],
             [
              0.6666666666666666,
              "#ed7953"
             ],
             [
              0.7777777777777778,
              "#fb9f3a"
             ],
             [
              0.8888888888888888,
              "#fdca26"
             ],
             [
              1,
              "#f0f921"
             ]
            ],
            "type": "heatmapgl"
           }
          ],
          "histogram": [
           {
            "marker": {
             "pattern": {
              "fillmode": "overlay",
              "size": 10,
              "solidity": 0.2
             }
            },
            "type": "histogram"
           }
          ],
          "histogram2d": [
           {
            "colorbar": {
             "outlinewidth": 0,
             "ticks": ""
            },
            "colorscale": [
             [
              0,
              "#0d0887"
             ],
             [
              0.1111111111111111,
              "#46039f"
             ],
             [
              0.2222222222222222,
              "#7201a8"
             ],
             [
              0.3333333333333333,
              "#9c179e"
             ],
             [
              0.4444444444444444,
              "#bd3786"
             ],
             [
              0.5555555555555556,
              "#d8576b"
             ],
             [
              0.6666666666666666,
              "#ed7953"
             ],
             [
              0.7777777777777778,
              "#fb9f3a"
             ],
             [
              0.8888888888888888,
              "#fdca26"
             ],
             [
              1,
              "#f0f921"
             ]
            ],
            "type": "histogram2d"
           }
          ],
          "histogram2dcontour": [
           {
            "colorbar": {
             "outlinewidth": 0,
             "ticks": ""
            },
            "colorscale": [
             [
              0,
              "#0d0887"
             ],
             [
              0.1111111111111111,
              "#46039f"
             ],
             [
              0.2222222222222222,
              "#7201a8"
             ],
             [
              0.3333333333333333,
              "#9c179e"
             ],
             [
              0.4444444444444444,
              "#bd3786"
             ],
             [
              0.5555555555555556,
              "#d8576b"
             ],
             [
              0.6666666666666666,
              "#ed7953"
             ],
             [
              0.7777777777777778,
              "#fb9f3a"
             ],
             [
              0.8888888888888888,
              "#fdca26"
             ],
             [
              1,
              "#f0f921"
             ]
            ],
            "type": "histogram2dcontour"
           }
          ],
          "mesh3d": [
           {
            "colorbar": {
             "outlinewidth": 0,
             "ticks": ""
            },
            "type": "mesh3d"
           }
          ],
          "parcoords": [
           {
            "line": {
             "colorbar": {
              "outlinewidth": 0,
              "ticks": ""
             }
            },
            "type": "parcoords"
           }
          ],
          "pie": [
           {
            "automargin": true,
            "type": "pie"
           }
          ],
          "scatter": [
           {
            "marker": {
             "colorbar": {
              "outlinewidth": 0,
              "ticks": ""
             }
            },
            "type": "scatter"
           }
          ],
          "scatter3d": [
           {
            "line": {
             "colorbar": {
              "outlinewidth": 0,
              "ticks": ""
             }
            },
            "marker": {
             "colorbar": {
              "outlinewidth": 0,
              "ticks": ""
             }
            },
            "type": "scatter3d"
           }
          ],
          "scattercarpet": [
           {
            "marker": {
             "colorbar": {
              "outlinewidth": 0,
              "ticks": ""
             }
            },
            "type": "scattercarpet"
           }
          ],
          "scattergeo": [
           {
            "marker": {
             "colorbar": {
              "outlinewidth": 0,
              "ticks": ""
             }
            },
            "type": "scattergeo"
           }
          ],
          "scattergl": [
           {
            "marker": {
             "colorbar": {
              "outlinewidth": 0,
              "ticks": ""
             }
            },
            "type": "scattergl"
           }
          ],
          "scattermapbox": [
           {
            "marker": {
             "colorbar": {
              "outlinewidth": 0,
              "ticks": ""
             }
            },
            "type": "scattermapbox"
           }
          ],
          "scatterpolar": [
           {
            "marker": {
             "colorbar": {
              "outlinewidth": 0,
              "ticks": ""
             }
            },
            "type": "scatterpolar"
           }
          ],
          "scatterpolargl": [
           {
            "marker": {
             "colorbar": {
              "outlinewidth": 0,
              "ticks": ""
             }
            },
            "type": "scatterpolargl"
           }
          ],
          "scatterternary": [
           {
            "marker": {
             "colorbar": {
              "outlinewidth": 0,
              "ticks": ""
             }
            },
            "type": "scatterternary"
           }
          ],
          "surface": [
           {
            "colorbar": {
             "outlinewidth": 0,
             "ticks": ""
            },
            "colorscale": [
             [
              0,
              "#0d0887"
             ],
             [
              0.1111111111111111,
              "#46039f"
             ],
             [
              0.2222222222222222,
              "#7201a8"
             ],
             [
              0.3333333333333333,
              "#9c179e"
             ],
             [
              0.4444444444444444,
              "#bd3786"
             ],
             [
              0.5555555555555556,
              "#d8576b"
             ],
             [
              0.6666666666666666,
              "#ed7953"
             ],
             [
              0.7777777777777778,
              "#fb9f3a"
             ],
             [
              0.8888888888888888,
              "#fdca26"
             ],
             [
              1,
              "#f0f921"
             ]
            ],
            "type": "surface"
           }
          ],
          "table": [
           {
            "cells": {
             "fill": {
              "color": "#EBF0F8"
             },
             "line": {
              "color": "white"
             }
            },
            "header": {
             "fill": {
              "color": "#C8D4E3"
             },
             "line": {
              "color": "white"
             }
            },
            "type": "table"
           }
          ]
         },
         "layout": {
          "annotationdefaults": {
           "arrowcolor": "#2a3f5f",
           "arrowhead": 0,
           "arrowwidth": 1
          },
          "autotypenumbers": "strict",
          "coloraxis": {
           "colorbar": {
            "outlinewidth": 0,
            "ticks": ""
           }
          },
          "colorscale": {
           "diverging": [
            [
             0,
             "#8e0152"
            ],
            [
             0.1,
             "#c51b7d"
            ],
            [
             0.2,
             "#de77ae"
            ],
            [
             0.3,
             "#f1b6da"
            ],
            [
             0.4,
             "#fde0ef"
            ],
            [
             0.5,
             "#f7f7f7"
            ],
            [
             0.6,
             "#e6f5d0"
            ],
            [
             0.7,
             "#b8e186"
            ],
            [
             0.8,
             "#7fbc41"
            ],
            [
             0.9,
             "#4d9221"
            ],
            [
             1,
             "#276419"
            ]
           ],
           "sequential": [
            [
             0,
             "#0d0887"
            ],
            [
             0.1111111111111111,
             "#46039f"
            ],
            [
             0.2222222222222222,
             "#7201a8"
            ],
            [
             0.3333333333333333,
             "#9c179e"
            ],
            [
             0.4444444444444444,
             "#bd3786"
            ],
            [
             0.5555555555555556,
             "#d8576b"
            ],
            [
             0.6666666666666666,
             "#ed7953"
            ],
            [
             0.7777777777777778,
             "#fb9f3a"
            ],
            [
             0.8888888888888888,
             "#fdca26"
            ],
            [
             1,
             "#f0f921"
            ]
           ],
           "sequentialminus": [
            [
             0,
             "#0d0887"
            ],
            [
             0.1111111111111111,
             "#46039f"
            ],
            [
             0.2222222222222222,
             "#7201a8"
            ],
            [
             0.3333333333333333,
             "#9c179e"
            ],
            [
             0.4444444444444444,
             "#bd3786"
            ],
            [
             0.5555555555555556,
             "#d8576b"
            ],
            [
             0.6666666666666666,
             "#ed7953"
            ],
            [
             0.7777777777777778,
             "#fb9f3a"
            ],
            [
             0.8888888888888888,
             "#fdca26"
            ],
            [
             1,
             "#f0f921"
            ]
           ]
          },
          "colorway": [
           "#636efa",
           "#EF553B",
           "#00cc96",
           "#ab63fa",
           "#FFA15A",
           "#19d3f3",
           "#FF6692",
           "#B6E880",
           "#FF97FF",
           "#FECB52"
          ],
          "font": {
           "color": "#2a3f5f"
          },
          "geo": {
           "bgcolor": "white",
           "lakecolor": "white",
           "landcolor": "#E5ECF6",
           "showlakes": true,
           "showland": true,
           "subunitcolor": "white"
          },
          "hoverlabel": {
           "align": "left"
          },
          "hovermode": "closest",
          "mapbox": {
           "style": "light"
          },
          "paper_bgcolor": "white",
          "plot_bgcolor": "#E5ECF6",
          "polar": {
           "angularaxis": {
            "gridcolor": "white",
            "linecolor": "white",
            "ticks": ""
           },
           "bgcolor": "#E5ECF6",
           "radialaxis": {
            "gridcolor": "white",
            "linecolor": "white",
            "ticks": ""
           }
          },
          "scene": {
           "xaxis": {
            "backgroundcolor": "#E5ECF6",
            "gridcolor": "white",
            "gridwidth": 2,
            "linecolor": "white",
            "showbackground": true,
            "ticks": "",
            "zerolinecolor": "white"
           },
           "yaxis": {
            "backgroundcolor": "#E5ECF6",
            "gridcolor": "white",
            "gridwidth": 2,
            "linecolor": "white",
            "showbackground": true,
            "ticks": "",
            "zerolinecolor": "white"
           },
           "zaxis": {
            "backgroundcolor": "#E5ECF6",
            "gridcolor": "white",
            "gridwidth": 2,
            "linecolor": "white",
            "showbackground": true,
            "ticks": "",
            "zerolinecolor": "white"
           }
          },
          "shapedefaults": {
           "line": {
            "color": "#2a3f5f"
           }
          },
          "ternary": {
           "aaxis": {
            "gridcolor": "white",
            "linecolor": "white",
            "ticks": ""
           },
           "baxis": {
            "gridcolor": "white",
            "linecolor": "white",
            "ticks": ""
           },
           "bgcolor": "#E5ECF6",
           "caxis": {
            "gridcolor": "white",
            "linecolor": "white",
            "ticks": ""
           }
          },
          "title": {
           "x": 0.05
          },
          "xaxis": {
           "automargin": true,
           "gridcolor": "white",
           "linecolor": "white",
           "ticks": "",
           "title": {
            "standoff": 15
           },
           "zerolinecolor": "white",
           "zerolinewidth": 2
          },
          "yaxis": {
           "automargin": true,
           "gridcolor": "white",
           "linecolor": "white",
           "ticks": "",
           "title": {
            "standoff": 15
           },
           "zerolinecolor": "white",
           "zerolinewidth": 2
          }
         }
        },
        "title": {
         "text": "Распределение продаж по годам"
        },
        "width": 1000,
        "xaxis": {
         "anchor": "y",
         "domain": [
          0,
          0.2125
         ]
        },
        "xaxis10": {
         "anchor": "y10",
         "domain": [
          0.2625,
          0.475
         ]
        },
        "xaxis11": {
         "anchor": "y11",
         "domain": [
          0.525,
          0.7375
         ]
        },
        "xaxis12": {
         "anchor": "y12",
         "domain": [
          0.7875,
          1
         ]
        },
        "xaxis13": {
         "anchor": "y13",
         "domain": [
          0,
          0.2125
         ]
        },
        "xaxis14": {
         "anchor": "y14",
         "domain": [
          0.2625,
          0.475
         ]
        },
        "xaxis15": {
         "anchor": "y15",
         "domain": [
          0.525,
          0.7375
         ]
        },
        "xaxis16": {
         "anchor": "y16",
         "domain": [
          0.7875,
          1
         ]
        },
        "xaxis2": {
         "anchor": "y2",
         "domain": [
          0.2625,
          0.475
         ]
        },
        "xaxis3": {
         "anchor": "y3",
         "domain": [
          0.525,
          0.7375
         ]
        },
        "xaxis4": {
         "anchor": "y4",
         "domain": [
          0.7875,
          1
         ]
        },
        "xaxis5": {
         "anchor": "y5",
         "domain": [
          0,
          0.2125
         ]
        },
        "xaxis6": {
         "anchor": "y6",
         "domain": [
          0.2625,
          0.475
         ]
        },
        "xaxis7": {
         "anchor": "y7",
         "domain": [
          0.525,
          0.7375
         ]
        },
        "xaxis8": {
         "anchor": "y8",
         "domain": [
          0.7875,
          1
         ]
        },
        "xaxis9": {
         "anchor": "y9",
         "domain": [
          0,
          0.2125
         ]
        },
        "yaxis": {
         "anchor": "x",
         "domain": [
          0.84375,
          1
         ]
        },
        "yaxis10": {
         "anchor": "x10",
         "domain": [
          0.28125,
          0.4375
         ]
        },
        "yaxis11": {
         "anchor": "x11",
         "domain": [
          0.28125,
          0.4375
         ]
        },
        "yaxis12": {
         "anchor": "x12",
         "domain": [
          0.28125,
          0.4375
         ]
        },
        "yaxis13": {
         "anchor": "x13",
         "domain": [
          0,
          0.15625
         ]
        },
        "yaxis14": {
         "anchor": "x14",
         "domain": [
          0,
          0.15625
         ]
        },
        "yaxis15": {
         "anchor": "x15",
         "domain": [
          0,
          0.15625
         ]
        },
        "yaxis16": {
         "anchor": "x16",
         "domain": [
          0,
          0.15625
         ]
        },
        "yaxis2": {
         "anchor": "x2",
         "domain": [
          0.84375,
          1
         ]
        },
        "yaxis3": {
         "anchor": "x3",
         "domain": [
          0.84375,
          1
         ]
        },
        "yaxis4": {
         "anchor": "x4",
         "domain": [
          0.84375,
          1
         ]
        },
        "yaxis5": {
         "anchor": "x5",
         "domain": [
          0.5625,
          0.71875
         ]
        },
        "yaxis6": {
         "anchor": "x6",
         "domain": [
          0.5625,
          0.71875
         ]
        },
        "yaxis7": {
         "anchor": "x7",
         "domain": [
          0.5625,
          0.71875
         ]
        },
        "yaxis8": {
         "anchor": "x8",
         "domain": [
          0.5625,
          0.71875
         ]
        },
        "yaxis9": {
         "anchor": "x9",
         "domain": [
          0.28125,
          0.4375
         ]
        }
       }
      },
      "text/html": [
       "<div>                            <div id=\"38f373da-6743-42b5-b7da-e8e90c285b2d\" class=\"plotly-graph-div\" style=\"height:1000px; width:1000px;\"></div>            <script type=\"text/javascript\">                require([\"plotly\"], function(Plotly) {                    window.PLOTLYENV=window.PLOTLYENV || {};                                    if (document.getElementById(\"38f373da-6743-42b5-b7da-e8e90c285b2d\")) {                    Plotly.newPlot(                        \"38f373da-6743-42b5-b7da-e8e90c285b2d\",                        [{\"type\":\"scatter\",\"x\":[2013,2014,2015,2016],\"xaxis\":\"x\",\"y\":[25.990000000000002,99.99999999999996,118.90000000000008,69.25000000000001],\"yaxis\":\"y\"},{\"type\":\"scatter\",\"x\":[2012,2013,2014,2015,2016],\"xaxis\":\"x2\",\"y\":[107.36000000000001,113.24999999999999,47.76000000000002,16.820000000000007,3.5999999999999988],\"yaxis\":\"y2\"},{\"type\":\"scatter\",\"x\":[2012,2013,2014,2015,2016],\"xaxis\":\"x3\",\"y\":[23.21999999999999,12.379999999999997,13.279999999999994,8.51999999999999,5.249999999999997],\"yaxis\":\"y3\"},{\"type\":\"scatter\",\"x\":[2013,2014,2015,2016],\"xaxis\":\"x4\",\"y\":[18.959999999999994,54.06999999999999,60.14000000000002,26.15000000000002],\"yaxis\":\"y4\"},{\"type\":\"scatter\",\"x\":[2012,2013,2014,2015,2016],\"xaxis\":\"x5\",\"y\":[99.7400000000001,88.58000000000008,34.739999999999995,11.959999999999997,1.5200000000000002],\"yaxis\":\"y5\"},{\"type\":\"scatter\",\"x\":[2012,2013,2014,2015,2016],\"xaxis\":\"x6\",\"y\":[21.710000000000008,8.59,3.75,1.14,0.18],\"yaxis\":\"y6\"},{\"type\":\"scatter\",\"x\":[2012,2013],\"xaxis\":\"x7\",\"y\":[11.009999999999996,1.54],\"yaxis\":\"y7\"},{\"type\":\"scatter\",\"x\":[2012,2013,2014,2015,2016],\"xaxis\":\"x8\",\"y\":[51.36000000000002,56.57,43.76000000000003,27.78,15.13999999999999],\"yaxis\":\"y8\"},{\"type\":\"scatter\",\"x\":[2012,2013,2014,2015,2016],\"xaxis\":\"x9\",\"y\":[17.559999999999995,21.65,22.029999999999994,16.35000000000001,4.6000000000000005],\"yaxis\":\"y9\"},{\"type\":\"scatter\",\"x\":[2012,2013,2014,2015],\"xaxis\":\"x10\",\"y\":[7.68999999999999,3.139999999999996,0.24000000000000005,0.12000000000000001],\"yaxis\":\"y10\"},{\"type\":\"scatter\",\"x\":[2012,2013,2014,2015,2016],\"xaxis\":\"x11\",\"y\":[16.190000000000005,10.589999999999995,11.899999999999988,6.249999999999988,4.249999999999992],\"yaxis\":\"y11\"}],                        {\"annotations\":[{\"font\":{\"size\":16},\"showarrow\":false,\"text\":\"PS4\",\"x\":0.10625,\"xanchor\":\"center\",\"xref\":\"paper\",\"y\":1.0,\"yanchor\":\"bottom\",\"yref\":\"paper\"},{\"font\":{\"size\":16},\"showarrow\":false,\"text\":\"PS3\",\"x\":0.36875,\"xanchor\":\"center\",\"xref\":\"paper\",\"y\":1.0,\"yanchor\":\"bottom\",\"yref\":\"paper\"},{\"font\":{\"size\":16},\"showarrow\":false,\"text\":\"PC\",\"x\":0.6312500000000001,\"xanchor\":\"center\",\"xref\":\"paper\",\"y\":1.0,\"yanchor\":\"bottom\",\"yref\":\"paper\"},{\"font\":{\"size\":16},\"showarrow\":false,\"text\":\"XOne\",\"x\":0.89375,\"xanchor\":\"center\",\"xref\":\"paper\",\"y\":1.0,\"yanchor\":\"bottom\",\"yref\":\"paper\"},{\"font\":{\"size\":16},\"showarrow\":false,\"text\":\"X360\",\"x\":0.10625,\"xanchor\":\"center\",\"xref\":\"paper\",\"y\":0.71875,\"yanchor\":\"bottom\",\"yref\":\"paper\"},{\"font\":{\"size\":16},\"showarrow\":false,\"text\":\"Wii\",\"x\":0.36875,\"xanchor\":\"center\",\"xref\":\"paper\",\"y\":0.71875,\"yanchor\":\"bottom\",\"yref\":\"paper\"},{\"font\":{\"size\":16},\"showarrow\":false,\"text\":\"DS\",\"x\":0.6312500000000001,\"xanchor\":\"center\",\"xref\":\"paper\",\"y\":0.71875,\"yanchor\":\"bottom\",\"yref\":\"paper\"},{\"font\":{\"size\":16},\"showarrow\":false,\"text\":\"3DS\",\"x\":0.89375,\"xanchor\":\"center\",\"xref\":\"paper\",\"y\":0.71875,\"yanchor\":\"bottom\",\"yref\":\"paper\"},{\"font\":{\"size\":16},\"showarrow\":false,\"text\":\"WiiU\",\"x\":0.10625,\"xanchor\":\"center\",\"xref\":\"paper\",\"y\":0.4375,\"yanchor\":\"bottom\",\"yref\":\"paper\"},{\"font\":{\"size\":16},\"showarrow\":false,\"text\":\"PSP\",\"x\":0.36875,\"xanchor\":\"center\",\"xref\":\"paper\",\"y\":0.4375,\"yanchor\":\"bottom\",\"yref\":\"paper\"},{\"font\":{\"size\":16},\"showarrow\":false,\"text\":\"PSV\",\"x\":0.6312500000000001,\"xanchor\":\"center\",\"xref\":\"paper\",\"y\":0.4375,\"yanchor\":\"bottom\",\"yref\":\"paper\"}],\"height\":1000,\"template\":{\"data\":{\"bar\":[{\"error_x\":{\"color\":\"#2a3f5f\"},\"error_y\":{\"color\":\"#2a3f5f\"},\"marker\":{\"line\":{\"color\":\"#E5ECF6\",\"width\":0.5},\"pattern\":{\"fillmode\":\"overlay\",\"size\":10,\"solidity\":0.2}},\"type\":\"bar\"}],\"barpolar\":[{\"marker\":{\"line\":{\"color\":\"#E5ECF6\",\"width\":0.5},\"pattern\":{\"fillmode\":\"overlay\",\"size\":10,\"solidity\":0.2}},\"type\":\"barpolar\"}],\"carpet\":[{\"aaxis\":{\"endlinecolor\":\"#2a3f5f\",\"gridcolor\":\"white\",\"linecolor\":\"white\",\"minorgridcolor\":\"white\",\"startlinecolor\":\"#2a3f5f\"},\"baxis\":{\"endlinecolor\":\"#2a3f5f\",\"gridcolor\":\"white\",\"linecolor\":\"white\",\"minorgridcolor\":\"white\",\"startlinecolor\":\"#2a3f5f\"},\"type\":\"carpet\"}],\"choropleth\":[{\"colorbar\":{\"outlinewidth\":0,\"ticks\":\"\"},\"type\":\"choropleth\"}],\"contour\":[{\"colorbar\":{\"outlinewidth\":0,\"ticks\":\"\"},\"colorscale\":[[0.0,\"#0d0887\"],[0.1111111111111111,\"#46039f\"],[0.2222222222222222,\"#7201a8\"],[0.3333333333333333,\"#9c179e\"],[0.4444444444444444,\"#bd3786\"],[0.5555555555555556,\"#d8576b\"],[0.6666666666666666,\"#ed7953\"],[0.7777777777777778,\"#fb9f3a\"],[0.8888888888888888,\"#fdca26\"],[1.0,\"#f0f921\"]],\"type\":\"contour\"}],\"contourcarpet\":[{\"colorbar\":{\"outlinewidth\":0,\"ticks\":\"\"},\"type\":\"contourcarpet\"}],\"heatmap\":[{\"colorbar\":{\"outlinewidth\":0,\"ticks\":\"\"},\"colorscale\":[[0.0,\"#0d0887\"],[0.1111111111111111,\"#46039f\"],[0.2222222222222222,\"#7201a8\"],[0.3333333333333333,\"#9c179e\"],[0.4444444444444444,\"#bd3786\"],[0.5555555555555556,\"#d8576b\"],[0.6666666666666666,\"#ed7953\"],[0.7777777777777778,\"#fb9f3a\"],[0.8888888888888888,\"#fdca26\"],[1.0,\"#f0f921\"]],\"type\":\"heatmap\"}],\"heatmapgl\":[{\"colorbar\":{\"outlinewidth\":0,\"ticks\":\"\"},\"colorscale\":[[0.0,\"#0d0887\"],[0.1111111111111111,\"#46039f\"],[0.2222222222222222,\"#7201a8\"],[0.3333333333333333,\"#9c179e\"],[0.4444444444444444,\"#bd3786\"],[0.5555555555555556,\"#d8576b\"],[0.6666666666666666,\"#ed7953\"],[0.7777777777777778,\"#fb9f3a\"],[0.8888888888888888,\"#fdca26\"],[1.0,\"#f0f921\"]],\"type\":\"heatmapgl\"}],\"histogram\":[{\"marker\":{\"pattern\":{\"fillmode\":\"overlay\",\"size\":10,\"solidity\":0.2}},\"type\":\"histogram\"}],\"histogram2d\":[{\"colorbar\":{\"outlinewidth\":0,\"ticks\":\"\"},\"colorscale\":[[0.0,\"#0d0887\"],[0.1111111111111111,\"#46039f\"],[0.2222222222222222,\"#7201a8\"],[0.3333333333333333,\"#9c179e\"],[0.4444444444444444,\"#bd3786\"],[0.5555555555555556,\"#d8576b\"],[0.6666666666666666,\"#ed7953\"],[0.7777777777777778,\"#fb9f3a\"],[0.8888888888888888,\"#fdca26\"],[1.0,\"#f0f921\"]],\"type\":\"histogram2d\"}],\"histogram2dcontour\":[{\"colorbar\":{\"outlinewidth\":0,\"ticks\":\"\"},\"colorscale\":[[0.0,\"#0d0887\"],[0.1111111111111111,\"#46039f\"],[0.2222222222222222,\"#7201a8\"],[0.3333333333333333,\"#9c179e\"],[0.4444444444444444,\"#bd3786\"],[0.5555555555555556,\"#d8576b\"],[0.6666666666666666,\"#ed7953\"],[0.7777777777777778,\"#fb9f3a\"],[0.8888888888888888,\"#fdca26\"],[1.0,\"#f0f921\"]],\"type\":\"histogram2dcontour\"}],\"mesh3d\":[{\"colorbar\":{\"outlinewidth\":0,\"ticks\":\"\"},\"type\":\"mesh3d\"}],\"parcoords\":[{\"line\":{\"colorbar\":{\"outlinewidth\":0,\"ticks\":\"\"}},\"type\":\"parcoords\"}],\"pie\":[{\"automargin\":true,\"type\":\"pie\"}],\"scatter\":[{\"marker\":{\"colorbar\":{\"outlinewidth\":0,\"ticks\":\"\"}},\"type\":\"scatter\"}],\"scatter3d\":[{\"line\":{\"colorbar\":{\"outlinewidth\":0,\"ticks\":\"\"}},\"marker\":{\"colorbar\":{\"outlinewidth\":0,\"ticks\":\"\"}},\"type\":\"scatter3d\"}],\"scattercarpet\":[{\"marker\":{\"colorbar\":{\"outlinewidth\":0,\"ticks\":\"\"}},\"type\":\"scattercarpet\"}],\"scattergeo\":[{\"marker\":{\"colorbar\":{\"outlinewidth\":0,\"ticks\":\"\"}},\"type\":\"scattergeo\"}],\"scattergl\":[{\"marker\":{\"colorbar\":{\"outlinewidth\":0,\"ticks\":\"\"}},\"type\":\"scattergl\"}],\"scattermapbox\":[{\"marker\":{\"colorbar\":{\"outlinewidth\":0,\"ticks\":\"\"}},\"type\":\"scattermapbox\"}],\"scatterpolar\":[{\"marker\":{\"colorbar\":{\"outlinewidth\":0,\"ticks\":\"\"}},\"type\":\"scatterpolar\"}],\"scatterpolargl\":[{\"marker\":{\"colorbar\":{\"outlinewidth\":0,\"ticks\":\"\"}},\"type\":\"scatterpolargl\"}],\"scatterternary\":[{\"marker\":{\"colorbar\":{\"outlinewidth\":0,\"ticks\":\"\"}},\"type\":\"scatterternary\"}],\"surface\":[{\"colorbar\":{\"outlinewidth\":0,\"ticks\":\"\"},\"colorscale\":[[0.0,\"#0d0887\"],[0.1111111111111111,\"#46039f\"],[0.2222222222222222,\"#7201a8\"],[0.3333333333333333,\"#9c179e\"],[0.4444444444444444,\"#bd3786\"],[0.5555555555555556,\"#d8576b\"],[0.6666666666666666,\"#ed7953\"],[0.7777777777777778,\"#fb9f3a\"],[0.8888888888888888,\"#fdca26\"],[1.0,\"#f0f921\"]],\"type\":\"surface\"}],\"table\":[{\"cells\":{\"fill\":{\"color\":\"#EBF0F8\"},\"line\":{\"color\":\"white\"}},\"header\":{\"fill\":{\"color\":\"#C8D4E3\"},\"line\":{\"color\":\"white\"}},\"type\":\"table\"}]},\"layout\":{\"annotationdefaults\":{\"arrowcolor\":\"#2a3f5f\",\"arrowhead\":0,\"arrowwidth\":1},\"autotypenumbers\":\"strict\",\"coloraxis\":{\"colorbar\":{\"outlinewidth\":0,\"ticks\":\"\"}},\"colorscale\":{\"diverging\":[[0,\"#8e0152\"],[0.1,\"#c51b7d\"],[0.2,\"#de77ae\"],[0.3,\"#f1b6da\"],[0.4,\"#fde0ef\"],[0.5,\"#f7f7f7\"],[0.6,\"#e6f5d0\"],[0.7,\"#b8e186\"],[0.8,\"#7fbc41\"],[0.9,\"#4d9221\"],[1,\"#276419\"]],\"sequential\":[[0.0,\"#0d0887\"],[0.1111111111111111,\"#46039f\"],[0.2222222222222222,\"#7201a8\"],[0.3333333333333333,\"#9c179e\"],[0.4444444444444444,\"#bd3786\"],[0.5555555555555556,\"#d8576b\"],[0.6666666666666666,\"#ed7953\"],[0.7777777777777778,\"#fb9f3a\"],[0.8888888888888888,\"#fdca26\"],[1.0,\"#f0f921\"]],\"sequentialminus\":[[0.0,\"#0d0887\"],[0.1111111111111111,\"#46039f\"],[0.2222222222222222,\"#7201a8\"],[0.3333333333333333,\"#9c179e\"],[0.4444444444444444,\"#bd3786\"],[0.5555555555555556,\"#d8576b\"],[0.6666666666666666,\"#ed7953\"],[0.7777777777777778,\"#fb9f3a\"],[0.8888888888888888,\"#fdca26\"],[1.0,\"#f0f921\"]]},\"colorway\":[\"#636efa\",\"#EF553B\",\"#00cc96\",\"#ab63fa\",\"#FFA15A\",\"#19d3f3\",\"#FF6692\",\"#B6E880\",\"#FF97FF\",\"#FECB52\"],\"font\":{\"color\":\"#2a3f5f\"},\"geo\":{\"bgcolor\":\"white\",\"lakecolor\":\"white\",\"landcolor\":\"#E5ECF6\",\"showlakes\":true,\"showland\":true,\"subunitcolor\":\"white\"},\"hoverlabel\":{\"align\":\"left\"},\"hovermode\":\"closest\",\"mapbox\":{\"style\":\"light\"},\"paper_bgcolor\":\"white\",\"plot_bgcolor\":\"#E5ECF6\",\"polar\":{\"angularaxis\":{\"gridcolor\":\"white\",\"linecolor\":\"white\",\"ticks\":\"\"},\"bgcolor\":\"#E5ECF6\",\"radialaxis\":{\"gridcolor\":\"white\",\"linecolor\":\"white\",\"ticks\":\"\"}},\"scene\":{\"xaxis\":{\"backgroundcolor\":\"#E5ECF6\",\"gridcolor\":\"white\",\"gridwidth\":2,\"linecolor\":\"white\",\"showbackground\":true,\"ticks\":\"\",\"zerolinecolor\":\"white\"},\"yaxis\":{\"backgroundcolor\":\"#E5ECF6\",\"gridcolor\":\"white\",\"gridwidth\":2,\"linecolor\":\"white\",\"showbackground\":true,\"ticks\":\"\",\"zerolinecolor\":\"white\"},\"zaxis\":{\"backgroundcolor\":\"#E5ECF6\",\"gridcolor\":\"white\",\"gridwidth\":2,\"linecolor\":\"white\",\"showbackground\":true,\"ticks\":\"\",\"zerolinecolor\":\"white\"}},\"shapedefaults\":{\"line\":{\"color\":\"#2a3f5f\"}},\"ternary\":{\"aaxis\":{\"gridcolor\":\"white\",\"linecolor\":\"white\",\"ticks\":\"\"},\"baxis\":{\"gridcolor\":\"white\",\"linecolor\":\"white\",\"ticks\":\"\"},\"bgcolor\":\"#E5ECF6\",\"caxis\":{\"gridcolor\":\"white\",\"linecolor\":\"white\",\"ticks\":\"\"}},\"title\":{\"x\":0.05},\"xaxis\":{\"automargin\":true,\"gridcolor\":\"white\",\"linecolor\":\"white\",\"ticks\":\"\",\"title\":{\"standoff\":15},\"zerolinecolor\":\"white\",\"zerolinewidth\":2},\"yaxis\":{\"automargin\":true,\"gridcolor\":\"white\",\"linecolor\":\"white\",\"ticks\":\"\",\"title\":{\"standoff\":15},\"zerolinecolor\":\"white\",\"zerolinewidth\":2}}},\"title\":{\"text\":\"\\u0420\\u0430\\u0441\\u043f\\u0440\\u0435\\u0434\\u0435\\u043b\\u0435\\u043d\\u0438\\u0435 \\u043f\\u0440\\u043e\\u0434\\u0430\\u0436 \\u043f\\u043e \\u0433\\u043e\\u0434\\u0430\\u043c\"},\"width\":1000,\"xaxis\":{\"anchor\":\"y\",\"domain\":[0.0,0.2125]},\"xaxis10\":{\"anchor\":\"y10\",\"domain\":[0.2625,0.475]},\"xaxis11\":{\"anchor\":\"y11\",\"domain\":[0.525,0.7375]},\"xaxis12\":{\"anchor\":\"y12\",\"domain\":[0.7875,1.0]},\"xaxis13\":{\"anchor\":\"y13\",\"domain\":[0.0,0.2125]},\"xaxis14\":{\"anchor\":\"y14\",\"domain\":[0.2625,0.475]},\"xaxis15\":{\"anchor\":\"y15\",\"domain\":[0.525,0.7375]},\"xaxis16\":{\"anchor\":\"y16\",\"domain\":[0.7875,1.0]},\"xaxis2\":{\"anchor\":\"y2\",\"domain\":[0.2625,0.475]},\"xaxis3\":{\"anchor\":\"y3\",\"domain\":[0.525,0.7375]},\"xaxis4\":{\"anchor\":\"y4\",\"domain\":[0.7875,1.0]},\"xaxis5\":{\"anchor\":\"y5\",\"domain\":[0.0,0.2125]},\"xaxis6\":{\"anchor\":\"y6\",\"domain\":[0.2625,0.475]},\"xaxis7\":{\"anchor\":\"y7\",\"domain\":[0.525,0.7375]},\"xaxis8\":{\"anchor\":\"y8\",\"domain\":[0.7875,1.0]},\"xaxis9\":{\"anchor\":\"y9\",\"domain\":[0.0,0.2125]},\"yaxis\":{\"anchor\":\"x\",\"domain\":[0.84375,1.0]},\"yaxis10\":{\"anchor\":\"x10\",\"domain\":[0.28125,0.4375]},\"yaxis11\":{\"anchor\":\"x11\",\"domain\":[0.28125,0.4375]},\"yaxis12\":{\"anchor\":\"x12\",\"domain\":[0.28125,0.4375]},\"yaxis13\":{\"anchor\":\"x13\",\"domain\":[0.0,0.15625]},\"yaxis14\":{\"anchor\":\"x14\",\"domain\":[0.0,0.15625]},\"yaxis15\":{\"anchor\":\"x15\",\"domain\":[0.0,0.15625]},\"yaxis16\":{\"anchor\":\"x16\",\"domain\":[0.0,0.15625]},\"yaxis2\":{\"anchor\":\"x2\",\"domain\":[0.84375,1.0]},\"yaxis3\":{\"anchor\":\"x3\",\"domain\":[0.84375,1.0]},\"yaxis4\":{\"anchor\":\"x4\",\"domain\":[0.84375,1.0]},\"yaxis5\":{\"anchor\":\"x5\",\"domain\":[0.5625,0.71875]},\"yaxis6\":{\"anchor\":\"x6\",\"domain\":[0.5625,0.71875]},\"yaxis7\":{\"anchor\":\"x7\",\"domain\":[0.5625,0.71875]},\"yaxis8\":{\"anchor\":\"x8\",\"domain\":[0.5625,0.71875]},\"yaxis9\":{\"anchor\":\"x9\",\"domain\":[0.28125,0.4375]}},                        {\"responsive\": true}                    ).then(function(){\n",
       "                            \n",
       "var gd = document.getElementById('38f373da-6743-42b5-b7da-e8e90c285b2d');\n",
       "var x = new MutationObserver(function (mutations, observer) {{\n",
       "        var display = window.getComputedStyle(gd).display;\n",
       "        if (!display || display === 'none') {{\n",
       "            console.log([gd, 'removed!']);\n",
       "            Plotly.purge(gd);\n",
       "            observer.disconnect();\n",
       "        }}\n",
       "}});\n",
       "\n",
       "// Listen for the removal of the full notebook cells\n",
       "var notebookContainer = gd.closest('#notebook-container');\n",
       "if (notebookContainer) {{\n",
       "    x.observe(notebookContainer, {childList: true});\n",
       "}}\n",
       "\n",
       "// Listen for the clearing of the current output cell\n",
       "var outputEl = gd.closest('.output');\n",
       "if (outputEl) {{\n",
       "    x.observe(outputEl, {childList: true});\n",
       "}}\n",
       "\n",
       "                        })                };                });            </script>        </div>"
      ]
     },
     "metadata": {},
     "output_type": "display_data"
    }
   ],
   "source": [
    "top_platforms = ['PS4', 'PS3', 'PC', 'XOne', 'X360', 'Wii','DS','3DS','WiiU','PSP','PSV']\n",
    "\n",
    "\n",
    "# top_platforms\n",
    "size = math.ceil(math.sqrt(len(top_platforms)))\n",
    "\n",
    "all_sales = data_for_analysis.groupby(['platform','year_of_release']).agg({'total_sales' : 'sum'}).reset_index()\n",
    "\n",
    "fig = make_subplots(\n",
    "    rows=size, cols=size,\n",
    "    subplot_titles=(top_platforms))\n",
    "\n",
    "row = 0\n",
    "col = 0\n",
    "\n",
    "for i,p in enumerate(top_platforms):              \n",
    "    \n",
    "    if i % size == 0:\n",
    "        col = 1\n",
    "        row += 1\n",
    "    else:\n",
    "        col += 1\n",
    "    data_ = all_sales[all_sales['platform'] == p]\n",
    "    fig.add_trace(go.Scatter(x = data_['year_of_release'], y = data_['total_sales']),\n",
    "              row=row, col=col)\n",
    "    \n",
    "\n",
    "fig.update_layout(height=1000, width=1000,\n",
    "                  title_text=\"Распределение продаж по годам\")\n",
    "\n",
    "fig.show()\n",
    "\n",
    "\n",
    "\n"
   ]
  },
  {
   "cell_type": "markdown",
   "metadata": {},
   "source": [
    "Cудя по графику, наиболее перспективные платформы - это PS4, PS3, Xbox One. Несмотря на плохие показатели, я считаю нужным включить PC (персональные компьютеры) в дальнейшее рассмотрение, так как эта платформа не может полностью исчезнуть, в отличие от других (стационарных или карманных консолей) пока существуют (и увеличиваются в количестве) персональные компьютеры вообще. "
   ]
  },
  {
   "cell_type": "markdown",
   "metadata": {},
   "source": [
    "### Построим график «ящик с усами» по глобальным продажам игр в разбивке по платформам"
   ]
  },
  {
   "cell_type": "code",
   "execution_count": 60,
   "metadata": {},
   "outputs": [
    {
     "data": {
      "text/plain": [
       "<AxesSubplot:title={'center':'Разброс глобальных продаж по платформам'}, xlabel='total_sales', ylabel='platform'>"
      ]
     },
     "execution_count": 60,
     "metadata": {},
     "output_type": "execute_result"
    },
    {
     "data": {
      "image/png": "[encoded data removed]",
      "text/plain": [
       "<Figure size 720x432 with 1 Axes>"
      ]
     },
     "metadata": {},
     "output_type": "display_data"
    }
   ],
   "source": [
    "import seaborn as sns\n",
    "sns.set(style='whitegrid')\n",
    "plt.figure(figsize=(10,6))\n",
    "sns.boxplot(y=\"platform\", x=\"total_sales\", data=data_for_analysis, showfliers=False).set(\n",
    "    title='Разброс глобальных продаж по платформам')\n",
    "sns.pointplot(y=\"platform\", x=\"total_sales\", data=data_for_analysis, join=False)\n",
    "\n",
    "\n",
    "#plt.title('Разброс глобальных продаж по платформам')\n",
    "\n",
    "#display(data_for_analysis.head())\n",
    "#data_for_analysis.boxplot(column=['platform'], figsize=(10,6), grid=True)\n",
    "\n",
    "\n",
    "#plt.show()\n",
    "\n",
    "\n",
    "\n"
   ]
  },
  {
   "cell_type": "markdown",
   "metadata": {},
   "source": [
    "Медианы продаж держатся в районе 0,2-0,25 млн долларов. Также у каждой платформы есть \"платформ-селлеры\" - игры, которые принесли создателям на порядок больше денег, чем обычные, \"проходные\" игры, а проще говоря - выбросы. Платформы \"PSV\" и \"PSP\" принесли совсем мало, основные игроки держатся в районе 0,2-0,7 млн долларов.  "
   ]
  },
  {
   "cell_type": "markdown",
   "metadata": {},
   "source": [
    "### Построим диаграмму рассеяния и посчитаем корреляцию между отзывами и продажами. "
   ]
  },
  {
   "cell_type": "code",
   "execution_count": 61,
   "metadata": {},
   "outputs": [
    {
     "name": "stderr",
     "output_type": "stream",
     "text": [
      "*c* argument looks like a single numeric RGB or RGBA sequence, which should be avoided as value-mapping will have precedence in case its length matches with *x* & *y*.  Please use the *color* keyword-argument or provide a 2-D array with a single row if you intend to specify the same RGB or RGBA value for all points.\n",
      "*c* argument looks like a single numeric RGB or RGBA sequence, which should be avoided as value-mapping will have precedence in case its length matches with *x* & *y*.  Please use the *color* keyword-argument or provide a 2-D array with a single row if you intend to specify the same RGB or RGBA value for all points.\n"
     ]
    },
    {
     "name": "stdout",
     "output_type": "stream",
     "text": [
      "0.40656790206178095 Коэффициент Пирсона для игр/отзывов критиков PS4\n",
      "-0.031957110204556424 Коэффициент Пирсона для игр/отзывов игроков PS4\n"
     ]
    },
    {
     "data": {
      "image/png": "[encoded data removed]",
      "text/plain": [
       "<Figure size 432x288 with 1 Axes>"
      ]
     },
     "metadata": {},
     "output_type": "display_data"
    },
    {
     "data": {
      "image/png": "[encoded data removed]",
      "text/plain": [
       "<Figure size 432x288 with 1 Axes>"
      ]
     },
     "metadata": {},
     "output_type": "display_data"
    }
   ],
   "source": [
    "#PS4\n",
    "PS4_scatter=data_for_analysis.query('platform == \"PS4\" ')\n",
    "PS4_scatter.query('critic_score!=0').plot(x='critic_score', y='total_sales'\n",
    "                                          , kind='scatter', title='Диаграмма рассеивания  отзывово критиков PS4')\n",
    "\n",
    "\n",
    "PS4_scatter.query('user_score!=0').plot(x='user_score', y='total_sales', kind='scatter'\n",
    "                                        , title='Диаграмма рассеивания отзывов игроков для PS4')\n",
    "\n",
    "print(PS4_scatter.query('critic_score!=0')['critic_score'].corr(PS4_scatter['total_sales']), \n",
    "      \"Коэффициент Пирсона для игр/отзывов критиков PS4\")\n",
    "\n",
    "print(PS4_scatter.query('user_score!=0')['user_score'].corr(PS4_scatter['total_sales']), \n",
    "      \"Коэффициент Пирсона для игр/отзывов игроков PS4\")\n",
    "\n",
    "\n",
    "\n"
   ]
  },
  {
   "cell_type": "code",
   "execution_count": 62,
   "metadata": {},
   "outputs": [
    {
     "name": "stderr",
     "output_type": "stream",
     "text": [
      "*c* argument looks like a single numeric RGB or RGBA sequence, which should be avoided as value-mapping will have precedence in case its length matches with *x* & *y*.  Please use the *color* keyword-argument or provide a 2-D array with a single row if you intend to specify the same RGB or RGBA value for all points.\n",
      "*c* argument looks like a single numeric RGB or RGBA sequence, which should be avoided as value-mapping will have precedence in case its length matches with *x* & *y*.  Please use the *color* keyword-argument or provide a 2-D array with a single row if you intend to specify the same RGB or RGBA value for all points.\n"
     ]
    },
    {
     "name": "stdout",
     "output_type": "stream",
     "text": [
      "0.3314972592629587 Коэффициент Пирсона для игр/отзывов критиков PS3\n",
      "-0.005143522887113815 Коэффициент Пирсона для игр/отзывов игроков PS3\n"
     ]
    },
    {
     "data": {
      "image/png": "[encoded data removed]",
      "text/plain": [
       "<Figure size 432x288 with 1 Axes>"
      ]
     },
     "metadata": {},
     "output_type": "display_data"
    },
    {
     "data": {
      "image/png": "[encoded data removed]",
      "text/plain": [
       "<Figure size 432x288 with 1 Axes>"
      ]
     },
     "metadata": {},
     "output_type": "display_data"
    }
   ],
   "source": [
    "#PS3\n",
    "PS3_scatter=data_for_analysis.query('platform == \"PS3\" ')\n",
    "PS3_scatter.query('critic_score!=0').plot(x='critic_score', y='total_sales',\n",
    "                                          kind='scatter', title='Диаграмма рассеивания для отзывов критиков PS3')\n",
    "\n",
    "\n",
    "PS3_scatter.query('user_score!=0').plot(x='user_score', y='total_sales', kind='scatter'\n",
    "                                        , title='Диаграмма рассеивания для отзывов игроков PS3')\n",
    "\n",
    "print(PS3_scatter.query('critic_score!=0')['critic_score'].corr(PS3_scatter['total_sales']), \n",
    "      \"Коэффициент Пирсона для игр/отзывов критиков PS3\")\n",
    "\n",
    "print(PS3_scatter.query('user_score!=0')['user_score'].corr(PS3_scatter['total_sales']), \n",
    "      \"Коэффициент Пирсона для игр/отзывов игроков PS3\")\n",
    "\n",
    "\n",
    "\n"
   ]
  },
  {
   "cell_type": "code",
   "execution_count": 63,
   "metadata": {},
   "outputs": [
    {
     "name": "stderr",
     "output_type": "stream",
     "text": [
      "*c* argument looks like a single numeric RGB or RGBA sequence, which should be avoided as value-mapping will have precedence in case its length matches with *x* & *y*.  Please use the *color* keyword-argument or provide a 2-D array with a single row if you intend to specify the same RGB or RGBA value for all points.\n",
      "*c* argument looks like a single numeric RGB or RGBA sequence, which should be avoided as value-mapping will have precedence in case its length matches with *x* & *y*.  Please use the *color* keyword-argument or provide a 2-D array with a single row if you intend to specify the same RGB or RGBA value for all points.\n"
     ]
    },
    {
     "name": "stdout",
     "output_type": "stream",
     "text": [
      "0.4169983280084017 Коэффициент Пирсона для игр/отзывов критиков XOne\n",
      "-0.06892505328279414 Коэффициент Пирсона для игр/отзывов игроков XOne\n"
     ]
    },
    {
     "data": {
      "image/png": "[encoded data removed]",
      "text/plain": [
       "<Figure size 432x288 with 1 Axes>"
      ]
     },
     "metadata": {},
     "output_type": "display_data"
    },
    {
     "data": {
      "image/png": "[encoded data removed]",
      "text/plain": [
       "<Figure size 432x288 with 1 Axes>"
      ]
     },
     "metadata": {},
     "output_type": "display_data"
    }
   ],
   "source": [
    "#XboxOne\n",
    "XOne_scatter=data_for_analysis.query('platform == \"XOne\" ')\n",
    "XOne_scatter.query('critic_score!=0').plot(x='critic_score',\n",
    "                                           y='total_sales', kind='scatter', title='Диаграмма рассеивания для отзывов критиков XOne')\n",
    "\n",
    "\n",
    "XOne_scatter.query('user_score!=0').plot(x='user_score',\n",
    "                                         y='total_sales', kind='scatter', title='Диаграмма рассеивания для отзывов игроков XOne')\n",
    "\n",
    "print(XOne_scatter.query('critic_score!=0')['critic_score'].corr(XOne_scatter['total_sales']), \n",
    "      \"Коэффициент Пирсона для игр/отзывов критиков XOne\")\n",
    "\n",
    "print(XOne_scatter.query('user_score!=0')['user_score'].corr(XOne_scatter['total_sales']), \n",
    "      \"Коэффициент Пирсона для игр/отзывов игроков XOne\")\n",
    "\n",
    "\n",
    "\n"
   ]
  },
  {
   "cell_type": "code",
   "execution_count": 64,
   "metadata": {},
   "outputs": [
    {
     "name": "stderr",
     "output_type": "stream",
     "text": [
      "*c* argument looks like a single numeric RGB or RGBA sequence, which should be avoided as value-mapping will have precedence in case its length matches with *x* & *y*.  Please use the *color* keyword-argument or provide a 2-D array with a single row if you intend to specify the same RGB or RGBA value for all points.\n",
      "*c* argument looks like a single numeric RGB or RGBA sequence, which should be avoided as value-mapping will have precedence in case its length matches with *x* & *y*.  Please use the *color* keyword-argument or provide a 2-D array with a single row if you intend to specify the same RGB or RGBA value for all points.\n"
     ]
    },
    {
     "name": "stdout",
     "output_type": "stream",
     "text": [
      "0.23724324311567915 Коэффициент Пирсона для игр/отзывов критиков PC\n",
      "-0.12186747630735577 Коэффициент Пирсона для игр/отзывов игроков PC\n"
     ]
    },
    {
     "data": {
      "image/png": "[encoded data removed]",
      "text/plain": [
       "<Figure size 432x288 with 1 Axes>"
      ]
     },
     "metadata": {},
     "output_type": "display_data"
    },
    {
     "data": {
      "image/png": "[encoded data removed]",
      "text/plain": [
       "<Figure size 432x288 with 1 Axes>"
      ]
     },
     "metadata": {},
     "output_type": "display_data"
    }
   ],
   "source": [
    "#PC\n",
    "PC_scatter=data_for_analysis.query('platform == \"PC\" ')\n",
    "PC_scatter.query('critic_score!=0').plot(x='critic_score', y='total_sales', kind='scatter',\n",
    "                          title='Диаграмма рассеивания для PC')\n",
    "\n",
    "\n",
    "PC_scatter.query('user_score!=0').plot(x='user_score', y='total_sales'\n",
    "                                 , kind='scatter', title='Диаграмма рассеивания для PC')\n",
    "\n",
    "print(PC_scatter.query('critic_score!=0')['critic_score'].corr(PC_scatter['total_sales']), \n",
    "      \"Коэффициент Пирсона для игр/отзывов критиков PC\")\n",
    "\n",
    "print(PC_scatter.query('user_score!=0')['user_score'].corr(PC_scatter['total_sales']), \n",
    "      \"Коэффициент Пирсона для игр/отзывов игроков PC\")\n",
    "\n",
    "\n",
    "\n"
   ]
  },
  {
   "cell_type": "markdown",
   "metadata": {},
   "source": [
    "Из графиков и коэффициентов корреляции Пирсона следует, что положительный отзывы критиков скорее способствуют хорошим продажам (коэффициент положительный). И как не странно, отзывы игроков находятся в обратной зависимости с продажами игр. Возможно, это объясняется тем, что некоторые игроки часто бывают разочарованы получившейся игрой. И ставят относительно низкие оценки. В то время, как критики чаще ставят схожие оценки (видно скопище точек на диаграмме рассеивания) и выбросов на диаграмме от критиков меньше. Возможно, критики - действительно точнее и хладнокровнее подходят к написанию отзывовов. Также, не считая большой корреляции у XBox One и PS4, коэффициент корреляции небольшой. Большой коэффициент у PS4 и XBox One возможно объясняется тем, что эти консоли на момент 2016 года вышли совсем недавно, и новых игр на них относительно мало, а отзывов и ажиотажа как у критиков, так и у игроков - много. "
   ]
  },
  {
   "cell_type": "markdown",
   "metadata": {},
   "source": [
    "### Соотнесите выводы с продажами игр на других платформах."
   ]
  },
  {
   "cell_type": "markdown",
   "metadata": {},
   "source": [
    "Учитывая, что PS4 и Xbox One вышли относительно недавно, в то время как PS3 и PC существует на рынке давно, наверное, можно сказать, что данные выводы: о положительной корреляции отзывов критиков и продаж и отрицательной корреляции отзывов игроков и продаж можно распространить на другие платформы: скорее всего, на низ на всех ситуация будет схожа.  "
   ]
  },
  {
   "cell_type": "markdown",
   "metadata": {},
   "source": [
    "### Посмотрите на общее распределение игр по жанрам. Что можно сказать о самых прибыльных жанрах? Выделяются ли жанры с высокими и низкими продажами?"
   ]
  },
  {
   "cell_type": "code",
   "execution_count": 76,
   "metadata": {},
   "outputs": [
    {
     "data": {
      "text/html": [
       "<div>\n",
       "<style scoped>\n",
       "    .dataframe tbody tr th:only-of-type {\n",
       "        vertical-align: middle;\n",
       "    }\n",
       "\n",
       "    .dataframe tbody tr th {\n",
       "        vertical-align: top;\n",
       "    }\n",
       "\n",
       "    .dataframe thead th {\n",
       "        text-align: right;\n",
       "    }\n",
       "</style>\n",
       "<table border=\"1\" class=\"dataframe\">\n",
       "  <thead>\n",
       "    <tr style=\"text-align: right;\">\n",
       "      <th></th>\n",
       "      <th>count</th>\n",
       "      <th>mean</th>\n",
       "      <th>sum</th>\n",
       "    </tr>\n",
       "    <tr>\n",
       "      <th>genre</th>\n",
       "      <th></th>\n",
       "      <th></th>\n",
       "      <th></th>\n",
       "    </tr>\n",
       "  </thead>\n",
       "  <tbody>\n",
       "    <tr>\n",
       "      <th>Action</th>\n",
       "      <td>1031</td>\n",
       "      <td>0.427856</td>\n",
       "      <td>441.12</td>\n",
       "    </tr>\n",
       "    <tr>\n",
       "      <th>Shooter</th>\n",
       "      <td>235</td>\n",
       "      <td>1.296723</td>\n",
       "      <td>304.73</td>\n",
       "    </tr>\n",
       "    <tr>\n",
       "      <th>Role-Playing</th>\n",
       "      <td>370</td>\n",
       "      <td>0.521081</td>\n",
       "      <td>192.80</td>\n",
       "    </tr>\n",
       "    <tr>\n",
       "      <th>Sports</th>\n",
       "      <td>268</td>\n",
       "      <td>0.675634</td>\n",
       "      <td>181.07</td>\n",
       "    </tr>\n",
       "    <tr>\n",
       "      <th>Misc</th>\n",
       "      <td>192</td>\n",
       "      <td>0.442917</td>\n",
       "      <td>85.04</td>\n",
       "    </tr>\n",
       "    <tr>\n",
       "      <th>Platform</th>\n",
       "      <td>85</td>\n",
       "      <td>0.717647</td>\n",
       "      <td>61.00</td>\n",
       "    </tr>\n",
       "    <tr>\n",
       "      <th>Racing</th>\n",
       "      <td>115</td>\n",
       "      <td>0.465217</td>\n",
       "      <td>53.50</td>\n",
       "    </tr>\n",
       "    <tr>\n",
       "      <th>Fighting</th>\n",
       "      <td>109</td>\n",
       "      <td>0.408165</td>\n",
       "      <td>44.49</td>\n",
       "    </tr>\n",
       "    <tr>\n",
       "      <th>Simulation</th>\n",
       "      <td>80</td>\n",
       "      <td>0.439000</td>\n",
       "      <td>35.12</td>\n",
       "    </tr>\n",
       "    <tr>\n",
       "      <th>Adventure</th>\n",
       "      <td>302</td>\n",
       "      <td>0.097450</td>\n",
       "      <td>29.43</td>\n",
       "    </tr>\n",
       "    <tr>\n",
       "      <th>Strategy</th>\n",
       "      <td>71</td>\n",
       "      <td>0.187887</td>\n",
       "      <td>13.34</td>\n",
       "    </tr>\n",
       "    <tr>\n",
       "      <th>Puzzle</th>\n",
       "      <td>28</td>\n",
       "      <td>0.174643</td>\n",
       "      <td>4.89</td>\n",
       "    </tr>\n",
       "  </tbody>\n",
       "</table>\n",
       "</div>"
      ],
      "text/plain": [
       "              count      mean     sum\n",
       "genre                                \n",
       "Action         1031  0.427856  441.12\n",
       "Shooter         235  1.296723  304.73\n",
       "Role-Playing    370  0.521081  192.80\n",
       "Sports          268  0.675634  181.07\n",
       "Misc            192  0.442917   85.04\n",
       "Platform         85  0.717647   61.00\n",
       "Racing          115  0.465217   53.50\n",
       "Fighting        109  0.408165   44.49\n",
       "Simulation       80  0.439000   35.12\n",
       "Adventure       302  0.097450   29.43\n",
       "Strategy         71  0.187887   13.34\n",
       "Puzzle           28  0.174643    4.89"
      ]
     },
     "metadata": {},
     "output_type": "display_data"
    }
   ],
   "source": [
    "data_for_analysis.head()\n",
    "genres_revenue = data_for_analysis.pivot_table(index='genre', values='total_sales', aggfunc=('sum', 'count', 'mean'))\n",
    "display(genres_revenue.sort_values(by='sum', ascending=False))"
   ]
  },
  {
   "cell_type": "markdown",
   "metadata": {},
   "source": [
    "Самые популярные (то есть больше всего игр) и больше всего заработавшие жанры - 'Action', 'Shooter', 'Role-Playing'.\n",
    "Самые непопулярные и мало принесшие - 'Puzzle', 'Strategy'. Также мало принес жанр 'Adventure', хотя игр было выпущено достаточно много.\n",
    "Разница между верхними и нижними значениями - в несколько порядков. Очевидно, выгоднее продавать игры в более прибыльных жанрах, чем в самым мало принесших, при условии, что у вас нет предпочтений по жанрам изначально. "
   ]
  },
  {
   "cell_type": "markdown",
   "metadata": {},
   "source": [
    "## Составим портрет пользователя каждого региона"
   ]
  },
  {
   "cell_type": "code",
   "execution_count": 66,
   "metadata": {},
   "outputs": [
    {
     "data": {
      "text/html": [
       "<div>\n",
       "<style scoped>\n",
       "    .dataframe tbody tr th:only-of-type {\n",
       "        vertical-align: middle;\n",
       "    }\n",
       "\n",
       "    .dataframe tbody tr th {\n",
       "        vertical-align: top;\n",
       "    }\n",
       "\n",
       "    .dataframe thead th {\n",
       "        text-align: right;\n",
       "    }\n",
       "</style>\n",
       "<table border=\"1\" class=\"dataframe\">\n",
       "  <thead>\n",
       "    <tr style=\"text-align: right;\">\n",
       "      <th></th>\n",
       "      <th>name</th>\n",
       "      <th>platform</th>\n",
       "      <th>year_of_release</th>\n",
       "      <th>genre</th>\n",
       "      <th>na_sales</th>\n",
       "      <th>eu_sales</th>\n",
       "      <th>jp_sales</th>\n",
       "      <th>other_sales</th>\n",
       "      <th>critic_score</th>\n",
       "      <th>user_score</th>\n",
       "      <th>rating</th>\n",
       "      <th>total_sales</th>\n",
       "    </tr>\n",
       "  </thead>\n",
       "  <tbody>\n",
       "    <tr>\n",
       "      <th>16</th>\n",
       "      <td>Grand Theft Auto V</td>\n",
       "      <td>PS3</td>\n",
       "      <td>2013</td>\n",
       "      <td>Action</td>\n",
       "      <td>7.02</td>\n",
       "      <td>9.09</td>\n",
       "      <td>0.98</td>\n",
       "      <td>3.96</td>\n",
       "      <td>97.0</td>\n",
       "      <td>8.2</td>\n",
       "      <td>M</td>\n",
       "      <td>21.05</td>\n",
       "    </tr>\n",
       "    <tr>\n",
       "      <th>23</th>\n",
       "      <td>Grand Theft Auto V</td>\n",
       "      <td>X360</td>\n",
       "      <td>2013</td>\n",
       "      <td>Action</td>\n",
       "      <td>9.66</td>\n",
       "      <td>5.14</td>\n",
       "      <td>0.06</td>\n",
       "      <td>1.41</td>\n",
       "      <td>97.0</td>\n",
       "      <td>8.1</td>\n",
       "      <td>M</td>\n",
       "      <td>16.27</td>\n",
       "    </tr>\n",
       "    <tr>\n",
       "      <th>31</th>\n",
       "      <td>Call of Duty: Black Ops 3</td>\n",
       "      <td>PS4</td>\n",
       "      <td>2015</td>\n",
       "      <td>Shooter</td>\n",
       "      <td>6.03</td>\n",
       "      <td>5.86</td>\n",
       "      <td>0.36</td>\n",
       "      <td>2.38</td>\n",
       "      <td>0.0</td>\n",
       "      <td>0.0</td>\n",
       "      <td>0</td>\n",
       "      <td>14.63</td>\n",
       "    </tr>\n",
       "    <tr>\n",
       "      <th>33</th>\n",
       "      <td>Pokemon X/Pokemon Y</td>\n",
       "      <td>3DS</td>\n",
       "      <td>2013</td>\n",
       "      <td>Role-Playing</td>\n",
       "      <td>5.28</td>\n",
       "      <td>4.19</td>\n",
       "      <td>4.35</td>\n",
       "      <td>0.78</td>\n",
       "      <td>0.0</td>\n",
       "      <td>0.0</td>\n",
       "      <td>0</td>\n",
       "      <td>14.60</td>\n",
       "    </tr>\n",
       "    <tr>\n",
       "      <th>34</th>\n",
       "      <td>Call of Duty: Black Ops II</td>\n",
       "      <td>PS3</td>\n",
       "      <td>2012</td>\n",
       "      <td>Shooter</td>\n",
       "      <td>4.99</td>\n",
       "      <td>5.73</td>\n",
       "      <td>0.65</td>\n",
       "      <td>2.42</td>\n",
       "      <td>83.0</td>\n",
       "      <td>5.3</td>\n",
       "      <td>M</td>\n",
       "      <td>13.79</td>\n",
       "    </tr>\n",
       "  </tbody>\n",
       "</table>\n",
       "</div>"
      ],
      "text/plain": [
       "                          name platform  year_of_release         genre  \\\n",
       "16          Grand Theft Auto V      PS3             2013        Action   \n",
       "23          Grand Theft Auto V     X360             2013        Action   \n",
       "31   Call of Duty: Black Ops 3      PS4             2015       Shooter   \n",
       "33         Pokemon X/Pokemon Y      3DS             2013  Role-Playing   \n",
       "34  Call of Duty: Black Ops II      PS3             2012       Shooter   \n",
       "\n",
       "    na_sales  eu_sales  jp_sales  other_sales  critic_score  user_score  \\\n",
       "16      7.02      9.09      0.98         3.96          97.0         8.2   \n",
       "23      9.66      5.14      0.06         1.41          97.0         8.1   \n",
       "31      6.03      5.86      0.36         2.38           0.0         0.0   \n",
       "33      5.28      4.19      4.35         0.78           0.0         0.0   \n",
       "34      4.99      5.73      0.65         2.42          83.0         5.3   \n",
       "\n",
       "   rating  total_sales  \n",
       "16      M        21.05  \n",
       "23      M        16.27  \n",
       "31      0        14.63  \n",
       "33      0        14.60  \n",
       "34      M        13.79  "
      ]
     },
     "metadata": {},
     "output_type": "display_data"
    },
    {
     "data": {
      "text/html": [
       "<div>\n",
       "<style scoped>\n",
       "    .dataframe tbody tr th:only-of-type {\n",
       "        vertical-align: middle;\n",
       "    }\n",
       "\n",
       "    .dataframe tbody tr th {\n",
       "        vertical-align: top;\n",
       "    }\n",
       "\n",
       "    .dataframe thead th {\n",
       "        text-align: right;\n",
       "    }\n",
       "</style>\n",
       "<table border=\"1\" class=\"dataframe\">\n",
       "  <thead>\n",
       "    <tr style=\"text-align: right;\">\n",
       "      <th></th>\n",
       "      <th>platform</th>\n",
       "      <th>count</th>\n",
       "      <th>sum</th>\n",
       "    </tr>\n",
       "  </thead>\n",
       "  <tbody>\n",
       "    <tr>\n",
       "      <th>9</th>\n",
       "      <td>X360</td>\n",
       "      <td>292</td>\n",
       "      <td>140.05</td>\n",
       "    </tr>\n",
       "    <tr>\n",
       "      <th>4</th>\n",
       "      <td>PS4</td>\n",
       "      <td>392</td>\n",
       "      <td>108.74</td>\n",
       "    </tr>\n",
       "    <tr>\n",
       "      <th>3</th>\n",
       "      <td>PS3</td>\n",
       "      <td>493</td>\n",
       "      <td>103.38</td>\n",
       "    </tr>\n",
       "    <tr>\n",
       "      <th>10</th>\n",
       "      <td>XOne</td>\n",
       "      <td>247</td>\n",
       "      <td>93.12</td>\n",
       "    </tr>\n",
       "    <tr>\n",
       "      <th>0</th>\n",
       "      <td>3DS</td>\n",
       "      <td>396</td>\n",
       "      <td>55.31</td>\n",
       "    </tr>\n",
       "  </tbody>\n",
       "</table>\n",
       "</div>"
      ],
      "text/plain": [
       "   platform  count     sum\n",
       "9      X360    292  140.05\n",
       "4       PS4    392  108.74\n",
       "3       PS3    493  103.38\n",
       "10     XOne    247   93.12\n",
       "0       3DS    396   55.31"
      ]
     },
     "metadata": {},
     "output_type": "display_data"
    },
    {
     "data": {
      "text/html": [
       "<div>\n",
       "<style scoped>\n",
       "    .dataframe tbody tr th:only-of-type {\n",
       "        vertical-align: middle;\n",
       "    }\n",
       "\n",
       "    .dataframe tbody tr th {\n",
       "        vertical-align: top;\n",
       "    }\n",
       "\n",
       "    .dataframe thead th {\n",
       "        text-align: right;\n",
       "    }\n",
       "</style>\n",
       "<table border=\"1\" class=\"dataframe\">\n",
       "  <thead>\n",
       "    <tr style=\"text-align: right;\">\n",
       "      <th></th>\n",
       "      <th>genre</th>\n",
       "      <th>count</th>\n",
       "      <th>sum</th>\n",
       "    </tr>\n",
       "  </thead>\n",
       "  <tbody>\n",
       "    <tr>\n",
       "      <th>0</th>\n",
       "      <td>Action</td>\n",
       "      <td>1031</td>\n",
       "      <td>177.84</td>\n",
       "    </tr>\n",
       "    <tr>\n",
       "      <th>8</th>\n",
       "      <td>Shooter</td>\n",
       "      <td>235</td>\n",
       "      <td>144.77</td>\n",
       "    </tr>\n",
       "    <tr>\n",
       "      <th>10</th>\n",
       "      <td>Sports</td>\n",
       "      <td>268</td>\n",
       "      <td>81.53</td>\n",
       "    </tr>\n",
       "    <tr>\n",
       "      <th>7</th>\n",
       "      <td>Role-Playing</td>\n",
       "      <td>370</td>\n",
       "      <td>64.00</td>\n",
       "    </tr>\n",
       "    <tr>\n",
       "      <th>3</th>\n",
       "      <td>Misc</td>\n",
       "      <td>192</td>\n",
       "      <td>38.19</td>\n",
       "    </tr>\n",
       "  </tbody>\n",
       "</table>\n",
       "</div>"
      ],
      "text/plain": [
       "           genre  count     sum\n",
       "0         Action   1031  177.84\n",
       "8        Shooter    235  144.77\n",
       "10        Sports    268   81.53\n",
       "7   Role-Playing    370   64.00\n",
       "3           Misc    192   38.19"
      ]
     },
     "metadata": {},
     "output_type": "display_data"
    }
   ],
   "source": [
    "# (NA, EU, JP)\n",
    "#NA\n",
    "display(data_for_analysis.head())\n",
    "NA_platform = data_for_analysis.pivot_table(index='platform', values='na_sales', aggfunc=('sum', 'count')\n",
    "                                           ).reset_index().sort_values(by='sum', ascending=False)\n",
    "display(NA_platform.head())\n",
    "\n",
    "NA_genre = data_for_analysis.pivot_table(index='genre', values='na_sales', aggfunc=('sum', 'count')\n",
    "                                           ).reset_index().sort_values(by='sum', ascending=False)\n",
    "display(NA_genre.head())\n",
    "\n",
    "\n",
    "\n",
    "\n",
    "\n"
   ]
  },
  {
   "cell_type": "code",
   "execution_count": 67,
   "metadata": {},
   "outputs": [
    {
     "data": {
      "text/html": [
       "<div>\n",
       "<style scoped>\n",
       "    .dataframe tbody tr th:only-of-type {\n",
       "        vertical-align: middle;\n",
       "    }\n",
       "\n",
       "    .dataframe tbody tr th {\n",
       "        vertical-align: top;\n",
       "    }\n",
       "\n",
       "    .dataframe thead th {\n",
       "        text-align: right;\n",
       "    }\n",
       "</style>\n",
       "<table border=\"1\" class=\"dataframe\">\n",
       "  <thead>\n",
       "    <tr style=\"text-align: right;\">\n",
       "      <th></th>\n",
       "      <th>platform</th>\n",
       "      <th>count</th>\n",
       "      <th>sum</th>\n",
       "    </tr>\n",
       "  </thead>\n",
       "  <tbody>\n",
       "    <tr>\n",
       "      <th>4</th>\n",
       "      <td>PS4</td>\n",
       "      <td>392</td>\n",
       "      <td>141.09</td>\n",
       "    </tr>\n",
       "    <tr>\n",
       "      <th>3</th>\n",
       "      <td>PS3</td>\n",
       "      <td>493</td>\n",
       "      <td>106.86</td>\n",
       "    </tr>\n",
       "    <tr>\n",
       "      <th>9</th>\n",
       "      <td>X360</td>\n",
       "      <td>292</td>\n",
       "      <td>74.52</td>\n",
       "    </tr>\n",
       "    <tr>\n",
       "      <th>10</th>\n",
       "      <td>XOne</td>\n",
       "      <td>247</td>\n",
       "      <td>51.59</td>\n",
       "    </tr>\n",
       "    <tr>\n",
       "      <th>0</th>\n",
       "      <td>3DS</td>\n",
       "      <td>396</td>\n",
       "      <td>42.64</td>\n",
       "    </tr>\n",
       "  </tbody>\n",
       "</table>\n",
       "</div>"
      ],
      "text/plain": [
       "   platform  count     sum\n",
       "4       PS4    392  141.09\n",
       "3       PS3    493  106.86\n",
       "9      X360    292   74.52\n",
       "10     XOne    247   51.59\n",
       "0       3DS    396   42.64"
      ]
     },
     "metadata": {},
     "output_type": "display_data"
    },
    {
     "data": {
      "text/html": [
       "<div>\n",
       "<style scoped>\n",
       "    .dataframe tbody tr th:only-of-type {\n",
       "        vertical-align: middle;\n",
       "    }\n",
       "\n",
       "    .dataframe tbody tr th {\n",
       "        vertical-align: top;\n",
       "    }\n",
       "\n",
       "    .dataframe thead th {\n",
       "        text-align: right;\n",
       "    }\n",
       "</style>\n",
       "<table border=\"1\" class=\"dataframe\">\n",
       "  <thead>\n",
       "    <tr style=\"text-align: right;\">\n",
       "      <th></th>\n",
       "      <th>genre</th>\n",
       "      <th>count</th>\n",
       "      <th>sum</th>\n",
       "    </tr>\n",
       "  </thead>\n",
       "  <tbody>\n",
       "    <tr>\n",
       "      <th>0</th>\n",
       "      <td>Action</td>\n",
       "      <td>1031</td>\n",
       "      <td>159.34</td>\n",
       "    </tr>\n",
       "    <tr>\n",
       "      <th>8</th>\n",
       "      <td>Shooter</td>\n",
       "      <td>235</td>\n",
       "      <td>113.47</td>\n",
       "    </tr>\n",
       "    <tr>\n",
       "      <th>10</th>\n",
       "      <td>Sports</td>\n",
       "      <td>268</td>\n",
       "      <td>69.09</td>\n",
       "    </tr>\n",
       "    <tr>\n",
       "      <th>7</th>\n",
       "      <td>Role-Playing</td>\n",
       "      <td>370</td>\n",
       "      <td>48.53</td>\n",
       "    </tr>\n",
       "    <tr>\n",
       "      <th>6</th>\n",
       "      <td>Racing</td>\n",
       "      <td>115</td>\n",
       "      <td>27.29</td>\n",
       "    </tr>\n",
       "  </tbody>\n",
       "</table>\n",
       "</div>"
      ],
      "text/plain": [
       "           genre  count     sum\n",
       "0         Action   1031  159.34\n",
       "8        Shooter    235  113.47\n",
       "10        Sports    268   69.09\n",
       "7   Role-Playing    370   48.53\n",
       "6         Racing    115   27.29"
      ]
     },
     "metadata": {},
     "output_type": "display_data"
    }
   ],
   "source": [
    "EU_platform = data_for_analysis.pivot_table(index='platform', values='eu_sales', aggfunc=('sum', 'count')\n",
    "                                           ).reset_index().sort_values(by='sum', ascending=False)\n",
    "display(EU_platform.head())\n",
    "\n",
    "EU_genre = data_for_analysis.pivot_table(index='genre', values='eu_sales', aggfunc=('sum', 'count')\n",
    "                                           ).reset_index().sort_values(by='sum', ascending=False)\n",
    "display(EU_genre.head())\n",
    "\n",
    "\n",
    "\n"
   ]
  },
  {
   "cell_type": "code",
   "execution_count": 68,
   "metadata": {},
   "outputs": [
    {
     "data": {
      "text/html": [
       "<div>\n",
       "<style scoped>\n",
       "    .dataframe tbody tr th:only-of-type {\n",
       "        vertical-align: middle;\n",
       "    }\n",
       "\n",
       "    .dataframe tbody tr th {\n",
       "        vertical-align: top;\n",
       "    }\n",
       "\n",
       "    .dataframe thead th {\n",
       "        text-align: right;\n",
       "    }\n",
       "</style>\n",
       "<table border=\"1\" class=\"dataframe\">\n",
       "  <thead>\n",
       "    <tr style=\"text-align: right;\">\n",
       "      <th></th>\n",
       "      <th>platform</th>\n",
       "      <th>count</th>\n",
       "      <th>sum</th>\n",
       "    </tr>\n",
       "  </thead>\n",
       "  <tbody>\n",
       "    <tr>\n",
       "      <th>0</th>\n",
       "      <td>3DS</td>\n",
       "      <td>396</td>\n",
       "      <td>87.79</td>\n",
       "    </tr>\n",
       "    <tr>\n",
       "      <th>3</th>\n",
       "      <td>PS3</td>\n",
       "      <td>493</td>\n",
       "      <td>35.29</td>\n",
       "    </tr>\n",
       "    <tr>\n",
       "      <th>6</th>\n",
       "      <td>PSV</td>\n",
       "      <td>411</td>\n",
       "      <td>21.04</td>\n",
       "    </tr>\n",
       "    <tr>\n",
       "      <th>4</th>\n",
       "      <td>PS4</td>\n",
       "      <td>392</td>\n",
       "      <td>15.96</td>\n",
       "    </tr>\n",
       "    <tr>\n",
       "      <th>8</th>\n",
       "      <td>WiiU</td>\n",
       "      <td>147</td>\n",
       "      <td>13.01</td>\n",
       "    </tr>\n",
       "  </tbody>\n",
       "</table>\n",
       "</div>"
      ],
      "text/plain": [
       "  platform  count    sum\n",
       "0      3DS    396  87.79\n",
       "3      PS3    493  35.29\n",
       "6      PSV    411  21.04\n",
       "4      PS4    392  15.96\n",
       "8     WiiU    147  13.01"
      ]
     },
     "metadata": {},
     "output_type": "display_data"
    },
    {
     "data": {
      "text/html": [
       "<div>\n",
       "<style scoped>\n",
       "    .dataframe tbody tr th:only-of-type {\n",
       "        vertical-align: middle;\n",
       "    }\n",
       "\n",
       "    .dataframe tbody tr th {\n",
       "        vertical-align: top;\n",
       "    }\n",
       "\n",
       "    .dataframe thead th {\n",
       "        text-align: right;\n",
       "    }\n",
       "</style>\n",
       "<table border=\"1\" class=\"dataframe\">\n",
       "  <thead>\n",
       "    <tr style=\"text-align: right;\">\n",
       "      <th></th>\n",
       "      <th>genre</th>\n",
       "      <th>count</th>\n",
       "      <th>sum</th>\n",
       "    </tr>\n",
       "  </thead>\n",
       "  <tbody>\n",
       "    <tr>\n",
       "      <th>7</th>\n",
       "      <td>Role-Playing</td>\n",
       "      <td>370</td>\n",
       "      <td>65.44</td>\n",
       "    </tr>\n",
       "    <tr>\n",
       "      <th>0</th>\n",
       "      <td>Action</td>\n",
       "      <td>1031</td>\n",
       "      <td>52.80</td>\n",
       "    </tr>\n",
       "    <tr>\n",
       "      <th>3</th>\n",
       "      <td>Misc</td>\n",
       "      <td>192</td>\n",
       "      <td>12.86</td>\n",
       "    </tr>\n",
       "    <tr>\n",
       "      <th>9</th>\n",
       "      <td>Simulation</td>\n",
       "      <td>80</td>\n",
       "      <td>10.41</td>\n",
       "    </tr>\n",
       "    <tr>\n",
       "      <th>2</th>\n",
       "      <td>Fighting</td>\n",
       "      <td>109</td>\n",
       "      <td>9.44</td>\n",
       "    </tr>\n",
       "  </tbody>\n",
       "</table>\n",
       "</div>"
      ],
      "text/plain": [
       "          genre  count    sum\n",
       "7  Role-Playing    370  65.44\n",
       "0        Action   1031  52.80\n",
       "3          Misc    192  12.86\n",
       "9    Simulation     80  10.41\n",
       "2      Fighting    109   9.44"
      ]
     },
     "metadata": {},
     "output_type": "display_data"
    }
   ],
   "source": [
    "JP_platform = data_for_analysis.pivot_table(index='platform', values='jp_sales', aggfunc=('sum', 'count')\n",
    "                                           ).reset_index().sort_values(by='sum', ascending=False)\n",
    "display(JP_platform.head())\n",
    "\n",
    "JP_genre = data_for_analysis.pivot_table(index='genre', values='jp_sales', aggfunc=('sum', 'count')\n",
    "                                           ).reset_index().sort_values(by='sum', ascending=False)\n",
    "display(JP_genre.head())\n",
    "\n",
    "\n",
    "\n"
   ]
  },
  {
   "cell_type": "markdown",
   "metadata": {},
   "source": [
    "Самые прибыльные жанры в Северной Америке:   \n",
    "- Action \n",
    "- Shooter  \n",
    "- Sports  \n",
    "Также популярен жанр \"Role-Playing\", он 4-ый по выручке.   \n",
    "\n",
    "самые прибыльные платформы:  \n",
    "- Xbox 360 (с большим отрывом)  \n",
    "- PS4 (уступает иксбоксу по выручке, но сильно опережает количеством)  \n",
    "- PS3 (уступает иксбоксу по выручке, но опережает количеством)  \n",
    "\n",
    "\n",
    "\n",
    "\n",
    "\n",
    "Самые прибыльные жанры в Европейском Союзе:  \n",
    "-PS4  \n",
    "-PS3(и самая популярная)  \n",
    "-XBox 360   \n",
    "\n",
    "Самые прибыльные платформы:  \n",
    "- Action (и самой популярный с огромным отрывом)  \n",
    "- Shooter (продаж меньше в 5 раз и на 1/4 меньше выручки)  \n",
    "- Sports (более популярна, чем Shooter, но выручка меньше)  \n",
    "\n",
    "\n",
    "\n",
    "\n",
    "\n",
    "Самые прибыльные жанры в Японии:  \n",
    "- 3DS (вотчина Nintendo, с огромным отрывом от конкурентов по выручке)  \n",
    "- PS3 \n",
    "- PSV (по популярности почти не отличается от PS3, по выручке значительно)  \n",
    "\n",
    "Самые прибыльные платформы:  \n",
    "- Role-Playing (Больше всего по выручке)  \n",
    "- Action (Незначительно отличается от Role-playing)  \n",
    "- Misc (значительно уступает Action по выручке)  \n",
    "\n"
   ]
  },
  {
   "cell_type": "markdown",
   "metadata": {},
   "source": [
    "Рынки Северной Америки и Европы похожи, одинаковые жанры, одинаковый выбр игровых платформ с небольшой разницей, что в Северной Америке лидирует Xbox, за которым след-в-след идет Sony с PS4 и PS3, а Европе, наоборот Xbox догоняет Sony с ее приставками. \n",
    "Рынок Японии значительно отличается: он сильно меньше по суммарной выручке, также популярны другие жанры, и \"карманные\", а не стационнарные консоли - 3Ds (позиции Nintendo вообще сильны), PSV. \n",
    "\n",
    "Для рынка Европы и Северной Америки стоит выбрать схожую стратегию с упором на стационнарные консоли, лишь по-разному выстраивать компании для продуктов Microsoft и Sony, в то время как для Японского рынка требуется совсем другая стратегия с большим упором на игры для карманных консолей и другие жанры.\n",
    "\n"
   ]
  },
  {
   "cell_type": "markdown",
   "metadata": {},
   "source": [
    "### Влияет ли рейтинг ESRB на продажи в отдельном регионе - ?"
   ]
  },
  {
   "cell_type": "code",
   "execution_count": 69,
   "metadata": {},
   "outputs": [
    {
     "data": {
      "text/html": [
       "<div>\n",
       "<style scoped>\n",
       "    .dataframe tbody tr th:only-of-type {\n",
       "        vertical-align: middle;\n",
       "    }\n",
       "\n",
       "    .dataframe tbody tr th {\n",
       "        vertical-align: top;\n",
       "    }\n",
       "\n",
       "    .dataframe thead th {\n",
       "        text-align: right;\n",
       "    }\n",
       "</style>\n",
       "<table border=\"1\" class=\"dataframe\">\n",
       "  <thead>\n",
       "    <tr style=\"text-align: right;\">\n",
       "      <th></th>\n",
       "      <th>name</th>\n",
       "      <th>platform</th>\n",
       "      <th>year_of_release</th>\n",
       "      <th>genre</th>\n",
       "      <th>na_sales</th>\n",
       "      <th>eu_sales</th>\n",
       "      <th>jp_sales</th>\n",
       "      <th>other_sales</th>\n",
       "      <th>critic_score</th>\n",
       "      <th>user_score</th>\n",
       "      <th>rating</th>\n",
       "      <th>total_sales</th>\n",
       "    </tr>\n",
       "  </thead>\n",
       "  <tbody>\n",
       "    <tr>\n",
       "      <th>16</th>\n",
       "      <td>Grand Theft Auto V</td>\n",
       "      <td>PS3</td>\n",
       "      <td>2013</td>\n",
       "      <td>Action</td>\n",
       "      <td>7.02</td>\n",
       "      <td>9.09</td>\n",
       "      <td>0.98</td>\n",
       "      <td>3.96</td>\n",
       "      <td>97.0</td>\n",
       "      <td>8.2</td>\n",
       "      <td>M</td>\n",
       "      <td>21.05</td>\n",
       "    </tr>\n",
       "    <tr>\n",
       "      <th>23</th>\n",
       "      <td>Grand Theft Auto V</td>\n",
       "      <td>X360</td>\n",
       "      <td>2013</td>\n",
       "      <td>Action</td>\n",
       "      <td>9.66</td>\n",
       "      <td>5.14</td>\n",
       "      <td>0.06</td>\n",
       "      <td>1.41</td>\n",
       "      <td>97.0</td>\n",
       "      <td>8.1</td>\n",
       "      <td>M</td>\n",
       "      <td>16.27</td>\n",
       "    </tr>\n",
       "    <tr>\n",
       "      <th>31</th>\n",
       "      <td>Call of Duty: Black Ops 3</td>\n",
       "      <td>PS4</td>\n",
       "      <td>2015</td>\n",
       "      <td>Shooter</td>\n",
       "      <td>6.03</td>\n",
       "      <td>5.86</td>\n",
       "      <td>0.36</td>\n",
       "      <td>2.38</td>\n",
       "      <td>0.0</td>\n",
       "      <td>0.0</td>\n",
       "      <td>0</td>\n",
       "      <td>14.63</td>\n",
       "    </tr>\n",
       "    <tr>\n",
       "      <th>33</th>\n",
       "      <td>Pokemon X/Pokemon Y</td>\n",
       "      <td>3DS</td>\n",
       "      <td>2013</td>\n",
       "      <td>Role-Playing</td>\n",
       "      <td>5.28</td>\n",
       "      <td>4.19</td>\n",
       "      <td>4.35</td>\n",
       "      <td>0.78</td>\n",
       "      <td>0.0</td>\n",
       "      <td>0.0</td>\n",
       "      <td>0</td>\n",
       "      <td>14.60</td>\n",
       "    </tr>\n",
       "    <tr>\n",
       "      <th>34</th>\n",
       "      <td>Call of Duty: Black Ops II</td>\n",
       "      <td>PS3</td>\n",
       "      <td>2012</td>\n",
       "      <td>Shooter</td>\n",
       "      <td>4.99</td>\n",
       "      <td>5.73</td>\n",
       "      <td>0.65</td>\n",
       "      <td>2.42</td>\n",
       "      <td>83.0</td>\n",
       "      <td>5.3</td>\n",
       "      <td>M</td>\n",
       "      <td>13.79</td>\n",
       "    </tr>\n",
       "  </tbody>\n",
       "</table>\n",
       "</div>"
      ],
      "text/plain": [
       "                          name platform  year_of_release         genre  \\\n",
       "16          Grand Theft Auto V      PS3             2013        Action   \n",
       "23          Grand Theft Auto V     X360             2013        Action   \n",
       "31   Call of Duty: Black Ops 3      PS4             2015       Shooter   \n",
       "33         Pokemon X/Pokemon Y      3DS             2013  Role-Playing   \n",
       "34  Call of Duty: Black Ops II      PS3             2012       Shooter   \n",
       "\n",
       "    na_sales  eu_sales  jp_sales  other_sales  critic_score  user_score  \\\n",
       "16      7.02      9.09      0.98         3.96          97.0         8.2   \n",
       "23      9.66      5.14      0.06         1.41          97.0         8.1   \n",
       "31      6.03      5.86      0.36         2.38           0.0         0.0   \n",
       "33      5.28      4.19      4.35         0.78           0.0         0.0   \n",
       "34      4.99      5.73      0.65         2.42          83.0         5.3   \n",
       "\n",
       "   rating  total_sales  \n",
       "16      M        21.05  \n",
       "23      M        16.27  \n",
       "31      0        14.63  \n",
       "33      0        14.60  \n",
       "34      M        13.79  "
      ]
     },
     "metadata": {},
     "output_type": "display_data"
    },
    {
     "name": "stdout",
     "output_type": "stream",
     "text": [
      "['M' 0 'E' 'E10+' 'T']\n"
     ]
    }
   ],
   "source": [
    "display(data_for_analysis.head())\n",
    "\n",
    "print(data_for_analysis['rating'].unique())"
   ]
  },
  {
   "cell_type": "code",
   "execution_count": 70,
   "metadata": {},
   "outputs": [
    {
     "data": {
      "text/html": [
       "<div>\n",
       "<style scoped>\n",
       "    .dataframe tbody tr th:only-of-type {\n",
       "        vertical-align: middle;\n",
       "    }\n",
       "\n",
       "    .dataframe tbody tr th {\n",
       "        vertical-align: top;\n",
       "    }\n",
       "\n",
       "    .dataframe thead th {\n",
       "        text-align: right;\n",
       "    }\n",
       "</style>\n",
       "<table border=\"1\" class=\"dataframe\">\n",
       "  <thead>\n",
       "    <tr style=\"text-align: right;\">\n",
       "      <th></th>\n",
       "      <th>name</th>\n",
       "      <th>platform</th>\n",
       "      <th>year_of_release</th>\n",
       "      <th>genre</th>\n",
       "      <th>na_sales</th>\n",
       "      <th>eu_sales</th>\n",
       "      <th>jp_sales</th>\n",
       "      <th>other_sales</th>\n",
       "      <th>critic_score</th>\n",
       "      <th>user_score</th>\n",
       "      <th>rating</th>\n",
       "      <th>total_sales</th>\n",
       "      <th>num_ESRB_rating</th>\n",
       "    </tr>\n",
       "  </thead>\n",
       "  <tbody>\n",
       "    <tr>\n",
       "      <th>16</th>\n",
       "      <td>Grand Theft Auto V</td>\n",
       "      <td>PS3</td>\n",
       "      <td>2013</td>\n",
       "      <td>Action</td>\n",
       "      <td>7.02</td>\n",
       "      <td>9.09</td>\n",
       "      <td>0.98</td>\n",
       "      <td>3.96</td>\n",
       "      <td>97.0</td>\n",
       "      <td>8.2</td>\n",
       "      <td>M</td>\n",
       "      <td>21.05</td>\n",
       "      <td>5.0</td>\n",
       "    </tr>\n",
       "    <tr>\n",
       "      <th>23</th>\n",
       "      <td>Grand Theft Auto V</td>\n",
       "      <td>X360</td>\n",
       "      <td>2013</td>\n",
       "      <td>Action</td>\n",
       "      <td>9.66</td>\n",
       "      <td>5.14</td>\n",
       "      <td>0.06</td>\n",
       "      <td>1.41</td>\n",
       "      <td>97.0</td>\n",
       "      <td>8.1</td>\n",
       "      <td>M</td>\n",
       "      <td>16.27</td>\n",
       "      <td>5.0</td>\n",
       "    </tr>\n",
       "    <tr>\n",
       "      <th>31</th>\n",
       "      <td>Call of Duty: Black Ops 3</td>\n",
       "      <td>PS4</td>\n",
       "      <td>2015</td>\n",
       "      <td>Shooter</td>\n",
       "      <td>6.03</td>\n",
       "      <td>5.86</td>\n",
       "      <td>0.36</td>\n",
       "      <td>2.38</td>\n",
       "      <td>0.0</td>\n",
       "      <td>0.0</td>\n",
       "      <td>0</td>\n",
       "      <td>14.63</td>\n",
       "      <td>NaN</td>\n",
       "    </tr>\n",
       "    <tr>\n",
       "      <th>33</th>\n",
       "      <td>Pokemon X/Pokemon Y</td>\n",
       "      <td>3DS</td>\n",
       "      <td>2013</td>\n",
       "      <td>Role-Playing</td>\n",
       "      <td>5.28</td>\n",
       "      <td>4.19</td>\n",
       "      <td>4.35</td>\n",
       "      <td>0.78</td>\n",
       "      <td>0.0</td>\n",
       "      <td>0.0</td>\n",
       "      <td>0</td>\n",
       "      <td>14.60</td>\n",
       "      <td>NaN</td>\n",
       "    </tr>\n",
       "    <tr>\n",
       "      <th>34</th>\n",
       "      <td>Call of Duty: Black Ops II</td>\n",
       "      <td>PS3</td>\n",
       "      <td>2012</td>\n",
       "      <td>Shooter</td>\n",
       "      <td>4.99</td>\n",
       "      <td>5.73</td>\n",
       "      <td>0.65</td>\n",
       "      <td>2.42</td>\n",
       "      <td>83.0</td>\n",
       "      <td>5.3</td>\n",
       "      <td>M</td>\n",
       "      <td>13.79</td>\n",
       "      <td>5.0</td>\n",
       "    </tr>\n",
       "  </tbody>\n",
       "</table>\n",
       "</div>"
      ],
      "text/plain": [
       "                          name platform  year_of_release         genre  \\\n",
       "16          Grand Theft Auto V      PS3             2013        Action   \n",
       "23          Grand Theft Auto V     X360             2013        Action   \n",
       "31   Call of Duty: Black Ops 3      PS4             2015       Shooter   \n",
       "33         Pokemon X/Pokemon Y      3DS             2013  Role-Playing   \n",
       "34  Call of Duty: Black Ops II      PS3             2012       Shooter   \n",
       "\n",
       "    na_sales  eu_sales  jp_sales  other_sales  critic_score  user_score  \\\n",
       "16      7.02      9.09      0.98         3.96          97.0         8.2   \n",
       "23      9.66      5.14      0.06         1.41          97.0         8.1   \n",
       "31      6.03      5.86      0.36         2.38           0.0         0.0   \n",
       "33      5.28      4.19      4.35         0.78           0.0         0.0   \n",
       "34      4.99      5.73      0.65         2.42          83.0         5.3   \n",
       "\n",
       "   rating  total_sales  num_ESRB_rating  \n",
       "16      M        21.05              5.0  \n",
       "23      M        16.27              5.0  \n",
       "31      0        14.63              NaN  \n",
       "33      0        14.60              NaN  \n",
       "34      M        13.79              5.0  "
      ]
     },
     "metadata": {},
     "output_type": "display_data"
    },
    {
     "name": "stdout",
     "output_type": "stream",
     "text": [
      "5.0    498\n",
      "4.0    412\n",
      "2.0    395\n",
      "3.0    306\n",
      "Name: num_ESRB_rating, dtype: int64\n"
     ]
    }
   ],
   "source": [
    "#переводим рейтинг в числа для анализа\n",
    "\n",
    "def num_rating(row):\n",
    "    \n",
    "    rating = row['rating']\n",
    "\n",
    "    \n",
    "    if rating == 'RP':\n",
    "        return 0\n",
    "\n",
    "    elif rating == 'EC':\n",
    "        return 1\n",
    "\n",
    "    elif rating == 'E':\n",
    "        return 2\n",
    "\n",
    "    elif rating == 'E10+':\n",
    "        return 3\n",
    "\n",
    "    elif rating == 'T':\n",
    "        return 4\n",
    "\n",
    "    elif rating == 'M':\n",
    "        return 5\n",
    "\n",
    "    elif rating == 'AO':\n",
    "        return 6\n",
    "\n",
    "data_for_analysis['num_ESRB_rating'] = data_for_analysis.apply(num_rating, axis=1)\n",
    "display(data_for_analysis.head())\n",
    "#работает\n",
    "\n",
    "#print(data_for_analysis['num_ESRB_rating'].unique())\n",
    "print(data_for_analysis['num_ESRB_rating'].value_counts())\n",
    "\n",
    "#5.0    498  это рейтинг  \"М\"\n",
    "#4.0    412  это рейтинг  \"Т\"\n",
    "#2.0    395  это рейтинг  \"Е\"\n",
    "#3.0    306  это рейтинг  \"Е10+\""
   ]
  },
  {
   "cell_type": "code",
   "execution_count": 71,
   "metadata": {
    "scrolled": true
   },
   "outputs": [
    {
     "data": {
      "image/png": "[encoded data removed]",
      "text/plain": [
       "<Figure size 576x432 with 1 Axes>"
      ]
     },
     "metadata": {},
     "output_type": "display_data"
    },
    {
     "data": {
      "image/png": "[encoded data removed]",
      "text/plain": [
       "<Figure size 576x432 with 1 Axes>"
      ]
     },
     "metadata": {},
     "output_type": "display_data"
    },
    {
     "data": {
      "image/png": "[encoded data removed]",
      "text/plain": [
       "<Figure size 576x432 with 1 Axes>"
      ]
     },
     "metadata": {},
     "output_type": "display_data"
    },
    {
     "name": "stdout",
     "output_type": "stream",
     "text": [
      "\n"
     ]
    }
   ],
   "source": [
    "na = data_for_analysis.pivot_table(index='num_ESRB_rating', values='na_sales', aggfunc='sum').reset_index()\n",
    "eu = data_for_analysis.pivot_table(index='num_ESRB_rating', values='eu_sales', aggfunc='sum').reset_index()\n",
    "jp = data_for_analysis.pivot_table(index='num_ESRB_rating', values='jp_sales', aggfunc='sum').reset_index()\n",
    "\n",
    "na.plot(kind='bar', figsize=(8,6), y='na_sales', color='g', title='Продажи по рейтингам в Северной Америке')\n",
    "plt.xticks([0,1,2,3], ['E', 'E10+', 'T', 'M'], rotation ='vertical')\n",
    "plt.xlabel('Объем продаж в категориях рейтинга ESRB')\n",
    "\n",
    "eu.plot(kind='bar', figsize=(8,6), y='eu_sales', color='g', title='Продажи по рейтингам в ЕС')\n",
    "plt.xticks([0,1,2,3], ['E', 'E10+', 'T', 'M'], rotation ='vertical')\n",
    "plt.xlabel('Объем продаж в категориях рейтинга ESRB')\n",
    "\n",
    "jp.plot(kind='bar', figsize=(8,6), y='jp_sales', color='g', title='Продажи по рейтингам в Японии')\n",
    "plt.xticks([0,1,2,3], ['E', 'E10+', 'M', 'T'], rotation ='vertical')\n",
    "plt.xlabel('Объем продаж в категориях рейтинга ESRB')\n",
    "\n",
    "plt.xticks([0,1,2,3], ['E', 'E10+', 'T', 'M'], rotation ='vertical')\n",
    "\n",
    "plt.show()\n",
    "\n",
    "print('')\n",
    "\n",
    "\n"
   ]
  },
  {
   "cell_type": "markdown",
   "metadata": {},
   "source": [
    "Как видно из графиков, рынки Северной Америки и Европы похожи, рынок Японии сильно отличается. В Северной Америке и Европе большим спросом пользуются игры с рейтингом \"M\". В Японии же наиболльшим спросом пользуются игры с рейтином \"E\".  "
   ]
  },
  {
   "cell_type": "markdown",
   "metadata": {},
   "source": [
    "## Проверяем гипотезы"
   ]
  },
  {
   "cell_type": "markdown",
   "metadata": {},
   "source": [
    "### \"Средние пользовательские рейтинги платформ Xbox One и PC одинаковые\"\n",
    "\n",
    "Предлагаю за гипотезу H0 взять \"Средние Генеральных совокупностей пользовательских рейтингов пользователей платформ Xbox One и PC равны\".\n",
    "За альтернативную гипотезу H1 предлагаю взять \"Средние Генеральных совокупностей пользовательских рейтингов пользователей платформ Xbox One и PC не равны\"\n",
    "\n",
    "Для проверки гипотезы H0 используем stats.ttest_ind(), который вернет статистику, p-значение которой покажет, с какой вероятностью, средние этих совокупностей действительно равны. Предлагаю взять доверительный интервал alpha за 5%. "
   ]
  },
  {
   "cell_type": "code",
   "execution_count": 72,
   "metadata": {},
   "outputs": [
    {
     "data": {
      "text/html": [
       "<div>\n",
       "<style scoped>\n",
       "    .dataframe tbody tr th:only-of-type {\n",
       "        vertical-align: middle;\n",
       "    }\n",
       "\n",
       "    .dataframe tbody tr th {\n",
       "        vertical-align: top;\n",
       "    }\n",
       "\n",
       "    .dataframe thead th {\n",
       "        text-align: right;\n",
       "    }\n",
       "</style>\n",
       "<table border=\"1\" class=\"dataframe\">\n",
       "  <thead>\n",
       "    <tr style=\"text-align: right;\">\n",
       "      <th></th>\n",
       "      <th>name</th>\n",
       "      <th>platform</th>\n",
       "      <th>year_of_release</th>\n",
       "      <th>genre</th>\n",
       "      <th>na_sales</th>\n",
       "      <th>eu_sales</th>\n",
       "      <th>jp_sales</th>\n",
       "      <th>other_sales</th>\n",
       "      <th>critic_score</th>\n",
       "      <th>user_score</th>\n",
       "      <th>rating</th>\n",
       "      <th>total_sales</th>\n",
       "      <th>num_ESRB_rating</th>\n",
       "    </tr>\n",
       "  </thead>\n",
       "  <tbody>\n",
       "    <tr>\n",
       "      <th>16</th>\n",
       "      <td>Grand Theft Auto V</td>\n",
       "      <td>PS3</td>\n",
       "      <td>2013</td>\n",
       "      <td>Action</td>\n",
       "      <td>7.02</td>\n",
       "      <td>9.09</td>\n",
       "      <td>0.98</td>\n",
       "      <td>3.96</td>\n",
       "      <td>97.0</td>\n",
       "      <td>8.2</td>\n",
       "      <td>M</td>\n",
       "      <td>21.05</td>\n",
       "      <td>5.0</td>\n",
       "    </tr>\n",
       "    <tr>\n",
       "      <th>23</th>\n",
       "      <td>Grand Theft Auto V</td>\n",
       "      <td>X360</td>\n",
       "      <td>2013</td>\n",
       "      <td>Action</td>\n",
       "      <td>9.66</td>\n",
       "      <td>5.14</td>\n",
       "      <td>0.06</td>\n",
       "      <td>1.41</td>\n",
       "      <td>97.0</td>\n",
       "      <td>8.1</td>\n",
       "      <td>M</td>\n",
       "      <td>16.27</td>\n",
       "      <td>5.0</td>\n",
       "    </tr>\n",
       "    <tr>\n",
       "      <th>31</th>\n",
       "      <td>Call of Duty: Black Ops 3</td>\n",
       "      <td>PS4</td>\n",
       "      <td>2015</td>\n",
       "      <td>Shooter</td>\n",
       "      <td>6.03</td>\n",
       "      <td>5.86</td>\n",
       "      <td>0.36</td>\n",
       "      <td>2.38</td>\n",
       "      <td>0.0</td>\n",
       "      <td>0.0</td>\n",
       "      <td>0</td>\n",
       "      <td>14.63</td>\n",
       "      <td>NaN</td>\n",
       "    </tr>\n",
       "    <tr>\n",
       "      <th>33</th>\n",
       "      <td>Pokemon X/Pokemon Y</td>\n",
       "      <td>3DS</td>\n",
       "      <td>2013</td>\n",
       "      <td>Role-Playing</td>\n",
       "      <td>5.28</td>\n",
       "      <td>4.19</td>\n",
       "      <td>4.35</td>\n",
       "      <td>0.78</td>\n",
       "      <td>0.0</td>\n",
       "      <td>0.0</td>\n",
       "      <td>0</td>\n",
       "      <td>14.60</td>\n",
       "      <td>NaN</td>\n",
       "    </tr>\n",
       "    <tr>\n",
       "      <th>34</th>\n",
       "      <td>Call of Duty: Black Ops II</td>\n",
       "      <td>PS3</td>\n",
       "      <td>2012</td>\n",
       "      <td>Shooter</td>\n",
       "      <td>4.99</td>\n",
       "      <td>5.73</td>\n",
       "      <td>0.65</td>\n",
       "      <td>2.42</td>\n",
       "      <td>83.0</td>\n",
       "      <td>5.3</td>\n",
       "      <td>M</td>\n",
       "      <td>13.79</td>\n",
       "      <td>5.0</td>\n",
       "    </tr>\n",
       "  </tbody>\n",
       "</table>\n",
       "</div>"
      ],
      "text/plain": [
       "                          name platform  year_of_release         genre  \\\n",
       "16          Grand Theft Auto V      PS3             2013        Action   \n",
       "23          Grand Theft Auto V     X360             2013        Action   \n",
       "31   Call of Duty: Black Ops 3      PS4             2015       Shooter   \n",
       "33         Pokemon X/Pokemon Y      3DS             2013  Role-Playing   \n",
       "34  Call of Duty: Black Ops II      PS3             2012       Shooter   \n",
       "\n",
       "    na_sales  eu_sales  jp_sales  other_sales  critic_score  user_score  \\\n",
       "16      7.02      9.09      0.98         3.96          97.0         8.2   \n",
       "23      9.66      5.14      0.06         1.41          97.0         8.1   \n",
       "31      6.03      5.86      0.36         2.38           0.0         0.0   \n",
       "33      5.28      4.19      4.35         0.78           0.0         0.0   \n",
       "34      4.99      5.73      0.65         2.42          83.0         5.3   \n",
       "\n",
       "   rating  total_sales  num_ESRB_rating  \n",
       "16      M        21.05              5.0  \n",
       "23      M        16.27              5.0  \n",
       "31      0        14.63              NaN  \n",
       "33      0        14.60              NaN  \n",
       "34      M        13.79              5.0  "
      ]
     },
     "metadata": {},
     "output_type": "display_data"
    },
    {
     "name": "stdout",
     "output_type": "stream",
     "text": [
      "1.9069968429360702 Дисперсия отзывов пользователей Xbox One \n",
      "2.7704439971584156 Дисперсия отзывов пользователей PC \n",
      "p-значение 0.5489537965134912\n",
      "Не получилось отвергнуть гипотезу H0\n"
     ]
    }
   ],
   "source": [
    "display(data_for_analysis.head())\n",
    "\n",
    "print(data_for_analysis.query('user_score != 0 & platform == \"XOne\" ' \n",
    "                             )['user_score'].var(), 'Дисперсия отзывов пользователей Xbox One ')\n",
    "print(data_for_analysis.query('user_score != 0 & platform == \"PC\" ' \n",
    "                             )['user_score'].var(), 'Дисперсия отзывов пользователей PC ')\n",
    "#проверяем дисперсии выборок - вдруг они совпадают. \n",
    "#не совпали\n",
    "\n",
    "sample_XOne = data_for_analysis.query('user_score != 0 & platform == \"XOne\" ' \n",
    "                             )['user_score']\n",
    "sample_PC = data_for_analysis.query('user_score != 0 & platform == \"PC\" ' \n",
    "                             )['user_score']\n",
    "alpha=0.05\n",
    "results = st.ttest_ind(sample_XOne, sample_PC, equal_var=False)\n",
    "\n",
    "print('p-значение', results.pvalue)\n",
    "\n",
    "if results.pvalue<alpha:\n",
    "    print(\"Отвергаем H0\")\n",
    "else:\n",
    "    print(\"Не получилось отвергнуть гипотезу H0\")\n",
    "\n",
    "\n",
    "\n"
   ]
  },
  {
   "cell_type": "markdown",
   "metadata": {},
   "source": [
    "P-значение получилось большим, не получилось отвергнуть гипотезу H0. Скорее всего, в большинстве случаев, средние Генеральных совокупностей пользовательских рейтингов пользователей платформ Xbox One и PC равны."
   ]
  },
  {
   "cell_type": "markdown",
   "metadata": {},
   "source": [
    "### \"Средние пользовательские рейтинги жанров Action и Sports разные\"."
   ]
  },
  {
   "cell_type": "markdown",
   "metadata": {},
   "source": [
    "Предлагаю за гипотезу H0 взять \"Средние Генеральных совокупностей пользовательских рейтингов жанров Action и Sports равны\".\n",
    "За альтернативную гипотезу H1 предлагаю взять \"Средние Генеральных совокупностей пользовательских рейтингов жанров Action и Sports не равны\"\n",
    "\n",
    "Для проверки гипотезы H0 используем stats.ttest_ind(), который вернет статистику, p-значение которой покажет, с какой вероятностью, средние этих совокупностей действительно равны. Предлагаю взять доверительный интервал alpha за 5%. "
   ]
  },
  {
   "cell_type": "code",
   "execution_count": 73,
   "metadata": {},
   "outputs": [
    {
     "data": {
      "text/html": [
       "<div>\n",
       "<style scoped>\n",
       "    .dataframe tbody tr th:only-of-type {\n",
       "        vertical-align: middle;\n",
       "    }\n",
       "\n",
       "    .dataframe tbody tr th {\n",
       "        vertical-align: top;\n",
       "    }\n",
       "\n",
       "    .dataframe thead th {\n",
       "        text-align: right;\n",
       "    }\n",
       "</style>\n",
       "<table border=\"1\" class=\"dataframe\">\n",
       "  <thead>\n",
       "    <tr style=\"text-align: right;\">\n",
       "      <th></th>\n",
       "      <th>name</th>\n",
       "      <th>platform</th>\n",
       "      <th>year_of_release</th>\n",
       "      <th>genre</th>\n",
       "      <th>na_sales</th>\n",
       "      <th>eu_sales</th>\n",
       "      <th>jp_sales</th>\n",
       "      <th>other_sales</th>\n",
       "      <th>critic_score</th>\n",
       "      <th>user_score</th>\n",
       "      <th>rating</th>\n",
       "      <th>total_sales</th>\n",
       "      <th>num_ESRB_rating</th>\n",
       "    </tr>\n",
       "  </thead>\n",
       "  <tbody>\n",
       "    <tr>\n",
       "      <th>16</th>\n",
       "      <td>Grand Theft Auto V</td>\n",
       "      <td>PS3</td>\n",
       "      <td>2013</td>\n",
       "      <td>Action</td>\n",
       "      <td>7.02</td>\n",
       "      <td>9.09</td>\n",
       "      <td>0.98</td>\n",
       "      <td>3.96</td>\n",
       "      <td>97.0</td>\n",
       "      <td>8.2</td>\n",
       "      <td>M</td>\n",
       "      <td>21.05</td>\n",
       "      <td>5.0</td>\n",
       "    </tr>\n",
       "    <tr>\n",
       "      <th>23</th>\n",
       "      <td>Grand Theft Auto V</td>\n",
       "      <td>X360</td>\n",
       "      <td>2013</td>\n",
       "      <td>Action</td>\n",
       "      <td>9.66</td>\n",
       "      <td>5.14</td>\n",
       "      <td>0.06</td>\n",
       "      <td>1.41</td>\n",
       "      <td>97.0</td>\n",
       "      <td>8.1</td>\n",
       "      <td>M</td>\n",
       "      <td>16.27</td>\n",
       "      <td>5.0</td>\n",
       "    </tr>\n",
       "    <tr>\n",
       "      <th>31</th>\n",
       "      <td>Call of Duty: Black Ops 3</td>\n",
       "      <td>PS4</td>\n",
       "      <td>2015</td>\n",
       "      <td>Shooter</td>\n",
       "      <td>6.03</td>\n",
       "      <td>5.86</td>\n",
       "      <td>0.36</td>\n",
       "      <td>2.38</td>\n",
       "      <td>0.0</td>\n",
       "      <td>0.0</td>\n",
       "      <td>0</td>\n",
       "      <td>14.63</td>\n",
       "      <td>NaN</td>\n",
       "    </tr>\n",
       "    <tr>\n",
       "      <th>33</th>\n",
       "      <td>Pokemon X/Pokemon Y</td>\n",
       "      <td>3DS</td>\n",
       "      <td>2013</td>\n",
       "      <td>Role-Playing</td>\n",
       "      <td>5.28</td>\n",
       "      <td>4.19</td>\n",
       "      <td>4.35</td>\n",
       "      <td>0.78</td>\n",
       "      <td>0.0</td>\n",
       "      <td>0.0</td>\n",
       "      <td>0</td>\n",
       "      <td>14.60</td>\n",
       "      <td>NaN</td>\n",
       "    </tr>\n",
       "    <tr>\n",
       "      <th>34</th>\n",
       "      <td>Call of Duty: Black Ops II</td>\n",
       "      <td>PS3</td>\n",
       "      <td>2012</td>\n",
       "      <td>Shooter</td>\n",
       "      <td>4.99</td>\n",
       "      <td>5.73</td>\n",
       "      <td>0.65</td>\n",
       "      <td>2.42</td>\n",
       "      <td>83.0</td>\n",
       "      <td>5.3</td>\n",
       "      <td>M</td>\n",
       "      <td>13.79</td>\n",
       "      <td>5.0</td>\n",
       "    </tr>\n",
       "  </tbody>\n",
       "</table>\n",
       "</div>"
      ],
      "text/plain": [
       "                          name platform  year_of_release         genre  \\\n",
       "16          Grand Theft Auto V      PS3             2013        Action   \n",
       "23          Grand Theft Auto V     X360             2013        Action   \n",
       "31   Call of Duty: Black Ops 3      PS4             2015       Shooter   \n",
       "33         Pokemon X/Pokemon Y      3DS             2013  Role-Playing   \n",
       "34  Call of Duty: Black Ops II      PS3             2012       Shooter   \n",
       "\n",
       "    na_sales  eu_sales  jp_sales  other_sales  critic_score  user_score  \\\n",
       "16      7.02      9.09      0.98         3.96          97.0         8.2   \n",
       "23      9.66      5.14      0.06         1.41          97.0         8.1   \n",
       "31      6.03      5.86      0.36         2.38           0.0         0.0   \n",
       "33      5.28      4.19      4.35         0.78           0.0         0.0   \n",
       "34      4.99      5.73      0.65         2.42          83.0         5.3   \n",
       "\n",
       "   rating  total_sales  num_ESRB_rating  \n",
       "16      M        21.05              5.0  \n",
       "23      M        16.27              5.0  \n",
       "31      0        14.63              NaN  \n",
       "33      0        14.60              NaN  \n",
       "34      M        13.79              5.0  "
      ]
     },
     "metadata": {},
     "output_type": "display_data"
    },
    {
     "name": "stdout",
     "output_type": "stream",
     "text": [
      "1.8890840494348116 Дисперсия отзывов игроков жанра Action \n",
      "3.022890298704733 Дисперсия отзывов игроков жанра Sports\n",
      "p-значение 4.24307776572644e-20\n",
      "Отвергаем H0\n"
     ]
    }
   ],
   "source": [
    "display(data_for_analysis.head())\n",
    "\n",
    "print(data_for_analysis.query('user_score != 0 & genre == \"Action\" ' \n",
    "                             )['user_score'].var(), 'Дисперсия отзывов игроков жанра Action ')\n",
    "print(data_for_analysis.query('user_score != 0 & genre == \"Sports\" ' \n",
    "                             )['user_score'].var(), 'Дисперсия отзывов игроков жанра Sports')\n",
    "#проверяем дисперсии выборок - вдруг они совпадают. \n",
    "#не совпали\n",
    "\n",
    "sample_Action = data_for_analysis.query('user_score != 0 & genre == \"Action\" ' \n",
    "                             )['user_score']\n",
    "sample_Sports = data_for_analysis.query('user_score != 0 & genre == \"Sports\" ' \n",
    "                             )['user_score']\n",
    "alpha=0.05\n",
    "results = st.ttest_ind(sample_Action, sample_Sports, equal_var=False)\n",
    "\n",
    "print('p-значение', results.pvalue)\n",
    "\n",
    "if results.pvalue<alpha:\n",
    "    print(\"Отвергаем H0\")\n",
    "else:\n",
    "    print(\"Не получилось отвергнуть гипотезу H0\")\n",
    "\n",
    "\n",
    "\n",
    "\n"
   ]
  },
  {
   "cell_type": "markdown",
   "metadata": {},
   "source": [
    "Значение p-value достаточно высокое, но недостаточно для доверительного интервала в 5%. Предлагаю отвергнуть гипотезу H0, принять гипотезу H1: \"Средние Генеральных совокупностей пользовательских рейтингов жанров Action и Sports не равны\".  \n",
    "То есть изначально поставленная гипотеза о неравенстве (различии) средних генеральных совокупностей пользовательских рейтингов игр жанров \"Sports\" и \"Action\" верна, они, скорее всего, различаются. "
   ]
  },
  {
   "cell_type": "markdown",
   "metadata": {},
   "source": [
    "# Общий вывод"
   ]
  },
  {
   "cell_type": "markdown",
   "metadata": {},
   "source": [
    "Данные были предварительно проанализированы, изменены названия столбцов, изменены типа данных на более подходящие, данные очищены от пропусков, некоторые пропущенные значенения были удалены,\n",
    "некоторые (в рейтингах) ввиду невозможности заменить на медиану субъективную оценку и значение \"tbd\" были заменены нулями и в дальнейшем анализе исключены из рассмотрения. \n",
    "\n",
    "Были посчитаны суммарные продажи по регионам для каждой игры, были проанализированы игры по годам, платформам, жанрам, выбран наиболее подходящий временной период, построены соответствующие распределения, выбраны наиболее перспективные платформы, составлен портрет покупателя из рынков разных регионов, посчитана взаимосвязь между продажами игр и отзывами пользователей и критиков, также были проверены 2 гипотезы. \n",
    "\n",
    "\n",
    "Предложены особенности построения будущих рекламных компаний."
   ]
  },
  {
   "cell_type": "code",
   "execution_count": null,
   "metadata": {},
   "outputs": [],
   "source": []
  }
 ],
 "metadata": {
  "ExecuteTimeLog": [
   {
    "duration": 15,
    "start_time": "2021-08-16T09:38:50.028Z"
   },
   {
    "duration": 381,
    "start_time": "2021-08-16T09:39:07.952Z"
   },
   {
    "duration": 367,
    "start_time": "2021-08-16T09:39:16.443Z"
   },
   {
    "duration": 1323,
    "start_time": "2021-08-16T09:39:21.031Z"
   },
   {
    "duration": 33,
    "start_time": "2021-08-16T09:39:22.358Z"
   },
   {
    "duration": 14,
    "start_time": "2021-08-16T09:39:22.395Z"
   },
   {
    "duration": 76,
    "start_time": "2021-08-16T09:39:22.412Z"
   },
   {
    "duration": 33,
    "start_time": "2021-08-16T09:39:22.491Z"
   },
   {
    "duration": 17,
    "start_time": "2021-08-16T09:39:22.526Z"
   },
   {
    "duration": 47,
    "start_time": "2021-08-16T09:39:22.546Z"
   },
   {
    "duration": 24,
    "start_time": "2021-08-16T09:39:22.596Z"
   },
   {
    "duration": 21,
    "start_time": "2021-08-16T09:39:22.625Z"
   },
   {
    "duration": 13,
    "start_time": "2021-08-16T09:39:22.684Z"
   },
   {
    "duration": 31,
    "start_time": "2021-08-16T09:39:22.700Z"
   },
   {
    "duration": 57,
    "start_time": "2021-08-16T09:39:22.733Z"
   },
   {
    "duration": 371,
    "start_time": "2021-08-16T09:39:22.793Z"
   },
   {
    "duration": 54663,
    "start_time": "2021-08-16T09:38:28.504Z"
   },
   {
    "duration": 54661,
    "start_time": "2021-08-16T09:38:28.507Z"
   },
   {
    "duration": 54648,
    "start_time": "2021-08-16T09:38:28.522Z"
   },
   {
    "duration": 54646,
    "start_time": "2021-08-16T09:38:28.525Z"
   },
   {
    "duration": 54644,
    "start_time": "2021-08-16T09:38:28.529Z"
   },
   {
    "duration": 54640,
    "start_time": "2021-08-16T09:38:28.534Z"
   },
   {
    "duration": 54640,
    "start_time": "2021-08-16T09:38:28.536Z"
   },
   {
    "duration": 54639,
    "start_time": "2021-08-16T09:38:28.538Z"
   },
   {
    "duration": 54640,
    "start_time": "2021-08-16T09:38:28.539Z"
   },
   {
    "duration": 54639,
    "start_time": "2021-08-16T09:38:28.541Z"
   },
   {
    "duration": 54639,
    "start_time": "2021-08-16T09:38:28.542Z"
   },
   {
    "duration": 54640,
    "start_time": "2021-08-16T09:38:28.543Z"
   },
   {
    "duration": 54638,
    "start_time": "2021-08-16T09:38:28.546Z"
   },
   {
    "duration": 54638,
    "start_time": "2021-08-16T09:38:28.547Z"
   },
   {
    "duration": 54634,
    "start_time": "2021-08-16T09:38:28.554Z"
   },
   {
    "duration": 54633,
    "start_time": "2021-08-16T09:38:28.556Z"
   },
   {
    "duration": 54631,
    "start_time": "2021-08-16T09:38:28.560Z"
   },
   {
    "duration": 25,
    "start_time": "2021-08-16T09:40:30.902Z"
   },
   {
    "duration": 106,
    "start_time": "2021-08-16T09:40:34.314Z"
   },
   {
    "duration": 18,
    "start_time": "2021-08-16T09:40:34.422Z"
   },
   {
    "duration": 15,
    "start_time": "2021-08-16T09:40:34.443Z"
   },
   {
    "duration": 63,
    "start_time": "2021-08-16T09:40:34.460Z"
   },
   {
    "duration": 31,
    "start_time": "2021-08-16T09:40:34.525Z"
   },
   {
    "duration": 34,
    "start_time": "2021-08-16T09:40:34.558Z"
   },
   {
    "duration": 16,
    "start_time": "2021-08-16T09:40:34.594Z"
   },
   {
    "duration": 22,
    "start_time": "2021-08-16T09:40:34.612Z"
   },
   {
    "duration": 56,
    "start_time": "2021-08-16T09:40:34.638Z"
   },
   {
    "duration": 36,
    "start_time": "2021-08-16T09:40:34.697Z"
   },
   {
    "duration": 107,
    "start_time": "2021-08-16T09:40:34.736Z"
   },
   {
    "duration": 54607,
    "start_time": "2021-08-16T09:39:40.239Z"
   },
   {
    "duration": 54606,
    "start_time": "2021-08-16T09:39:40.241Z"
   },
   {
    "duration": 54607,
    "start_time": "2021-08-16T09:39:40.242Z"
   },
   {
    "duration": 54606,
    "start_time": "2021-08-16T09:39:40.244Z"
   },
   {
    "duration": 54606,
    "start_time": "2021-08-16T09:39:40.246Z"
   },
   {
    "duration": 54591,
    "start_time": "2021-08-16T09:39:40.262Z"
   },
   {
    "duration": 54591,
    "start_time": "2021-08-16T09:39:40.264Z"
   },
   {
    "duration": 54584,
    "start_time": "2021-08-16T09:39:40.272Z"
   },
   {
    "duration": 54584,
    "start_time": "2021-08-16T09:39:40.274Z"
   },
   {
    "duration": 54582,
    "start_time": "2021-08-16T09:39:40.277Z"
   },
   {
    "duration": 54582,
    "start_time": "2021-08-16T09:39:40.279Z"
   },
   {
    "duration": 54582,
    "start_time": "2021-08-16T09:39:40.280Z"
   },
   {
    "duration": 54582,
    "start_time": "2021-08-16T09:39:40.282Z"
   },
   {
    "duration": 54578,
    "start_time": "2021-08-16T09:39:40.287Z"
   },
   {
    "duration": 54578,
    "start_time": "2021-08-16T09:39:40.289Z"
   },
   {
    "duration": 54577,
    "start_time": "2021-08-16T09:39:40.291Z"
   },
   {
    "duration": 54577,
    "start_time": "2021-08-16T09:39:40.293Z"
   },
   {
    "duration": 54576,
    "start_time": "2021-08-16T09:39:40.295Z"
   },
   {
    "duration": 54576,
    "start_time": "2021-08-16T09:39:40.296Z"
   },
   {
    "duration": 154,
    "start_time": "2021-08-16T09:42:33.502Z"
   },
   {
    "duration": 39,
    "start_time": "2021-08-16T09:42:33.659Z"
   },
   {
    "duration": 16,
    "start_time": "2021-08-16T09:42:33.703Z"
   },
   {
    "duration": 89,
    "start_time": "2021-08-16T09:42:33.722Z"
   },
   {
    "duration": 45,
    "start_time": "2021-08-16T09:42:33.814Z"
   },
   {
    "duration": 32,
    "start_time": "2021-08-16T09:42:33.861Z"
   },
   {
    "duration": 16,
    "start_time": "2021-08-16T09:42:33.896Z"
   },
   {
    "duration": 22,
    "start_time": "2021-08-16T09:42:33.914Z"
   },
   {
    "duration": 52,
    "start_time": "2021-08-16T09:42:33.941Z"
   },
   {
    "duration": 33,
    "start_time": "2021-08-16T09:42:33.996Z"
   },
   {
    "duration": 18,
    "start_time": "2021-08-16T09:42:34.032Z"
   },
   {
    "duration": 341,
    "start_time": "2021-08-16T09:42:34.083Z"
   },
   {
    "duration": 54665,
    "start_time": "2021-08-16T09:41:39.761Z"
   },
   {
    "duration": 54629,
    "start_time": "2021-08-16T09:41:39.799Z"
   },
   {
    "duration": 54628,
    "start_time": "2021-08-16T09:41:39.801Z"
   },
   {
    "duration": 54623,
    "start_time": "2021-08-16T09:41:39.807Z"
   },
   {
    "duration": 54623,
    "start_time": "2021-08-16T09:41:39.809Z"
   },
   {
    "duration": 54622,
    "start_time": "2021-08-16T09:41:39.811Z"
   },
   {
    "duration": 54621,
    "start_time": "2021-08-16T09:41:39.813Z"
   },
   {
    "duration": 54619,
    "start_time": "2021-08-16T09:41:39.816Z"
   },
   {
    "duration": 54620,
    "start_time": "2021-08-16T09:41:39.817Z"
   },
   {
    "duration": 54615,
    "start_time": "2021-08-16T09:41:39.823Z"
   },
   {
    "duration": 54614,
    "start_time": "2021-08-16T09:41:39.826Z"
   },
   {
    "duration": 54613,
    "start_time": "2021-08-16T09:41:39.828Z"
   },
   {
    "duration": 54612,
    "start_time": "2021-08-16T09:41:39.830Z"
   },
   {
    "duration": 54611,
    "start_time": "2021-08-16T09:41:39.832Z"
   },
   {
    "duration": 54612,
    "start_time": "2021-08-16T09:41:39.833Z"
   },
   {
    "duration": 54611,
    "start_time": "2021-08-16T09:41:39.835Z"
   },
   {
    "duration": 54608,
    "start_time": "2021-08-16T09:41:39.840Z"
   },
   {
    "duration": 54,
    "start_time": "2021-08-16T09:43:22.206Z"
   },
   {
    "duration": 38,
    "start_time": "2021-08-16T09:43:35.161Z"
   },
   {
    "duration": 2273,
    "start_time": "2021-08-16T09:43:50.073Z"
   },
   {
    "duration": 36,
    "start_time": "2021-08-16T09:44:18.639Z"
   },
   {
    "duration": 45,
    "start_time": "2021-08-16T09:44:32.956Z"
   },
   {
    "duration": 24,
    "start_time": "2021-08-16T09:48:22.766Z"
   },
   {
    "duration": 21,
    "start_time": "2021-08-16T09:48:26.406Z"
   },
   {
    "duration": 28,
    "start_time": "2021-08-16T09:48:39.856Z"
   },
   {
    "duration": 17,
    "start_time": "2021-08-16T09:48:46.477Z"
   },
   {
    "duration": 109,
    "start_time": "2021-08-16T09:49:09.938Z"
   },
   {
    "duration": 36,
    "start_time": "2021-08-16T09:49:10.050Z"
   },
   {
    "duration": 33,
    "start_time": "2021-08-16T09:49:10.089Z"
   },
   {
    "duration": 59,
    "start_time": "2021-08-16T09:49:10.125Z"
   },
   {
    "duration": 35,
    "start_time": "2021-08-16T09:49:10.186Z"
   },
   {
    "duration": 17,
    "start_time": "2021-08-16T09:49:10.225Z"
   },
   {
    "duration": 47,
    "start_time": "2021-08-16T09:49:10.245Z"
   },
   {
    "duration": 24,
    "start_time": "2021-08-16T09:49:10.295Z"
   },
   {
    "duration": 58,
    "start_time": "2021-08-16T09:49:10.325Z"
   },
   {
    "duration": 23,
    "start_time": "2021-08-16T09:49:10.387Z"
   },
   {
    "duration": 19,
    "start_time": "2021-08-16T09:49:10.412Z"
   },
   {
    "duration": 354,
    "start_time": "2021-08-16T09:49:10.433Z"
   },
   {
    "duration": 54651,
    "start_time": "2021-08-16T09:48:16.139Z"
   },
   {
    "duration": 54651,
    "start_time": "2021-08-16T09:48:16.140Z"
   },
   {
    "duration": 54647,
    "start_time": "2021-08-16T09:48:16.145Z"
   },
   {
    "duration": 54647,
    "start_time": "2021-08-16T09:48:16.147Z"
   },
   {
    "duration": 54646,
    "start_time": "2021-08-16T09:48:16.149Z"
   },
   {
    "duration": 54646,
    "start_time": "2021-08-16T09:48:16.150Z"
   },
   {
    "duration": 54646,
    "start_time": "2021-08-16T09:48:16.152Z"
   },
   {
    "duration": 54632,
    "start_time": "2021-08-16T09:48:16.167Z"
   },
   {
    "duration": 54632,
    "start_time": "2021-08-16T09:48:16.169Z"
   },
   {
    "duration": 54632,
    "start_time": "2021-08-16T09:48:16.170Z"
   },
   {
    "duration": 54631,
    "start_time": "2021-08-16T09:48:16.172Z"
   },
   {
    "duration": 54632,
    "start_time": "2021-08-16T09:48:16.173Z"
   },
   {
    "duration": 54620,
    "start_time": "2021-08-16T09:48:16.186Z"
   },
   {
    "duration": 54619,
    "start_time": "2021-08-16T09:48:16.188Z"
   },
   {
    "duration": 54619,
    "start_time": "2021-08-16T09:48:16.190Z"
   },
   {
    "duration": 54618,
    "start_time": "2021-08-16T09:48:16.192Z"
   },
   {
    "duration": 54619,
    "start_time": "2021-08-16T09:48:16.193Z"
   },
   {
    "duration": 24,
    "start_time": "2021-08-16T09:49:34.199Z"
   },
   {
    "duration": 25,
    "start_time": "2021-08-16T09:50:07.776Z"
   },
   {
    "duration": 125,
    "start_time": "2021-08-16T09:51:17.273Z"
   },
   {
    "duration": 20,
    "start_time": "2021-08-16T09:51:17.401Z"
   },
   {
    "duration": 17,
    "start_time": "2021-08-16T09:51:17.424Z"
   },
   {
    "duration": 68,
    "start_time": "2021-08-16T09:51:17.443Z"
   },
   {
    "duration": 33,
    "start_time": "2021-08-16T09:51:17.513Z"
   },
   {
    "duration": 40,
    "start_time": "2021-08-16T09:51:17.549Z"
   },
   {
    "duration": 17,
    "start_time": "2021-08-16T09:51:17.592Z"
   },
   {
    "duration": 23,
    "start_time": "2021-08-16T09:51:17.613Z"
   },
   {
    "duration": 54,
    "start_time": "2021-08-16T09:51:17.639Z"
   },
   {
    "duration": 23,
    "start_time": "2021-08-16T09:51:17.696Z"
   },
   {
    "duration": 26,
    "start_time": "2021-08-16T09:51:17.722Z"
   },
   {
    "duration": 453,
    "start_time": "2021-08-16T09:51:17.783Z"
   },
   {
    "duration": 16,
    "start_time": "2021-08-16T09:51:18.239Z"
   },
   {
    "duration": 866,
    "start_time": "2021-08-16T09:51:18.259Z"
   },
   {
    "duration": 54632,
    "start_time": "2021-08-16T09:50:24.497Z"
   },
   {
    "duration": 54634,
    "start_time": "2021-08-16T09:50:24.498Z"
   },
   {
    "duration": 54634,
    "start_time": "2021-08-16T09:50:24.500Z"
   },
   {
    "duration": 54634,
    "start_time": "2021-08-16T09:50:24.502Z"
   },
   {
    "duration": 54634,
    "start_time": "2021-08-16T09:50:24.504Z"
   },
   {
    "duration": 54636,
    "start_time": "2021-08-16T09:50:24.505Z"
   },
   {
    "duration": 54635,
    "start_time": "2021-08-16T09:50:24.508Z"
   },
   {
    "duration": 54631,
    "start_time": "2021-08-16T09:50:24.514Z"
   },
   {
    "duration": 54632,
    "start_time": "2021-08-16T09:50:24.516Z"
   },
   {
    "duration": 54664,
    "start_time": "2021-08-16T09:50:24.517Z"
   },
   {
    "duration": 54661,
    "start_time": "2021-08-16T09:50:24.522Z"
   },
   {
    "duration": 54661,
    "start_time": "2021-08-16T09:50:24.523Z"
   },
   {
    "duration": 54660,
    "start_time": "2021-08-16T09:50:24.526Z"
   },
   {
    "duration": 54654,
    "start_time": "2021-08-16T09:50:24.533Z"
   },
   {
    "duration": 54653,
    "start_time": "2021-08-16T09:50:24.536Z"
   },
   {
    "duration": 240,
    "start_time": "2021-08-16T09:53:15.414Z"
   },
   {
    "duration": 929,
    "start_time": "2021-08-16T09:55:57.309Z"
   },
   {
    "duration": 1586,
    "start_time": "2021-08-16T09:56:11.620Z"
   },
   {
    "duration": 32,
    "start_time": "2021-08-16T09:57:09.490Z"
   },
   {
    "duration": 24,
    "start_time": "2021-08-16T09:57:09.525Z"
   },
   {
    "duration": 79,
    "start_time": "2021-08-16T09:57:09.552Z"
   },
   {
    "duration": 664,
    "start_time": "2021-08-16T09:57:09.635Z"
   },
   {
    "duration": 54650,
    "start_time": "2021-08-16T09:56:15.652Z"
   },
   {
    "duration": 54649,
    "start_time": "2021-08-16T09:56:15.654Z"
   },
   {
    "duration": 54628,
    "start_time": "2021-08-16T09:56:15.676Z"
   },
   {
    "duration": 54624,
    "start_time": "2021-08-16T09:56:15.682Z"
   },
   {
    "duration": 54622,
    "start_time": "2021-08-16T09:56:15.685Z"
   },
   {
    "duration": 54621,
    "start_time": "2021-08-16T09:56:15.687Z"
   },
   {
    "duration": 54621,
    "start_time": "2021-08-16T09:56:15.689Z"
   },
   {
    "duration": 54620,
    "start_time": "2021-08-16T09:56:15.691Z"
   },
   {
    "duration": 54614,
    "start_time": "2021-08-16T09:56:15.698Z"
   },
   {
    "duration": 54613,
    "start_time": "2021-08-16T09:56:15.700Z"
   },
   {
    "duration": 54612,
    "start_time": "2021-08-16T09:56:15.702Z"
   },
   {
    "duration": 111,
    "start_time": "2021-08-16T09:59:47.072Z"
   },
   {
    "duration": 1357,
    "start_time": "2021-08-16T09:59:55.074Z"
   },
   {
    "duration": 1245,
    "start_time": "2021-08-16T10:01:53.898Z"
   },
   {
    "duration": 1108,
    "start_time": "2021-08-16T10:01:55.146Z"
   },
   {
    "duration": 1138,
    "start_time": "2021-08-16T10:01:56.257Z"
   },
   {
    "duration": 1227,
    "start_time": "2021-08-16T10:01:57.398Z"
   },
   {
    "duration": 1282,
    "start_time": "2021-08-16T10:01:58.628Z"
   },
   {
    "duration": 43,
    "start_time": "2021-08-16T10:01:59.912Z"
   },
   {
    "duration": 88,
    "start_time": "2021-08-16T10:01:59.957Z"
   },
   {
    "duration": 75,
    "start_time": "2021-08-16T10:02:00.048Z"
   },
   {
    "duration": 76,
    "start_time": "2021-08-16T10:02:00.125Z"
   },
   {
    "duration": 44,
    "start_time": "2021-08-16T10:02:00.203Z"
   },
   {
    "duration": 64,
    "start_time": "2021-08-16T10:02:00.249Z"
   },
   {
    "duration": 1162,
    "start_time": "2021-08-17T11:33:10.388Z"
   },
   {
    "duration": 13,
    "start_time": "2021-08-17T11:33:11.551Z"
   },
   {
    "duration": 23,
    "start_time": "2021-08-17T11:33:11.566Z"
   },
   {
    "duration": 48,
    "start_time": "2021-08-17T11:33:11.591Z"
   },
   {
    "duration": 24,
    "start_time": "2021-08-17T11:33:11.640Z"
   },
   {
    "duration": 23,
    "start_time": "2021-08-17T11:33:11.666Z"
   },
   {
    "duration": 20,
    "start_time": "2021-08-17T11:33:11.691Z"
   },
   {
    "duration": 16,
    "start_time": "2021-08-17T11:33:11.714Z"
   },
   {
    "duration": 15,
    "start_time": "2021-08-17T11:33:11.732Z"
   },
   {
    "duration": 40,
    "start_time": "2021-08-17T11:33:11.748Z"
   },
   {
    "duration": 13,
    "start_time": "2021-08-17T11:33:11.790Z"
   },
   {
    "duration": 323,
    "start_time": "2021-08-17T11:33:11.804Z"
   },
   {
    "duration": 55599,
    "start_time": "2021-08-17T11:32:16.530Z"
   },
   {
    "duration": 55593,
    "start_time": "2021-08-17T11:32:16.537Z"
   },
   {
    "duration": 55591,
    "start_time": "2021-08-17T11:32:16.539Z"
   },
   {
    "duration": 55590,
    "start_time": "2021-08-17T11:32:16.541Z"
   },
   {
    "duration": 55586,
    "start_time": "2021-08-17T11:32:16.546Z"
   },
   {
    "duration": 55585,
    "start_time": "2021-08-17T11:32:16.548Z"
   },
   {
    "duration": 55584,
    "start_time": "2021-08-17T11:32:16.550Z"
   },
   {
    "duration": 55582,
    "start_time": "2021-08-17T11:32:16.553Z"
   },
   {
    "duration": 55545,
    "start_time": "2021-08-17T11:32:16.591Z"
   },
   {
    "duration": 55540,
    "start_time": "2021-08-17T11:32:16.597Z"
   },
   {
    "duration": 55539,
    "start_time": "2021-08-17T11:32:16.599Z"
   },
   {
    "duration": 55537,
    "start_time": "2021-08-17T11:32:16.602Z"
   },
   {
    "duration": 55536,
    "start_time": "2021-08-17T11:32:16.604Z"
   },
   {
    "duration": 55535,
    "start_time": "2021-08-17T11:32:16.606Z"
   },
   {
    "duration": 55535,
    "start_time": "2021-08-17T11:32:16.607Z"
   },
   {
    "duration": 55533,
    "start_time": "2021-08-17T11:32:16.610Z"
   },
   {
    "duration": 55532,
    "start_time": "2021-08-17T11:32:16.612Z"
   },
   {
    "duration": 55532,
    "start_time": "2021-08-17T11:32:16.614Z"
   },
   {
    "duration": 55531,
    "start_time": "2021-08-17T11:32:16.616Z"
   },
   {
    "duration": 55530,
    "start_time": "2021-08-17T11:32:16.618Z"
   },
   {
    "duration": 55528,
    "start_time": "2021-08-17T11:32:16.620Z"
   },
   {
    "duration": 55527,
    "start_time": "2021-08-17T11:32:16.622Z"
   },
   {
    "duration": 17,
    "start_time": "2021-08-17T11:34:18.556Z"
   },
   {
    "duration": 16,
    "start_time": "2021-08-17T11:38:16.542Z"
   },
   {
    "duration": 82,
    "start_time": "2021-08-17T11:38:34.155Z"
   },
   {
    "duration": 13,
    "start_time": "2021-08-17T11:38:34.239Z"
   },
   {
    "duration": 37,
    "start_time": "2021-08-17T11:38:34.254Z"
   },
   {
    "duration": 31,
    "start_time": "2021-08-17T11:38:34.293Z"
   },
   {
    "duration": 24,
    "start_time": "2021-08-17T11:38:34.326Z"
   },
   {
    "duration": 43,
    "start_time": "2021-08-17T11:38:34.351Z"
   },
   {
    "duration": 13,
    "start_time": "2021-08-17T11:38:34.396Z"
   },
   {
    "duration": 15,
    "start_time": "2021-08-17T11:38:34.411Z"
   },
   {
    "duration": 14,
    "start_time": "2021-08-17T11:38:34.428Z"
   },
   {
    "duration": 47,
    "start_time": "2021-08-17T11:38:34.443Z"
   },
   {
    "duration": 18,
    "start_time": "2021-08-17T11:38:34.492Z"
   },
   {
    "duration": 227,
    "start_time": "2021-08-17T11:38:34.512Z"
   },
   {
    "duration": 7,
    "start_time": "2021-08-17T11:38:34.741Z"
   },
   {
    "duration": 57,
    "start_time": "2021-08-17T11:38:34.750Z"
   },
   {
    "duration": 1132,
    "start_time": "2021-08-17T11:38:34.809Z"
   },
   {
    "duration": 760,
    "start_time": "2021-08-17T11:38:35.944Z"
   },
   {
    "duration": 22,
    "start_time": "2021-08-17T11:38:36.705Z"
   },
   {
    "duration": 16,
    "start_time": "2021-08-17T11:38:36.728Z"
   },
   {
    "duration": 62,
    "start_time": "2021-08-17T11:38:36.746Z"
   },
   {
    "duration": 286,
    "start_time": "2021-08-17T11:38:36.809Z"
   },
   {
    "duration": 1004,
    "start_time": "2021-08-17T11:38:37.097Z"
   },
   {
    "duration": 780,
    "start_time": "2021-08-17T11:38:38.103Z"
   },
   {
    "duration": 740,
    "start_time": "2021-08-17T11:38:38.886Z"
   },
   {
    "duration": 759,
    "start_time": "2021-08-17T11:38:39.628Z"
   },
   {
    "duration": 803,
    "start_time": "2021-08-17T11:38:40.388Z"
   },
   {
    "duration": 32,
    "start_time": "2021-08-17T11:38:41.193Z"
   },
   {
    "duration": 69,
    "start_time": "2021-08-17T11:38:41.226Z"
   },
   {
    "duration": 35,
    "start_time": "2021-08-17T11:38:41.297Z"
   },
   {
    "duration": 62,
    "start_time": "2021-08-17T11:38:41.334Z"
   },
   {
    "duration": 13,
    "start_time": "2021-08-17T11:38:41.398Z"
   },
   {
    "duration": 73,
    "start_time": "2021-08-17T11:38:41.413Z"
   },
   {
    "duration": 651,
    "start_time": "2021-08-17T11:38:41.488Z"
   },
   {
    "duration": 29,
    "start_time": "2021-08-17T11:38:42.141Z"
   },
   {
    "duration": 33,
    "start_time": "2021-08-17T11:38:42.185Z"
   },
   {
    "duration": 58,
    "start_time": "2021-08-17T11:45:54.740Z"
   }
  ],
  "kernelspec": {
   "display_name": "Python 3",
   "language": "python",
   "name": "python3"
  },
  "language_info": {
   "codemirror_mode": {
    "name": "ipython",
    "version": 3
   },
   "file_extension": ".py",
   "mimetype": "text/x-python",
   "name": "python",
   "nbconvert_exporter": "python",
   "pygments_lexer": "ipython3",
   "version": "3.8.5"
  },
  "toc": {
   "base_numbering": 1,
   "nav_menu": {},
   "number_sections": true,
   "sideBar": true,
   "skip_h1_title": true,
   "title_cell": "Table of Contents",
   "title_sidebar": "Contents",
   "toc_cell": false,
   "toc_position": {},
   "toc_section_display": true,
   "toc_window_display": false
  }
 },
 "nbformat": 4,
 "nbformat_minor": 4
}
