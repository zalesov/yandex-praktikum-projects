{
 "cells": [
  {
   "cell_type": "markdown",
   "metadata": {},
   "source": [
    "# Предсказание оттока клиентов"
   ]
  },
  {
   "cell_type": "markdown",
   "metadata": {},
   "source": [
    "Данный **учебный** проект - пример построения модели бинарной классификации, прдескакзывающей факт ухода клиента из банка в ближайшее время. "
   ]
  },
  {
   "cell_type": "code",
   "execution_count": 1,
   "metadata": {},
   "outputs": [],
   "source": [
    "import pandas as pd\n",
    "import warnings \n",
    "\n",
    "warnings.filterwarnings('ignore')\n",
    "\n",
    "\n",
    "\n",
    "\n"
   ]
  },
  {
   "cell_type": "code",
   "execution_count": 2,
   "metadata": {
    "scrolled": false
   },
   "outputs": [
    {
     "data": {
      "text/html": [
       "<div>\n",
       "<style scoped>\n",
       "    .dataframe tbody tr th:only-of-type {\n",
       "        vertical-align: middle;\n",
       "    }\n",
       "\n",
       "    .dataframe tbody tr th {\n",
       "        vertical-align: top;\n",
       "    }\n",
       "\n",
       "    .dataframe thead th {\n",
       "        text-align: right;\n",
       "    }\n",
       "</style>\n",
       "<table border=\"1\" class=\"dataframe\">\n",
       "  <thead>\n",
       "    <tr style=\"text-align: right;\">\n",
       "      <th></th>\n",
       "      <th>RowNumber</th>\n",
       "      <th>CustomerId</th>\n",
       "      <th>Surname</th>\n",
       "      <th>CreditScore</th>\n",
       "      <th>Geography</th>\n",
       "      <th>Gender</th>\n",
       "      <th>Age</th>\n",
       "      <th>Tenure</th>\n",
       "      <th>Balance</th>\n",
       "      <th>NumOfProducts</th>\n",
       "      <th>HasCrCard</th>\n",
       "      <th>IsActiveMember</th>\n",
       "      <th>EstimatedSalary</th>\n",
       "      <th>Exited</th>\n",
       "    </tr>\n",
       "  </thead>\n",
       "  <tbody>\n",
       "    <tr>\n",
       "      <th>0</th>\n",
       "      <td>1</td>\n",
       "      <td>15634602</td>\n",
       "      <td>Hargrave</td>\n",
       "      <td>619</td>\n",
       "      <td>France</td>\n",
       "      <td>Female</td>\n",
       "      <td>42</td>\n",
       "      <td>2.0</td>\n",
       "      <td>0.00</td>\n",
       "      <td>1</td>\n",
       "      <td>1</td>\n",
       "      <td>1</td>\n",
       "      <td>101348.88</td>\n",
       "      <td>1</td>\n",
       "    </tr>\n",
       "    <tr>\n",
       "      <th>1</th>\n",
       "      <td>2</td>\n",
       "      <td>15647311</td>\n",
       "      <td>Hill</td>\n",
       "      <td>608</td>\n",
       "      <td>Spain</td>\n",
       "      <td>Female</td>\n",
       "      <td>41</td>\n",
       "      <td>1.0</td>\n",
       "      <td>83807.86</td>\n",
       "      <td>1</td>\n",
       "      <td>0</td>\n",
       "      <td>1</td>\n",
       "      <td>112542.58</td>\n",
       "      <td>0</td>\n",
       "    </tr>\n",
       "    <tr>\n",
       "      <th>2</th>\n",
       "      <td>3</td>\n",
       "      <td>15619304</td>\n",
       "      <td>Onio</td>\n",
       "      <td>502</td>\n",
       "      <td>France</td>\n",
       "      <td>Female</td>\n",
       "      <td>42</td>\n",
       "      <td>8.0</td>\n",
       "      <td>159660.80</td>\n",
       "      <td>3</td>\n",
       "      <td>1</td>\n",
       "      <td>0</td>\n",
       "      <td>113931.57</td>\n",
       "      <td>1</td>\n",
       "    </tr>\n",
       "    <tr>\n",
       "      <th>3</th>\n",
       "      <td>4</td>\n",
       "      <td>15701354</td>\n",
       "      <td>Boni</td>\n",
       "      <td>699</td>\n",
       "      <td>France</td>\n",
       "      <td>Female</td>\n",
       "      <td>39</td>\n",
       "      <td>1.0</td>\n",
       "      <td>0.00</td>\n",
       "      <td>2</td>\n",
       "      <td>0</td>\n",
       "      <td>0</td>\n",
       "      <td>93826.63</td>\n",
       "      <td>0</td>\n",
       "    </tr>\n",
       "    <tr>\n",
       "      <th>4</th>\n",
       "      <td>5</td>\n",
       "      <td>15737888</td>\n",
       "      <td>Mitchell</td>\n",
       "      <td>850</td>\n",
       "      <td>Spain</td>\n",
       "      <td>Female</td>\n",
       "      <td>43</td>\n",
       "      <td>2.0</td>\n",
       "      <td>125510.82</td>\n",
       "      <td>1</td>\n",
       "      <td>1</td>\n",
       "      <td>1</td>\n",
       "      <td>79084.10</td>\n",
       "      <td>0</td>\n",
       "    </tr>\n",
       "  </tbody>\n",
       "</table>\n",
       "</div>"
      ],
      "text/plain": [
       "   RowNumber  CustomerId   Surname  CreditScore Geography  Gender  Age  \\\n",
       "0          1    15634602  Hargrave          619    France  Female   42   \n",
       "1          2    15647311      Hill          608     Spain  Female   41   \n",
       "2          3    15619304      Onio          502    France  Female   42   \n",
       "3          4    15701354      Boni          699    France  Female   39   \n",
       "4          5    15737888  Mitchell          850     Spain  Female   43   \n",
       "\n",
       "   Tenure    Balance  NumOfProducts  HasCrCard  IsActiveMember  \\\n",
       "0     2.0       0.00              1          1               1   \n",
       "1     1.0   83807.86              1          0               1   \n",
       "2     8.0  159660.80              3          1               0   \n",
       "3     1.0       0.00              2          0               0   \n",
       "4     2.0  125510.82              1          1               1   \n",
       "\n",
       "   EstimatedSalary  Exited  \n",
       "0        101348.88       1  \n",
       "1        112542.58       0  \n",
       "2        113931.57       1  \n",
       "3         93826.63       0  \n",
       "4         79084.10       0  "
      ]
     },
     "metadata": {},
     "output_type": "display_data"
    },
    {
     "name": "stdout",
     "output_type": "stream",
     "text": [
      "<class 'pandas.core.frame.DataFrame'>\n",
      "RangeIndex: 10000 entries, 0 to 9999\n",
      "Data columns (total 14 columns):\n",
      " #   Column           Non-Null Count  Dtype  \n",
      "---  ------           --------------  -----  \n",
      " 0   RowNumber        10000 non-null  int64  \n",
      " 1   CustomerId       10000 non-null  int64  \n",
      " 2   Surname          10000 non-null  object \n",
      " 3   CreditScore      10000 non-null  int64  \n",
      " 4   Geography        10000 non-null  object \n",
      " 5   Gender           10000 non-null  object \n",
      " 6   Age              10000 non-null  int64  \n",
      " 7   Tenure           9091 non-null   float64\n",
      " 8   Balance          10000 non-null  float64\n",
      " 9   NumOfProducts    10000 non-null  int64  \n",
      " 10  HasCrCard        10000 non-null  int64  \n",
      " 11  IsActiveMember   10000 non-null  int64  \n",
      " 12  EstimatedSalary  10000 non-null  float64\n",
      " 13  Exited           10000 non-null  int64  \n",
      "dtypes: float64(3), int64(8), object(3)\n",
      "memory usage: 1.1+ MB\n"
     ]
    },
    {
     "data": {
      "text/plain": [
       "None"
      ]
     },
     "metadata": {},
     "output_type": "display_data"
    },
    {
     "data": {
      "text/html": [
       "<div>\n",
       "<style scoped>\n",
       "    .dataframe tbody tr th:only-of-type {\n",
       "        vertical-align: middle;\n",
       "    }\n",
       "\n",
       "    .dataframe tbody tr th {\n",
       "        vertical-align: top;\n",
       "    }\n",
       "\n",
       "    .dataframe thead th {\n",
       "        text-align: right;\n",
       "    }\n",
       "</style>\n",
       "<table border=\"1\" class=\"dataframe\">\n",
       "  <thead>\n",
       "    <tr style=\"text-align: right;\">\n",
       "      <th></th>\n",
       "      <th>RowNumber</th>\n",
       "      <th>CustomerId</th>\n",
       "      <th>CreditScore</th>\n",
       "      <th>Age</th>\n",
       "      <th>Tenure</th>\n",
       "      <th>Balance</th>\n",
       "      <th>NumOfProducts</th>\n",
       "      <th>HasCrCard</th>\n",
       "      <th>IsActiveMember</th>\n",
       "      <th>EstimatedSalary</th>\n",
       "      <th>Exited</th>\n",
       "    </tr>\n",
       "  </thead>\n",
       "  <tbody>\n",
       "    <tr>\n",
       "      <th>count</th>\n",
       "      <td>10000.00000</td>\n",
       "      <td>1.000000e+04</td>\n",
       "      <td>10000.000000</td>\n",
       "      <td>10000.000000</td>\n",
       "      <td>9091.000000</td>\n",
       "      <td>10000.000000</td>\n",
       "      <td>10000.000000</td>\n",
       "      <td>10000.00000</td>\n",
       "      <td>10000.000000</td>\n",
       "      <td>10000.000000</td>\n",
       "      <td>10000.000000</td>\n",
       "    </tr>\n",
       "    <tr>\n",
       "      <th>mean</th>\n",
       "      <td>5000.50000</td>\n",
       "      <td>1.569094e+07</td>\n",
       "      <td>650.528800</td>\n",
       "      <td>38.921800</td>\n",
       "      <td>4.997690</td>\n",
       "      <td>76485.889288</td>\n",
       "      <td>1.530200</td>\n",
       "      <td>0.70550</td>\n",
       "      <td>0.515100</td>\n",
       "      <td>100090.239881</td>\n",
       "      <td>0.203700</td>\n",
       "    </tr>\n",
       "    <tr>\n",
       "      <th>std</th>\n",
       "      <td>2886.89568</td>\n",
       "      <td>7.193619e+04</td>\n",
       "      <td>96.653299</td>\n",
       "      <td>10.487806</td>\n",
       "      <td>2.894723</td>\n",
       "      <td>62397.405202</td>\n",
       "      <td>0.581654</td>\n",
       "      <td>0.45584</td>\n",
       "      <td>0.499797</td>\n",
       "      <td>57510.492818</td>\n",
       "      <td>0.402769</td>\n",
       "    </tr>\n",
       "    <tr>\n",
       "      <th>min</th>\n",
       "      <td>1.00000</td>\n",
       "      <td>1.556570e+07</td>\n",
       "      <td>350.000000</td>\n",
       "      <td>18.000000</td>\n",
       "      <td>0.000000</td>\n",
       "      <td>0.000000</td>\n",
       "      <td>1.000000</td>\n",
       "      <td>0.00000</td>\n",
       "      <td>0.000000</td>\n",
       "      <td>11.580000</td>\n",
       "      <td>0.000000</td>\n",
       "    </tr>\n",
       "    <tr>\n",
       "      <th>25%</th>\n",
       "      <td>2500.75000</td>\n",
       "      <td>1.562853e+07</td>\n",
       "      <td>584.000000</td>\n",
       "      <td>32.000000</td>\n",
       "      <td>2.000000</td>\n",
       "      <td>0.000000</td>\n",
       "      <td>1.000000</td>\n",
       "      <td>0.00000</td>\n",
       "      <td>0.000000</td>\n",
       "      <td>51002.110000</td>\n",
       "      <td>0.000000</td>\n",
       "    </tr>\n",
       "    <tr>\n",
       "      <th>50%</th>\n",
       "      <td>5000.50000</td>\n",
       "      <td>1.569074e+07</td>\n",
       "      <td>652.000000</td>\n",
       "      <td>37.000000</td>\n",
       "      <td>5.000000</td>\n",
       "      <td>97198.540000</td>\n",
       "      <td>1.000000</td>\n",
       "      <td>1.00000</td>\n",
       "      <td>1.000000</td>\n",
       "      <td>100193.915000</td>\n",
       "      <td>0.000000</td>\n",
       "    </tr>\n",
       "    <tr>\n",
       "      <th>75%</th>\n",
       "      <td>7500.25000</td>\n",
       "      <td>1.575323e+07</td>\n",
       "      <td>718.000000</td>\n",
       "      <td>44.000000</td>\n",
       "      <td>7.000000</td>\n",
       "      <td>127644.240000</td>\n",
       "      <td>2.000000</td>\n",
       "      <td>1.00000</td>\n",
       "      <td>1.000000</td>\n",
       "      <td>149388.247500</td>\n",
       "      <td>0.000000</td>\n",
       "    </tr>\n",
       "    <tr>\n",
       "      <th>max</th>\n",
       "      <td>10000.00000</td>\n",
       "      <td>1.581569e+07</td>\n",
       "      <td>850.000000</td>\n",
       "      <td>92.000000</td>\n",
       "      <td>10.000000</td>\n",
       "      <td>250898.090000</td>\n",
       "      <td>4.000000</td>\n",
       "      <td>1.00000</td>\n",
       "      <td>1.000000</td>\n",
       "      <td>199992.480000</td>\n",
       "      <td>1.000000</td>\n",
       "    </tr>\n",
       "  </tbody>\n",
       "</table>\n",
       "</div>"
      ],
      "text/plain": [
       "         RowNumber    CustomerId   CreditScore           Age       Tenure  \\\n",
       "count  10000.00000  1.000000e+04  10000.000000  10000.000000  9091.000000   \n",
       "mean    5000.50000  1.569094e+07    650.528800     38.921800     4.997690   \n",
       "std     2886.89568  7.193619e+04     96.653299     10.487806     2.894723   \n",
       "min        1.00000  1.556570e+07    350.000000     18.000000     0.000000   \n",
       "25%     2500.75000  1.562853e+07    584.000000     32.000000     2.000000   \n",
       "50%     5000.50000  1.569074e+07    652.000000     37.000000     5.000000   \n",
       "75%     7500.25000  1.575323e+07    718.000000     44.000000     7.000000   \n",
       "max    10000.00000  1.581569e+07    850.000000     92.000000    10.000000   \n",
       "\n",
       "             Balance  NumOfProducts    HasCrCard  IsActiveMember  \\\n",
       "count   10000.000000   10000.000000  10000.00000    10000.000000   \n",
       "mean    76485.889288       1.530200      0.70550        0.515100   \n",
       "std     62397.405202       0.581654      0.45584        0.499797   \n",
       "min         0.000000       1.000000      0.00000        0.000000   \n",
       "25%         0.000000       1.000000      0.00000        0.000000   \n",
       "50%     97198.540000       1.000000      1.00000        1.000000   \n",
       "75%    127644.240000       2.000000      1.00000        1.000000   \n",
       "max    250898.090000       4.000000      1.00000        1.000000   \n",
       "\n",
       "       EstimatedSalary        Exited  \n",
       "count     10000.000000  10000.000000  \n",
       "mean     100090.239881      0.203700  \n",
       "std       57510.492818      0.402769  \n",
       "min          11.580000      0.000000  \n",
       "25%       51002.110000      0.000000  \n",
       "50%      100193.915000      0.000000  \n",
       "75%      149388.247500      0.000000  \n",
       "max      199992.480000      1.000000  "
      ]
     },
     "metadata": {},
     "output_type": "display_data"
    }
   ],
   "source": [
    "data = pd.read_csv('/Users/alexey_zalesov/Desktop/ya_prakrikum/ds/datasets/Churn.csv')\n",
    "\n",
    "display(data.head())\n",
    "display(data.info())\n",
    "display(data.describe())"
   ]
  },
  {
   "cell_type": "markdown",
   "metadata": {},
   "source": [
    "## Описание данных\n",
    "\n",
    "\n",
    "**Признаки**\n",
    "\n",
    "RowNumber — индекс строки в данных  \n",
    "CustomerId — уникальный идентификатор клиента  \n",
    "Surname — фамилия  \n",
    "CreditScore — кредитный рейтинг  \n",
    "Geography — страна проживания  \n",
    "Gender — пол  \n",
    "Age — возраст  \n",
    "Tenure — сколько лет человек является клиентом банка  \n",
    "Balance — баланс на счёте  \n",
    "NumOfProducts — количество продуктов банка, используемых клиентом  \n",
    "HasCrCard — наличие кредитной карты  \n",
    "IsActiveMember — активность клиента  \n",
    "EstimatedSalary — предполагаемая зарплата  \n",
    "  \n",
    "**Целевой признак**  \n",
    "\n",
    "Exited — факт ухода клиента  \n",
    "\n",
    "\n",
    "## Предварительный анализ\n",
    "\n",
    "Есть пропуски в столбце \"Tenure\", столбец \"RowNumber\" дублирует индекс, также нужно изменить типы данных в некоторых столбцах. Также нужно привести все названия столбцов к строчному виду, проверить дубликаты и выбросы. \n",
    "\n",
    " \n"
   ]
  },
  {
   "cell_type": "code",
   "execution_count": 3,
   "metadata": {},
   "outputs": [],
   "source": [
    "data.columns = data.columns.str.lower()\n",
    "data['surname'] = data['surname'].str.lower()\n",
    "data['geography'] = data['geography'].str.lower()\n",
    "data['gender'] = data['gender'].str.lower()"
   ]
  },
  {
   "cell_type": "code",
   "execution_count": 4,
   "metadata": {},
   "outputs": [
    {
     "data": {
      "text/html": [
       "<div>\n",
       "<style scoped>\n",
       "    .dataframe tbody tr th:only-of-type {\n",
       "        vertical-align: middle;\n",
       "    }\n",
       "\n",
       "    .dataframe tbody tr th {\n",
       "        vertical-align: top;\n",
       "    }\n",
       "\n",
       "    .dataframe thead th {\n",
       "        text-align: right;\n",
       "    }\n",
       "</style>\n",
       "<table border=\"1\" class=\"dataframe\">\n",
       "  <thead>\n",
       "    <tr style=\"text-align: right;\">\n",
       "      <th></th>\n",
       "      <th>customerid</th>\n",
       "      <th>surname</th>\n",
       "      <th>creditscore</th>\n",
       "      <th>geography</th>\n",
       "      <th>gender</th>\n",
       "      <th>age</th>\n",
       "      <th>tenure</th>\n",
       "      <th>balance</th>\n",
       "      <th>numofproducts</th>\n",
       "      <th>hascrcard</th>\n",
       "      <th>isactivemember</th>\n",
       "      <th>estimatedsalary</th>\n",
       "      <th>exited</th>\n",
       "    </tr>\n",
       "  </thead>\n",
       "  <tbody>\n",
       "    <tr>\n",
       "      <th>0</th>\n",
       "      <td>15634602</td>\n",
       "      <td>hargrave</td>\n",
       "      <td>619</td>\n",
       "      <td>france</td>\n",
       "      <td>female</td>\n",
       "      <td>42</td>\n",
       "      <td>2.0</td>\n",
       "      <td>0.00</td>\n",
       "      <td>1</td>\n",
       "      <td>1</td>\n",
       "      <td>1</td>\n",
       "      <td>101348.88</td>\n",
       "      <td>1</td>\n",
       "    </tr>\n",
       "    <tr>\n",
       "      <th>1</th>\n",
       "      <td>15647311</td>\n",
       "      <td>hill</td>\n",
       "      <td>608</td>\n",
       "      <td>spain</td>\n",
       "      <td>female</td>\n",
       "      <td>41</td>\n",
       "      <td>1.0</td>\n",
       "      <td>83807.86</td>\n",
       "      <td>1</td>\n",
       "      <td>0</td>\n",
       "      <td>1</td>\n",
       "      <td>112542.58</td>\n",
       "      <td>0</td>\n",
       "    </tr>\n",
       "    <tr>\n",
       "      <th>2</th>\n",
       "      <td>15619304</td>\n",
       "      <td>onio</td>\n",
       "      <td>502</td>\n",
       "      <td>france</td>\n",
       "      <td>female</td>\n",
       "      <td>42</td>\n",
       "      <td>8.0</td>\n",
       "      <td>159660.80</td>\n",
       "      <td>3</td>\n",
       "      <td>1</td>\n",
       "      <td>0</td>\n",
       "      <td>113931.57</td>\n",
       "      <td>1</td>\n",
       "    </tr>\n",
       "    <tr>\n",
       "      <th>3</th>\n",
       "      <td>15701354</td>\n",
       "      <td>boni</td>\n",
       "      <td>699</td>\n",
       "      <td>france</td>\n",
       "      <td>female</td>\n",
       "      <td>39</td>\n",
       "      <td>1.0</td>\n",
       "      <td>0.00</td>\n",
       "      <td>2</td>\n",
       "      <td>0</td>\n",
       "      <td>0</td>\n",
       "      <td>93826.63</td>\n",
       "      <td>0</td>\n",
       "    </tr>\n",
       "    <tr>\n",
       "      <th>4</th>\n",
       "      <td>15737888</td>\n",
       "      <td>mitchell</td>\n",
       "      <td>850</td>\n",
       "      <td>spain</td>\n",
       "      <td>female</td>\n",
       "      <td>43</td>\n",
       "      <td>2.0</td>\n",
       "      <td>125510.82</td>\n",
       "      <td>1</td>\n",
       "      <td>1</td>\n",
       "      <td>1</td>\n",
       "      <td>79084.10</td>\n",
       "      <td>0</td>\n",
       "    </tr>\n",
       "    <tr>\n",
       "      <th>5</th>\n",
       "      <td>15574012</td>\n",
       "      <td>chu</td>\n",
       "      <td>645</td>\n",
       "      <td>spain</td>\n",
       "      <td>male</td>\n",
       "      <td>44</td>\n",
       "      <td>8.0</td>\n",
       "      <td>113755.78</td>\n",
       "      <td>2</td>\n",
       "      <td>1</td>\n",
       "      <td>0</td>\n",
       "      <td>149756.71</td>\n",
       "      <td>1</td>\n",
       "    </tr>\n",
       "    <tr>\n",
       "      <th>6</th>\n",
       "      <td>15592531</td>\n",
       "      <td>bartlett</td>\n",
       "      <td>822</td>\n",
       "      <td>france</td>\n",
       "      <td>male</td>\n",
       "      <td>50</td>\n",
       "      <td>7.0</td>\n",
       "      <td>0.00</td>\n",
       "      <td>2</td>\n",
       "      <td>1</td>\n",
       "      <td>1</td>\n",
       "      <td>10062.80</td>\n",
       "      <td>0</td>\n",
       "    </tr>\n",
       "    <tr>\n",
       "      <th>7</th>\n",
       "      <td>15656148</td>\n",
       "      <td>obinna</td>\n",
       "      <td>376</td>\n",
       "      <td>germany</td>\n",
       "      <td>female</td>\n",
       "      <td>29</td>\n",
       "      <td>4.0</td>\n",
       "      <td>115046.74</td>\n",
       "      <td>4</td>\n",
       "      <td>1</td>\n",
       "      <td>0</td>\n",
       "      <td>119346.88</td>\n",
       "      <td>1</td>\n",
       "    </tr>\n",
       "    <tr>\n",
       "      <th>8</th>\n",
       "      <td>15792365</td>\n",
       "      <td>he</td>\n",
       "      <td>501</td>\n",
       "      <td>france</td>\n",
       "      <td>male</td>\n",
       "      <td>44</td>\n",
       "      <td>4.0</td>\n",
       "      <td>142051.07</td>\n",
       "      <td>2</td>\n",
       "      <td>0</td>\n",
       "      <td>1</td>\n",
       "      <td>74940.50</td>\n",
       "      <td>0</td>\n",
       "    </tr>\n",
       "    <tr>\n",
       "      <th>9</th>\n",
       "      <td>15592389</td>\n",
       "      <td>h?</td>\n",
       "      <td>684</td>\n",
       "      <td>france</td>\n",
       "      <td>male</td>\n",
       "      <td>27</td>\n",
       "      <td>2.0</td>\n",
       "      <td>134603.88</td>\n",
       "      <td>1</td>\n",
       "      <td>1</td>\n",
       "      <td>1</td>\n",
       "      <td>71725.73</td>\n",
       "      <td>0</td>\n",
       "    </tr>\n",
       "  </tbody>\n",
       "</table>\n",
       "</div>"
      ],
      "text/plain": [
       "   customerid   surname  creditscore geography  gender  age  tenure  \\\n",
       "0    15634602  hargrave          619    france  female   42     2.0   \n",
       "1    15647311      hill          608     spain  female   41     1.0   \n",
       "2    15619304      onio          502    france  female   42     8.0   \n",
       "3    15701354      boni          699    france  female   39     1.0   \n",
       "4    15737888  mitchell          850     spain  female   43     2.0   \n",
       "5    15574012       chu          645     spain    male   44     8.0   \n",
       "6    15592531  bartlett          822    france    male   50     7.0   \n",
       "7    15656148    obinna          376   germany  female   29     4.0   \n",
       "8    15792365        he          501    france    male   44     4.0   \n",
       "9    15592389        h?          684    france    male   27     2.0   \n",
       "\n",
       "     balance  numofproducts  hascrcard  isactivemember  estimatedsalary  \\\n",
       "0       0.00              1          1               1        101348.88   \n",
       "1   83807.86              1          0               1        112542.58   \n",
       "2  159660.80              3          1               0        113931.57   \n",
       "3       0.00              2          0               0         93826.63   \n",
       "4  125510.82              1          1               1         79084.10   \n",
       "5  113755.78              2          1               0        149756.71   \n",
       "6       0.00              2          1               1         10062.80   \n",
       "7  115046.74              4          1               0        119346.88   \n",
       "8  142051.07              2          0               1         74940.50   \n",
       "9  134603.88              1          1               1         71725.73   \n",
       "\n",
       "   exited  \n",
       "0       1  \n",
       "1       0  \n",
       "2       1  \n",
       "3       0  \n",
       "4       0  \n",
       "5       1  \n",
       "6       0  \n",
       "7       1  \n",
       "8       0  \n",
       "9       0  "
      ]
     },
     "metadata": {},
     "output_type": "display_data"
    }
   ],
   "source": [
    "data = data.drop(columns=['rownumber'], axis=1)\n",
    "display(data.head(10))\n"
   ]
  },
  {
   "cell_type": "code",
   "execution_count": 5,
   "metadata": {
    "scrolled": false
   },
   "outputs": [
    {
     "data": {
      "text/plain": [
       "15812607    1\n",
       "15741078    1\n",
       "15635776    1\n",
       "15740223    1\n",
       "15738174    1\n",
       "Name: customerid, dtype: int64"
      ]
     },
     "metadata": {},
     "output_type": "display_data"
    },
    {
     "data": {
      "text/plain": [
       "smith       32\n",
       "scott       29\n",
       "martin      29\n",
       "walker      28\n",
       "brown       26\n",
       "yeh         25\n",
       "shih        25\n",
       "genovese    25\n",
       "wright      24\n",
       "maclean     24\n",
       "white       23\n",
       "fanucci     23\n",
       "ma          23\n",
       "wilson      23\n",
       "johnson     22\n",
       "wang        22\n",
       "lu          22\n",
       "moore       22\n",
       "chu         22\n",
       "mai         21\n",
       "Name: surname, dtype: int64"
      ]
     },
     "metadata": {},
     "output_type": "display_data"
    },
    {
     "data": {
      "text/plain": [
       "male      5457\n",
       "female    4543\n",
       "Name: gender, dtype: int64"
      ]
     },
     "metadata": {},
     "output_type": "display_data"
    },
    {
     "data": {
      "text/plain": [
       "1.0     952\n",
       "2.0     950\n",
       "8.0     933\n",
       "3.0     928\n",
       "5.0     927\n",
       "7.0     925\n",
       "4.0     885\n",
       "9.0     882\n",
       "6.0     881\n",
       "10.0    446\n",
       "0.0     382\n",
       "Name: tenure, dtype: int64"
      ]
     },
     "metadata": {},
     "output_type": "display_data"
    },
    {
     "data": {
      "text/plain": [
       "france     5014\n",
       "germany    2509\n",
       "spain      2477\n",
       "Name: geography, dtype: int64"
      ]
     },
     "metadata": {},
     "output_type": "display_data"
    },
    {
     "data": {
      "text/plain": [
       "0"
      ]
     },
     "metadata": {},
     "output_type": "display_data"
    }
   ],
   "source": [
    "#проверяем на выбросы\n",
    "\n",
    "display(data['customerid'].value_counts(ascending=False).head())\n",
    "display(data['surname'].value_counts(ascending=False).head(20))\n",
    "display(data['gender'].value_counts())\n",
    "display(data['tenure'].value_counts())\n",
    "display(data['geography'].value_counts())\n",
    "\n",
    "display(data.duplicated().sum())"
   ]
  },
  {
   "cell_type": "code",
   "execution_count": 6,
   "metadata": {
    "scrolled": true
   },
   "outputs": [
    {
     "name": "stdout",
     "output_type": "stream",
     "text": [
      "5.0\n"
     ]
    }
   ],
   "source": [
    "#разбираемся с пропусками в столбце \"tenure\"\n",
    "\n",
    "print(data['tenure'].median())\n",
    "\n",
    "data['tenure'] = data['tenure'].fillna(data['tenure'].median())"
   ]
  },
  {
   "cell_type": "markdown",
   "metadata": {},
   "source": [
    "Решил заменить на медиану, т.к. пропущенных данных около 10% от общего числа объектов, а медиана меньше всего влияет на распределение. Медиана = 5, при этом разброс значений от 1 до 10, поэтому замена на медиану показалось самым подходящим вариантом. "
   ]
  },
  {
   "cell_type": "code",
   "execution_count": 7,
   "metadata": {
    "scrolled": true
   },
   "outputs": [
    {
     "name": "stdout",
     "output_type": "stream",
     "text": [
      "<class 'pandas.core.frame.DataFrame'>\n",
      "RangeIndex: 10000 entries, 0 to 9999\n",
      "Data columns (total 13 columns):\n",
      " #   Column           Non-Null Count  Dtype  \n",
      "---  ------           --------------  -----  \n",
      " 0   customerid       10000 non-null  int64  \n",
      " 1   surname          10000 non-null  object \n",
      " 2   creditscore      10000 non-null  int64  \n",
      " 3   geography        10000 non-null  object \n",
      " 4   gender           10000 non-null  object \n",
      " 5   age              10000 non-null  int64  \n",
      " 6   tenure           10000 non-null  int64  \n",
      " 7   balance          10000 non-null  float64\n",
      " 8   numofproducts    10000 non-null  int64  \n",
      " 9   hascrcard        10000 non-null  int64  \n",
      " 10  isactivemember   10000 non-null  int64  \n",
      " 11  estimatedsalary  10000 non-null  float64\n",
      " 12  exited           10000 non-null  int64  \n",
      "dtypes: float64(2), int64(8), object(3)\n",
      "memory usage: 1015.8+ KB\n"
     ]
    }
   ],
   "source": [
    "data['tenure'] = data['tenure'].astype('int')\n",
    "\n",
    "data.info()\n",
    "#проверили, все сработало"
   ]
  },
  {
   "cell_type": "markdown",
   "metadata": {},
   "source": [
    "### Также удалим столбец 'surname'\n",
    "Так как для идентификации можно использовать 'customer_id', а значения столбца 'surname', скорее всего, помешают модели обучится, так как фамилия человека не влияет на его решение уйти из банка"
   ]
  },
  {
   "cell_type": "code",
   "execution_count": 8,
   "metadata": {},
   "outputs": [],
   "source": [
    "data = data.drop(columns=['surname'], axis=1)"
   ]
  },
  {
   "cell_type": "markdown",
   "metadata": {},
   "source": [
    "### Краткий вывод\n",
    "Удалили лишний столбец-индекс, изменили заглавные буквы в названиях столбцов и признаков на строчные, заменили пропуски в столбце 'tenure' на медиану этого столбца, изменили тип данных столбца на целочисленный. \n"
   ]
  },
  {
   "cell_type": "markdown",
   "metadata": {},
   "source": [
    "### Изменение категориальных признаков  \n",
    "\n",
    "Требуется предсказать факт ухода клиентов в ближайшее время (1- клиент ушел , 0 - клиент остался). Значит, перед нами задача классификации. Также в столбцах 'geography','gender' и 'hascrcard' содержатся категориальные признаки, которые следует изменить на количественные для лучшего обучения модели. \n",
    "\n"
   ]
  },
  {
   "cell_type": "code",
   "execution_count": 9,
   "metadata": {},
   "outputs": [
    {
     "data": {
      "text/html": [
       "<div>\n",
       "<style scoped>\n",
       "    .dataframe tbody tr th:only-of-type {\n",
       "        vertical-align: middle;\n",
       "    }\n",
       "\n",
       "    .dataframe tbody tr th {\n",
       "        vertical-align: top;\n",
       "    }\n",
       "\n",
       "    .dataframe thead th {\n",
       "        text-align: right;\n",
       "    }\n",
       "</style>\n",
       "<table border=\"1\" class=\"dataframe\">\n",
       "  <thead>\n",
       "    <tr style=\"text-align: right;\">\n",
       "      <th></th>\n",
       "      <th>customerid</th>\n",
       "      <th>creditscore</th>\n",
       "      <th>age</th>\n",
       "      <th>tenure</th>\n",
       "      <th>balance</th>\n",
       "      <th>numofproducts</th>\n",
       "      <th>isactivemember</th>\n",
       "      <th>estimatedsalary</th>\n",
       "      <th>exited</th>\n",
       "      <th>geography_germany</th>\n",
       "      <th>geography_spain</th>\n",
       "      <th>gender_male</th>\n",
       "      <th>hascrcard_1</th>\n",
       "    </tr>\n",
       "  </thead>\n",
       "  <tbody>\n",
       "    <tr>\n",
       "      <th>0</th>\n",
       "      <td>15634602</td>\n",
       "      <td>619</td>\n",
       "      <td>42</td>\n",
       "      <td>2</td>\n",
       "      <td>0.00</td>\n",
       "      <td>1</td>\n",
       "      <td>1</td>\n",
       "      <td>101348.88</td>\n",
       "      <td>1</td>\n",
       "      <td>0</td>\n",
       "      <td>0</td>\n",
       "      <td>0</td>\n",
       "      <td>1</td>\n",
       "    </tr>\n",
       "    <tr>\n",
       "      <th>1</th>\n",
       "      <td>15647311</td>\n",
       "      <td>608</td>\n",
       "      <td>41</td>\n",
       "      <td>1</td>\n",
       "      <td>83807.86</td>\n",
       "      <td>1</td>\n",
       "      <td>1</td>\n",
       "      <td>112542.58</td>\n",
       "      <td>0</td>\n",
       "      <td>0</td>\n",
       "      <td>1</td>\n",
       "      <td>0</td>\n",
       "      <td>0</td>\n",
       "    </tr>\n",
       "    <tr>\n",
       "      <th>2</th>\n",
       "      <td>15619304</td>\n",
       "      <td>502</td>\n",
       "      <td>42</td>\n",
       "      <td>8</td>\n",
       "      <td>159660.80</td>\n",
       "      <td>3</td>\n",
       "      <td>0</td>\n",
       "      <td>113931.57</td>\n",
       "      <td>1</td>\n",
       "      <td>0</td>\n",
       "      <td>0</td>\n",
       "      <td>0</td>\n",
       "      <td>1</td>\n",
       "    </tr>\n",
       "    <tr>\n",
       "      <th>3</th>\n",
       "      <td>15701354</td>\n",
       "      <td>699</td>\n",
       "      <td>39</td>\n",
       "      <td>1</td>\n",
       "      <td>0.00</td>\n",
       "      <td>2</td>\n",
       "      <td>0</td>\n",
       "      <td>93826.63</td>\n",
       "      <td>0</td>\n",
       "      <td>0</td>\n",
       "      <td>0</td>\n",
       "      <td>0</td>\n",
       "      <td>0</td>\n",
       "    </tr>\n",
       "    <tr>\n",
       "      <th>4</th>\n",
       "      <td>15737888</td>\n",
       "      <td>850</td>\n",
       "      <td>43</td>\n",
       "      <td>2</td>\n",
       "      <td>125510.82</td>\n",
       "      <td>1</td>\n",
       "      <td>1</td>\n",
       "      <td>79084.10</td>\n",
       "      <td>0</td>\n",
       "      <td>0</td>\n",
       "      <td>1</td>\n",
       "      <td>0</td>\n",
       "      <td>1</td>\n",
       "    </tr>\n",
       "  </tbody>\n",
       "</table>\n",
       "</div>"
      ],
      "text/plain": [
       "   customerid  creditscore  age  tenure    balance  numofproducts  \\\n",
       "0    15634602          619   42       2       0.00              1   \n",
       "1    15647311          608   41       1   83807.86              1   \n",
       "2    15619304          502   42       8  159660.80              3   \n",
       "3    15701354          699   39       1       0.00              2   \n",
       "4    15737888          850   43       2  125510.82              1   \n",
       "\n",
       "   isactivemember  estimatedsalary  exited  geography_germany  \\\n",
       "0               1        101348.88       1                  0   \n",
       "1               1        112542.58       0                  0   \n",
       "2               0        113931.57       1                  0   \n",
       "3               0         93826.63       0                  0   \n",
       "4               1         79084.10       0                  0   \n",
       "\n",
       "   geography_spain  gender_male  hascrcard_1  \n",
       "0                0            0            1  \n",
       "1                1            0            0  \n",
       "2                0            0            1  \n",
       "3                0            0            0  \n",
       "4                1            0            1  "
      ]
     },
     "execution_count": 9,
     "metadata": {},
     "output_type": "execute_result"
    }
   ],
   "source": [
    "data_ohe = pd.get_dummies(data=data, columns=['geography','gender','hascrcard'], drop_first=True)\n",
    "\n",
    "data_ohe.head()"
   ]
  },
  {
   "cell_type": "markdown",
   "metadata": {},
   "source": [
    "### Разделяем данные на обучающую, валидационную и тестовую выборки\n",
    "\n"
   ]
  },
  {
   "cell_type": "code",
   "execution_count": 10,
   "metadata": {},
   "outputs": [],
   "source": [
    "from sklearn.model_selection import train_test_split\n",
    "#from sklearn.preprocessing import StandardScaler\n",
    "\n",
    "#scaler = StandardScaler()\n",
    "#scaler.fit(data_ohe)\n",
    "#data_ohe_scaled = scaler.transform(data_ohe)\n",
    "\n",
    "\n",
    "features = data_ohe.drop(columns=['exited'], axis=1)\n",
    "target = data_ohe['exited']\n",
    "\n",
    "features_train, features_valid_test, target_train, target_valid_test = train_test_split(\n",
    "    features, target, test_size=0.4, random_state = 12345)\n",
    "\n",
    "features_valid, features_test, target_valid, target_test = train_test_split(\n",
    "    features_valid_test, target_valid_test, test_size=0.4, random_state=12345)\n",
    "\n"
   ]
  },
  {
   "cell_type": "markdown",
   "metadata": {},
   "source": [
    "### Посмотрим на соотношение классов"
   ]
  },
  {
   "cell_type": "code",
   "execution_count": 11,
   "metadata": {},
   "outputs": [
    {
     "name": "stdout",
     "output_type": "stream",
     "text": [
      "Доля класса \"1\" 0.2037\n",
      "Доля класса \"0\" 0.7963\n"
     ]
    }
   ],
   "source": [
    "class_1_count = data_ohe.query('exited == 1')['age'].count()\n",
    "class_0_count = data_ohe.query('exited == 0')['age'].count()\n",
    "\n",
    "partition_class_1 = class_1_count/len(target)\n",
    "partition_class_0 = 1 - partition_class_1\n",
    "\n",
    "print('Доля класса \"1\"', partition_class_1)\n",
    "print('Доля класса \"0\"', partition_class_0)"
   ]
  },
  {
   "cell_type": "markdown",
   "metadata": {},
   "source": [
    "Видно, что доля класса \"1\" кратно меньше доли класса \"0\"."
   ]
  },
  {
   "cell_type": "markdown",
   "metadata": {},
   "source": [
    "### Обучаем модель без учета дисбаланса классов"
   ]
  },
  {
   "cell_type": "code",
   "execution_count": 12,
   "metadata": {
    "scrolled": true
   },
   "outputs": [
    {
     "name": "stdout",
     "output_type": "stream",
     "text": [
      "На валидационной выборке:\n",
      "F1-мера обученной модели с несбалансированными классами 0.49652432969215493\n",
      "Точность обученной модели с несбалансированными классами 0.48638132295719844\n",
      "Полнота обученной модели с несбалансированными классами 0.5070993914807302\n",
      "\n"
     ]
    }
   ],
   "source": [
    "from sklearn.tree import DecisionTreeClassifier\n",
    "from sklearn.metrics import f1_score \n",
    "from sklearn.metrics import precision_score\n",
    "from sklearn.metrics import recall_score\n",
    "\n",
    "\n",
    "\n",
    "model_imbalanced = DecisionTreeClassifier(random_state=12345)\n",
    "\n",
    "model_imbalanced.fit(features_train, target_train)\n",
    "\n",
    "predicted_valid = model_imbalanced.predict(features_valid)\n",
    "\n",
    "f1_score_imbalanced = f1_score(target_valid, predicted_valid)\n",
    "precision_score_imbalanced = precision_score(target_valid, predicted_valid)\n",
    "recall_score_imbalanced = recall_score(target_valid, predicted_valid)\n",
    "\n",
    "predicted_train = model_imbalanced.predict(features_train)\n",
    "\n",
    "print('На валидационной выборке:')\n",
    "print('F1-мера обученной модели с несбалансированными классами', f1_score_imbalanced)\n",
    "print('Точность обученной модели с несбалансированными классами', precision_score_imbalanced)\n",
    "print('Полнота обученной модели с несбалансированными классами', recall_score_imbalanced)\n",
    "print()\n",
    "#print('На обучающей выборке:')\n",
    "#print('F1-мера обученной модели с несбалансированными классами', f1_score(target_train, predicted_train))\n",
    "#print('Точность обученной модели с несбалансированными классами', precision_score(target_train, predicted_train))\n",
    "#print('Полнота обученной модели с несбалансированными классами', recall_score(target_train, predicted_train))\n",
    "\n",
    "\n"
   ]
  },
  {
   "cell_type": "markdown",
   "metadata": {},
   "source": [
    "### Устраним дисбаланс классов и подберем лучшую модель\n",
    "\n"
   ]
  },
  {
   "cell_type": "code",
   "execution_count": 13,
   "metadata": {
    "scrolled": true
   },
   "outputs": [
    {
     "name": "stdout",
     "output_type": "stream",
     "text": [
      "Порог: 0.0 AUC-Score: 0.5 \n",
      "\n",
      "Порог: 0.05 AUC-Score: 0.5626883341080315 \n",
      "\n",
      "Порог: 0.1 AUC-Score: 0.562583031874667 \n",
      "\n",
      "Порог: 0.15000000000000002 AUC-Score: 0.5624224193773127 \n",
      "\n",
      "Порог: 0.2 AUC-Score: 0.5623820003382435 \n",
      "\n",
      "Порог: 0.25 AUC-Score: 0.5623522178884031 \n",
      "\n",
      "Порог: 0.30000000000000004 AUC-Score: 0.5720538509239472 \n",
      "\n",
      "Порог: 0.35000000000000003 AUC-Score: 0.5622203241819665 \n",
      "\n",
      "Порог: 0.4 AUC-Score: 0.5621575683055169 \n",
      "\n",
      "Порог: 0.45 AUC-Score: 0.5621628866001314 \n",
      "\n",
      "Порог: 0.5 AUC-Score: 0.5621256585378306 \n",
      "\n",
      "Порог: 0.55 AUC-Score: 0.5620831121809157 \n",
      "\n",
      "Порог: 0.6000000000000001 AUC-Score: 0.5620278019169261 \n",
      "\n",
      "Порог: 0.65 AUC-Score: 0.5620448204596922 \n",
      "\n",
      "Порог: 0.7000000000000001 AUC-Score: 0.5619714279940138 \n",
      "\n",
      "Порог: 0.75 AUC-Score: 0.561960791404785 \n",
      "\n",
      "Порог: 0.8 AUC-Score: 0.5618618711249577 \n",
      "\n",
      "Порог: 0.8500000000000001 AUC-Score: 0.5617735874343589 \n",
      "\n",
      "Порог: 0.9 AUC-Score: 0.5617459323023641 \n",
      "\n",
      "Порог: 0.9500000000000001 AUC-Score: 0.5616087203013134 \n",
      "\n",
      "Значение порога при лучшем результате 0.30000000000000004\n"
     ]
    }
   ],
   "source": [
    "from sklearn.metrics import roc_curve\n",
    "from sklearn.metrics import roc_auc_score\n",
    "import matplotlib.pyplot as plt\n",
    "import numpy as np\n",
    "from sklearn.metrics import f1_score\n",
    "from sklearn.linear_model import LogisticRegression\n",
    "\n",
    "\n",
    "result={}\n",
    "\n",
    "for threshold in np.arange(0.0,1.0,0.05):\n",
    "    model_imbalanced_2 = LogisticRegression(random_state=12345, class_weight={0:threshold, 1:1-threshold})\n",
    "    model_imbalanced_2.fit(features_train, target_train)\n",
    "    probabilities_valid = model_imbalanced_2.predict_proba(features_valid)\n",
    "    probabilities_one_valid = probabilities_valid[:,1]\n",
    "    score = roc_auc_score(target_valid, probabilities_one_valid)\n",
    "    new_element={threshold:score}\n",
    "    result.update(new_element)\n",
    "    print(\"Порог:\", threshold, 'AUC-Score:', score,'\\n')\n",
    "    \n",
    "\n",
    "    \n",
    "print('Значение порога при лучшем результате', max(result, key=result.get))\n",
    "\n"
   ]
  },
  {
   "cell_type": "markdown",
   "metadata": {},
   "source": [
    "### Вывод\n",
    "Следует установить значение порога в 0.3"
   ]
  },
  {
   "cell_type": "code",
   "execution_count": 14,
   "metadata": {},
   "outputs": [
    {
     "name": "stdout",
     "output_type": "stream",
     "text": [
      "F1-мера для решающего дерева 0.4778225806451613\n",
      "F1-мера для случайного леса 0.5395973154362417\n",
      "F1-мера для логистической регрессии 0.07653910149750416\n"
     ]
    }
   ],
   "source": [
    "from sklearn.ensemble import RandomForestClassifier\n",
    "from sklearn.tree import DecisionTreeClassifier\n",
    "from sklearn.linear_model import LogisticRegression\n",
    "\n",
    "\n",
    "model_tree = DecisionTreeClassifier(random_state=12345, class_weight={0:0.3, 1:0.7})\n",
    "model_tree.fit(features_train, target_train)\n",
    "predicted_tree_valid = model_tree.predict(features_valid)\n",
    "print('F1-мера для решающего дерева', f1_score(target_valid, predicted_tree_valid))\n",
    "\n",
    "\n",
    "model_forest = RandomForestClassifier(random_state=12345, class_weight={0:0.3, 1:0.7})\n",
    "model_forest.fit(features_train, target_train)\n",
    "predicted_forest_valid = model_forest.predict(features_valid)\n",
    "print('F1-мера для случайного леса', f1_score(target_valid, predicted_forest_valid))\n",
    "\n",
    "\n",
    "model_log_regr = LogisticRegression(random_state=12345, class_weight={0:0.3, 1:0.7})\n",
    "model_log_regr.fit(features_train, target_train)\n",
    "predicted_log_regr_valid = model_log_regr.predict(features_valid)\n",
    "print('F1-мера для логистической регрессии', f1_score(target_valid, predicted_log_regr_valid))\n",
    "\n",
    "\n"
   ]
  },
  {
   "cell_type": "markdown",
   "metadata": {},
   "source": [
    "### Случайный лес показал лучший результат, возьмем эту модель и подберем подходящие гиперпараметры. "
   ]
  },
  {
   "cell_type": "code",
   "execution_count": 15,
   "metadata": {
    "scrolled": true
   },
   "outputs": [
    {
     "name": "stdout",
     "output_type": "stream",
     "text": [
      "Глубина 3 F1-мера: 0.5535499398315283 \n",
      "\n",
      "Глубина 4 F1-мера: 0.5866364665911664 \n",
      "\n",
      "Глубина 5 F1-мера: 0.5929304446978336 \n",
      "\n",
      "Глубина 6 F1-мера: 0.592090395480226 \n",
      "\n",
      "Глубина 7 F1-мера: 0.6002265005662514 \n",
      "\n",
      "Глубина 8 F1-мера: 0.5952109464082099 \n",
      "\n",
      "Глубина 9 F1-мера: 0.6123853211009174 \n",
      "\n",
      "Глубина 10 F1-мера: 0.6020761245674741 \n",
      "\n",
      "Глубина 11 F1-мера: 0.59375 \n",
      "\n",
      "Глубина 12 F1-мера: 0.589242053789731 \n",
      "\n",
      "Глубина 13 F1-мера: 0.5779467680608366 \n",
      "\n",
      "Глубина 14 F1-мера: 0.5714285714285715 \n",
      "\n",
      "Глубина 15 F1-мера: 0.5513654096228868 \n",
      "\n",
      "Глубина 16 F1-мера: 0.5580182529335072 \n",
      "\n",
      "Глубина 17 F1-мера: 0.5578947368421053 \n",
      "\n",
      "Глубина 18 F1-мера: 0.5476190476190477 \n",
      "\n",
      "Глубина 19 F1-мера: 0.5345744680851064 \n",
      "\n",
      "Глубина 20 F1-мера: 0.5456953642384107 \n",
      "\n",
      "Глубина 21 F1-мера: 0.5505319148936171 \n",
      "\n",
      "Глубина 22 F1-мера: 0.5372340425531915 \n",
      "\n",
      "Глубина 23 F1-мера: 0.5425531914893617 \n",
      "\n",
      "Глубина 24 F1-мера: 0.5486018641810919 \n",
      "\n",
      "Глубина 25 F1-мера: 0.5381526104417671 \n",
      "\n",
      "Глубина 26 F1-мера: 0.5393858477970628 \n",
      "\n",
      "Глубина 27 F1-мера: 0.5395973154362417 \n",
      "\n",
      "Глубина 28 F1-мера: 0.5395973154362417 \n",
      "\n",
      "Глубина 29 F1-мера: 0.5395973154362417 \n",
      "\n",
      "Глубина 30 F1-мера: 0.5395973154362417 \n",
      "\n",
      "Глубина 31 F1-мера: 0.5395973154362417 \n",
      "\n",
      "Глубина 32 F1-мера: 0.5395973154362417 \n",
      "\n",
      "Глубина 33 F1-мера: 0.5395973154362417 \n",
      "\n",
      "Глубина 34 F1-мера: 0.5395973154362417 \n",
      "\n",
      "Глубина 35 F1-мера: 0.5395973154362417 \n",
      "\n",
      "Глубина 36 F1-мера: 0.5395973154362417 \n",
      "\n",
      "Глубина 37 F1-мера: 0.5395973154362417 \n",
      "\n",
      "Глубина 38 F1-мера: 0.5395973154362417 \n",
      "\n",
      "Глубина 39 F1-мера: 0.5395973154362417 \n",
      "\n",
      "Значение глубины при лучшем результате 9\n"
     ]
    }
   ],
   "source": [
    "my_dict={}\n",
    "\n",
    "for depth in range (3,40,1):\n",
    "    final_model = RandomForestClassifier(random_state=12345, class_weight={0:0.3, 1:0.7}, max_depth=depth)\n",
    "    final_model.fit(features_train, target_train)\n",
    "    predicted_valid = final_model.predict(features_valid)\n",
    "    score=f1_score(target_valid, predicted_valid)\n",
    "    new_item = {depth:score}\n",
    "    my_dict.update(new_item)\n",
    "    print('Глубина', depth, 'F1-мера:', score,'\\n')\n",
    "\n",
    "    \n",
    "print('Значение глубины при лучшем результате', max(my_dict, key=my_dict.get))    \n",
    "    \n",
    "    "
   ]
  },
  {
   "cell_type": "code",
   "execution_count": 16,
   "metadata": {
    "scrolled": true
   },
   "outputs": [
    {
     "name": "stdout",
     "output_type": "stream",
     "text": [
      "Количество листьев: 3 F1-мера: 0.5567451820128481 \n",
      "\n",
      "Количество листьев: 4 F1-мера: 0.5470653377630122 \n",
      "\n",
      "Количество листьев: 5 F1-мера: 0.5628476084538376 \n",
      "\n",
      "Количество листьев: 6 F1-мера: 0.5682574916759157 \n",
      "\n",
      "Количество листьев: 7 F1-мера: 0.5739910313901345 \n",
      "\n",
      "Количество листьев: 8 F1-мера: 0.5825892857142858 \n",
      "\n",
      "Количество листьев: 9 F1-мера: 0.5704697986577181 \n",
      "\n",
      "Количество листьев: 10 F1-мера: 0.5745856353591162 \n",
      "\n",
      "Количество листьев: 11 F1-мера: 0.568888888888889 \n",
      "\n",
      "Количество листьев: 12 F1-мера: 0.5740112994350282 \n",
      "\n",
      "Количество листьев: 13 F1-мера: 0.5662514156285391 \n",
      "\n",
      "Количество листьев: 14 F1-мера: 0.576271186440678 \n",
      "\n",
      "Количество листьев: 15 F1-мера: 0.5802047781569966 \n",
      "\n",
      "Количество листьев: 16 F1-мера: 0.5785876993166288 \n",
      "\n",
      "Количество листьев: 17 F1-мера: 0.5952109464082099 \n",
      "\n",
      "Количество листьев: 18 F1-мера: 0.5940366972477064 \n",
      "\n",
      "Количество листьев: 19 F1-мера: 0.5845799769850402 \n",
      "\n",
      "Количество листьев: 20 F1-мера: 0.5842956120092379 \n",
      "\n",
      "Количество листьев: 21 F1-мера: 0.5816917728852837 \n",
      "\n",
      "Количество листьев: 22 F1-мера: 0.5833333333333334 \n",
      "\n",
      "Количество листьев: 23 F1-мера: 0.5824561403508771 \n",
      "\n",
      "Количество листьев: 24 F1-мера: 0.5850815850815851 \n",
      "\n",
      "Количество листьев: 25 F1-мера: 0.5872832369942197 \n",
      "\n",
      "Количество листьев: 26 F1-мера: 0.5874125874125875 \n",
      "\n",
      "Количество листьев: 27 F1-мера: 0.5840092699884126 \n",
      "\n",
      "Количество листьев: 28 F1-мера: 0.5813953488372092 \n",
      "\n",
      "Количество листьев: 29 F1-мера: 0.5863267670915412 \n",
      "\n",
      "Количество листьев: 30 F1-мера: 0.5902777777777778 \n",
      "\n",
      "Количество листьев: 31 F1-мера: 0.5955967555040556 \n",
      "\n",
      "Количество листьев: 32 F1-мера: 0.5951557093425606 \n",
      "\n",
      "Количество листьев: 33 F1-мера: 0.5902777777777778 \n",
      "\n",
      "Количество листьев: 34 F1-мера: 0.5928489042675893 \n",
      "\n",
      "Количество листьев: 35 F1-мера: 0.5942196531791907 \n",
      "\n",
      "Количество листьев: 36 F1-мера: 0.599078341013825 \n",
      "\n",
      "Количество листьев: 37 F1-мера: 0.5974625144175316 \n",
      "\n",
      "Количество листьев: 38 F1-мера: 0.5983889528193326 \n",
      "\n",
      "Количество листьев: 39 F1-мера: 0.5993111366245694 \n",
      "\n",
      "Количество листьев: 40 F1-мера: 0.5983889528193326 \n",
      "\n",
      "Количество листьев: 41 F1-мера: 0.599078341013825 \n",
      "\n",
      "Количество листьев: 42 F1-мера: 0.599078341013825 \n",
      "\n",
      "Количество листьев: 43 F1-мера: 0.599769319492503 \n",
      "\n",
      "Количество листьев: 44 F1-мера: 0.599078341013825 \n",
      "\n",
      "Количество листьев: 45 F1-мера: 0.6004618937644342 \n",
      "\n",
      "Количество листьев: 46 F1-мера: 0.6013824884792626 \n",
      "\n",
      "Количество листьев: 47 F1-мера: 0.5999999999999999 \n",
      "\n",
      "Количество листьев: 48 F1-мера: 0.5965317919075145 \n",
      "\n",
      "Количество листьев: 49 F1-мера: 0.5981524249422633 \n",
      "\n",
      "Количество листьев: 50 F1-мера: 0.5983889528193326 \n",
      "\n",
      "Количество листьев: 51 F1-мера: 0.602771362586605 \n",
      "\n",
      "Количество листьев: 52 F1-мера: 0.599769319492503 \n",
      "\n",
      "Количество листьев: 53 F1-мера: 0.5979142526071842 \n",
      "\n",
      "Количество листьев: 54 F1-мера: 0.602771362586605 \n",
      "\n",
      "Количество листьев: 55 F1-мера: 0.6009174311926605 \n",
      "\n",
      "Количество листьев: 56 F1-мера: 0.6029919447640967 \n",
      "\n",
      "Количество листьев: 57 F1-мера: 0.6045977011494252 \n",
      "\n",
      "Количество листьев: 58 F1-мера: 0.606896551724138 \n",
      "\n",
      "Количество листьев: 59 F1-мера: 0.6066897347174165 \n",
      "\n",
      "Количество листьев: 60 F1-мера: 0.602771362586605 \n",
      "\n",
      "Количество листьев: 61 F1-мера: 0.6052934407364788 \n",
      "\n",
      "Количество листьев: 62 F1-мера: 0.6059907834101382 \n",
      "\n",
      "Количество листьев: 63 F1-мера: 0.6075949367088609 \n",
      "\n",
      "Количество листьев: 64 F1-мера: 0.6034682080924856 \n",
      "\n",
      "Количество листьев: 65 F1-мера: 0.6041666666666666 \n",
      "\n",
      "Количество листьев: 66 F1-мера: 0.6057803468208092 \n",
      "\n",
      "Количество листьев: 67 F1-мера: 0.6011560693641619 \n",
      "\n",
      "Количество листьев: 68 F1-мера: 0.6041666666666666 \n",
      "\n",
      "Количество листьев: 69 F1-мера: 0.6034682080924856 \n",
      "\n",
      "Количество листьев: 70 F1-мера: 0.6009280742459396 \n",
      "\n",
      "Количество листьев: 71 F1-мера: 0.6016260162601625 \n",
      "\n",
      "Количество листьев: 72 F1-мера: 0.6016260162601625 \n",
      "\n",
      "Количество листьев: 73 F1-мера: 0.6025492468134415 \n",
      "\n",
      "Количество листьев: 74 F1-мера: 0.6002317497103129 \n",
      "\n",
      "Количество листьев: 75 F1-мера: 0.6009280742459396 \n",
      "\n",
      "Количество листьев: 76 F1-мера: 0.6048667439165701 \n",
      "\n",
      "Количество листьев: 77 F1-мера: 0.6043829296424451 \n",
      "\n",
      "Количество листьев: 78 F1-мера: 0.6011560693641619 \n",
      "\n",
      "Количество листьев: 79 F1-мера: 0.6011560693641619 \n",
      "\n",
      "Количество листьев: 80 F1-мера: 0.602771362586605 \n",
      "\n",
      "Количество листьев: 81 F1-мера: 0.6057803468208092 \n",
      "\n",
      "Количество листьев: 82 F1-мера: 0.6043829296424451 \n",
      "\n",
      "Количество листьев: 83 F1-мера: 0.6025492468134415 \n",
      "\n",
      "Количество листьев: 84 F1-мера: 0.6002317497103129 \n",
      "\n",
      "Количество листьев: 85 F1-мера: 0.6034682080924856 \n",
      "\n",
      "Количество листьев: 86 F1-мера: 0.6020761245674741 \n",
      "\n",
      "Количество листьев: 87 F1-мера: 0.6013824884792626 \n",
      "\n",
      "Количество листьев: 88 F1-мера: 0.6016073478760046 \n",
      "\n",
      "Количество листьев: 89 F1-мера: 0.6006904487917146 \n",
      "\n",
      "Количество листьев: 90 F1-мера: 0.6055045871559632 \n",
      "\n",
      "Количество листьев: 91 F1-мера: 0.6077981651376146 \n",
      "\n",
      "Количество листьев: 92 F1-мера: 0.602520045819015 \n",
      "\n",
      "Количество листьев: 93 F1-мера: 0.6032110091743119 \n",
      "\n",
      "Количество листьев: 94 F1-мера: 0.6084959816303099 \n",
      "\n",
      "Количество листьев: 95 F1-мера: 0.6055045871559632 \n",
      "\n",
      "Количество листьев: 96 F1-мера: 0.6107921928817451 \n",
      "\n",
      "Количество листьев: 97 F1-мера: 0.6123853211009174 \n",
      "\n",
      "Количество листьев: 98 F1-мера: 0.6116838487972508 \n",
      "\n",
      "Количество листьев: 99 F1-мера: 0.606896551724138 \n",
      "\n",
      "Количество листьев при лучшем результате 97\n"
     ]
    }
   ],
   "source": [
    "my_dict={}\n",
    "\n",
    "for estimator in range (3,100,1):\n",
    "    final_model = RandomForestClassifier(random_state=12345, class_weight={0:0.3, 1:0.7},\n",
    "                                         max_depth=9, n_estimators=estimator)\n",
    "    final_model.fit(features_train, target_train)\n",
    "    predicted_valid = final_model.predict(features_valid)\n",
    "    score=f1_score(target_valid, predicted_valid)\n",
    "    new_item = {estimator:score}\n",
    "    my_dict.update(new_item)\n",
    "    print('Количество листьев:', estimator, 'F1-мера:', score,'\\n')\n",
    "\n",
    "    \n",
    "print('Количество листьев при лучшем результате', max(my_dict, key=my_dict.get))    \n",
    "    \n",
    "    "
   ]
  },
  {
   "cell_type": "markdown",
   "metadata": {},
   "source": [
    "### Обучим итоговую модель сразу на обучающей и валидационной выборках, проведем тестирование "
   ]
  },
  {
   "cell_type": "markdown",
   "metadata": {},
   "source": [
    "Обучаем итоговую модель с вручную заданным порогом:\n"
   ]
  },
  {
   "cell_type": "code",
   "execution_count": 17,
   "metadata": {},
   "outputs": [
    {
     "name": "stdout",
     "output_type": "stream",
     "text": [
      "F1-мера итоговой модели на тестовой выборке: 0.6176470588235294\n",
      "AUC-score: 0.7415996474606147\n"
     ]
    }
   ],
   "source": [
    "from sklearn.utils import shuffle\n",
    "\n",
    "\n",
    "features_train_valid , target_train_valid = shuffle(pd.concat([features_train, features_valid]),\n",
    "                                                    pd.concat([target_train, target_valid]),\n",
    "                                                    random_state=12345)\n",
    "\n",
    "model = RandomForestClassifier(random_state=12345, class_weight={0:0.3, 1:0.7},\n",
    "                                         max_depth=9, n_estimators=97)\n",
    "model.fit(features_train_valid, target_train_valid)\n",
    "predicted_test = model.predict(features_test)\n",
    "score = f1_score(target_test, predicted_test)\n",
    "\n",
    "probabilities_test = model.predict_proba(features_test)\n",
    "\n",
    "\n",
    "print('F1-мера итоговой модели на тестовой выборке:', score)\n",
    "print('AUC-score:', roc_auc_score(target_test, predicted_test))\n",
    "\n"
   ]
  },
  {
   "cell_type": "markdown",
   "metadata": {},
   "source": [
    "Также посчитаем полноту и точность:"
   ]
  },
  {
   "cell_type": "code",
   "execution_count": 18,
   "metadata": {
    "scrolled": true
   },
   "outputs": [
    {
     "name": "stdout",
     "output_type": "stream",
     "text": [
      "Точность итоговой модели на тестовой выборке: 0.7159090909090909\n",
      "Полнота итоговой модели на тестовой выборке: 0.5431034482758621\n"
     ]
    }
   ],
   "source": [
    "from sklearn.metrics import precision_score \n",
    "\n",
    "\n",
    "print('Точность итоговой модели на тестовой выборке:', precision_score(target_test, predicted_test))\n",
    "print('Полнота итоговой модели на тестовой выборке:', recall_score(target_test, predicted_test))"
   ]
  },
  {
   "cell_type": "code",
   "execution_count": 19,
   "metadata": {},
   "outputs": [
    {
     "name": "stdout",
     "output_type": "stream",
     "text": [
      "F1-мера модели c class_weight=balanced на тестовой выборке: 0.6246575342465753\n",
      "AUC-score: 0.7660846094524623 \n",
      "\n",
      "Точность модели c class_weight=balanced на тестовой выборке: 0.5968586387434555\n",
      "Полнота модели c class_weight=balanced на тестовой выборке: 0.6551724137931034\n"
     ]
    }
   ],
   "source": [
    "model_balanced_true = RandomForestClassifier(random_state=12345, class_weight='balanced',\n",
    "                                         max_depth=9, n_estimators=97)\n",
    "\n",
    "\n",
    "model_balanced_true.fit(features_train_valid, target_train_valid)\n",
    "predicted_test = model_balanced_true.predict(features_test)\n",
    "score = f1_score(target_test, predicted_test)\n",
    "\n",
    "probabilities_test = model_balanced_true.predict_proba(features_test)\n",
    "\n",
    "\n",
    "print('F1-мера модели c class_weight=''balanced'' на тестовой выборке:', score)\n",
    "print('AUC-score:', roc_auc_score(target_test, predicted_test),'\\n')\n",
    "\n",
    "print('Точность модели c class_weight=''balanced'' на тестовой выборке:', precision_score(target_test, predicted_test))\n",
    "print('Полнота модели c class_weight=''balanced'' на тестовой выборке:', recall_score(target_test, predicted_test))\n",
    "\n"
   ]
  },
  {
   "cell_type": "markdown",
   "metadata": {},
   "source": [
    "Обучим модель со сбалансированными классами методом upsample:"
   ]
  },
  {
   "cell_type": "code",
   "execution_count": 20,
   "metadata": {},
   "outputs": [
    {
     "name": "stdout",
     "output_type": "stream",
     "text": [
      "F1-мера модели c class_weight=balanced на тестовой выборке: 0.6742160278745645\n",
      "AUC-score: 0.7521498656758491 \n",
      "\n",
      "Точность модели c class_weight=balanced на тестовой выборке: 0.9822335025380711\n",
      "Полнота модели c class_weight=balanced на тестовой выборке: 0.513262599469496\n"
     ]
    }
   ],
   "source": [
    "from sklearn.utils import shuffle\n",
    "\n",
    "def upsample(features, target, repeat):\n",
    "    features_zeros = features[target == 0]\n",
    "    features_ones = features[target == 1]\n",
    "    target_zeros = target[target == 0]\n",
    "    target_ones = target[target == 1]\n",
    "\n",
    "    features_upsampled = pd.concat([features_zeros] + [features_ones] * repeat)\n",
    "    target_upsampled = pd.concat([target_zeros] + [target_ones] * repeat)\n",
    "    \n",
    "    features_upsampled, target_upsampled = shuffle(\n",
    "        features_upsampled, target_upsampled, random_state=12345)\n",
    "    \n",
    "    return features_upsampled, target_upsampled\n",
    "\n",
    "features_upsampled, target_upsampled = upsample(features_train, target_train, 4)\n",
    "\n",
    "\n",
    "#разделяем upsampled выборку\n",
    "features_train, features_valid_test, target_train, target_valid_test = train_test_split(\n",
    "    features_upsampled, target_upsampled, test_size=0.4, random_state = 12345)\n",
    "\n",
    "features_valid, features_test, target_valid, target_test = train_test_split(\n",
    "    features_valid_test, target_valid_test, test_size=0.4, random_state=12345)\n",
    "\n",
    "\n",
    "\n",
    "#обучаем новую модель со сбалансированными классами методом upsample\n",
    "\n",
    "model_upsample_balanced = RandomForestClassifier(random_state=12345,\n",
    "                                         max_depth=9, n_estimators=97)\n",
    "\n",
    "model_upsample_balanced.fit(features_train_valid, target_train_valid)\n",
    "predicted_test = model_upsample_balanced.predict(features_test)\n",
    "score = f1_score(target_test, predicted_test)\n",
    "\n",
    "probabilities_test = model_upsample_balanced.predict_proba(features_test)\n",
    "\n",
    "\n",
    "print('F1-мера модели c class_weight=''balanced'' на тестовой выборке:', score)\n",
    "print('AUC-score:', roc_auc_score(target_test, predicted_test),'\\n')\n",
    "\n",
    "print('Точность модели c class_weight=''balanced'' на тестовой выборке:', precision_score(target_test, predicted_test))\n",
    "print('Полнота модели c class_weight=''balanced'' на тестовой выборке:', recall_score(target_test, predicted_test))\n",
    "\n",
    "\n"
   ]
  },
  {
   "cell_type": "markdown",
   "metadata": {},
   "source": [
    "### Вывод\n",
    "\n",
    "Данные были очищены, поставлена задача классификации; данные были разбиты в соотношении 3:1:1, была построена и изучена модель без учета дисбаланса классов; затем дисбаланс был изучен и в ходе анализа AUC-ROC был подобран подходящий порог классов. Было проанализировано три модели: Логистическая регрессия, Решающее дерево и Случайный Лес. Последний был выбран так как показал изначально лучшее значение F1-меры, были подобраны соответствующие гиперпараметры, которые показали на тестовой выборке значение F1-меры в 0.617. а значение AUC-ROC: 0.741599."
   ]
  }
 ],
 "metadata": {
  "ExecuteTimeLog": [
   {
    "duration": 523,
    "start_time": "2021-10-02T04:14:12.629Z"
   },
   {
    "duration": 89,
    "start_time": "2021-10-02T04:14:13.806Z"
   },
   {
    "duration": 14,
    "start_time": "2021-10-02T04:15:21.215Z"
   },
   {
    "duration": 14,
    "start_time": "2021-10-02T04:15:22.864Z"
   },
   {
    "duration": 30,
    "start_time": "2021-10-02T04:15:23.452Z"
   },
   {
    "duration": 6,
    "start_time": "2021-10-02T04:15:25.100Z"
   },
   {
    "duration": 10,
    "start_time": "2021-10-02T04:15:26.195Z"
   },
   {
    "duration": 6,
    "start_time": "2021-10-02T04:15:31.012Z"
   },
   {
    "duration": 18,
    "start_time": "2021-10-02T04:17:48.303Z"
   },
   {
    "duration": 431,
    "start_time": "2021-10-02T04:18:57.169Z"
   },
   {
    "duration": 12,
    "start_time": "2021-10-02T04:19:35.572Z"
   },
   {
    "duration": 70,
    "start_time": "2021-10-02T04:21:02.032Z"
   },
   {
    "duration": 3123,
    "start_time": "2021-10-02T04:21:03.890Z"
   },
   {
    "duration": 250,
    "start_time": "2021-10-02T04:21:07.649Z"
   },
   {
    "duration": 2412,
    "start_time": "2021-10-02T04:21:08.990Z"
   },
   {
    "duration": 26604,
    "start_time": "2021-10-02T04:21:11.403Z"
   },
   {
    "duration": 700,
    "start_time": "2021-10-02T04:21:38.009Z"
   },
   {
    "duration": 222,
    "start_time": "2021-10-02T14:12:59.887Z"
   },
   {
    "duration": 172,
    "start_time": "2021-10-02T14:13:34.062Z"
   },
   {
    "duration": 194,
    "start_time": "2021-10-02T14:14:02.046Z"
   },
   {
    "duration": 919,
    "start_time": "2021-10-02T14:14:20.293Z"
   },
   {
    "duration": 344,
    "start_time": "2021-10-02T14:14:25.570Z"
   },
   {
    "duration": 84,
    "start_time": "2021-10-02T14:14:25.917Z"
   },
   {
    "duration": 16,
    "start_time": "2021-10-02T14:14:26.004Z"
   },
   {
    "duration": 16,
    "start_time": "2021-10-02T14:14:26.022Z"
   },
   {
    "duration": 29,
    "start_time": "2021-10-02T14:14:26.039Z"
   },
   {
    "duration": 35,
    "start_time": "2021-10-02T14:14:26.069Z"
   },
   {
    "duration": 14,
    "start_time": "2021-10-02T14:14:26.106Z"
   },
   {
    "duration": 4,
    "start_time": "2021-10-02T14:14:26.122Z"
   },
   {
    "duration": 18,
    "start_time": "2021-10-02T14:14:26.128Z"
   },
   {
    "duration": 12,
    "start_time": "2021-10-02T14:14:26.148Z"
   },
   {
    "duration": 9,
    "start_time": "2021-10-02T14:14:26.161Z"
   },
   {
    "duration": 104,
    "start_time": "2021-10-02T14:14:26.171Z"
   },
   {
    "duration": 2432,
    "start_time": "2021-10-02T14:14:26.277Z"
   },
   {
    "duration": 324,
    "start_time": "2021-10-02T14:14:28.712Z"
   },
   {
    "duration": 2738,
    "start_time": "2021-10-02T14:14:29.038Z"
   },
   {
    "duration": 28175,
    "start_time": "2021-10-02T14:14:31.777Z"
   },
   {
    "duration": 749,
    "start_time": "2021-10-02T14:14:59.954Z"
   },
   {
    "duration": 8,
    "start_time": "2021-10-02T14:15:00.705Z"
   },
   {
    "duration": 7,
    "start_time": "2021-10-02T14:15:00.715Z"
   },
   {
    "duration": 3,
    "start_time": "2021-10-02T14:16:53.995Z"
   },
   {
    "duration": 710,
    "start_time": "2021-10-02T14:18:51.741Z"
   },
   {
    "duration": 736,
    "start_time": "2021-10-02T14:44:59.338Z"
   },
   {
    "duration": 63,
    "start_time": "2021-10-02T14:45:37.074Z"
   },
   {
    "duration": 778,
    "start_time": "2021-10-02T14:45:45.745Z"
   }
  ],
  "kernelspec": {
   "display_name": "Python 3",
   "language": "python",
   "name": "python3"
  },
  "language_info": {
   "codemirror_mode": {
    "name": "ipython",
    "version": 3
   },
   "file_extension": ".py",
   "mimetype": "text/x-python",
   "name": "python",
   "nbconvert_exporter": "python",
   "pygments_lexer": "ipython3",
   "version": "3.8.5"
  },
  "toc": {
   "base_numbering": 1,
   "nav_menu": {},
   "number_sections": true,
   "sideBar": true,
   "skip_h1_title": true,
   "title_cell": "Table of Contents",
   "title_sidebar": "Contents",
   "toc_cell": false,
   "toc_position": {},
   "toc_section_display": true,
   "toc_window_display": false
  }
 },
 "nbformat": 4,
 "nbformat_minor": 4
}
