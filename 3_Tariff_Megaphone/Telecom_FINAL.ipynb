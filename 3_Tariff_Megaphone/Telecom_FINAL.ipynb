{
 "cells": [
  {
   "cell_type": "markdown",
   "metadata": {},
   "source": [
    "# Определение перспективного тарифа для телеком компании"
   ]
  },
  {
   "cell_type": "markdown",
   "metadata": {},
   "source": [
    "### Описание проекта:\n",
    "Телеком-компания разрабатывает 2 тарифных плана.  \n",
    "Цель: выяснить, какой из тарифов приносит больше выручки.   \n",
    "Описание данных: история пользования обоими тарифами 500 пользователями за 2018 год.    \n",
    "\n",
    "**Описание тарифов**\n",
    "  \n",
    "*Тариф «Смарт»*  \n",
    "Ежемесячная плата: 550 рублей  \n",
    "Включено 500 минут разговора, 50 сообщений и 15 Гб интернет-трафика  \n",
    "Стоимость услуг сверх тарифного пакета:  \n",
    "минута разговора: 3 рубля  \n",
    "сообщение: 3 рубля  \n",
    "1 Гб интернет-трафика: 200 рублей  \n",
    "\n",
    "*Тариф «Ультра»*\n",
    "Ежемесячная плата: 1950 рублей  \n",
    "Включено 3000 минут разговора, 1000 сообщений и 30 Гб интернет-трафика  \n",
    "Стоимость услуг сверх тарифного пакета:  \n",
    "минута разговора: 1 рубль  \n",
    "сообщение: 1 рубль  \n",
    "1 Гб интернет-трафика: 150 рублей  \n",
    "*Примечание:* \n",
    "«Мегалайн» всегда округляет секунды до минут, а мегабайты — до гигабайт. Каждый звонок округляется отдельно: даже если он длился всего 1 секунду, будет засчитан как 1 минута.\n",
    "Для веб-трафика отдельные сессии не считаются. Вместо этого общая сумма за месяц округляется в бо́льшую сторону. Если абонент использует 1025 мегабайт в этом месяце, с него возьмут плату за 2 гигабайта"
   ]
  },
  {
   "cell_type": "code",
   "execution_count": 2,
   "metadata": {},
   "outputs": [],
   "source": [
    "import pandas as pd\n",
    "import matplotlib.pyplot as plt\n",
    "import numpy as np\n",
    "import warnings\n",
    "from scipy import stats as st\n",
    "import math \n",
    "warnings.filterwarnings('ignore')"
   ]
  },
  {
   "cell_type": "code",
   "execution_count": 3,
   "metadata": {
    "scrolled": false
   },
   "outputs": [
    {
     "data": {
      "text/html": [
       "<div>\n",
       "<style scoped>\n",
       "    .dataframe tbody tr th:only-of-type {\n",
       "        vertical-align: middle;\n",
       "    }\n",
       "\n",
       "    .dataframe tbody tr th {\n",
       "        vertical-align: top;\n",
       "    }\n",
       "\n",
       "    .dataframe thead th {\n",
       "        text-align: right;\n",
       "    }\n",
       "</style>\n",
       "<table border=\"1\" class=\"dataframe\">\n",
       "  <thead>\n",
       "    <tr style=\"text-align: right;\">\n",
       "      <th></th>\n",
       "      <th>user_id</th>\n",
       "      <th>age</th>\n",
       "      <th>churn_date</th>\n",
       "      <th>city</th>\n",
       "      <th>first_name</th>\n",
       "      <th>last_name</th>\n",
       "      <th>reg_date</th>\n",
       "      <th>tariff</th>\n",
       "    </tr>\n",
       "  </thead>\n",
       "  <tbody>\n",
       "    <tr>\n",
       "      <th>0</th>\n",
       "      <td>1000</td>\n",
       "      <td>52</td>\n",
       "      <td>NaN</td>\n",
       "      <td>Краснодар</td>\n",
       "      <td>Рафаил</td>\n",
       "      <td>Верещагин</td>\n",
       "      <td>2018-05-25</td>\n",
       "      <td>ultra</td>\n",
       "    </tr>\n",
       "    <tr>\n",
       "      <th>1</th>\n",
       "      <td>1001</td>\n",
       "      <td>41</td>\n",
       "      <td>NaN</td>\n",
       "      <td>Москва</td>\n",
       "      <td>Иван</td>\n",
       "      <td>Ежов</td>\n",
       "      <td>2018-11-01</td>\n",
       "      <td>smart</td>\n",
       "    </tr>\n",
       "    <tr>\n",
       "      <th>2</th>\n",
       "      <td>1002</td>\n",
       "      <td>59</td>\n",
       "      <td>NaN</td>\n",
       "      <td>Стерлитамак</td>\n",
       "      <td>Евгений</td>\n",
       "      <td>Абрамович</td>\n",
       "      <td>2018-06-17</td>\n",
       "      <td>smart</td>\n",
       "    </tr>\n",
       "    <tr>\n",
       "      <th>3</th>\n",
       "      <td>1003</td>\n",
       "      <td>23</td>\n",
       "      <td>NaN</td>\n",
       "      <td>Москва</td>\n",
       "      <td>Белла</td>\n",
       "      <td>Белякова</td>\n",
       "      <td>2018-08-17</td>\n",
       "      <td>ultra</td>\n",
       "    </tr>\n",
       "    <tr>\n",
       "      <th>4</th>\n",
       "      <td>1004</td>\n",
       "      <td>68</td>\n",
       "      <td>NaN</td>\n",
       "      <td>Новокузнецк</td>\n",
       "      <td>Татьяна</td>\n",
       "      <td>Авдеенко</td>\n",
       "      <td>2018-05-14</td>\n",
       "      <td>ultra</td>\n",
       "    </tr>\n",
       "  </tbody>\n",
       "</table>\n",
       "</div>"
      ],
      "text/plain": [
       "   user_id  age churn_date         city first_name  last_name    reg_date  \\\n",
       "0     1000   52        NaN    Краснодар     Рафаил  Верещагин  2018-05-25   \n",
       "1     1001   41        NaN       Москва       Иван       Ежов  2018-11-01   \n",
       "2     1002   59        NaN  Стерлитамак    Евгений  Абрамович  2018-06-17   \n",
       "3     1003   23        NaN       Москва      Белла   Белякова  2018-08-17   \n",
       "4     1004   68        NaN  Новокузнецк    Татьяна   Авдеенко  2018-05-14   \n",
       "\n",
       "  tariff  \n",
       "0  ultra  \n",
       "1  smart  \n",
       "2  smart  \n",
       "3  ultra  \n",
       "4  ultra  "
      ]
     },
     "metadata": {},
     "output_type": "display_data"
    },
    {
     "name": "stdout",
     "output_type": "stream",
     "text": [
      "           user_id        age\n",
      "count   500.000000  500.00000\n",
      "mean   1249.500000   46.58800\n",
      "std     144.481833   16.66763\n",
      "min    1000.000000   18.00000\n",
      "25%    1124.750000   32.00000\n",
      "50%    1249.500000   46.00000\n",
      "75%    1374.250000   62.00000\n",
      "max    1499.000000   75.00000\n"
     ]
    },
    {
     "data": {
      "text/html": [
       "<div>\n",
       "<style scoped>\n",
       "    .dataframe tbody tr th:only-of-type {\n",
       "        vertical-align: middle;\n",
       "    }\n",
       "\n",
       "    .dataframe tbody tr th {\n",
       "        vertical-align: top;\n",
       "    }\n",
       "\n",
       "    .dataframe thead th {\n",
       "        text-align: right;\n",
       "    }\n",
       "</style>\n",
       "<table border=\"1\" class=\"dataframe\">\n",
       "  <thead>\n",
       "    <tr style=\"text-align: right;\">\n",
       "      <th></th>\n",
       "      <th>id</th>\n",
       "      <th>mb_used</th>\n",
       "      <th>session_date</th>\n",
       "      <th>user_id</th>\n",
       "    </tr>\n",
       "  </thead>\n",
       "  <tbody>\n",
       "    <tr>\n",
       "      <th>0</th>\n",
       "      <td>1000_0</td>\n",
       "      <td>112.95</td>\n",
       "      <td>2018-11-25</td>\n",
       "      <td>1000</td>\n",
       "    </tr>\n",
       "    <tr>\n",
       "      <th>1</th>\n",
       "      <td>1000_1</td>\n",
       "      <td>1052.81</td>\n",
       "      <td>2018-09-07</td>\n",
       "      <td>1000</td>\n",
       "    </tr>\n",
       "    <tr>\n",
       "      <th>2</th>\n",
       "      <td>1000_2</td>\n",
       "      <td>1197.26</td>\n",
       "      <td>2018-06-25</td>\n",
       "      <td>1000</td>\n",
       "    </tr>\n",
       "    <tr>\n",
       "      <th>3</th>\n",
       "      <td>1000_3</td>\n",
       "      <td>550.27</td>\n",
       "      <td>2018-08-22</td>\n",
       "      <td>1000</td>\n",
       "    </tr>\n",
       "    <tr>\n",
       "      <th>4</th>\n",
       "      <td>1000_4</td>\n",
       "      <td>302.56</td>\n",
       "      <td>2018-09-24</td>\n",
       "      <td>1000</td>\n",
       "    </tr>\n",
       "  </tbody>\n",
       "</table>\n",
       "</div>"
      ],
      "text/plain": [
       "       id  mb_used session_date  user_id\n",
       "0  1000_0   112.95   2018-11-25     1000\n",
       "1  1000_1  1052.81   2018-09-07     1000\n",
       "2  1000_2  1197.26   2018-06-25     1000\n",
       "3  1000_3   550.27   2018-08-22     1000\n",
       "4  1000_4   302.56   2018-09-24     1000"
      ]
     },
     "metadata": {},
     "output_type": "display_data"
    },
    {
     "name": "stdout",
     "output_type": "stream",
     "text": [
      "             mb_used        user_id\n",
      "count  149396.000000  149396.000000\n",
      "mean      370.192426    1252.099842\n",
      "std       278.300951     144.050823\n",
      "min         0.000000    1000.000000\n",
      "25%       138.187500    1130.000000\n",
      "50%       348.015000    1251.000000\n",
      "75%       559.552500    1380.000000\n",
      "max      1724.830000    1499.000000\n"
     ]
    },
    {
     "data": {
      "text/html": [
       "<div>\n",
       "<style scoped>\n",
       "    .dataframe tbody tr th:only-of-type {\n",
       "        vertical-align: middle;\n",
       "    }\n",
       "\n",
       "    .dataframe tbody tr th {\n",
       "        vertical-align: top;\n",
       "    }\n",
       "\n",
       "    .dataframe thead th {\n",
       "        text-align: right;\n",
       "    }\n",
       "</style>\n",
       "<table border=\"1\" class=\"dataframe\">\n",
       "  <thead>\n",
       "    <tr style=\"text-align: right;\">\n",
       "      <th></th>\n",
       "      <th>id</th>\n",
       "      <th>call_date</th>\n",
       "      <th>duration</th>\n",
       "      <th>user_id</th>\n",
       "    </tr>\n",
       "  </thead>\n",
       "  <tbody>\n",
       "    <tr>\n",
       "      <th>0</th>\n",
       "      <td>1000_0</td>\n",
       "      <td>2018-07-25</td>\n",
       "      <td>0.00</td>\n",
       "      <td>1000</td>\n",
       "    </tr>\n",
       "    <tr>\n",
       "      <th>1</th>\n",
       "      <td>1000_1</td>\n",
       "      <td>2018-08-17</td>\n",
       "      <td>0.00</td>\n",
       "      <td>1000</td>\n",
       "    </tr>\n",
       "    <tr>\n",
       "      <th>2</th>\n",
       "      <td>1000_2</td>\n",
       "      <td>2018-06-11</td>\n",
       "      <td>2.85</td>\n",
       "      <td>1000</td>\n",
       "    </tr>\n",
       "    <tr>\n",
       "      <th>3</th>\n",
       "      <td>1000_3</td>\n",
       "      <td>2018-09-21</td>\n",
       "      <td>13.80</td>\n",
       "      <td>1000</td>\n",
       "    </tr>\n",
       "    <tr>\n",
       "      <th>4</th>\n",
       "      <td>1000_4</td>\n",
       "      <td>2018-12-15</td>\n",
       "      <td>5.18</td>\n",
       "      <td>1000</td>\n",
       "    </tr>\n",
       "  </tbody>\n",
       "</table>\n",
       "</div>"
      ],
      "text/plain": [
       "       id   call_date  duration  user_id\n",
       "0  1000_0  2018-07-25      0.00     1000\n",
       "1  1000_1  2018-08-17      0.00     1000\n",
       "2  1000_2  2018-06-11      2.85     1000\n",
       "3  1000_3  2018-09-21     13.80     1000\n",
       "4  1000_4  2018-12-15      5.18     1000"
      ]
     },
     "metadata": {},
     "output_type": "display_data"
    },
    {
     "name": "stdout",
     "output_type": "stream",
     "text": [
      "            duration        user_id\n",
      "count  202607.000000  202607.000000\n",
      "mean        6.755887    1253.940619\n",
      "std         5.843365     144.722751\n",
      "min         0.000000    1000.000000\n",
      "25%         1.300000    1126.000000\n",
      "50%         6.000000    1260.000000\n",
      "75%        10.700000    1379.000000\n",
      "max        38.000000    1499.000000\n"
     ]
    },
    {
     "data": {
      "text/html": [
       "<div>\n",
       "<style scoped>\n",
       "    .dataframe tbody tr th:only-of-type {\n",
       "        vertical-align: middle;\n",
       "    }\n",
       "\n",
       "    .dataframe tbody tr th {\n",
       "        vertical-align: top;\n",
       "    }\n",
       "\n",
       "    .dataframe thead th {\n",
       "        text-align: right;\n",
       "    }\n",
       "</style>\n",
       "<table border=\"1\" class=\"dataframe\">\n",
       "  <thead>\n",
       "    <tr style=\"text-align: right;\">\n",
       "      <th></th>\n",
       "      <th>id</th>\n",
       "      <th>message_date</th>\n",
       "      <th>user_id</th>\n",
       "    </tr>\n",
       "  </thead>\n",
       "  <tbody>\n",
       "    <tr>\n",
       "      <th>0</th>\n",
       "      <td>1000_0</td>\n",
       "      <td>2018-06-27</td>\n",
       "      <td>1000</td>\n",
       "    </tr>\n",
       "    <tr>\n",
       "      <th>1</th>\n",
       "      <td>1000_1</td>\n",
       "      <td>2018-10-08</td>\n",
       "      <td>1000</td>\n",
       "    </tr>\n",
       "    <tr>\n",
       "      <th>2</th>\n",
       "      <td>1000_2</td>\n",
       "      <td>2018-08-04</td>\n",
       "      <td>1000</td>\n",
       "    </tr>\n",
       "    <tr>\n",
       "      <th>3</th>\n",
       "      <td>1000_3</td>\n",
       "      <td>2018-06-16</td>\n",
       "      <td>1000</td>\n",
       "    </tr>\n",
       "    <tr>\n",
       "      <th>4</th>\n",
       "      <td>1000_4</td>\n",
       "      <td>2018-12-05</td>\n",
       "      <td>1000</td>\n",
       "    </tr>\n",
       "  </tbody>\n",
       "</table>\n",
       "</div>"
      ],
      "text/plain": [
       "       id message_date  user_id\n",
       "0  1000_0   2018-06-27     1000\n",
       "1  1000_1   2018-10-08     1000\n",
       "2  1000_2   2018-08-04     1000\n",
       "3  1000_3   2018-06-16     1000\n",
       "4  1000_4   2018-12-05     1000"
      ]
     },
     "metadata": {},
     "output_type": "display_data"
    },
    {
     "name": "stdout",
     "output_type": "stream",
     "text": [
      "             user_id\n",
      "count  123036.000000\n",
      "mean     1256.989410\n",
      "std       143.523967\n",
      "min      1000.000000\n",
      "25%      1134.000000\n",
      "50%      1271.000000\n",
      "75%      1381.000000\n",
      "max      1499.000000\n"
     ]
    },
    {
     "data": {
      "text/html": [
       "<div>\n",
       "<style scoped>\n",
       "    .dataframe tbody tr th:only-of-type {\n",
       "        vertical-align: middle;\n",
       "    }\n",
       "\n",
       "    .dataframe tbody tr th {\n",
       "        vertical-align: top;\n",
       "    }\n",
       "\n",
       "    .dataframe thead th {\n",
       "        text-align: right;\n",
       "    }\n",
       "</style>\n",
       "<table border=\"1\" class=\"dataframe\">\n",
       "  <thead>\n",
       "    <tr style=\"text-align: right;\">\n",
       "      <th></th>\n",
       "      <th>messages_included</th>\n",
       "      <th>mb_per_month_included</th>\n",
       "      <th>minutes_included</th>\n",
       "      <th>rub_monthly_fee</th>\n",
       "      <th>rub_per_gb</th>\n",
       "      <th>rub_per_message</th>\n",
       "      <th>rub_per_minute</th>\n",
       "      <th>tariff_name</th>\n",
       "    </tr>\n",
       "  </thead>\n",
       "  <tbody>\n",
       "    <tr>\n",
       "      <th>0</th>\n",
       "      <td>50</td>\n",
       "      <td>15360</td>\n",
       "      <td>500</td>\n",
       "      <td>550</td>\n",
       "      <td>200</td>\n",
       "      <td>3</td>\n",
       "      <td>3</td>\n",
       "      <td>smart</td>\n",
       "    </tr>\n",
       "    <tr>\n",
       "      <th>1</th>\n",
       "      <td>1000</td>\n",
       "      <td>30720</td>\n",
       "      <td>3000</td>\n",
       "      <td>1950</td>\n",
       "      <td>150</td>\n",
       "      <td>1</td>\n",
       "      <td>1</td>\n",
       "      <td>ultra</td>\n",
       "    </tr>\n",
       "  </tbody>\n",
       "</table>\n",
       "</div>"
      ],
      "text/plain": [
       "   messages_included  mb_per_month_included  minutes_included  \\\n",
       "0                 50                  15360               500   \n",
       "1               1000                  30720              3000   \n",
       "\n",
       "   rub_monthly_fee  rub_per_gb  rub_per_message  rub_per_minute tariff_name  \n",
       "0              550         200                3               3       smart  \n",
       "1             1950         150                1               1       ultra  "
      ]
     },
     "metadata": {},
     "output_type": "display_data"
    },
    {
     "name": "stdout",
     "output_type": "stream",
     "text": [
      "       messages_included  mb_per_month_included  minutes_included  \\\n",
      "count           2.000000               2.000000          2.000000   \n",
      "mean          525.000000           23040.000000       1750.000000   \n",
      "std           671.751442           10861.160159       1767.766953   \n",
      "min            50.000000           15360.000000        500.000000   \n",
      "25%           287.500000           19200.000000       1125.000000   \n",
      "50%           525.000000           23040.000000       1750.000000   \n",
      "75%           762.500000           26880.000000       2375.000000   \n",
      "max          1000.000000           30720.000000       3000.000000   \n",
      "\n",
      "       rub_monthly_fee  rub_per_gb  rub_per_message  rub_per_minute  \n",
      "count         2.000000    2.000000         2.000000        2.000000  \n",
      "mean       1250.000000  175.000000         2.000000        2.000000  \n",
      "std         989.949494   35.355339         1.414214        1.414214  \n",
      "min         550.000000  150.000000         1.000000        1.000000  \n",
      "25%         900.000000  162.500000         1.500000        1.500000  \n",
      "50%        1250.000000  175.000000         2.000000        2.000000  \n",
      "75%        1600.000000  187.500000         2.500000        2.500000  \n",
      "max        1950.000000  200.000000         3.000000        3.000000  \n"
     ]
    }
   ],
   "source": [
    "internet = pd.read_csv('/Users/alexey_zalesov/Desktop/ya_prakrikum/ds/datasets/internet.csv', sep=',', index_col=0)\n",
    "calls = pd.read_csv('/Users/alexey_zalesov/Desktop/ya_prakrikum/ds/datasets/calls.csv', sep=',')\n",
    "messages = pd.read_csv('/Users/alexey_zalesov/Desktop/ya_prakrikum/ds/datasets/messages.csv', sep=',')\n",
    "users = pd.read_csv('/Users/alexey_zalesov/Desktop/ya_prakrikum/ds/datasets/users.csv', sep=',')\n",
    "tariffs = pd.read_csv('/Users/alexey_zalesov/Desktop/ya_prakrikum/ds/datasets/tariffs.csv', sep=',')\n",
    "\n",
    "\n",
    "\n",
    "display(users.head())\n",
    "print(users.describe())\n",
    "\n",
    "display(internet.head())\n",
    "print(internet.describe())\n",
    "\n",
    "display(calls.head())\n",
    "print(calls.describe())\n",
    "\n",
    "display(messages.head())\n",
    "print(messages.describe())\n",
    "\n",
    "display(tariffs.head())\n",
    "print(tariffs.describe())\n",
    "\n"
   ]
  },
  {
   "cell_type": "markdown",
   "metadata": {},
   "source": [
    "## Подготавливаем данные:\n",
    "Для этого:\n",
    "* \t\tПриведим данные к нужным типам;\n",
    "* \t\tЧистим данные (в данных есть звонки с нулевой продолжительностью. Это не ошибка: нулями обозначены пропущенные звонки, поэтому их не нужно удалять)\n"
   ]
  },
  {
   "cell_type": "code",
   "execution_count": 21,
   "metadata": {},
   "outputs": [
    {
     "data": {
      "text/html": [
       "<div>\n",
       "<style scoped>\n",
       "    .dataframe tbody tr th:only-of-type {\n",
       "        vertical-align: middle;\n",
       "    }\n",
       "\n",
       "    .dataframe tbody tr th {\n",
       "        vertical-align: top;\n",
       "    }\n",
       "\n",
       "    .dataframe thead th {\n",
       "        text-align: right;\n",
       "    }\n",
       "</style>\n",
       "<table border=\"1\" class=\"dataframe\">\n",
       "  <thead>\n",
       "    <tr style=\"text-align: right;\">\n",
       "      <th></th>\n",
       "      <th>id</th>\n",
       "      <th>mb_used</th>\n",
       "      <th>session_date</th>\n",
       "      <th>user_id</th>\n",
       "      <th>month</th>\n",
       "    </tr>\n",
       "  </thead>\n",
       "  <tbody>\n",
       "    <tr>\n",
       "      <th>0</th>\n",
       "      <td>1000_0</td>\n",
       "      <td>112.95</td>\n",
       "      <td>2018-11-25</td>\n",
       "      <td>1000</td>\n",
       "      <td>11</td>\n",
       "    </tr>\n",
       "    <tr>\n",
       "      <th>1</th>\n",
       "      <td>1000_1</td>\n",
       "      <td>1052.81</td>\n",
       "      <td>2018-09-07</td>\n",
       "      <td>1000</td>\n",
       "      <td>9</td>\n",
       "    </tr>\n",
       "    <tr>\n",
       "      <th>2</th>\n",
       "      <td>1000_2</td>\n",
       "      <td>1197.26</td>\n",
       "      <td>2018-06-25</td>\n",
       "      <td>1000</td>\n",
       "      <td>6</td>\n",
       "    </tr>\n",
       "    <tr>\n",
       "      <th>3</th>\n",
       "      <td>1000_3</td>\n",
       "      <td>550.27</td>\n",
       "      <td>2018-08-22</td>\n",
       "      <td>1000</td>\n",
       "      <td>8</td>\n",
       "    </tr>\n",
       "    <tr>\n",
       "      <th>4</th>\n",
       "      <td>1000_4</td>\n",
       "      <td>302.56</td>\n",
       "      <td>2018-09-24</td>\n",
       "      <td>1000</td>\n",
       "      <td>9</td>\n",
       "    </tr>\n",
       "  </tbody>\n",
       "</table>\n",
       "</div>"
      ],
      "text/plain": [
       "       id  mb_used session_date  user_id  month\n",
       "0  1000_0   112.95   2018-11-25     1000     11\n",
       "1  1000_1  1052.81   2018-09-07     1000      9\n",
       "2  1000_2  1197.26   2018-06-25     1000      6\n",
       "3  1000_3   550.27   2018-08-22     1000      8\n",
       "4  1000_4   302.56   2018-09-24     1000      9"
      ]
     },
     "metadata": {},
     "output_type": "display_data"
    },
    {
     "name": "stdout",
     "output_type": "stream",
     "text": [
      "0.00      19598\n",
      "197.56        9\n",
      "447.30        9\n",
      "335.91        9\n",
      "108.95        8\n",
      "Name: mb_used, dtype: int64\n",
      "0.0    19598\n",
      "Name: mb_used, dtype: int64 Количество пропусков в столбце \"mb_used\"\n"
     ]
    },
    {
     "data": {
      "text/html": [
       "<div>\n",
       "<style scoped>\n",
       "    .dataframe tbody tr th:only-of-type {\n",
       "        vertical-align: middle;\n",
       "    }\n",
       "\n",
       "    .dataframe tbody tr th {\n",
       "        vertical-align: top;\n",
       "    }\n",
       "\n",
       "    .dataframe thead th {\n",
       "        text-align: right;\n",
       "    }\n",
       "</style>\n",
       "<table border=\"1\" class=\"dataframe\">\n",
       "  <thead>\n",
       "    <tr style=\"text-align: right;\">\n",
       "      <th></th>\n",
       "      <th>id</th>\n",
       "      <th>mb_used</th>\n",
       "      <th>session_date</th>\n",
       "      <th>user_id</th>\n",
       "      <th>month</th>\n",
       "    </tr>\n",
       "  </thead>\n",
       "  <tbody>\n",
       "    <tr>\n",
       "      <th>0</th>\n",
       "      <td>1000_0</td>\n",
       "      <td>112.95</td>\n",
       "      <td>2018-11-25</td>\n",
       "      <td>1000</td>\n",
       "      <td>11</td>\n",
       "    </tr>\n",
       "    <tr>\n",
       "      <th>1</th>\n",
       "      <td>1000_1</td>\n",
       "      <td>1052.81</td>\n",
       "      <td>2018-09-07</td>\n",
       "      <td>1000</td>\n",
       "      <td>9</td>\n",
       "    </tr>\n",
       "    <tr>\n",
       "      <th>2</th>\n",
       "      <td>1000_2</td>\n",
       "      <td>1197.26</td>\n",
       "      <td>2018-06-25</td>\n",
       "      <td>1000</td>\n",
       "      <td>6</td>\n",
       "    </tr>\n",
       "    <tr>\n",
       "      <th>3</th>\n",
       "      <td>1000_3</td>\n",
       "      <td>550.27</td>\n",
       "      <td>2018-08-22</td>\n",
       "      <td>1000</td>\n",
       "      <td>8</td>\n",
       "    </tr>\n",
       "    <tr>\n",
       "      <th>4</th>\n",
       "      <td>1000_4</td>\n",
       "      <td>302.56</td>\n",
       "      <td>2018-09-24</td>\n",
       "      <td>1000</td>\n",
       "      <td>9</td>\n",
       "    </tr>\n",
       "  </tbody>\n",
       "</table>\n",
       "</div>"
      ],
      "text/plain": [
       "       id  mb_used session_date  user_id  month\n",
       "0  1000_0   112.95   2018-11-25     1000     11\n",
       "1  1000_1  1052.81   2018-09-07     1000      9\n",
       "2  1000_2  1197.26   2018-06-25     1000      6\n",
       "3  1000_3   550.27   2018-08-22     1000      8\n",
       "4  1000_4   302.56   2018-09-24     1000      9"
      ]
     },
     "metadata": {},
     "output_type": "display_data"
    }
   ],
   "source": [
    "tariffs.set_axis(['messages_included', 'mb_per_month_included', 'minutes_included', 'rub_monthly_fee', 'rub_per_gb',\n",
    "                 'rub_per_message', 'rub_per_minute', 'tariff'],\n",
    "                  axis='columns', inplace=True )\n",
    "\n",
    "calls['duration'] = np.ceil(calls['duration'])\n",
    "\n",
    "\n",
    "\n",
    "display(internet.head())\n",
    "\n",
    "\n",
    "\n",
    "\n",
    "\n",
    "print(internet['mb_used'].value_counts().head())\n",
    "print(internet['mb_used'].value_counts().head(1), 'Количество пропусков в столбце \"mb_used\"')\n",
    "\n",
    "\n",
    "#internet =  internet.drop(columns = 'Unnamed: 0')\n",
    "#удалили пустой столбец - дублировал номер строк - скорее всего, ошибка выгрузки\n",
    "\n",
    "\n",
    "\n",
    "display(internet.head())\n"
   ]
  },
  {
   "cell_type": "markdown",
   "metadata": {},
   "source": [
    "19598 нулевых значений в столбце 'mb_used' таблицы \"internet\". Возможно, это те дни, когда пользователь по какой-либо причине не пользовался интернетом, но при выгрузке данных был поставлен \"0\" как со звонками. Их почти 1/7 от общих данных, предалагаю их просто оставить. "
   ]
  },
  {
   "cell_type": "code",
   "execution_count": 5,
   "metadata": {},
   "outputs": [
    {
     "data": {
      "text/html": [
       "<div>\n",
       "<style scoped>\n",
       "    .dataframe tbody tr th:only-of-type {\n",
       "        vertical-align: middle;\n",
       "    }\n",
       "\n",
       "    .dataframe tbody tr th {\n",
       "        vertical-align: top;\n",
       "    }\n",
       "\n",
       "    .dataframe thead th {\n",
       "        text-align: right;\n",
       "    }\n",
       "</style>\n",
       "<table border=\"1\" class=\"dataframe\">\n",
       "  <thead>\n",
       "    <tr style=\"text-align: right;\">\n",
       "      <th></th>\n",
       "      <th>user_id</th>\n",
       "      <th>month</th>\n",
       "      <th>duration</th>\n",
       "    </tr>\n",
       "  </thead>\n",
       "  <tbody>\n",
       "    <tr>\n",
       "      <th>0</th>\n",
       "      <td>1000</td>\n",
       "      <td>5</td>\n",
       "      <td>22</td>\n",
       "    </tr>\n",
       "    <tr>\n",
       "      <th>1</th>\n",
       "      <td>1000</td>\n",
       "      <td>6</td>\n",
       "      <td>43</td>\n",
       "    </tr>\n",
       "    <tr>\n",
       "      <th>2</th>\n",
       "      <td>1000</td>\n",
       "      <td>7</td>\n",
       "      <td>47</td>\n",
       "    </tr>\n",
       "    <tr>\n",
       "      <th>3</th>\n",
       "      <td>1000</td>\n",
       "      <td>8</td>\n",
       "      <td>52</td>\n",
       "    </tr>\n",
       "    <tr>\n",
       "      <th>4</th>\n",
       "      <td>1000</td>\n",
       "      <td>9</td>\n",
       "      <td>58</td>\n",
       "    </tr>\n",
       "    <tr>\n",
       "      <th>5</th>\n",
       "      <td>1000</td>\n",
       "      <td>10</td>\n",
       "      <td>57</td>\n",
       "    </tr>\n",
       "    <tr>\n",
       "      <th>6</th>\n",
       "      <td>1000</td>\n",
       "      <td>11</td>\n",
       "      <td>43</td>\n",
       "    </tr>\n",
       "    <tr>\n",
       "      <th>7</th>\n",
       "      <td>1000</td>\n",
       "      <td>12</td>\n",
       "      <td>46</td>\n",
       "    </tr>\n",
       "    <tr>\n",
       "      <th>8</th>\n",
       "      <td>1001</td>\n",
       "      <td>11</td>\n",
       "      <td>59</td>\n",
       "    </tr>\n",
       "    <tr>\n",
       "      <th>9</th>\n",
       "      <td>1001</td>\n",
       "      <td>12</td>\n",
       "      <td>63</td>\n",
       "    </tr>\n",
       "    <tr>\n",
       "      <th>10</th>\n",
       "      <td>1002</td>\n",
       "      <td>6</td>\n",
       "      <td>15</td>\n",
       "    </tr>\n",
       "    <tr>\n",
       "      <th>11</th>\n",
       "      <td>1002</td>\n",
       "      <td>7</td>\n",
       "      <td>26</td>\n",
       "    </tr>\n",
       "    <tr>\n",
       "      <th>12</th>\n",
       "      <td>1002</td>\n",
       "      <td>8</td>\n",
       "      <td>42</td>\n",
       "    </tr>\n",
       "    <tr>\n",
       "      <th>13</th>\n",
       "      <td>1002</td>\n",
       "      <td>9</td>\n",
       "      <td>36</td>\n",
       "    </tr>\n",
       "    <tr>\n",
       "      <th>14</th>\n",
       "      <td>1002</td>\n",
       "      <td>10</td>\n",
       "      <td>33</td>\n",
       "    </tr>\n",
       "  </tbody>\n",
       "</table>\n",
       "</div>"
      ],
      "text/plain": [
       "    user_id  month  duration\n",
       "0      1000      5        22\n",
       "1      1000      6        43\n",
       "2      1000      7        47\n",
       "3      1000      8        52\n",
       "4      1000      9        58\n",
       "5      1000     10        57\n",
       "6      1000     11        43\n",
       "7      1000     12        46\n",
       "8      1001     11        59\n",
       "9      1001     12        63\n",
       "10     1002      6        15\n",
       "11     1002      7        26\n",
       "12     1002      8        42\n",
       "13     1002      9        36\n",
       "14     1002     10        33"
      ]
     },
     "metadata": {},
     "output_type": "display_data"
    }
   ],
   "source": [
    "#print(internet['mb_used'].isna().sum())\n",
    "\n",
    "                        \n",
    "calls['month'] = pd.DatetimeIndex(calls['call_date']).month\n",
    "\n",
    "internet['month'] = pd.DatetimeIndex(internet['session_date']).month\n",
    "\n",
    "messages['month'] = pd.DatetimeIndex(messages['message_date']).month\n",
    "\n",
    "call_count = calls.pivot_table(index = ['user_id', 'month'] , values = 'duration', aggfunc ='count').reset_index()\n",
    "display(call_count.head(15))\n",
    "#количество звонков по месяцам каждого пользователя \n",
    "\n"
   ]
  },
  {
   "cell_type": "code",
   "execution_count": 6,
   "metadata": {},
   "outputs": [],
   "source": [
    "\n",
    "call_sum = calls.pivot_table(index = ['user_id', 'month'] , values = 'duration', aggfunc ='sum').reset_index()\n",
    "#display(call_sum.head(15))\n",
    "#суммарное количество минут по месяцам каждого пользователя \n",
    "\n",
    "messages_count = messages.pivot_table(index = ['user_id', 'month'], values='id', aggfunc = 'count').reset_index()\n",
    "#количество отправленных сообщений каждым пользователем по месяцам\n",
    "\n",
    "internet_trafic = internet.pivot_table(index=['user_id','month'], values='mb_used', aggfunc='sum').reset_index()\n",
    "#количество трафика по каждому абоненту по месяцам \n",
    "#print(internet_trafic)\n",
    "\n",
    "total_pivot = call_count.merge(call_sum, on=('user_id', 'month') ,  how='outer').merge(\n",
    "    messages_count, how='outer', on=('user_id','month')).merge(internet_trafic, how='outer',on=('user_id','month'))\n",
    "\n",
    "\n",
    "\n",
    "total_pivot.set_axis(['user_id', 'month', 'calls_count', 'calls_duration', 'messages_count', 'mb_used' ] \n",
    "                     ,axis='columns', inplace=True )\n"
   ]
  },
  {
   "cell_type": "code",
   "execution_count": 7,
   "metadata": {},
   "outputs": [
    {
     "name": "stdout",
     "output_type": "stream",
     "text": [
      "55305267.73 Количество мегабайт в итоговой таблице\n",
      "55305267.73 Количество мегабайт в первоначальной таблице\n",
      "Все верно\n"
     ]
    }
   ],
   "source": [
    "\n",
    "#total_pivot = total_pivot.dropna(subset =['calls_count', 'calls_duration', 'messages_count'])\n",
    "#раньше отбрасывал значения, теперь заменяю их нулями. \n",
    "\n",
    "\n",
    "total_pivot= total_pivot.fillna(0)\n",
    "#раньше отбрасывал значения, теперь заменяю их нулями. \n",
    "\n",
    "\n",
    "users_for_tab = users[['user_id', 'tariff']]\n",
    "\n",
    "\n",
    "total_pivot = total_pivot.merge(users_for_tab, how='outer', on = 'user_id' ).reset_index()\n",
    "\n",
    "## проверяем количество мегабайт\n",
    "\n",
    "print(total_pivot['mb_used'].sum(), 'Количество мегабайт в итоговой таблице')\n",
    "print(internet['mb_used'].sum(), 'Количество мегабайт в первоначальной таблице')\n",
    "print('Все верно')\n",
    "\n",
    "\n",
    "\n",
    "total_pivot =  total_pivot.drop(columns = 'index')\n",
    "\n",
    "total_pivot['gb_used'] = total_pivot['mb_used']/1024\n",
    "\n",
    "total_pivot['gb_used'] = np.ceil(total_pivot['gb_used'])\n",
    "\n",
    "\n",
    "#display(total_pivot.head(50))\n",
    "#проверка значений - NaN заменились на 0\n",
    "\n",
    "\n",
    "\n"
   ]
  },
  {
   "cell_type": "code",
   "execution_count": 8,
   "metadata": {},
   "outputs": [
    {
     "name": "stdout",
     "output_type": "stream",
     "text": [
      "<class 'pandas.core.frame.DataFrame'>\n",
      "RangeIndex: 3216 entries, 0 to 3215\n",
      "Data columns (total 16 columns):\n",
      " #   Column                 Non-Null Count  Dtype  \n",
      "---  ------                 --------------  -----  \n",
      " 0   index                  3216 non-null   int64  \n",
      " 1   user_id                3216 non-null   int64  \n",
      " 2   month                  3214 non-null   float64\n",
      " 3   calls_count            3214 non-null   float64\n",
      " 4   calls_duration         3214 non-null   float64\n",
      " 5   messages_count         3214 non-null   float64\n",
      " 6   mb_used                3214 non-null   float64\n",
      " 7   tariff                 3216 non-null   object \n",
      " 8   gb_used                3214 non-null   float64\n",
      " 9   messages_included      3216 non-null   int64  \n",
      " 10  mb_per_month_included  3216 non-null   int64  \n",
      " 11  minutes_included       3216 non-null   int64  \n",
      " 12  rub_monthly_fee        3216 non-null   int64  \n",
      " 13  rub_per_gb             3216 non-null   int64  \n",
      " 14  rub_per_message        3216 non-null   int64  \n",
      " 15  rub_per_minute         3216 non-null   int64  \n",
      "dtypes: float64(6), int64(9), object(1)\n",
      "memory usage: 402.1+ KB\n",
      "\n",
      "500 Количество идентификаторов пользователей в итоговой таблице\n",
      "500 Количество идентификаторов пользователей в первоначальной таблице\n",
      "Все верно\n"
     ]
    },
    {
     "data": {
      "text/html": [
       "<div>\n",
       "<style scoped>\n",
       "    .dataframe tbody tr th:only-of-type {\n",
       "        vertical-align: middle;\n",
       "    }\n",
       "\n",
       "    .dataframe tbody tr th {\n",
       "        vertical-align: top;\n",
       "    }\n",
       "\n",
       "    .dataframe thead th {\n",
       "        text-align: right;\n",
       "    }\n",
       "</style>\n",
       "<table border=\"1\" class=\"dataframe\">\n",
       "  <thead>\n",
       "    <tr style=\"text-align: right;\">\n",
       "      <th></th>\n",
       "      <th>id</th>\n",
       "      <th>call_date</th>\n",
       "      <th>duration</th>\n",
       "      <th>user_id</th>\n",
       "      <th>month</th>\n",
       "    </tr>\n",
       "  </thead>\n",
       "  <tbody>\n",
       "    <tr>\n",
       "      <th>0</th>\n",
       "      <td>1000_0</td>\n",
       "      <td>2018-07-25</td>\n",
       "      <td>0.0</td>\n",
       "      <td>1000</td>\n",
       "      <td>7</td>\n",
       "    </tr>\n",
       "    <tr>\n",
       "      <th>1</th>\n",
       "      <td>1000_1</td>\n",
       "      <td>2018-08-17</td>\n",
       "      <td>0.0</td>\n",
       "      <td>1000</td>\n",
       "      <td>8</td>\n",
       "    </tr>\n",
       "    <tr>\n",
       "      <th>2</th>\n",
       "      <td>1000_2</td>\n",
       "      <td>2018-06-11</td>\n",
       "      <td>3.0</td>\n",
       "      <td>1000</td>\n",
       "      <td>6</td>\n",
       "    </tr>\n",
       "    <tr>\n",
       "      <th>3</th>\n",
       "      <td>1000_3</td>\n",
       "      <td>2018-09-21</td>\n",
       "      <td>14.0</td>\n",
       "      <td>1000</td>\n",
       "      <td>9</td>\n",
       "    </tr>\n",
       "    <tr>\n",
       "      <th>4</th>\n",
       "      <td>1000_4</td>\n",
       "      <td>2018-12-15</td>\n",
       "      <td>6.0</td>\n",
       "      <td>1000</td>\n",
       "      <td>12</td>\n",
       "    </tr>\n",
       "  </tbody>\n",
       "</table>\n",
       "</div>"
      ],
      "text/plain": [
       "       id   call_date  duration  user_id  month\n",
       "0  1000_0  2018-07-25       0.0     1000      7\n",
       "1  1000_1  2018-08-17       0.0     1000      8\n",
       "2  1000_2  2018-06-11       3.0     1000      6\n",
       "3  1000_3  2018-09-21      14.0     1000      9\n",
       "4  1000_4  2018-12-15       6.0     1000     12"
      ]
     },
     "metadata": {},
     "output_type": "display_data"
    },
    {
     "name": "stdout",
     "output_type": "stream",
     "text": [
      "123036.0 Количество сообщений в итоговой таблице\n",
      "123036 Количество идентификаторов сообщений в таблице \"Messages\"\n",
      "Все верно!\n",
      "\n",
      "1450301.0 Количество сообщений в итоговой таблице\n",
      "1450301.0 Сумма минут звонков в первоначальной таблице\n",
      "Все верно!\n"
     ]
    }
   ],
   "source": [
    "total_pivot = total_pivot.merge(tariffs ,on = 'tariff', how='outer').reset_index()\n",
    "\n",
    "total_pivot.info()\n",
    "\n",
    "#display(total_pivot.head())\n",
    "print()\n",
    "print(total_pivot['user_id'].nunique(), 'Количество идентификаторов пользователей в итоговой таблице')\n",
    "#total_user_id = calls['user_id'].count()+internet[user_id].count()+\n",
    "print(users['user_id'].nunique(), 'Количество идентификаторов пользователей в первоначальной таблице')\n",
    "print('Все верно')\n",
    "display(calls.head())\n",
    "\n",
    "print(total_pivot['messages_count'].sum(), 'Количество сообщений в итоговой таблице')\n",
    "print(messages['id'].count(), 'Количество идентификаторов сообщений в таблице \"Messages\"')\n",
    "print('Все верно!\\n')\n",
    "\n",
    "print(total_pivot['calls_duration'].sum(), 'Количество сообщений в итоговой таблице')\n",
    "print(calls['duration'].sum(), 'Сумма минут звонков в первоначальной таблице')\n",
    "print('Все верно!')"
   ]
  },
  {
   "cell_type": "code",
   "execution_count": 9,
   "metadata": {},
   "outputs": [
    {
     "data": {
      "text/html": [
       "<div>\n",
       "<style scoped>\n",
       "    .dataframe tbody tr th:only-of-type {\n",
       "        vertical-align: middle;\n",
       "    }\n",
       "\n",
       "    .dataframe tbody tr th {\n",
       "        vertical-align: top;\n",
       "    }\n",
       "\n",
       "    .dataframe thead th {\n",
       "        text-align: right;\n",
       "    }\n",
       "</style>\n",
       "<table border=\"1\" class=\"dataframe\">\n",
       "  <thead>\n",
       "    <tr style=\"text-align: right;\">\n",
       "      <th></th>\n",
       "      <th>user_id</th>\n",
       "      <th>month</th>\n",
       "      <th>calls_count</th>\n",
       "      <th>calls_duration</th>\n",
       "      <th>messages_count</th>\n",
       "      <th>mb_used</th>\n",
       "      <th>tariff</th>\n",
       "      <th>gb_used</th>\n",
       "      <th>messages_included</th>\n",
       "      <th>mb_per_month_included</th>\n",
       "      <th>minutes_included</th>\n",
       "      <th>rub_monthly_fee</th>\n",
       "      <th>rub_per_gb</th>\n",
       "      <th>rub_per_message</th>\n",
       "      <th>rub_per_minute</th>\n",
       "      <th>revenue_perr_month</th>\n",
       "    </tr>\n",
       "  </thead>\n",
       "  <tbody>\n",
       "    <tr>\n",
       "      <th>0</th>\n",
       "      <td>1000</td>\n",
       "      <td>5.0</td>\n",
       "      <td>22.0</td>\n",
       "      <td>159.0</td>\n",
       "      <td>22.0</td>\n",
       "      <td>2253.49</td>\n",
       "      <td>ultra</td>\n",
       "      <td>3.0</td>\n",
       "      <td>1000</td>\n",
       "      <td>30720</td>\n",
       "      <td>3000</td>\n",
       "      <td>1950</td>\n",
       "      <td>150</td>\n",
       "      <td>1</td>\n",
       "      <td>1</td>\n",
       "      <td>1950.0</td>\n",
       "    </tr>\n",
       "    <tr>\n",
       "      <th>1</th>\n",
       "      <td>1000</td>\n",
       "      <td>6.0</td>\n",
       "      <td>43.0</td>\n",
       "      <td>172.0</td>\n",
       "      <td>60.0</td>\n",
       "      <td>23233.77</td>\n",
       "      <td>ultra</td>\n",
       "      <td>23.0</td>\n",
       "      <td>1000</td>\n",
       "      <td>30720</td>\n",
       "      <td>3000</td>\n",
       "      <td>1950</td>\n",
       "      <td>150</td>\n",
       "      <td>1</td>\n",
       "      <td>1</td>\n",
       "      <td>1950.0</td>\n",
       "    </tr>\n",
       "    <tr>\n",
       "      <th>2</th>\n",
       "      <td>1000</td>\n",
       "      <td>7.0</td>\n",
       "      <td>47.0</td>\n",
       "      <td>340.0</td>\n",
       "      <td>75.0</td>\n",
       "      <td>14003.64</td>\n",
       "      <td>ultra</td>\n",
       "      <td>14.0</td>\n",
       "      <td>1000</td>\n",
       "      <td>30720</td>\n",
       "      <td>3000</td>\n",
       "      <td>1950</td>\n",
       "      <td>150</td>\n",
       "      <td>1</td>\n",
       "      <td>1</td>\n",
       "      <td>1950.0</td>\n",
       "    </tr>\n",
       "    <tr>\n",
       "      <th>3</th>\n",
       "      <td>1000</td>\n",
       "      <td>8.0</td>\n",
       "      <td>52.0</td>\n",
       "      <td>408.0</td>\n",
       "      <td>81.0</td>\n",
       "      <td>14055.93</td>\n",
       "      <td>ultra</td>\n",
       "      <td>14.0</td>\n",
       "      <td>1000</td>\n",
       "      <td>30720</td>\n",
       "      <td>3000</td>\n",
       "      <td>1950</td>\n",
       "      <td>150</td>\n",
       "      <td>1</td>\n",
       "      <td>1</td>\n",
       "      <td>1950.0</td>\n",
       "    </tr>\n",
       "    <tr>\n",
       "      <th>4</th>\n",
       "      <td>1000</td>\n",
       "      <td>9.0</td>\n",
       "      <td>58.0</td>\n",
       "      <td>466.0</td>\n",
       "      <td>57.0</td>\n",
       "      <td>14568.91</td>\n",
       "      <td>ultra</td>\n",
       "      <td>15.0</td>\n",
       "      <td>1000</td>\n",
       "      <td>30720</td>\n",
       "      <td>3000</td>\n",
       "      <td>1950</td>\n",
       "      <td>150</td>\n",
       "      <td>1</td>\n",
       "      <td>1</td>\n",
       "      <td>1950.0</td>\n",
       "    </tr>\n",
       "    <tr>\n",
       "      <th>5</th>\n",
       "      <td>1000</td>\n",
       "      <td>10.0</td>\n",
       "      <td>57.0</td>\n",
       "      <td>350.0</td>\n",
       "      <td>73.0</td>\n",
       "      <td>14702.49</td>\n",
       "      <td>ultra</td>\n",
       "      <td>15.0</td>\n",
       "      <td>1000</td>\n",
       "      <td>30720</td>\n",
       "      <td>3000</td>\n",
       "      <td>1950</td>\n",
       "      <td>150</td>\n",
       "      <td>1</td>\n",
       "      <td>1</td>\n",
       "      <td>1950.0</td>\n",
       "    </tr>\n",
       "    <tr>\n",
       "      <th>6</th>\n",
       "      <td>1000</td>\n",
       "      <td>11.0</td>\n",
       "      <td>43.0</td>\n",
       "      <td>338.0</td>\n",
       "      <td>58.0</td>\n",
       "      <td>14756.47</td>\n",
       "      <td>ultra</td>\n",
       "      <td>15.0</td>\n",
       "      <td>1000</td>\n",
       "      <td>30720</td>\n",
       "      <td>3000</td>\n",
       "      <td>1950</td>\n",
       "      <td>150</td>\n",
       "      <td>1</td>\n",
       "      <td>1</td>\n",
       "      <td>1950.0</td>\n",
       "    </tr>\n",
       "    <tr>\n",
       "      <th>7</th>\n",
       "      <td>1000</td>\n",
       "      <td>12.0</td>\n",
       "      <td>46.0</td>\n",
       "      <td>333.0</td>\n",
       "      <td>70.0</td>\n",
       "      <td>9817.61</td>\n",
       "      <td>ultra</td>\n",
       "      <td>10.0</td>\n",
       "      <td>1000</td>\n",
       "      <td>30720</td>\n",
       "      <td>3000</td>\n",
       "      <td>1950</td>\n",
       "      <td>150</td>\n",
       "      <td>1</td>\n",
       "      <td>1</td>\n",
       "      <td>1950.0</td>\n",
       "    </tr>\n",
       "    <tr>\n",
       "      <th>8</th>\n",
       "      <td>1003</td>\n",
       "      <td>8.0</td>\n",
       "      <td>55.0</td>\n",
       "      <td>380.0</td>\n",
       "      <td>37.0</td>\n",
       "      <td>8565.21</td>\n",
       "      <td>ultra</td>\n",
       "      <td>9.0</td>\n",
       "      <td>1000</td>\n",
       "      <td>30720</td>\n",
       "      <td>3000</td>\n",
       "      <td>1950</td>\n",
       "      <td>150</td>\n",
       "      <td>1</td>\n",
       "      <td>1</td>\n",
       "      <td>1950.0</td>\n",
       "    </tr>\n",
       "    <tr>\n",
       "      <th>9</th>\n",
       "      <td>1003</td>\n",
       "      <td>9.0</td>\n",
       "      <td>134.0</td>\n",
       "      <td>961.0</td>\n",
       "      <td>91.0</td>\n",
       "      <td>12468.87</td>\n",
       "      <td>ultra</td>\n",
       "      <td>13.0</td>\n",
       "      <td>1000</td>\n",
       "      <td>30720</td>\n",
       "      <td>3000</td>\n",
       "      <td>1950</td>\n",
       "      <td>150</td>\n",
       "      <td>1</td>\n",
       "      <td>1</td>\n",
       "      <td>1950.0</td>\n",
       "    </tr>\n",
       "    <tr>\n",
       "      <th>10</th>\n",
       "      <td>1003</td>\n",
       "      <td>10.0</td>\n",
       "      <td>108.0</td>\n",
       "      <td>855.0</td>\n",
       "      <td>83.0</td>\n",
       "      <td>14768.14</td>\n",
       "      <td>ultra</td>\n",
       "      <td>15.0</td>\n",
       "      <td>1000</td>\n",
       "      <td>30720</td>\n",
       "      <td>3000</td>\n",
       "      <td>1950</td>\n",
       "      <td>150</td>\n",
       "      <td>1</td>\n",
       "      <td>1</td>\n",
       "      <td>1950.0</td>\n",
       "    </tr>\n",
       "    <tr>\n",
       "      <th>11</th>\n",
       "      <td>1003</td>\n",
       "      <td>11.0</td>\n",
       "      <td>115.0</td>\n",
       "      <td>824.0</td>\n",
       "      <td>94.0</td>\n",
       "      <td>11356.89</td>\n",
       "      <td>ultra</td>\n",
       "      <td>12.0</td>\n",
       "      <td>1000</td>\n",
       "      <td>30720</td>\n",
       "      <td>3000</td>\n",
       "      <td>1950</td>\n",
       "      <td>150</td>\n",
       "      <td>1</td>\n",
       "      <td>1</td>\n",
       "      <td>1950.0</td>\n",
       "    </tr>\n",
       "    <tr>\n",
       "      <th>12</th>\n",
       "      <td>1003</td>\n",
       "      <td>12.0</td>\n",
       "      <td>108.0</td>\n",
       "      <td>802.0</td>\n",
       "      <td>75.0</td>\n",
       "      <td>10121.53</td>\n",
       "      <td>ultra</td>\n",
       "      <td>10.0</td>\n",
       "      <td>1000</td>\n",
       "      <td>30720</td>\n",
       "      <td>3000</td>\n",
       "      <td>1950</td>\n",
       "      <td>150</td>\n",
       "      <td>1</td>\n",
       "      <td>1</td>\n",
       "      <td>1950.0</td>\n",
       "    </tr>\n",
       "    <tr>\n",
       "      <th>13</th>\n",
       "      <td>1004</td>\n",
       "      <td>5.0</td>\n",
       "      <td>9.0</td>\n",
       "      <td>35.0</td>\n",
       "      <td>95.0</td>\n",
       "      <td>13403.98</td>\n",
       "      <td>ultra</td>\n",
       "      <td>14.0</td>\n",
       "      <td>1000</td>\n",
       "      <td>30720</td>\n",
       "      <td>3000</td>\n",
       "      <td>1950</td>\n",
       "      <td>150</td>\n",
       "      <td>1</td>\n",
       "      <td>1</td>\n",
       "      <td>1950.0</td>\n",
       "    </tr>\n",
       "    <tr>\n",
       "      <th>14</th>\n",
       "      <td>1004</td>\n",
       "      <td>6.0</td>\n",
       "      <td>31.0</td>\n",
       "      <td>171.0</td>\n",
       "      <td>134.0</td>\n",
       "      <td>17600.02</td>\n",
       "      <td>ultra</td>\n",
       "      <td>18.0</td>\n",
       "      <td>1000</td>\n",
       "      <td>30720</td>\n",
       "      <td>3000</td>\n",
       "      <td>1950</td>\n",
       "      <td>150</td>\n",
       "      <td>1</td>\n",
       "      <td>1</td>\n",
       "      <td>1950.0</td>\n",
       "    </tr>\n",
       "    <tr>\n",
       "      <th>15</th>\n",
       "      <td>1004</td>\n",
       "      <td>7.0</td>\n",
       "      <td>22.0</td>\n",
       "      <td>135.0</td>\n",
       "      <td>181.0</td>\n",
       "      <td>22229.58</td>\n",
       "      <td>ultra</td>\n",
       "      <td>22.0</td>\n",
       "      <td>1000</td>\n",
       "      <td>30720</td>\n",
       "      <td>3000</td>\n",
       "      <td>1950</td>\n",
       "      <td>150</td>\n",
       "      <td>1</td>\n",
       "      <td>1</td>\n",
       "      <td>1950.0</td>\n",
       "    </tr>\n",
       "    <tr>\n",
       "      <th>16</th>\n",
       "      <td>1004</td>\n",
       "      <td>8.0</td>\n",
       "      <td>19.0</td>\n",
       "      <td>137.0</td>\n",
       "      <td>151.0</td>\n",
       "      <td>28584.37</td>\n",
       "      <td>ultra</td>\n",
       "      <td>28.0</td>\n",
       "      <td>1000</td>\n",
       "      <td>30720</td>\n",
       "      <td>3000</td>\n",
       "      <td>1950</td>\n",
       "      <td>150</td>\n",
       "      <td>1</td>\n",
       "      <td>1</td>\n",
       "      <td>1950.0</td>\n",
       "    </tr>\n",
       "    <tr>\n",
       "      <th>17</th>\n",
       "      <td>1004</td>\n",
       "      <td>9.0</td>\n",
       "      <td>26.0</td>\n",
       "      <td>117.0</td>\n",
       "      <td>146.0</td>\n",
       "      <td>15109.03</td>\n",
       "      <td>ultra</td>\n",
       "      <td>15.0</td>\n",
       "      <td>1000</td>\n",
       "      <td>30720</td>\n",
       "      <td>3000</td>\n",
       "      <td>1950</td>\n",
       "      <td>150</td>\n",
       "      <td>1</td>\n",
       "      <td>1</td>\n",
       "      <td>1950.0</td>\n",
       "    </tr>\n",
       "    <tr>\n",
       "      <th>18</th>\n",
       "      <td>1004</td>\n",
       "      <td>10.0</td>\n",
       "      <td>29.0</td>\n",
       "      <td>145.0</td>\n",
       "      <td>165.0</td>\n",
       "      <td>18475.44</td>\n",
       "      <td>ultra</td>\n",
       "      <td>19.0</td>\n",
       "      <td>1000</td>\n",
       "      <td>30720</td>\n",
       "      <td>3000</td>\n",
       "      <td>1950</td>\n",
       "      <td>150</td>\n",
       "      <td>1</td>\n",
       "      <td>1</td>\n",
       "      <td>1950.0</td>\n",
       "    </tr>\n",
       "    <tr>\n",
       "      <th>19</th>\n",
       "      <td>1004</td>\n",
       "      <td>11.0</td>\n",
       "      <td>19.0</td>\n",
       "      <td>117.0</td>\n",
       "      <td>158.0</td>\n",
       "      <td>15616.02</td>\n",
       "      <td>ultra</td>\n",
       "      <td>16.0</td>\n",
       "      <td>1000</td>\n",
       "      <td>30720</td>\n",
       "      <td>3000</td>\n",
       "      <td>1950</td>\n",
       "      <td>150</td>\n",
       "      <td>1</td>\n",
       "      <td>1</td>\n",
       "      <td>1950.0</td>\n",
       "    </tr>\n",
       "    <tr>\n",
       "      <th>20</th>\n",
       "      <td>1004</td>\n",
       "      <td>12.0</td>\n",
       "      <td>21.0</td>\n",
       "      <td>130.0</td>\n",
       "      <td>162.0</td>\n",
       "      <td>18021.04</td>\n",
       "      <td>ultra</td>\n",
       "      <td>18.0</td>\n",
       "      <td>1000</td>\n",
       "      <td>30720</td>\n",
       "      <td>3000</td>\n",
       "      <td>1950</td>\n",
       "      <td>150</td>\n",
       "      <td>1</td>\n",
       "      <td>1</td>\n",
       "      <td>1950.0</td>\n",
       "    </tr>\n",
       "    <tr>\n",
       "      <th>21</th>\n",
       "      <td>1013</td>\n",
       "      <td>11.0</td>\n",
       "      <td>52.0</td>\n",
       "      <td>369.0</td>\n",
       "      <td>17.0</td>\n",
       "      <td>9780.03</td>\n",
       "      <td>ultra</td>\n",
       "      <td>10.0</td>\n",
       "      <td>1000</td>\n",
       "      <td>30720</td>\n",
       "      <td>3000</td>\n",
       "      <td>1950</td>\n",
       "      <td>150</td>\n",
       "      <td>1</td>\n",
       "      <td>1</td>\n",
       "      <td>1950.0</td>\n",
       "    </tr>\n",
       "    <tr>\n",
       "      <th>22</th>\n",
       "      <td>1013</td>\n",
       "      <td>12.0</td>\n",
       "      <td>90.0</td>\n",
       "      <td>567.0</td>\n",
       "      <td>25.0</td>\n",
       "      <td>20737.13</td>\n",
       "      <td>ultra</td>\n",
       "      <td>21.0</td>\n",
       "      <td>1000</td>\n",
       "      <td>30720</td>\n",
       "      <td>3000</td>\n",
       "      <td>1950</td>\n",
       "      <td>150</td>\n",
       "      <td>1</td>\n",
       "      <td>1</td>\n",
       "      <td>1950.0</td>\n",
       "    </tr>\n",
       "    <tr>\n",
       "      <th>23</th>\n",
       "      <td>1016</td>\n",
       "      <td>11.0</td>\n",
       "      <td>4.0</td>\n",
       "      <td>28.0</td>\n",
       "      <td>39.0</td>\n",
       "      <td>7382.23</td>\n",
       "      <td>ultra</td>\n",
       "      <td>8.0</td>\n",
       "      <td>1000</td>\n",
       "      <td>30720</td>\n",
       "      <td>3000</td>\n",
       "      <td>1950</td>\n",
       "      <td>150</td>\n",
       "      <td>1</td>\n",
       "      <td>1</td>\n",
       "      <td>1950.0</td>\n",
       "    </tr>\n",
       "    <tr>\n",
       "      <th>24</th>\n",
       "      <td>1016</td>\n",
       "      <td>12.0</td>\n",
       "      <td>16.0</td>\n",
       "      <td>94.0</td>\n",
       "      <td>103.0</td>\n",
       "      <td>19428.21</td>\n",
       "      <td>ultra</td>\n",
       "      <td>19.0</td>\n",
       "      <td>1000</td>\n",
       "      <td>30720</td>\n",
       "      <td>3000</td>\n",
       "      <td>1950</td>\n",
       "      <td>150</td>\n",
       "      <td>1</td>\n",
       "      <td>1</td>\n",
       "      <td>1950.0</td>\n",
       "    </tr>\n",
       "    <tr>\n",
       "      <th>25</th>\n",
       "      <td>1018</td>\n",
       "      <td>4.0</td>\n",
       "      <td>85.0</td>\n",
       "      <td>636.0</td>\n",
       "      <td>34.0</td>\n",
       "      <td>5622.08</td>\n",
       "      <td>ultra</td>\n",
       "      <td>6.0</td>\n",
       "      <td>1000</td>\n",
       "      <td>30720</td>\n",
       "      <td>3000</td>\n",
       "      <td>1950</td>\n",
       "      <td>150</td>\n",
       "      <td>1</td>\n",
       "      <td>1</td>\n",
       "      <td>1950.0</td>\n",
       "    </tr>\n",
       "    <tr>\n",
       "      <th>26</th>\n",
       "      <td>1018</td>\n",
       "      <td>5.0</td>\n",
       "      <td>80.0</td>\n",
       "      <td>507.0</td>\n",
       "      <td>30.0</td>\n",
       "      <td>5042.33</td>\n",
       "      <td>ultra</td>\n",
       "      <td>5.0</td>\n",
       "      <td>1000</td>\n",
       "      <td>30720</td>\n",
       "      <td>3000</td>\n",
       "      <td>1950</td>\n",
       "      <td>150</td>\n",
       "      <td>1</td>\n",
       "      <td>1</td>\n",
       "      <td>1950.0</td>\n",
       "    </tr>\n",
       "    <tr>\n",
       "      <th>27</th>\n",
       "      <td>1018</td>\n",
       "      <td>6.0</td>\n",
       "      <td>96.0</td>\n",
       "      <td>679.0</td>\n",
       "      <td>24.0</td>\n",
       "      <td>11277.34</td>\n",
       "      <td>ultra</td>\n",
       "      <td>12.0</td>\n",
       "      <td>1000</td>\n",
       "      <td>30720</td>\n",
       "      <td>3000</td>\n",
       "      <td>1950</td>\n",
       "      <td>150</td>\n",
       "      <td>1</td>\n",
       "      <td>1</td>\n",
       "      <td>1950.0</td>\n",
       "    </tr>\n",
       "    <tr>\n",
       "      <th>28</th>\n",
       "      <td>1018</td>\n",
       "      <td>7.0</td>\n",
       "      <td>105.0</td>\n",
       "      <td>760.0</td>\n",
       "      <td>25.0</td>\n",
       "      <td>6334.28</td>\n",
       "      <td>ultra</td>\n",
       "      <td>7.0</td>\n",
       "      <td>1000</td>\n",
       "      <td>30720</td>\n",
       "      <td>3000</td>\n",
       "      <td>1950</td>\n",
       "      <td>150</td>\n",
       "      <td>1</td>\n",
       "      <td>1</td>\n",
       "      <td>1950.0</td>\n",
       "    </tr>\n",
       "    <tr>\n",
       "      <th>29</th>\n",
       "      <td>1018</td>\n",
       "      <td>8.0</td>\n",
       "      <td>115.0</td>\n",
       "      <td>929.0</td>\n",
       "      <td>20.0</td>\n",
       "      <td>8643.84</td>\n",
       "      <td>ultra</td>\n",
       "      <td>9.0</td>\n",
       "      <td>1000</td>\n",
       "      <td>30720</td>\n",
       "      <td>3000</td>\n",
       "      <td>1950</td>\n",
       "      <td>150</td>\n",
       "      <td>1</td>\n",
       "      <td>1</td>\n",
       "      <td>1950.0</td>\n",
       "    </tr>\n",
       "    <tr>\n",
       "      <th>30</th>\n",
       "      <td>1018</td>\n",
       "      <td>9.0</td>\n",
       "      <td>81.0</td>\n",
       "      <td>520.0</td>\n",
       "      <td>21.0</td>\n",
       "      <td>7510.08</td>\n",
       "      <td>ultra</td>\n",
       "      <td>8.0</td>\n",
       "      <td>1000</td>\n",
       "      <td>30720</td>\n",
       "      <td>3000</td>\n",
       "      <td>1950</td>\n",
       "      <td>150</td>\n",
       "      <td>1</td>\n",
       "      <td>1</td>\n",
       "      <td>1950.0</td>\n",
       "    </tr>\n",
       "    <tr>\n",
       "      <th>31</th>\n",
       "      <td>1018</td>\n",
       "      <td>10.0</td>\n",
       "      <td>78.0</td>\n",
       "      <td>503.0</td>\n",
       "      <td>26.0</td>\n",
       "      <td>7497.18</td>\n",
       "      <td>ultra</td>\n",
       "      <td>8.0</td>\n",
       "      <td>1000</td>\n",
       "      <td>30720</td>\n",
       "      <td>3000</td>\n",
       "      <td>1950</td>\n",
       "      <td>150</td>\n",
       "      <td>1</td>\n",
       "      <td>1</td>\n",
       "      <td>1950.0</td>\n",
       "    </tr>\n",
       "    <tr>\n",
       "      <th>32</th>\n",
       "      <td>1018</td>\n",
       "      <td>11.0</td>\n",
       "      <td>96.0</td>\n",
       "      <td>685.0</td>\n",
       "      <td>17.0</td>\n",
       "      <td>4691.67</td>\n",
       "      <td>ultra</td>\n",
       "      <td>5.0</td>\n",
       "      <td>1000</td>\n",
       "      <td>30720</td>\n",
       "      <td>3000</td>\n",
       "      <td>1950</td>\n",
       "      <td>150</td>\n",
       "      <td>1</td>\n",
       "      <td>1</td>\n",
       "      <td>1950.0</td>\n",
       "    </tr>\n",
       "    <tr>\n",
       "      <th>33</th>\n",
       "      <td>1018</td>\n",
       "      <td>12.0</td>\n",
       "      <td>110.0</td>\n",
       "      <td>839.0</td>\n",
       "      <td>37.0</td>\n",
       "      <td>5426.56</td>\n",
       "      <td>ultra</td>\n",
       "      <td>6.0</td>\n",
       "      <td>1000</td>\n",
       "      <td>30720</td>\n",
       "      <td>3000</td>\n",
       "      <td>1950</td>\n",
       "      <td>150</td>\n",
       "      <td>1</td>\n",
       "      <td>1</td>\n",
       "      <td>1950.0</td>\n",
       "    </tr>\n",
       "    <tr>\n",
       "      <th>34</th>\n",
       "      <td>1019</td>\n",
       "      <td>5.0</td>\n",
       "      <td>37.0</td>\n",
       "      <td>300.0</td>\n",
       "      <td>21.0</td>\n",
       "      <td>10272.31</td>\n",
       "      <td>ultra</td>\n",
       "      <td>11.0</td>\n",
       "      <td>1000</td>\n",
       "      <td>30720</td>\n",
       "      <td>3000</td>\n",
       "      <td>1950</td>\n",
       "      <td>150</td>\n",
       "      <td>1</td>\n",
       "      <td>1</td>\n",
       "      <td>1950.0</td>\n",
       "    </tr>\n",
       "    <tr>\n",
       "      <th>35</th>\n",
       "      <td>1019</td>\n",
       "      <td>6.0</td>\n",
       "      <td>52.0</td>\n",
       "      <td>386.0</td>\n",
       "      <td>25.0</td>\n",
       "      <td>22201.17</td>\n",
       "      <td>ultra</td>\n",
       "      <td>22.0</td>\n",
       "      <td>1000</td>\n",
       "      <td>30720</td>\n",
       "      <td>3000</td>\n",
       "      <td>1950</td>\n",
       "      <td>150</td>\n",
       "      <td>1</td>\n",
       "      <td>1</td>\n",
       "      <td>1950.0</td>\n",
       "    </tr>\n",
       "    <tr>\n",
       "      <th>36</th>\n",
       "      <td>1019</td>\n",
       "      <td>7.0</td>\n",
       "      <td>60.0</td>\n",
       "      <td>453.0</td>\n",
       "      <td>16.0</td>\n",
       "      <td>18306.41</td>\n",
       "      <td>ultra</td>\n",
       "      <td>18.0</td>\n",
       "      <td>1000</td>\n",
       "      <td>30720</td>\n",
       "      <td>3000</td>\n",
       "      <td>1950</td>\n",
       "      <td>150</td>\n",
       "      <td>1</td>\n",
       "      <td>1</td>\n",
       "      <td>1950.0</td>\n",
       "    </tr>\n",
       "    <tr>\n",
       "      <th>37</th>\n",
       "      <td>1019</td>\n",
       "      <td>8.0</td>\n",
       "      <td>47.0</td>\n",
       "      <td>360.0</td>\n",
       "      <td>19.0</td>\n",
       "      <td>28000.90</td>\n",
       "      <td>ultra</td>\n",
       "      <td>28.0</td>\n",
       "      <td>1000</td>\n",
       "      <td>30720</td>\n",
       "      <td>3000</td>\n",
       "      <td>1950</td>\n",
       "      <td>150</td>\n",
       "      <td>1</td>\n",
       "      <td>1</td>\n",
       "      <td>1950.0</td>\n",
       "    </tr>\n",
       "    <tr>\n",
       "      <th>38</th>\n",
       "      <td>1019</td>\n",
       "      <td>9.0</td>\n",
       "      <td>84.0</td>\n",
       "      <td>519.0</td>\n",
       "      <td>21.0</td>\n",
       "      <td>16080.39</td>\n",
       "      <td>ultra</td>\n",
       "      <td>16.0</td>\n",
       "      <td>1000</td>\n",
       "      <td>30720</td>\n",
       "      <td>3000</td>\n",
       "      <td>1950</td>\n",
       "      <td>150</td>\n",
       "      <td>1</td>\n",
       "      <td>1</td>\n",
       "      <td>1950.0</td>\n",
       "    </tr>\n",
       "    <tr>\n",
       "      <th>39</th>\n",
       "      <td>1019</td>\n",
       "      <td>10.0</td>\n",
       "      <td>10.0</td>\n",
       "      <td>95.0</td>\n",
       "      <td>8.0</td>\n",
       "      <td>621.63</td>\n",
       "      <td>ultra</td>\n",
       "      <td>1.0</td>\n",
       "      <td>1000</td>\n",
       "      <td>30720</td>\n",
       "      <td>3000</td>\n",
       "      <td>1950</td>\n",
       "      <td>150</td>\n",
       "      <td>1</td>\n",
       "      <td>1</td>\n",
       "      <td>1950.0</td>\n",
       "    </tr>\n",
       "    <tr>\n",
       "      <th>40</th>\n",
       "      <td>1021</td>\n",
       "      <td>4.0</td>\n",
       "      <td>15.0</td>\n",
       "      <td>90.0</td>\n",
       "      <td>13.0</td>\n",
       "      <td>4353.73</td>\n",
       "      <td>ultra</td>\n",
       "      <td>5.0</td>\n",
       "      <td>1000</td>\n",
       "      <td>30720</td>\n",
       "      <td>3000</td>\n",
       "      <td>1950</td>\n",
       "      <td>150</td>\n",
       "      <td>1</td>\n",
       "      <td>1</td>\n",
       "      <td>1950.0</td>\n",
       "    </tr>\n",
       "    <tr>\n",
       "      <th>41</th>\n",
       "      <td>1021</td>\n",
       "      <td>5.0</td>\n",
       "      <td>146.0</td>\n",
       "      <td>989.0</td>\n",
       "      <td>101.0</td>\n",
       "      <td>16090.15</td>\n",
       "      <td>ultra</td>\n",
       "      <td>16.0</td>\n",
       "      <td>1000</td>\n",
       "      <td>30720</td>\n",
       "      <td>3000</td>\n",
       "      <td>1950</td>\n",
       "      <td>150</td>\n",
       "      <td>1</td>\n",
       "      <td>1</td>\n",
       "      <td>1950.0</td>\n",
       "    </tr>\n",
       "    <tr>\n",
       "      <th>42</th>\n",
       "      <td>1021</td>\n",
       "      <td>6.0</td>\n",
       "      <td>136.0</td>\n",
       "      <td>948.0</td>\n",
       "      <td>101.0</td>\n",
       "      <td>22268.86</td>\n",
       "      <td>ultra</td>\n",
       "      <td>22.0</td>\n",
       "      <td>1000</td>\n",
       "      <td>30720</td>\n",
       "      <td>3000</td>\n",
       "      <td>1950</td>\n",
       "      <td>150</td>\n",
       "      <td>1</td>\n",
       "      <td>1</td>\n",
       "      <td>1950.0</td>\n",
       "    </tr>\n",
       "    <tr>\n",
       "      <th>43</th>\n",
       "      <td>1021</td>\n",
       "      <td>7.0</td>\n",
       "      <td>158.0</td>\n",
       "      <td>1197.0</td>\n",
       "      <td>103.0</td>\n",
       "      <td>20018.76</td>\n",
       "      <td>ultra</td>\n",
       "      <td>20.0</td>\n",
       "      <td>1000</td>\n",
       "      <td>30720</td>\n",
       "      <td>3000</td>\n",
       "      <td>1950</td>\n",
       "      <td>150</td>\n",
       "      <td>1</td>\n",
       "      <td>1</td>\n",
       "      <td>1950.0</td>\n",
       "    </tr>\n",
       "    <tr>\n",
       "      <th>44</th>\n",
       "      <td>1021</td>\n",
       "      <td>8.0</td>\n",
       "      <td>165.0</td>\n",
       "      <td>1000.0</td>\n",
       "      <td>93.0</td>\n",
       "      <td>17477.19</td>\n",
       "      <td>ultra</td>\n",
       "      <td>18.0</td>\n",
       "      <td>1000</td>\n",
       "      <td>30720</td>\n",
       "      <td>3000</td>\n",
       "      <td>1950</td>\n",
       "      <td>150</td>\n",
       "      <td>1</td>\n",
       "      <td>1</td>\n",
       "      <td>1950.0</td>\n",
       "    </tr>\n",
       "    <tr>\n",
       "      <th>45</th>\n",
       "      <td>1021</td>\n",
       "      <td>9.0</td>\n",
       "      <td>150.0</td>\n",
       "      <td>1115.0</td>\n",
       "      <td>113.0</td>\n",
       "      <td>18301.74</td>\n",
       "      <td>ultra</td>\n",
       "      <td>18.0</td>\n",
       "      <td>1000</td>\n",
       "      <td>30720</td>\n",
       "      <td>3000</td>\n",
       "      <td>1950</td>\n",
       "      <td>150</td>\n",
       "      <td>1</td>\n",
       "      <td>1</td>\n",
       "      <td>1950.0</td>\n",
       "    </tr>\n",
       "    <tr>\n",
       "      <th>46</th>\n",
       "      <td>1021</td>\n",
       "      <td>10.0</td>\n",
       "      <td>162.0</td>\n",
       "      <td>1024.0</td>\n",
       "      <td>106.0</td>\n",
       "      <td>20211.17</td>\n",
       "      <td>ultra</td>\n",
       "      <td>20.0</td>\n",
       "      <td>1000</td>\n",
       "      <td>30720</td>\n",
       "      <td>3000</td>\n",
       "      <td>1950</td>\n",
       "      <td>150</td>\n",
       "      <td>1</td>\n",
       "      <td>1</td>\n",
       "      <td>1950.0</td>\n",
       "    </tr>\n",
       "    <tr>\n",
       "      <th>47</th>\n",
       "      <td>1021</td>\n",
       "      <td>11.0</td>\n",
       "      <td>137.0</td>\n",
       "      <td>993.0</td>\n",
       "      <td>94.0</td>\n",
       "      <td>28174.51</td>\n",
       "      <td>ultra</td>\n",
       "      <td>28.0</td>\n",
       "      <td>1000</td>\n",
       "      <td>30720</td>\n",
       "      <td>3000</td>\n",
       "      <td>1950</td>\n",
       "      <td>150</td>\n",
       "      <td>1</td>\n",
       "      <td>1</td>\n",
       "      <td>1950.0</td>\n",
       "    </tr>\n",
       "    <tr>\n",
       "      <th>48</th>\n",
       "      <td>1021</td>\n",
       "      <td>12.0</td>\n",
       "      <td>155.0</td>\n",
       "      <td>962.0</td>\n",
       "      <td>77.0</td>\n",
       "      <td>27627.72</td>\n",
       "      <td>ultra</td>\n",
       "      <td>27.0</td>\n",
       "      <td>1000</td>\n",
       "      <td>30720</td>\n",
       "      <td>3000</td>\n",
       "      <td>1950</td>\n",
       "      <td>150</td>\n",
       "      <td>1</td>\n",
       "      <td>1</td>\n",
       "      <td>1950.0</td>\n",
       "    </tr>\n",
       "    <tr>\n",
       "      <th>49</th>\n",
       "      <td>1024</td>\n",
       "      <td>10.0</td>\n",
       "      <td>7.0</td>\n",
       "      <td>79.0</td>\n",
       "      <td>0.0</td>\n",
       "      <td>3310.05</td>\n",
       "      <td>ultra</td>\n",
       "      <td>4.0</td>\n",
       "      <td>1000</td>\n",
       "      <td>30720</td>\n",
       "      <td>3000</td>\n",
       "      <td>1950</td>\n",
       "      <td>150</td>\n",
       "      <td>1</td>\n",
       "      <td>1</td>\n",
       "      <td>1950.0</td>\n",
       "    </tr>\n",
       "  </tbody>\n",
       "</table>\n",
       "</div>"
      ],
      "text/plain": [
       "    user_id  month  calls_count  calls_duration  messages_count   mb_used  \\\n",
       "0      1000    5.0         22.0           159.0            22.0   2253.49   \n",
       "1      1000    6.0         43.0           172.0            60.0  23233.77   \n",
       "2      1000    7.0         47.0           340.0            75.0  14003.64   \n",
       "3      1000    8.0         52.0           408.0            81.0  14055.93   \n",
       "4      1000    9.0         58.0           466.0            57.0  14568.91   \n",
       "5      1000   10.0         57.0           350.0            73.0  14702.49   \n",
       "6      1000   11.0         43.0           338.0            58.0  14756.47   \n",
       "7      1000   12.0         46.0           333.0            70.0   9817.61   \n",
       "8      1003    8.0         55.0           380.0            37.0   8565.21   \n",
       "9      1003    9.0        134.0           961.0            91.0  12468.87   \n",
       "10     1003   10.0        108.0           855.0            83.0  14768.14   \n",
       "11     1003   11.0        115.0           824.0            94.0  11356.89   \n",
       "12     1003   12.0        108.0           802.0            75.0  10121.53   \n",
       "13     1004    5.0          9.0            35.0            95.0  13403.98   \n",
       "14     1004    6.0         31.0           171.0           134.0  17600.02   \n",
       "15     1004    7.0         22.0           135.0           181.0  22229.58   \n",
       "16     1004    8.0         19.0           137.0           151.0  28584.37   \n",
       "17     1004    9.0         26.0           117.0           146.0  15109.03   \n",
       "18     1004   10.0         29.0           145.0           165.0  18475.44   \n",
       "19     1004   11.0         19.0           117.0           158.0  15616.02   \n",
       "20     1004   12.0         21.0           130.0           162.0  18021.04   \n",
       "21     1013   11.0         52.0           369.0            17.0   9780.03   \n",
       "22     1013   12.0         90.0           567.0            25.0  20737.13   \n",
       "23     1016   11.0          4.0            28.0            39.0   7382.23   \n",
       "24     1016   12.0         16.0            94.0           103.0  19428.21   \n",
       "25     1018    4.0         85.0           636.0            34.0   5622.08   \n",
       "26     1018    5.0         80.0           507.0            30.0   5042.33   \n",
       "27     1018    6.0         96.0           679.0            24.0  11277.34   \n",
       "28     1018    7.0        105.0           760.0            25.0   6334.28   \n",
       "29     1018    8.0        115.0           929.0            20.0   8643.84   \n",
       "30     1018    9.0         81.0           520.0            21.0   7510.08   \n",
       "31     1018   10.0         78.0           503.0            26.0   7497.18   \n",
       "32     1018   11.0         96.0           685.0            17.0   4691.67   \n",
       "33     1018   12.0        110.0           839.0            37.0   5426.56   \n",
       "34     1019    5.0         37.0           300.0            21.0  10272.31   \n",
       "35     1019    6.0         52.0           386.0            25.0  22201.17   \n",
       "36     1019    7.0         60.0           453.0            16.0  18306.41   \n",
       "37     1019    8.0         47.0           360.0            19.0  28000.90   \n",
       "38     1019    9.0         84.0           519.0            21.0  16080.39   \n",
       "39     1019   10.0         10.0            95.0             8.0    621.63   \n",
       "40     1021    4.0         15.0            90.0            13.0   4353.73   \n",
       "41     1021    5.0        146.0           989.0           101.0  16090.15   \n",
       "42     1021    6.0        136.0           948.0           101.0  22268.86   \n",
       "43     1021    7.0        158.0          1197.0           103.0  20018.76   \n",
       "44     1021    8.0        165.0          1000.0            93.0  17477.19   \n",
       "45     1021    9.0        150.0          1115.0           113.0  18301.74   \n",
       "46     1021   10.0        162.0          1024.0           106.0  20211.17   \n",
       "47     1021   11.0        137.0           993.0            94.0  28174.51   \n",
       "48     1021   12.0        155.0           962.0            77.0  27627.72   \n",
       "49     1024   10.0          7.0            79.0             0.0   3310.05   \n",
       "\n",
       "   tariff  gb_used  messages_included  mb_per_month_included  \\\n",
       "0   ultra      3.0               1000                  30720   \n",
       "1   ultra     23.0               1000                  30720   \n",
       "2   ultra     14.0               1000                  30720   \n",
       "3   ultra     14.0               1000                  30720   \n",
       "4   ultra     15.0               1000                  30720   \n",
       "5   ultra     15.0               1000                  30720   \n",
       "6   ultra     15.0               1000                  30720   \n",
       "7   ultra     10.0               1000                  30720   \n",
       "8   ultra      9.0               1000                  30720   \n",
       "9   ultra     13.0               1000                  30720   \n",
       "10  ultra     15.0               1000                  30720   \n",
       "11  ultra     12.0               1000                  30720   \n",
       "12  ultra     10.0               1000                  30720   \n",
       "13  ultra     14.0               1000                  30720   \n",
       "14  ultra     18.0               1000                  30720   \n",
       "15  ultra     22.0               1000                  30720   \n",
       "16  ultra     28.0               1000                  30720   \n",
       "17  ultra     15.0               1000                  30720   \n",
       "18  ultra     19.0               1000                  30720   \n",
       "19  ultra     16.0               1000                  30720   \n",
       "20  ultra     18.0               1000                  30720   \n",
       "21  ultra     10.0               1000                  30720   \n",
       "22  ultra     21.0               1000                  30720   \n",
       "23  ultra      8.0               1000                  30720   \n",
       "24  ultra     19.0               1000                  30720   \n",
       "25  ultra      6.0               1000                  30720   \n",
       "26  ultra      5.0               1000                  30720   \n",
       "27  ultra     12.0               1000                  30720   \n",
       "28  ultra      7.0               1000                  30720   \n",
       "29  ultra      9.0               1000                  30720   \n",
       "30  ultra      8.0               1000                  30720   \n",
       "31  ultra      8.0               1000                  30720   \n",
       "32  ultra      5.0               1000                  30720   \n",
       "33  ultra      6.0               1000                  30720   \n",
       "34  ultra     11.0               1000                  30720   \n",
       "35  ultra     22.0               1000                  30720   \n",
       "36  ultra     18.0               1000                  30720   \n",
       "37  ultra     28.0               1000                  30720   \n",
       "38  ultra     16.0               1000                  30720   \n",
       "39  ultra      1.0               1000                  30720   \n",
       "40  ultra      5.0               1000                  30720   \n",
       "41  ultra     16.0               1000                  30720   \n",
       "42  ultra     22.0               1000                  30720   \n",
       "43  ultra     20.0               1000                  30720   \n",
       "44  ultra     18.0               1000                  30720   \n",
       "45  ultra     18.0               1000                  30720   \n",
       "46  ultra     20.0               1000                  30720   \n",
       "47  ultra     28.0               1000                  30720   \n",
       "48  ultra     27.0               1000                  30720   \n",
       "49  ultra      4.0               1000                  30720   \n",
       "\n",
       "    minutes_included  rub_monthly_fee  rub_per_gb  rub_per_message  \\\n",
       "0               3000             1950         150                1   \n",
       "1               3000             1950         150                1   \n",
       "2               3000             1950         150                1   \n",
       "3               3000             1950         150                1   \n",
       "4               3000             1950         150                1   \n",
       "5               3000             1950         150                1   \n",
       "6               3000             1950         150                1   \n",
       "7               3000             1950         150                1   \n",
       "8               3000             1950         150                1   \n",
       "9               3000             1950         150                1   \n",
       "10              3000             1950         150                1   \n",
       "11              3000             1950         150                1   \n",
       "12              3000             1950         150                1   \n",
       "13              3000             1950         150                1   \n",
       "14              3000             1950         150                1   \n",
       "15              3000             1950         150                1   \n",
       "16              3000             1950         150                1   \n",
       "17              3000             1950         150                1   \n",
       "18              3000             1950         150                1   \n",
       "19              3000             1950         150                1   \n",
       "20              3000             1950         150                1   \n",
       "21              3000             1950         150                1   \n",
       "22              3000             1950         150                1   \n",
       "23              3000             1950         150                1   \n",
       "24              3000             1950         150                1   \n",
       "25              3000             1950         150                1   \n",
       "26              3000             1950         150                1   \n",
       "27              3000             1950         150                1   \n",
       "28              3000             1950         150                1   \n",
       "29              3000             1950         150                1   \n",
       "30              3000             1950         150                1   \n",
       "31              3000             1950         150                1   \n",
       "32              3000             1950         150                1   \n",
       "33              3000             1950         150                1   \n",
       "34              3000             1950         150                1   \n",
       "35              3000             1950         150                1   \n",
       "36              3000             1950         150                1   \n",
       "37              3000             1950         150                1   \n",
       "38              3000             1950         150                1   \n",
       "39              3000             1950         150                1   \n",
       "40              3000             1950         150                1   \n",
       "41              3000             1950         150                1   \n",
       "42              3000             1950         150                1   \n",
       "43              3000             1950         150                1   \n",
       "44              3000             1950         150                1   \n",
       "45              3000             1950         150                1   \n",
       "46              3000             1950         150                1   \n",
       "47              3000             1950         150                1   \n",
       "48              3000             1950         150                1   \n",
       "49              3000             1950         150                1   \n",
       "\n",
       "    rub_per_minute  revenue_perr_month  \n",
       "0                1              1950.0  \n",
       "1                1              1950.0  \n",
       "2                1              1950.0  \n",
       "3                1              1950.0  \n",
       "4                1              1950.0  \n",
       "5                1              1950.0  \n",
       "6                1              1950.0  \n",
       "7                1              1950.0  \n",
       "8                1              1950.0  \n",
       "9                1              1950.0  \n",
       "10               1              1950.0  \n",
       "11               1              1950.0  \n",
       "12               1              1950.0  \n",
       "13               1              1950.0  \n",
       "14               1              1950.0  \n",
       "15               1              1950.0  \n",
       "16               1              1950.0  \n",
       "17               1              1950.0  \n",
       "18               1              1950.0  \n",
       "19               1              1950.0  \n",
       "20               1              1950.0  \n",
       "21               1              1950.0  \n",
       "22               1              1950.0  \n",
       "23               1              1950.0  \n",
       "24               1              1950.0  \n",
       "25               1              1950.0  \n",
       "26               1              1950.0  \n",
       "27               1              1950.0  \n",
       "28               1              1950.0  \n",
       "29               1              1950.0  \n",
       "30               1              1950.0  \n",
       "31               1              1950.0  \n",
       "32               1              1950.0  \n",
       "33               1              1950.0  \n",
       "34               1              1950.0  \n",
       "35               1              1950.0  \n",
       "36               1              1950.0  \n",
       "37               1              1950.0  \n",
       "38               1              1950.0  \n",
       "39               1              1950.0  \n",
       "40               1              1950.0  \n",
       "41               1              1950.0  \n",
       "42               1              1950.0  \n",
       "43               1              1950.0  \n",
       "44               1              1950.0  \n",
       "45               1              1950.0  \n",
       "46               1              1950.0  \n",
       "47               1              1950.0  \n",
       "48               1              1950.0  \n",
       "49               1              1950.0  "
      ]
     },
     "metadata": {},
     "output_type": "display_data"
    }
   ],
   "source": [
    "def revenue_funtion(row):\n",
    "    result = 0\n",
    "    result+=row['rub_monthly_fee']\n",
    "    if row['messages_count'] > row['messages_included']:\n",
    "        result+=(row['messages_count']-row['messages_included'])*row['rub_per_message']\n",
    "    if row['gb_used'] > (row['mb_per_month_included']/1024):\n",
    "        result+=((row['gb_used']-(row['mb_per_month_included']/1024))*(row['rub_per_gb']))\n",
    "    if row['calls_duration']>row['minutes_included']:\n",
    "        result+=((row['calls_duration'] - row['minutes_included'])*row['rub_per_minute'])\n",
    "    return result\n",
    "\n",
    "        \n",
    "total_pivot['revenue_perr_month'] = total_pivot.apply(revenue_funtion, axis=1)\n",
    "\n",
    "\n",
    "\n",
    "\n",
    "    \n",
    "total_pivot =  total_pivot.drop(columns = 'index')\n",
    "    \n",
    "display(total_pivot.head(50))\n",
    "    "
   ]
  },
  {
   "cell_type": "markdown",
   "metadata": {},
   "source": [
    "## Проанализируем данные\n",
    "Опишите поведение клиентов оператора, исходя из выборки. Сколько минут разговора, сколько сообщений и какой объём интернет-трафика требуется пользователям каждого тарифа в месяц? Посчитайте среднее количество, дисперсию и стандартное отклонение. Постройте гистограммы. Опишите распределения.\n"
   ]
  },
  {
   "cell_type": "code",
   "execution_count": 10,
   "metadata": {},
   "outputs": [
    {
     "data": {
      "text/html": [
       "<div>\n",
       "<style scoped>\n",
       "    .dataframe tbody tr th:only-of-type {\n",
       "        vertical-align: middle;\n",
       "    }\n",
       "\n",
       "    .dataframe tbody tr th {\n",
       "        vertical-align: top;\n",
       "    }\n",
       "\n",
       "    .dataframe thead th {\n",
       "        text-align: right;\n",
       "    }\n",
       "</style>\n",
       "<table border=\"1\" class=\"dataframe\">\n",
       "  <thead>\n",
       "    <tr style=\"text-align: right;\">\n",
       "      <th></th>\n",
       "      <th>messages_included</th>\n",
       "      <th>mb_per_month_included</th>\n",
       "      <th>minutes_included</th>\n",
       "      <th>rub_monthly_fee</th>\n",
       "      <th>rub_per_gb</th>\n",
       "      <th>rub_per_message</th>\n",
       "      <th>rub_per_minute</th>\n",
       "      <th>tariff</th>\n",
       "    </tr>\n",
       "  </thead>\n",
       "  <tbody>\n",
       "    <tr>\n",
       "      <th>0</th>\n",
       "      <td>50</td>\n",
       "      <td>15360</td>\n",
       "      <td>500</td>\n",
       "      <td>550</td>\n",
       "      <td>200</td>\n",
       "      <td>3</td>\n",
       "      <td>3</td>\n",
       "      <td>smart</td>\n",
       "    </tr>\n",
       "    <tr>\n",
       "      <th>1</th>\n",
       "      <td>1000</td>\n",
       "      <td>30720</td>\n",
       "      <td>3000</td>\n",
       "      <td>1950</td>\n",
       "      <td>150</td>\n",
       "      <td>1</td>\n",
       "      <td>1</td>\n",
       "      <td>ultra</td>\n",
       "    </tr>\n",
       "  </tbody>\n",
       "</table>\n",
       "</div>"
      ],
      "text/plain": [
       "   messages_included  mb_per_month_included  minutes_included  \\\n",
       "0                 50                  15360               500   \n",
       "1               1000                  30720              3000   \n",
       "\n",
       "   rub_monthly_fee  rub_per_gb  rub_per_message  rub_per_minute tariff  \n",
       "0              550         200                3               3  smart  \n",
       "1             1950         150                1               1  ultra  "
      ]
     },
     "metadata": {},
     "output_type": "display_data"
    }
   ],
   "source": [
    "display(tariffs.head())"
   ]
  },
  {
   "cell_type": "code",
   "execution_count": 11,
   "metadata": {},
   "outputs": [
    {
     "data": {
      "image/png": "[encoded data removed]",
      "text/plain": [
       "<Figure size 576x432 with 1 Axes>"
      ]
     },
     "metadata": {
      "needs_background": "light"
     },
     "output_type": "display_data"
    },
    {
     "name": "stdout",
     "output_type": "stream",
     "text": [
      "518.0 Медиана количества минут тарифа \"Ультра\" \n",
      "\n",
      "100873.63339730089 Дисперсия количества минут тарифа \"Ультра\" \n",
      "\n",
      "317.60609785912624 Стандартное отклонение минут тарифа \"Ультра\"\n"
     ]
    }
   ],
   "source": [
    "total_pivot.query('tariff== \"ultra\" ')['calls_duration'].plot(kind='hist', grid=True, figsize=(8,6),\n",
    "                                                              title='Минуты тарифа \"Ультра\"' )\n",
    "plt.xlabel('количество минут')\n",
    "plt.show()\n",
    "\n",
    "print(total_pivot.query('tariff== \"ultra\" ')['calls_duration'].median(), 'Медиана количества минут тарифа \"Ультра\" \\n')\n",
    "\n",
    "print(total_pivot.query('tariff== \"ultra\" ')['calls_duration'].var(), 'Дисперсия количества минут тарифа \"Ультра\" \\n')\n",
    "\n",
    "print(total_pivot.query('tariff== \"ultra\" ')['calls_duration'].std(),'Стандартное отклонение минут тарифа \"Ультра\"')"
   ]
  },
  {
   "cell_type": "markdown",
   "metadata": {},
   "source": [
    "Датасет скошен вправо, есть крайние значения, вплоть до 1650. Соответственно, медиана меньше среднего. Нет пользователей, которые превышают лимит по минутам в месяц. Лишь малая часть использует более 1000 минут в месяц. Также высока доля тех, кто практически не пользуется телефонной свяью. Лимит можно сократить. \n",
    "\n",
    "\n",
    "\n"
   ]
  },
  {
   "cell_type": "code",
   "execution_count": 12,
   "metadata": {},
   "outputs": [
    {
     "data": {
      "image/png": "[encoded data removed]",
      "text/plain": [
       "<Figure size 576x432 with 1 Axes>"
      ]
     },
     "metadata": {
      "needs_background": "light"
     },
     "output_type": "display_data"
    },
    {
     "name": "stdout",
     "output_type": "stream",
     "text": [
      "38.0 Медиана количества сообщений тарифа \"Ультра\" \n",
      "\n",
      "2285.2661425446827 Дисперсия количества сообщений  тарифа \"Ультра\" \n",
      "\n",
      "47.804457350174815 Стандартное отклонение сообщений  тарифа \"Ультра\"\n"
     ]
    }
   ],
   "source": [
    "total_pivot.query('tariff== \"ultra\" ')['messages_count'].plot(kind='hist', grid=True, figsize=(8,6), \n",
    "                                                              title='Количество сообщений тарифа \"Ультра\"',\n",
    "                                                              )\n",
    "plt.xlabel('количество сообщений')\n",
    "plt.show()\n",
    "\n",
    "print(total_pivot.query('tariff== \"ultra\" ')['messages_count'].median(), 'Медиана количества сообщений тарифа \"Ультра\" \\n')\n",
    "\n",
    "print(total_pivot.query('tariff== \"ultra\" ')['messages_count'].var(), 'Дисперсия количества сообщений  тарифа \"Ультра\" \\n')\n",
    "\n",
    "print(total_pivot.query('tariff== \"ultra\" ')['messages_count'].std(),'Стандартное отклонение сообщений  тарифа \"Ультра\"')\n",
    "\n"
   ]
  },
  {
   "cell_type": "markdown",
   "metadata": {},
   "source": [
    "Никто из абонентов не превышает предоставленный лимит. Также видно, что пользователи пользуются смс-сообщениями не так активно, как звонками или интернетом. Большинство не отправляет более 100 сообщений в месяц. Скорее всего, лимит можно сократить. \n",
    "\n",
    "\n",
    "\n"
   ]
  },
  {
   "cell_type": "code",
   "execution_count": 13,
   "metadata": {},
   "outputs": [
    {
     "data": {
      "image/png": "[encoded data removed]",
      "text/plain": [
       "<Figure size 576x432 with 1 Axes>"
      ]
     },
     "metadata": {
      "needs_background": "light"
     },
     "output_type": "display_data"
    },
    {
     "name": "stdout",
     "output_type": "stream",
     "text": [
      "19308.01 Медиана трафика тарифа \"Ультра\" \n",
      "\n",
      "101751013.78335372 Дисперсия трафика тарифа \"Ультра\" \n",
      "\n",
      "10087.170752166026 Стандартное отклонение трафика тарифа \"Ультра\"\n"
     ]
    }
   ],
   "source": [
    "total_pivot.query('tariff== \"ultra\" ')['mb_used'].plot(kind='hist', grid=True, figsize=(8,6),\n",
    "                                                       title='Трафик тарифа \"Ультра\"')\n",
    "\n",
    "\n",
    "plt.xlabel('Количество мегабайт')\n",
    "plt.show()\n",
    "\n",
    "print(total_pivot.query('tariff== \"ultra\" ')['mb_used'].median(), 'Медиана трафика тарифа \"Ультра\" \\n')\n",
    "\n",
    "print(total_pivot.query('tariff== \"ultra\" ')['mb_used'].var(), 'Дисперсия трафика тарифа \"Ультра\" \\n')\n",
    "\n",
    "print(total_pivot.query('tariff== \"ultra\" ')['mb_used'].std(),'Стандартное отклонение трафика тарифа \"Ультра\"')\n",
    "\n",
    "\n",
    "\n"
   ]
  },
  {
   "cell_type": "markdown",
   "metadata": {},
   "source": [
    "Датасет смещен влево. Есть значения, превышающие установленный лимит (30720). Самый часто встречающийся промежуток - [15,000 - 20000] мегабайт. \n",
    "\n",
    "\n",
    "\n"
   ]
  },
  {
   "cell_type": "code",
   "execution_count": 14,
   "metadata": {},
   "outputs": [
    {
     "data": {
      "image/png": "[encoded data removed]",
      "text/plain": [
       "<Figure size 576x432 with 1 Axes>"
      ]
     },
     "metadata": {
      "needs_background": "light"
     },
     "output_type": "display_data"
    },
    {
     "name": "stdout",
     "output_type": "stream",
     "text": [
      "422.0 Медиана количества минут тарифа \"Смарт\" \n",
      "\n",
      "36219.315784344246 Дисперсия количества минут тарифа \"Смарт\" \n",
      "\n",
      "190.3137298892128 Стандартное отклонение минут тарифа \"Смарт\"\n"
     ]
    }
   ],
   "source": [
    "total_pivot.query('tariff== \"smart\" ')['calls_duration'].plot(kind='hist', grid=True, figsize=(8,6)\n",
    "                                                              , title='Минуты тарифа \"Смарт\" ',\n",
    "                                                             )\n",
    "\n",
    "\n",
    "plt.xlabel('Количество минут')\n",
    "plt.show()\n",
    "\n",
    "print(total_pivot.query('tariff== \"smart\" ')['calls_duration'].median(), 'Медиана количества минут тарифа \"Смарт\" \\n')\n",
    "\n",
    "print(total_pivot.query('tariff== \"smart\" ')['calls_duration'].var(), 'Дисперсия количества минут тарифа \"Смарт\" \\n')\n",
    "\n",
    "print(total_pivot.query('tariff== \"smart\" ')['calls_duration'].std(),'Стандартное отклонение минут тарифа \"Смарт\"')"
   ]
  },
  {
   "cell_type": "markdown",
   "metadata": {},
   "source": [
    "График смещен вправо, установленный лимит в 500 минут часто превышается. Есть выбросы (1300-1430)."
   ]
  },
  {
   "cell_type": "code",
   "execution_count": 15,
   "metadata": {},
   "outputs": [
    {
     "data": {
      "image/png": "[encoded data removed]",
      "text/plain": [
       "<Figure size 576x432 with 1 Axes>"
      ]
     },
     "metadata": {
      "needs_background": "light"
     },
     "output_type": "display_data"
    },
    {
     "name": "stdout",
     "output_type": "stream",
     "text": [
      "28.0 Медиана количества сообщений тарифа \"Смарт\" \n",
      "\n",
      "796.8129584480083 Дисперсия количества сообщений  тарифа \"Смарт\" \n",
      "\n",
      "28.22787555676141 Стандартное отклонение сообщений  тарифа \"Смарт\"\n"
     ]
    },
    {
     "data": {
      "text/html": [
       "<div>\n",
       "<style scoped>\n",
       "    .dataframe tbody tr th:only-of-type {\n",
       "        vertical-align: middle;\n",
       "    }\n",
       "\n",
       "    .dataframe tbody tr th {\n",
       "        vertical-align: top;\n",
       "    }\n",
       "\n",
       "    .dataframe thead th {\n",
       "        text-align: right;\n",
       "    }\n",
       "</style>\n",
       "<table border=\"1\" class=\"dataframe\">\n",
       "  <thead>\n",
       "    <tr style=\"text-align: right;\">\n",
       "      <th></th>\n",
       "      <th>messages_included</th>\n",
       "      <th>mb_per_month_included</th>\n",
       "      <th>minutes_included</th>\n",
       "      <th>rub_monthly_fee</th>\n",
       "      <th>rub_per_gb</th>\n",
       "      <th>rub_per_message</th>\n",
       "      <th>rub_per_minute</th>\n",
       "      <th>tariff</th>\n",
       "    </tr>\n",
       "  </thead>\n",
       "  <tbody>\n",
       "    <tr>\n",
       "      <th>0</th>\n",
       "      <td>50</td>\n",
       "      <td>15360</td>\n",
       "      <td>500</td>\n",
       "      <td>550</td>\n",
       "      <td>200</td>\n",
       "      <td>3</td>\n",
       "      <td>3</td>\n",
       "      <td>smart</td>\n",
       "    </tr>\n",
       "    <tr>\n",
       "      <th>1</th>\n",
       "      <td>1000</td>\n",
       "      <td>30720</td>\n",
       "      <td>3000</td>\n",
       "      <td>1950</td>\n",
       "      <td>150</td>\n",
       "      <td>1</td>\n",
       "      <td>1</td>\n",
       "      <td>ultra</td>\n",
       "    </tr>\n",
       "  </tbody>\n",
       "</table>\n",
       "</div>"
      ],
      "text/plain": [
       "   messages_included  mb_per_month_included  minutes_included  \\\n",
       "0                 50                  15360               500   \n",
       "1               1000                  30720              3000   \n",
       "\n",
       "   rub_monthly_fee  rub_per_gb  rub_per_message  rub_per_minute tariff  \n",
       "0              550         200                3               3  smart  \n",
       "1             1950         150                1               1  ultra  "
      ]
     },
     "metadata": {},
     "output_type": "display_data"
    }
   ],
   "source": [
    "total_pivot.query('tariff== \"smart\" ')['messages_count'].plot(kind='hist', grid=True, \n",
    "                                                              figsize=(8,6),\n",
    "                                                              title='Количество сообщений тарифа \"Смарт\"',\n",
    "                                                            )\n",
    "\n",
    "plt.xlabel('Количество сообщений')\n",
    "\n",
    "plt.show()\n",
    "\n",
    "print(total_pivot.query('tariff== \"smart\" ')['messages_count'].median(), 'Медиана количества сообщений тарифа \"Смарт\" \\n')\n",
    "\n",
    "print(total_pivot.query('tariff== \"smart\" ')['messages_count'].var(), 'Дисперсия количества сообщений  тарифа \"Смарт\" \\n')\n",
    "\n",
    "print(total_pivot.query('tariff== \"smart\" ')['messages_count'].std(),'Стандартное отклонение сообщений  тарифа \"Смарт\"')\n",
    "\n",
    "\n",
    "display(tariffs.head())"
   ]
  },
  {
   "cell_type": "markdown",
   "metadata": {},
   "source": [
    "Установленный лимит в 50 сообщений часто нарушается, пользователям его не хватает. Также много тех, кто вообще не пользуется сообщениями или пользуется ими мало. "
   ]
  },
  {
   "cell_type": "code",
   "execution_count": 16,
   "metadata": {},
   "outputs": [
    {
     "data": {
      "image/png": "[encoded data removed]",
      "text/plain": [
       "<Figure size 576x432 with 1 Axes>"
      ]
     },
     "metadata": {
      "needs_background": "light"
     },
     "output_type": "display_data"
    },
    {
     "name": "stdout",
     "output_type": "stream",
     "text": [
      "16506.84 Медиана трафика тарифа \"Смарт\" \n",
      "\n",
      "34462496.462742396 Дисперсия трафика тарифа \"Смарт\" \n",
      "\n",
      "5870.476681049197 Стандартное отклонение трафика тарифа \"Смарт\"\n"
     ]
    }
   ],
   "source": [
    "total_pivot.query('tariff== \"smart\" ')['mb_used'].plot(kind='hist', grid=True, figsize=(8,6),\n",
    "                                                       title='Трафик тарифа \"Смарт\" ')\n",
    "\n",
    "plt.xlabel('Количество мегабайт')\n",
    "\n",
    "plt.show()\n",
    "\n",
    "print(total_pivot.query('tariff== \"smart\" ')['mb_used'].median(), 'Медиана трафика тарифа \"Смарт\" \\n')\n",
    "\n",
    "print(total_pivot.query('tariff== \"smart\" ')['mb_used'].var(), 'Дисперсия трафика тарифа \"Смарт\" \\n')\n",
    "\n",
    "print(total_pivot.query('tariff== \"smart\" ')['mb_used'].std(),'Стандартное отклонение трафика тарифа \"Смарт\"')\n",
    "\n",
    "\n",
    "\n",
    "\n"
   ]
  },
  {
   "cell_type": "markdown",
   "metadata": {},
   "source": [
    "Установленный лимит (15360) меньше медианы (16462). Распределение похоже на нормальное, со смещением вправо.  "
   ]
  },
  {
   "cell_type": "markdown",
   "metadata": {},
   "source": [
    "### Вывод по тарифам\n",
    "Основная разница между тарифами в том, что пользователи тарифа \"Смарт\" платят фиксированную помесячную сумму меньше пользователей тарифа \"Ультра\", но при этом значительная часть из них не укладывается в предоставленный месячный лимит и оплачивает сверх него дополнительные минуты/сообщения/трафик интернета за более высокую цену, чем пользователи тарифа \"Ультра\". Из общего - среди пользователей обоих тарифов много тех, кто совершает мало звонков или отправляет мало сообщений. Также интернетом активно пользуются многие пользователи обоих тарифов. \n"
   ]
  },
  {
   "cell_type": "markdown",
   "metadata": {},
   "source": [
    "##  Проверяем гипотезы\n",
    "### Cредняя выручка пользователей тарифов «Ультра» и «Смарт» различаются;\n",
    "Предлагаю считать за гипотезу H0, \"Среднее двух генеральных совокупностей выручек пользователей каждого из тарифа (\"Ультра\" и \"Смарт\") равны\". За альтернативную гипотезу H1 предлагаю выдвинуть \"Среднее двух генеральных совокупностей выручек пользователей каждого из тарифа (\"Ультра\" и \"Смарт\") различаются\".\n",
    "Как критерий предлагаю использовать метод stats.ttest_ind(args), который вернет вероятность того, что среднее Генеральных совокупностей выручек пользователей тарифа \"Смарт\" и \"Ультра\" совпадает, используя предоставленные выборки. \n",
    "Предлагаю поставить значение доверительного интервала в 5%"
   ]
  },
  {
   "cell_type": "code",
   "execution_count": 17,
   "metadata": {},
   "outputs": [
    {
     "name": "stdout",
     "output_type": "stream",
     "text": [
      "141387.71480935952 Дисперсия помесячной выручки пользователей тарифа \"Ультра\"\n",
      "669730.7638948115 Дисперсия помесячной выручки пользователей тарифа \"Смарт\"\n",
      "Дисперсии не совпали \n",
      "\n",
      "2070.030425963489 Среднее помесячной выручки пользователей тарифа \"Ультра\"\n",
      "1289.6417040358745 Среднее помесячной выручки пользователей тарифа \"Смарт\"\n",
      "p-значение 1.927011394420941e-250\n",
      "Отвергаем H0\n"
     ]
    }
   ],
   "source": [
    "print(total_pivot.query('tariff == \"ultra\" ' )['revenue_perr_month'].var(), 'Дисперсия помесячной выручки пользователей тарифа \"Ультра\"')\n",
    "print(total_pivot.query('tariff == \"smart\" ' )['revenue_perr_month'].var(), 'Дисперсия помесячной выручки пользователей тарифа \"Смарт\"')\n",
    "print('Дисперсии не совпали \\n')\n",
    "\n",
    "print(total_pivot.query('tariff == \"ultra\" ' )['revenue_perr_month'].mean(), 'Среднее помесячной выручки пользователей тарифа \"Ультра\"')\n",
    "print(total_pivot.query('tariff == \"smart\" ' )['revenue_perr_month'].mean(), 'Среднее помесячной выручки пользователей тарифа \"Смарт\"')\n",
    "\n",
    "\n",
    "\n",
    "\n",
    "\n",
    "\n",
    "sample_ultra_revenue = total_pivot.query('tariff == \"ultra\" ')['revenue_perr_month']\n",
    "sample_smart_revenue = total_pivot.query('tariff == \"smart\" ')['revenue_perr_month']\n",
    "\n",
    "results = st.ttest_ind(sample_ultra_revenue, sample_smart_revenue, equal_var=False)\n",
    "\n",
    "\n",
    "#добавил альфа\n",
    "\n",
    "alpha=0.05\n",
    "\n",
    "print('p-значение', results.pvalue)\n",
    "\n",
    "if results.pvalue<alpha:\n",
    "    print(\"Отвергаем H0\")\n",
    "else:\n",
    "    print(\"Не получилось отвергнуть гипотезу H0\")\n",
    "\n"
   ]
  },
  {
   "cell_type": "markdown",
   "metadata": {},
   "source": [
    "P-значение очень маленькое, вероятность того, что среднее двух выборок совпадает ничтожно мала. Предлагаю считать гипотезу H0 о равенстве средних ГС выручек пользователей тарифов \"Ультра\" и \"Смарт\" отвергнутой и принять альтернативную гипотезу H1, о различии средних двух генеральных совокупностей выручек пользователей каждого из тарифа (\"Ультра\" и \"Смарт\").\n"
   ]
  },
  {
   "cell_type": "markdown",
   "metadata": {},
   "source": [
    "### Средняя выручка пользователей из Москвы отличается от выручки пользователей из других регионов.\n",
    "\n",
    "Предлагаю взять за нулевую гипотезу H0 \"Средняя выручка пользователей из Москвы не отличается(равна) выручке пользователей из других регионов\". За альтернативную гипотезу H1 предлагаю взять \"Средняя выручка пользователей из Москвы не равна средней выручке пользователей из других регионов\".\n",
    "Как критерий предлагаю использовать метод stats.ttest_ind(args), который вернет вероятность того, что среднее Генеральных совокупностей пользователей из Москвы и не из Москвы совпадает, используя предоставленные выборки. \n",
    "\n",
    "Предлагаю поставить значение альфа в 5%."
   ]
  },
  {
   "cell_type": "code",
   "execution_count": 18,
   "metadata": {},
   "outputs": [
    {
     "data": {
      "text/html": [
       "<div>\n",
       "<style scoped>\n",
       "    .dataframe tbody tr th:only-of-type {\n",
       "        vertical-align: middle;\n",
       "    }\n",
       "\n",
       "    .dataframe tbody tr th {\n",
       "        vertical-align: top;\n",
       "    }\n",
       "\n",
       "    .dataframe thead th {\n",
       "        text-align: right;\n",
       "    }\n",
       "</style>\n",
       "<table border=\"1\" class=\"dataframe\">\n",
       "  <thead>\n",
       "    <tr style=\"text-align: right;\">\n",
       "      <th></th>\n",
       "      <th>user_id</th>\n",
       "      <th>month</th>\n",
       "      <th>calls_count</th>\n",
       "      <th>calls_duration</th>\n",
       "      <th>messages_count</th>\n",
       "      <th>mb_used</th>\n",
       "      <th>tariff_x</th>\n",
       "      <th>gb_used</th>\n",
       "      <th>messages_included</th>\n",
       "      <th>mb_per_month_included</th>\n",
       "      <th>minutes_included</th>\n",
       "      <th>rub_monthly_fee</th>\n",
       "      <th>rub_per_gb</th>\n",
       "      <th>rub_per_message</th>\n",
       "      <th>rub_per_minute</th>\n",
       "      <th>revenue_perr_month</th>\n",
       "      <th>city</th>\n",
       "    </tr>\n",
       "  </thead>\n",
       "  <tbody>\n",
       "    <tr>\n",
       "      <th>0</th>\n",
       "      <td>1000</td>\n",
       "      <td>5.0</td>\n",
       "      <td>22.0</td>\n",
       "      <td>159.0</td>\n",
       "      <td>22.0</td>\n",
       "      <td>2253.49</td>\n",
       "      <td>ultra</td>\n",
       "      <td>3.0</td>\n",
       "      <td>1000</td>\n",
       "      <td>30720</td>\n",
       "      <td>3000</td>\n",
       "      <td>1950</td>\n",
       "      <td>150</td>\n",
       "      <td>1</td>\n",
       "      <td>1</td>\n",
       "      <td>1950.0</td>\n",
       "      <td>Краснодар</td>\n",
       "    </tr>\n",
       "    <tr>\n",
       "      <th>1</th>\n",
       "      <td>1000</td>\n",
       "      <td>6.0</td>\n",
       "      <td>43.0</td>\n",
       "      <td>172.0</td>\n",
       "      <td>60.0</td>\n",
       "      <td>23233.77</td>\n",
       "      <td>ultra</td>\n",
       "      <td>23.0</td>\n",
       "      <td>1000</td>\n",
       "      <td>30720</td>\n",
       "      <td>3000</td>\n",
       "      <td>1950</td>\n",
       "      <td>150</td>\n",
       "      <td>1</td>\n",
       "      <td>1</td>\n",
       "      <td>1950.0</td>\n",
       "      <td>Краснодар</td>\n",
       "    </tr>\n",
       "    <tr>\n",
       "      <th>2</th>\n",
       "      <td>1000</td>\n",
       "      <td>7.0</td>\n",
       "      <td>47.0</td>\n",
       "      <td>340.0</td>\n",
       "      <td>75.0</td>\n",
       "      <td>14003.64</td>\n",
       "      <td>ultra</td>\n",
       "      <td>14.0</td>\n",
       "      <td>1000</td>\n",
       "      <td>30720</td>\n",
       "      <td>3000</td>\n",
       "      <td>1950</td>\n",
       "      <td>150</td>\n",
       "      <td>1</td>\n",
       "      <td>1</td>\n",
       "      <td>1950.0</td>\n",
       "      <td>Краснодар</td>\n",
       "    </tr>\n",
       "    <tr>\n",
       "      <th>3</th>\n",
       "      <td>1000</td>\n",
       "      <td>8.0</td>\n",
       "      <td>52.0</td>\n",
       "      <td>408.0</td>\n",
       "      <td>81.0</td>\n",
       "      <td>14055.93</td>\n",
       "      <td>ultra</td>\n",
       "      <td>14.0</td>\n",
       "      <td>1000</td>\n",
       "      <td>30720</td>\n",
       "      <td>3000</td>\n",
       "      <td>1950</td>\n",
       "      <td>150</td>\n",
       "      <td>1</td>\n",
       "      <td>1</td>\n",
       "      <td>1950.0</td>\n",
       "      <td>Краснодар</td>\n",
       "    </tr>\n",
       "    <tr>\n",
       "      <th>4</th>\n",
       "      <td>1000</td>\n",
       "      <td>9.0</td>\n",
       "      <td>58.0</td>\n",
       "      <td>466.0</td>\n",
       "      <td>57.0</td>\n",
       "      <td>14568.91</td>\n",
       "      <td>ultra</td>\n",
       "      <td>15.0</td>\n",
       "      <td>1000</td>\n",
       "      <td>30720</td>\n",
       "      <td>3000</td>\n",
       "      <td>1950</td>\n",
       "      <td>150</td>\n",
       "      <td>1</td>\n",
       "      <td>1</td>\n",
       "      <td>1950.0</td>\n",
       "      <td>Краснодар</td>\n",
       "    </tr>\n",
       "  </tbody>\n",
       "</table>\n",
       "</div>"
      ],
      "text/plain": [
       "   user_id  month  calls_count  calls_duration  messages_count   mb_used  \\\n",
       "0     1000    5.0         22.0           159.0            22.0   2253.49   \n",
       "1     1000    6.0         43.0           172.0            60.0  23233.77   \n",
       "2     1000    7.0         47.0           340.0            75.0  14003.64   \n",
       "3     1000    8.0         52.0           408.0            81.0  14055.93   \n",
       "4     1000    9.0         58.0           466.0            57.0  14568.91   \n",
       "\n",
       "  tariff_x  gb_used  messages_included  mb_per_month_included  \\\n",
       "0    ultra      3.0               1000                  30720   \n",
       "1    ultra     23.0               1000                  30720   \n",
       "2    ultra     14.0               1000                  30720   \n",
       "3    ultra     14.0               1000                  30720   \n",
       "4    ultra     15.0               1000                  30720   \n",
       "\n",
       "   minutes_included  rub_monthly_fee  rub_per_gb  rub_per_message  \\\n",
       "0              3000             1950         150                1   \n",
       "1              3000             1950         150                1   \n",
       "2              3000             1950         150                1   \n",
       "3              3000             1950         150                1   \n",
       "4              3000             1950         150                1   \n",
       "\n",
       "   rub_per_minute  revenue_perr_month       city  \n",
       "0               1              1950.0  Краснодар  \n",
       "1               1              1950.0  Краснодар  \n",
       "2               1              1950.0  Краснодар  \n",
       "3               1              1950.0  Краснодар  \n",
       "4               1              1950.0  Краснодар  "
      ]
     },
     "metadata": {},
     "output_type": "display_data"
    }
   ],
   "source": [
    "total_pivot_with_cities = total_pivot.merge(users, on='user_id', how='left')\n",
    "total_pivot_with_cities =  total_pivot_with_cities.drop(columns = ['first_name', 'last_name', 'reg_date', 'tariff_y', 'churn_date', 'age'])\n",
    "display(total_pivot_with_cities.head())\n",
    "\n",
    "#добавили столбец city к общей таблице\n"
   ]
  },
  {
   "cell_type": "code",
   "execution_count": 19,
   "metadata": {},
   "outputs": [
    {
     "name": "stdout",
     "output_type": "stream",
     "text": [
      "565636.4670118879 Дисперсия помесячной выручки пользователей из Москвы\n",
      "654069.574962777 Дисперсия помесячной выручки пользователей НЕ из Москвы\n",
      "Дисперсии не равны \n",
      "\n",
      "1546.7135842880523 Среднее помесячной выручки пользователей из Москвы\n",
      "1524.7251439539348 Среднее помесячной выручки пользователей НЕ из Москвы\n",
      "p-значение 0.5216952110000278\n",
      "Не получилось отвергнуть гипотезу H0\n"
     ]
    }
   ],
   "source": [
    "print(total_pivot_with_cities.query('city == \"Москва\" ' )['revenue_perr_month'].var(), 'Дисперсия помесячной выручки пользователей из Москвы')\n",
    "print(total_pivot_with_cities.query('city != \"Москва\" ' )['revenue_perr_month'].var(), 'Дисперсия помесячной выручки пользователей НЕ из Москвы')\n",
    "#проверяем дисперсии выручек - вдруг они совпадают. \n",
    "\n",
    "sample_moscow_revenue = total_pivot_with_cities.query('city == \"Москва\"')['revenue_perr_month']\n",
    "sample_other_city_revenue = total_pivot_with_cities.query('city != \"Москва\" ')['revenue_perr_month']\n",
    "print(\"Дисперсии не равны \\n\")\n",
    "\n",
    "print(total_pivot_with_cities.query('city == \"Москва\" ' )['revenue_perr_month'].mean(), 'Среднее помесячной выручки пользователей из Москвы')\n",
    "print(total_pivot_with_cities.query('city != \"Москва\" ' )['revenue_perr_month'].mean(), 'Среднее помесячной выручки пользователей НЕ из Москвы')\n",
    "\n",
    "\n",
    "\n",
    "results = st.ttest_ind(sample_moscow_revenue, sample_other_city_revenue, equal_var=False)\n",
    "\n",
    "#добавил альфа\n",
    "\n",
    "\n",
    "alpha=0.05\n",
    "\n",
    "print('p-значение', results.pvalue)\n",
    "\n",
    "if results.pvalue<alpha:\n",
    "    print(\"Отвергаем H0\")\n",
    "else:\n",
    "    print(\"Не получилось отвергнуть гипотезу H0\")\n",
    "\n",
    "\n",
    "\n"
   ]
  },
  {
   "cell_type": "markdown",
   "metadata": {},
   "source": [
    " Так как p-значение более 5%, то отвегнуть гипотезу H0 о равенстве средних выручек пользователей из Москвы и не из Москвы не получилось. И, соответственно, первоначальная гипотеза об отличии средней выручки пользователей из Москвы от средней выручки пользователей не из Москвы НЕ верна."
   ]
  },
  {
   "cell_type": "markdown",
   "metadata": {},
   "source": [
    "##  Общий вывод\n"
   ]
  },
  {
   "cell_type": "markdown",
   "metadata": {},
   "source": [
    "Данные рассмотрены, очищены, создана общая сводная таблица, произведены запрошенные расчеты. Постороены гистограмы соответствующих распределений, прокомментировано поведение пользователей, проверены две гипотезы. \n",
    "\n"
   ]
  },
  {
   "cell_type": "code",
   "execution_count": 20,
   "metadata": {},
   "outputs": [
    {
     "name": "stdout",
     "output_type": "stream",
     "text": [
      "1950.0 Медиана помесячной выручки пользователей тарифа \"Ультра\"\n",
      "1021.0 Медиана помесячной выручки пользователей тарифа \"Смарт\"\n"
     ]
    }
   ],
   "source": [
    "print(total_pivot.query('tariff == \"ultra\" ' )['revenue_perr_month'].median(), 'Медиана помесячной выручки пользователей тарифа \"Ультра\"')\n",
    "print(total_pivot.query('tariff == \"smart\" ' )['revenue_perr_month'].median(), 'Медиана помесячной выручки пользователей тарифа \"Смарт\"')"
   ]
  },
  {
   "cell_type": "markdown",
   "metadata": {},
   "source": [
    "Медиана выручки пользователей тарифа \"Ультра\" почти в 2 раза больше медианы выручки пользователей тарифа \"Смарт\". Также исходя из гистограм видно, что несмотря на то что пользователи тарифа \"Смарт\" часто не укладываются в бесплатный лимит и оплачивают дополнительный минуты/сообщения/трафик, в отличие от пользователей тарифа \"Ультра\" , которые обычно укладываются в лимит, тариф \"Ультра\" все равно выглядит более предпочтительным для компании, благодаря высокой месячной плате, которая почти в 4 раза больше, чем у тарифа \"Смарт\"\n",
    "Исходя из этого, можно заключить, что тариф \"Ультра\" предпочтительней для компании.      "
   ]
  }
 ],
 "metadata": {
  "ExecuteTimeLog": [
   {
    "duration": 1541,
    "start_time": "2021-08-13T03:45:45.007Z"
   },
   {
    "duration": 323,
    "start_time": "2021-08-13T03:45:46.550Z"
   },
   {
    "duration": -100,
    "start_time": "2021-08-13T03:45:46.977Z"
   },
   {
    "duration": -103,
    "start_time": "2021-08-13T03:45:46.981Z"
   },
   {
    "duration": -106,
    "start_time": "2021-08-13T03:45:46.985Z"
   },
   {
    "duration": -109,
    "start_time": "2021-08-13T03:45:46.989Z"
   },
   {
    "duration": -111,
    "start_time": "2021-08-13T03:45:46.992Z"
   },
   {
    "duration": -113,
    "start_time": "2021-08-13T03:45:46.995Z"
   },
   {
    "duration": -115,
    "start_time": "2021-08-13T03:45:46.998Z"
   },
   {
    "duration": -118,
    "start_time": "2021-08-13T03:45:47.002Z"
   },
   {
    "duration": -120,
    "start_time": "2021-08-13T03:45:47.005Z"
   },
   {
    "duration": -122,
    "start_time": "2021-08-13T03:45:47.008Z"
   },
   {
    "duration": -125,
    "start_time": "2021-08-13T03:45:47.012Z"
   },
   {
    "duration": -127,
    "start_time": "2021-08-13T03:45:47.015Z"
   },
   {
    "duration": -130,
    "start_time": "2021-08-13T03:45:47.019Z"
   },
   {
    "duration": 477,
    "start_time": "2021-08-13T03:47:57.499Z"
   },
   {
    "duration": 4,
    "start_time": "2021-08-13T03:47:57.978Z"
   },
   {
    "duration": 6358,
    "start_time": "2021-08-13T03:47:57.984Z"
   },
   {
    "duration": -143,
    "start_time": "2021-08-13T03:48:04.487Z"
   },
   {
    "duration": -147,
    "start_time": "2021-08-13T03:48:04.492Z"
   },
   {
    "duration": -149,
    "start_time": "2021-08-13T03:48:04.495Z"
   },
   {
    "duration": -152,
    "start_time": "2021-08-13T03:48:04.499Z"
   },
   {
    "duration": -154,
    "start_time": "2021-08-13T03:48:04.502Z"
   },
   {
    "duration": -156,
    "start_time": "2021-08-13T03:48:04.505Z"
   },
   {
    "duration": -157,
    "start_time": "2021-08-13T03:48:04.508Z"
   },
   {
    "duration": -159,
    "start_time": "2021-08-13T03:48:04.511Z"
   },
   {
    "duration": -160,
    "start_time": "2021-08-13T03:48:04.513Z"
   },
   {
    "duration": -162,
    "start_time": "2021-08-13T03:48:04.516Z"
   },
   {
    "duration": -165,
    "start_time": "2021-08-13T03:48:04.520Z"
   },
   {
    "duration": -167,
    "start_time": "2021-08-13T03:48:04.523Z"
   },
   {
    "duration": 1486,
    "start_time": "2021-08-13T04:02:23.821Z"
   },
   {
    "duration": 324,
    "start_time": "2021-08-13T04:02:25.309Z"
   },
   {
    "duration": -150,
    "start_time": "2021-08-13T04:02:25.785Z"
   },
   {
    "duration": -155,
    "start_time": "2021-08-13T04:02:25.791Z"
   },
   {
    "duration": -160,
    "start_time": "2021-08-13T04:02:25.797Z"
   },
   {
    "duration": -165,
    "start_time": "2021-08-13T04:02:25.803Z"
   },
   {
    "duration": -169,
    "start_time": "2021-08-13T04:02:25.808Z"
   },
   {
    "duration": -175,
    "start_time": "2021-08-13T04:02:25.815Z"
   },
   {
    "duration": -178,
    "start_time": "2021-08-13T04:02:25.819Z"
   },
   {
    "duration": -185,
    "start_time": "2021-08-13T04:02:25.826Z"
   },
   {
    "duration": -189,
    "start_time": "2021-08-13T04:02:25.831Z"
   },
   {
    "duration": -192,
    "start_time": "2021-08-13T04:02:25.835Z"
   },
   {
    "duration": -196,
    "start_time": "2021-08-13T04:02:25.840Z"
   },
   {
    "duration": -201,
    "start_time": "2021-08-13T04:02:25.846Z"
   },
   {
    "duration": -203,
    "start_time": "2021-08-13T04:02:25.849Z"
   },
   {
    "duration": 1395,
    "start_time": "2021-08-13T13:57:13.542Z"
   },
   {
    "duration": 332,
    "start_time": "2021-08-13T13:57:14.939Z"
   },
   {
    "duration": 80,
    "start_time": "2021-08-13T13:57:15.194Z"
   },
   {
    "duration": 79,
    "start_time": "2021-08-13T13:57:15.196Z"
   },
   {
    "duration": 78,
    "start_time": "2021-08-13T13:57:15.198Z"
   },
   {
    "duration": 76,
    "start_time": "2021-08-13T13:57:15.200Z"
   },
   {
    "duration": 76,
    "start_time": "2021-08-13T13:57:15.202Z"
   },
   {
    "duration": 75,
    "start_time": "2021-08-13T13:57:15.204Z"
   },
   {
    "duration": 74,
    "start_time": "2021-08-13T13:57:15.206Z"
   },
   {
    "duration": 72,
    "start_time": "2021-08-13T13:57:15.208Z"
   },
   {
    "duration": 72,
    "start_time": "2021-08-13T13:57:15.209Z"
   },
   {
    "duration": 71,
    "start_time": "2021-08-13T13:57:15.211Z"
   },
   {
    "duration": 66,
    "start_time": "2021-08-13T13:57:15.217Z"
   },
   {
    "duration": 66,
    "start_time": "2021-08-13T13:57:15.218Z"
   },
   {
    "duration": 65,
    "start_time": "2021-08-13T13:57:15.220Z"
   },
   {
    "duration": 324,
    "start_time": "2021-08-13T13:57:29.054Z"
   },
   {
    "duration": 227,
    "start_time": "2021-08-13T13:57:42.962Z"
   },
   {
    "duration": 467,
    "start_time": "2021-08-13T13:57:47.353Z"
   },
   {
    "duration": 228,
    "start_time": "2021-08-13T13:57:47.822Z"
   },
   {
    "duration": 29,
    "start_time": "2021-08-13T13:57:48.023Z"
   },
   {
    "duration": 28,
    "start_time": "2021-08-13T13:57:48.025Z"
   },
   {
    "duration": 27,
    "start_time": "2021-08-13T13:57:48.027Z"
   },
   {
    "duration": 27,
    "start_time": "2021-08-13T13:57:48.028Z"
   },
   {
    "duration": 26,
    "start_time": "2021-08-13T13:57:48.030Z"
   },
   {
    "duration": 26,
    "start_time": "2021-08-13T13:57:48.031Z"
   },
   {
    "duration": 25,
    "start_time": "2021-08-13T13:57:48.033Z"
   },
   {
    "duration": 24,
    "start_time": "2021-08-13T13:57:48.035Z"
   },
   {
    "duration": 24,
    "start_time": "2021-08-13T13:57:48.036Z"
   },
   {
    "duration": 23,
    "start_time": "2021-08-13T13:57:48.038Z"
   },
   {
    "duration": 23,
    "start_time": "2021-08-13T13:57:48.039Z"
   },
   {
    "duration": 22,
    "start_time": "2021-08-13T13:57:48.041Z"
   },
   {
    "duration": 22,
    "start_time": "2021-08-13T13:57:48.042Z"
   },
   {
    "duration": 238,
    "start_time": "2021-08-13T13:58:22.538Z"
   },
   {
    "duration": 1432,
    "start_time": "2021-08-13T13:58:28.492Z"
   },
   {
    "duration": 352,
    "start_time": "2021-08-13T13:58:29.926Z"
   },
   {
    "duration": 88,
    "start_time": "2021-08-13T13:58:30.193Z"
   },
   {
    "duration": 88,
    "start_time": "2021-08-13T13:58:30.194Z"
   },
   {
    "duration": 87,
    "start_time": "2021-08-13T13:58:30.196Z"
   },
   {
    "duration": 86,
    "start_time": "2021-08-13T13:58:30.198Z"
   },
   {
    "duration": 70,
    "start_time": "2021-08-13T13:58:30.215Z"
   },
   {
    "duration": 68,
    "start_time": "2021-08-13T13:58:30.217Z"
   },
   {
    "duration": 63,
    "start_time": "2021-08-13T13:58:30.223Z"
   },
   {
    "duration": 62,
    "start_time": "2021-08-13T13:58:30.225Z"
   },
   {
    "duration": 61,
    "start_time": "2021-08-13T13:58:30.227Z"
   },
   {
    "duration": 61,
    "start_time": "2021-08-13T13:58:30.228Z"
   },
   {
    "duration": 60,
    "start_time": "2021-08-13T13:58:30.230Z"
   },
   {
    "duration": 58,
    "start_time": "2021-08-13T13:58:30.233Z"
   },
   {
    "duration": 51,
    "start_time": "2021-08-13T13:58:30.240Z"
   },
   {
    "duration": 5,
    "start_time": "2021-08-13T14:01:25.657Z"
   },
   {
    "duration": 464,
    "start_time": "2021-08-13T14:01:29.550Z"
   },
   {
    "duration": 4,
    "start_time": "2021-08-13T14:01:30.015Z"
   },
   {
    "duration": 6486,
    "start_time": "2021-08-13T14:01:30.021Z"
   },
   {
    "duration": 17,
    "start_time": "2021-08-13T14:01:36.492Z"
   },
   {
    "duration": 17,
    "start_time": "2021-08-13T14:01:36.493Z"
   },
   {
    "duration": 16,
    "start_time": "2021-08-13T14:01:36.495Z"
   },
   {
    "duration": 16,
    "start_time": "2021-08-13T14:01:36.496Z"
   },
   {
    "duration": 14,
    "start_time": "2021-08-13T14:01:36.498Z"
   },
   {
    "duration": 14,
    "start_time": "2021-08-13T14:01:36.499Z"
   },
   {
    "duration": 13,
    "start_time": "2021-08-13T14:01:36.501Z"
   },
   {
    "duration": 13,
    "start_time": "2021-08-13T14:01:36.502Z"
   },
   {
    "duration": 12,
    "start_time": "2021-08-13T14:01:36.504Z"
   },
   {
    "duration": 11,
    "start_time": "2021-08-13T14:01:36.506Z"
   },
   {
    "duration": 10,
    "start_time": "2021-08-13T14:01:36.508Z"
   },
   {
    "duration": 10,
    "start_time": "2021-08-13T14:01:36.509Z"
   },
   {
    "duration": 462,
    "start_time": "2021-08-13T14:02:42.559Z"
   },
   {
    "duration": 4,
    "start_time": "2021-08-13T14:02:43.023Z"
   },
   {
    "duration": 7102,
    "start_time": "2021-08-13T14:02:43.028Z"
   },
   {
    "duration": 15,
    "start_time": "2021-08-13T14:02:50.118Z"
   },
   {
    "duration": 14,
    "start_time": "2021-08-13T14:02:50.119Z"
   },
   {
    "duration": 13,
    "start_time": "2021-08-13T14:02:50.121Z"
   },
   {
    "duration": 12,
    "start_time": "2021-08-13T14:02:50.123Z"
   },
   {
    "duration": 12,
    "start_time": "2021-08-13T14:02:50.124Z"
   },
   {
    "duration": 11,
    "start_time": "2021-08-13T14:02:50.126Z"
   },
   {
    "duration": 11,
    "start_time": "2021-08-13T14:02:50.127Z"
   },
   {
    "duration": 10,
    "start_time": "2021-08-13T14:02:50.129Z"
   },
   {
    "duration": 10,
    "start_time": "2021-08-13T14:02:50.130Z"
   },
   {
    "duration": 9,
    "start_time": "2021-08-13T14:02:50.132Z"
   },
   {
    "duration": 8,
    "start_time": "2021-08-13T14:02:50.134Z"
   },
   {
    "duration": 8,
    "start_time": "2021-08-13T14:02:50.135Z"
   },
   {
    "duration": 464,
    "start_time": "2021-08-13T14:09:14.100Z"
   },
   {
    "duration": 1456,
    "start_time": "2021-08-13T14:09:23.263Z"
   },
   {
    "duration": 5,
    "start_time": "2021-08-13T14:09:24.720Z"
   },
   {
    "duration": 6343,
    "start_time": "2021-08-13T14:09:24.727Z"
   },
   {
    "duration": 6,
    "start_time": "2021-08-13T14:09:31.066Z"
   },
   {
    "duration": 6,
    "start_time": "2021-08-13T14:09:31.067Z"
   },
   {
    "duration": 4,
    "start_time": "2021-08-13T14:09:31.070Z"
   },
   {
    "duration": 4,
    "start_time": "2021-08-13T14:09:31.071Z"
   },
   {
    "duration": 3,
    "start_time": "2021-08-13T14:09:31.073Z"
   },
   {
    "duration": 2,
    "start_time": "2021-08-13T14:09:31.075Z"
   },
   {
    "duration": 1,
    "start_time": "2021-08-13T14:09:31.077Z"
   },
   {
    "duration": 0,
    "start_time": "2021-08-13T14:09:31.079Z"
   },
   {
    "duration": 0,
    "start_time": "2021-08-13T14:09:31.080Z"
   },
   {
    "duration": -2,
    "start_time": "2021-08-13T14:09:31.082Z"
   },
   {
    "duration": -2,
    "start_time": "2021-08-13T14:09:31.083Z"
   },
   {
    "duration": -3,
    "start_time": "2021-08-13T14:09:31.085Z"
   },
   {
    "duration": 71,
    "start_time": "2021-08-13T14:10:31.977Z"
   },
   {
    "duration": 5445,
    "start_time": "2021-08-13T14:10:38.854Z"
   },
   {
    "duration": 5613,
    "start_time": "2021-08-13T14:10:48.304Z"
   },
   {
    "duration": 5907,
    "start_time": "2021-08-13T14:11:06.620Z"
   },
   {
    "duration": 492,
    "start_time": "2021-08-13T14:11:27.905Z"
   },
   {
    "duration": 5,
    "start_time": "2021-08-13T14:11:32.266Z"
   },
   {
    "duration": 5413,
    "start_time": "2021-08-13T14:11:38.218Z"
   },
   {
    "duration": 455,
    "start_time": "2021-08-13T14:12:34.600Z"
   },
   {
    "duration": 5,
    "start_time": "2021-08-13T14:12:35.056Z"
   },
   {
    "duration": 193,
    "start_time": "2021-08-13T14:12:35.062Z"
   },
   {
    "duration": 232,
    "start_time": "2021-08-13T14:12:35.257Z"
   },
   {
    "duration": -29,
    "start_time": "2021-08-13T14:12:35.520Z"
   },
   {
    "duration": -30,
    "start_time": "2021-08-13T14:12:35.522Z"
   },
   {
    "duration": -31,
    "start_time": "2021-08-13T14:12:35.524Z"
   },
   {
    "duration": -32,
    "start_time": "2021-08-13T14:12:35.526Z"
   },
   {
    "duration": -33,
    "start_time": "2021-08-13T14:12:35.528Z"
   },
   {
    "duration": -33,
    "start_time": "2021-08-13T14:12:35.529Z"
   },
   {
    "duration": -34,
    "start_time": "2021-08-13T14:12:35.531Z"
   },
   {
    "duration": -35,
    "start_time": "2021-08-13T14:12:35.533Z"
   },
   {
    "duration": -40,
    "start_time": "2021-08-13T14:12:35.539Z"
   },
   {
    "duration": -41,
    "start_time": "2021-08-13T14:12:35.541Z"
   },
   {
    "duration": -49,
    "start_time": "2021-08-13T14:12:35.550Z"
   },
   {
    "duration": 234,
    "start_time": "2021-08-13T14:13:28.328Z"
   },
   {
    "duration": 471,
    "start_time": "2021-08-13T14:13:35.566Z"
   },
   {
    "duration": 4,
    "start_time": "2021-08-13T14:13:36.039Z"
   },
   {
    "duration": 248,
    "start_time": "2021-08-13T14:13:36.045Z"
   },
   {
    "duration": 18,
    "start_time": "2021-08-13T14:13:36.295Z"
   },
   {
    "duration": 198,
    "start_time": "2021-08-13T14:13:36.315Z"
   },
   {
    "duration": 8,
    "start_time": "2021-08-13T14:13:36.515Z"
   },
   {
    "duration": 216,
    "start_time": "2021-08-13T14:13:36.524Z"
   },
   {
    "duration": 200,
    "start_time": "2021-08-13T14:13:36.742Z"
   },
   {
    "duration": 208,
    "start_time": "2021-08-13T14:13:36.944Z"
   },
   {
    "duration": 207,
    "start_time": "2021-08-13T14:13:37.153Z"
   },
   {
    "duration": 212,
    "start_time": "2021-08-13T14:13:37.361Z"
   },
   {
    "duration": 206,
    "start_time": "2021-08-13T14:13:37.575Z"
   },
   {
    "duration": 18,
    "start_time": "2021-08-13T14:13:37.782Z"
   },
   {
    "duration": 18,
    "start_time": "2021-08-13T14:13:37.802Z"
   },
   {
    "duration": 13,
    "start_time": "2021-08-13T14:13:37.822Z"
   },
   {
    "duration": 452,
    "start_time": "2021-08-13T14:18:20.104Z"
   },
   {
    "duration": 10,
    "start_time": "2021-08-13T14:18:20.558Z"
   },
   {
    "duration": 232,
    "start_time": "2021-08-13T14:18:20.571Z"
   },
   {
    "duration": 19,
    "start_time": "2021-08-13T14:18:20.805Z"
   },
   {
    "duration": 187,
    "start_time": "2021-08-13T14:18:20.826Z"
   },
   {
    "duration": 8,
    "start_time": "2021-08-13T14:18:21.015Z"
   },
   {
    "duration": 215,
    "start_time": "2021-08-13T14:18:21.024Z"
   },
   {
    "duration": 198,
    "start_time": "2021-08-13T14:18:21.242Z"
   },
   {
    "duration": 280,
    "start_time": "2021-08-13T14:18:21.442Z"
   },
   {
    "duration": 202,
    "start_time": "2021-08-13T14:18:21.724Z"
   },
   {
    "duration": 222,
    "start_time": "2021-08-13T14:18:21.928Z"
   },
   {
    "duration": 208,
    "start_time": "2021-08-13T14:18:22.151Z"
   },
   {
    "duration": 12,
    "start_time": "2021-08-13T14:18:22.360Z"
   },
   {
    "duration": 32,
    "start_time": "2021-08-13T14:18:22.374Z"
   },
   {
    "duration": 13,
    "start_time": "2021-08-13T14:18:22.407Z"
   },
   {
    "duration": 244,
    "start_time": "2021-08-13T14:18:53.811Z"
   },
   {
    "duration": 466,
    "start_time": "2021-08-13T14:19:07.282Z"
   },
   {
    "duration": 236,
    "start_time": "2021-08-13T14:19:14.161Z"
   },
   {
    "duration": 256,
    "start_time": "2021-08-13T14:19:18.520Z"
   },
   {
    "duration": 323,
    "start_time": "2021-08-13T14:19:24.461Z"
   },
   {
    "duration": 1359,
    "start_time": "2021-08-13T14:20:16.838Z"
   },
   {
    "duration": 464,
    "start_time": "2021-08-13T14:20:21.540Z"
   },
   {
    "duration": 18,
    "start_time": "2021-08-13T14:20:22.006Z"
   },
   {
    "duration": 236,
    "start_time": "2021-08-13T14:20:22.026Z"
   },
   {
    "duration": 28,
    "start_time": "2021-08-13T14:20:22.263Z"
   },
   {
    "duration": 179,
    "start_time": "2021-08-13T14:20:22.293Z"
   },
   {
    "duration": 7,
    "start_time": "2021-08-13T14:20:22.474Z"
   },
   {
    "duration": 211,
    "start_time": "2021-08-13T14:20:22.491Z"
   },
   {
    "duration": 199,
    "start_time": "2021-08-13T14:20:22.704Z"
   },
   {
    "duration": 203,
    "start_time": "2021-08-13T14:20:22.905Z"
   },
   {
    "duration": 198,
    "start_time": "2021-08-13T14:20:23.109Z"
   },
   {
    "duration": 218,
    "start_time": "2021-08-13T14:20:23.308Z"
   },
   {
    "duration": 205,
    "start_time": "2021-08-13T14:20:23.527Z"
   },
   {
    "duration": 12,
    "start_time": "2021-08-13T14:20:23.734Z"
   },
   {
    "duration": 16,
    "start_time": "2021-08-13T14:20:23.747Z"
   },
   {
    "duration": 36,
    "start_time": "2021-08-13T14:20:23.765Z"
   },
   {
    "duration": 317,
    "start_time": "2021-08-13T14:35:08.617Z"
   },
   {
    "duration": 347,
    "start_time": "2021-08-13T14:35:45.647Z"
   },
   {
    "duration": 1404,
    "start_time": "2021-08-13T14:35:53.525Z"
   },
   {
    "duration": 22,
    "start_time": "2021-08-13T14:35:54.931Z"
   },
   {
    "duration": 353,
    "start_time": "2021-08-13T14:35:54.955Z"
   },
   {
    "duration": 36,
    "start_time": "2021-08-13T14:35:55.274Z"
   },
   {
    "duration": 35,
    "start_time": "2021-08-13T14:35:55.276Z"
   },
   {
    "duration": 35,
    "start_time": "2021-08-13T14:35:55.277Z"
   },
   {
    "duration": 30,
    "start_time": "2021-08-13T14:35:55.283Z"
   },
   {
    "duration": 28,
    "start_time": "2021-08-13T14:35:55.285Z"
   },
   {
    "duration": 28,
    "start_time": "2021-08-13T14:35:55.286Z"
   },
   {
    "duration": 27,
    "start_time": "2021-08-13T14:35:55.288Z"
   },
   {
    "duration": 26,
    "start_time": "2021-08-13T14:35:55.290Z"
   },
   {
    "duration": 25,
    "start_time": "2021-08-13T14:35:55.292Z"
   },
   {
    "duration": 25,
    "start_time": "2021-08-13T14:35:55.293Z"
   },
   {
    "duration": 24,
    "start_time": "2021-08-13T14:35:55.295Z"
   },
   {
    "duration": 23,
    "start_time": "2021-08-13T14:35:55.297Z"
   },
   {
    "duration": 1449,
    "start_time": "2021-08-13T14:36:18.527Z"
   },
   {
    "duration": 22,
    "start_time": "2021-08-13T14:36:19.992Z"
   },
   {
    "duration": 265,
    "start_time": "2021-08-13T14:36:20.016Z"
   },
   {
    "duration": 25,
    "start_time": "2021-08-13T14:36:20.283Z"
   },
   {
    "duration": 185,
    "start_time": "2021-08-13T14:36:20.310Z"
   },
   {
    "duration": 8,
    "start_time": "2021-08-13T14:36:20.496Z"
   },
   {
    "duration": 224,
    "start_time": "2021-08-13T14:36:20.505Z"
   },
   {
    "duration": 211,
    "start_time": "2021-08-13T14:36:20.731Z"
   },
   {
    "duration": 207,
    "start_time": "2021-08-13T14:36:20.944Z"
   },
   {
    "duration": 208,
    "start_time": "2021-08-13T14:36:21.152Z"
   },
   {
    "duration": 229,
    "start_time": "2021-08-13T14:36:21.362Z"
   },
   {
    "duration": 209,
    "start_time": "2021-08-13T14:36:21.592Z"
   },
   {
    "duration": 12,
    "start_time": "2021-08-13T14:36:21.803Z"
   },
   {
    "duration": 18,
    "start_time": "2021-08-13T14:36:21.817Z"
   },
   {
    "duration": 13,
    "start_time": "2021-08-13T14:36:21.837Z"
   },
   {
    "duration": 223,
    "start_time": "2021-08-13T14:43:06.577Z"
   },
   {
    "duration": 543,
    "start_time": "2021-08-13T14:43:14.130Z"
   },
   {
    "duration": 207,
    "start_time": "2021-08-13T14:44:23.190Z"
   },
   {
    "duration": 231,
    "start_time": "2021-08-13T14:50:50.587Z"
   },
   {
    "duration": 241,
    "start_time": "2021-08-13T14:50:56.284Z"
   },
   {
    "duration": 18,
    "start_time": "2021-08-13T14:51:02.802Z"
   },
   {
    "duration": 28,
    "start_time": "2021-08-13T14:51:26.094Z"
   },
   {
    "duration": 28,
    "start_time": "2021-08-13T14:51:41.908Z"
   },
   {
    "duration": 74,
    "start_time": "2021-08-13T14:52:19.932Z"
   },
   {
    "duration": 79,
    "start_time": "2021-08-13T14:52:29.054Z"
   },
   {
    "duration": 74,
    "start_time": "2021-08-13T14:52:34.087Z"
   },
   {
    "duration": 96,
    "start_time": "2021-08-13T14:52:43.688Z"
   },
   {
    "duration": 237,
    "start_time": "2021-08-13T14:57:00.085Z"
   },
   {
    "duration": 28,
    "start_time": "2021-08-13T14:57:13.923Z"
   },
   {
    "duration": 38,
    "start_time": "2021-08-13T14:57:23.181Z"
   },
   {
    "duration": 37,
    "start_time": "2021-08-13T14:57:27.758Z"
   },
   {
    "duration": 463,
    "start_time": "2021-08-13T14:57:37.949Z"
   },
   {
    "duration": 38,
    "start_time": "2021-08-13T14:57:38.413Z"
   },
   {
    "duration": 247,
    "start_time": "2021-08-13T14:57:38.453Z"
   },
   {
    "duration": 18,
    "start_time": "2021-08-13T14:57:38.702Z"
   },
   {
    "duration": 187,
    "start_time": "2021-08-13T14:57:38.721Z"
   },
   {
    "duration": 7,
    "start_time": "2021-08-13T14:57:38.909Z"
   },
   {
    "duration": 214,
    "start_time": "2021-08-13T14:57:38.917Z"
   },
   {
    "duration": 200,
    "start_time": "2021-08-13T14:57:39.132Z"
   },
   {
    "duration": 205,
    "start_time": "2021-08-13T14:57:39.335Z"
   },
   {
    "duration": 199,
    "start_time": "2021-08-13T14:57:39.542Z"
   },
   {
    "duration": 217,
    "start_time": "2021-08-13T14:57:39.743Z"
   },
   {
    "duration": 205,
    "start_time": "2021-08-13T14:57:39.961Z"
   },
   {
    "duration": 12,
    "start_time": "2021-08-13T14:57:40.167Z"
   },
   {
    "duration": 18,
    "start_time": "2021-08-13T14:57:40.191Z"
   },
   {
    "duration": 13,
    "start_time": "2021-08-13T14:57:40.210Z"
   },
   {
    "duration": 37,
    "start_time": "2021-08-13T14:58:13.542Z"
   },
   {
    "duration": 36,
    "start_time": "2021-08-13T15:24:39.213Z"
   },
   {
    "duration": 81,
    "start_time": "2021-08-13T15:27:50.272Z"
   },
   {
    "duration": 34,
    "start_time": "2021-08-13T15:27:54.979Z"
   },
   {
    "duration": 35,
    "start_time": "2021-08-13T15:27:59.035Z"
   },
   {
    "duration": 26,
    "start_time": "2021-08-13T15:28:05.927Z"
   },
   {
    "duration": 1441,
    "start_time": "2021-08-13T15:31:13.170Z"
   },
   {
    "duration": 27,
    "start_time": "2021-08-13T15:31:14.613Z"
   },
   {
    "duration": 233,
    "start_time": "2021-08-13T15:31:14.642Z"
   },
   {
    "duration": 28,
    "start_time": "2021-08-13T15:31:14.877Z"
   },
   {
    "duration": 175,
    "start_time": "2021-08-13T15:31:14.907Z"
   },
   {
    "duration": 7,
    "start_time": "2021-08-13T15:31:15.091Z"
   },
   {
    "duration": 206,
    "start_time": "2021-08-13T15:31:15.099Z"
   },
   {
    "duration": 194,
    "start_time": "2021-08-13T15:31:15.307Z"
   },
   {
    "duration": 198,
    "start_time": "2021-08-13T15:31:15.503Z"
   },
   {
    "duration": 203,
    "start_time": "2021-08-13T15:31:15.703Z"
   },
   {
    "duration": 213,
    "start_time": "2021-08-13T15:31:15.907Z"
   },
   {
    "duration": 204,
    "start_time": "2021-08-13T15:31:16.122Z"
   },
   {
    "duration": 11,
    "start_time": "2021-08-13T15:31:16.328Z"
   },
   {
    "duration": 16,
    "start_time": "2021-08-13T15:31:16.341Z"
   },
   {
    "duration": 34,
    "start_time": "2021-08-13T15:31:16.358Z"
   },
   {
    "duration": 1406,
    "start_time": "2021-08-13T15:46:11.742Z"
   },
   {
    "duration": 52,
    "start_time": "2021-08-13T15:46:13.150Z"
   },
   {
    "duration": 246,
    "start_time": "2021-08-13T15:46:13.204Z"
   },
   {
    "duration": 18,
    "start_time": "2021-08-13T15:46:13.452Z"
   },
   {
    "duration": 195,
    "start_time": "2021-08-13T15:46:13.472Z"
   },
   {
    "duration": 7,
    "start_time": "2021-08-13T15:46:13.669Z"
   },
   {
    "duration": 228,
    "start_time": "2021-08-13T15:46:13.678Z"
   },
   {
    "duration": 204,
    "start_time": "2021-08-13T15:46:13.908Z"
   },
   {
    "duration": 210,
    "start_time": "2021-08-13T15:46:14.113Z"
   },
   {
    "duration": 201,
    "start_time": "2021-08-13T15:46:14.325Z"
   },
   {
    "duration": 216,
    "start_time": "2021-08-13T15:46:14.528Z"
   },
   {
    "duration": 313,
    "start_time": "2021-08-13T15:46:14.746Z"
   },
   {
    "duration": 12,
    "start_time": "2021-08-13T15:46:15.060Z"
   },
   {
    "duration": 26,
    "start_time": "2021-08-13T15:46:15.074Z"
   },
   {
    "duration": 13,
    "start_time": "2021-08-13T15:46:15.102Z"
   },
   {
    "duration": 2019,
    "start_time": "2021-08-14T10:19:17.768Z"
   },
   {
    "duration": 85,
    "start_time": "2021-08-14T10:19:19.789Z"
   },
   {
    "duration": 385,
    "start_time": "2021-08-14T10:19:19.877Z"
   },
   {
    "duration": 32,
    "start_time": "2021-08-14T10:19:20.264Z"
   },
   {
    "duration": 339,
    "start_time": "2021-08-14T10:19:20.298Z"
   },
   {
    "duration": 19,
    "start_time": "2021-08-14T10:19:20.639Z"
   },
   {
    "duration": 368,
    "start_time": "2021-08-14T10:19:20.660Z"
   },
   {
    "duration": 370,
    "start_time": "2021-08-14T10:19:21.032Z"
   },
   {
    "duration": 474,
    "start_time": "2021-08-14T10:19:21.404Z"
   },
   {
    "duration": 433,
    "start_time": "2021-08-14T10:19:21.880Z"
   },
   {
    "duration": 403,
    "start_time": "2021-08-14T10:19:22.316Z"
   },
   {
    "duration": 391,
    "start_time": "2021-08-14T10:19:22.722Z"
   },
   {
    "duration": 22,
    "start_time": "2021-08-14T10:19:23.115Z"
   },
   {
    "duration": 31,
    "start_time": "2021-08-14T10:19:23.157Z"
   },
   {
    "duration": 22,
    "start_time": "2021-08-14T10:19:23.190Z"
   },
   {
    "duration": 6,
    "start_time": "2021-08-14T10:38:27.981Z"
   },
   {
    "duration": 412,
    "start_time": "2021-08-14T10:48:06.455Z"
   },
   {
    "duration": 404,
    "start_time": "2021-08-14T10:48:10.795Z"
   },
   {
    "duration": 804,
    "start_time": "2021-08-14T10:48:21.090Z"
   },
   {
    "duration": 363,
    "start_time": "2021-08-14T10:48:26.697Z"
   },
   {
    "duration": 369,
    "start_time": "2021-08-14T10:48:36.448Z"
   },
   {
    "duration": 402,
    "start_time": "2021-08-14T10:52:26.310Z"
   },
   {
    "duration": 350,
    "start_time": "2021-08-14T10:52:32.694Z"
   },
   {
    "duration": 2077,
    "start_time": "2021-08-15T09:43:03.728Z"
   },
   {
    "duration": 78,
    "start_time": "2021-08-15T09:43:05.808Z"
   },
   {
    "duration": 349,
    "start_time": "2021-08-15T09:43:05.889Z"
   },
   {
    "duration": 50,
    "start_time": "2021-08-15T09:43:06.241Z"
   },
   {
    "duration": 394,
    "start_time": "2021-08-15T09:43:06.294Z"
   },
   {
    "duration": 12,
    "start_time": "2021-08-15T09:43:06.690Z"
   },
   {
    "duration": 405,
    "start_time": "2021-08-15T09:43:06.705Z"
   },
   {
    "duration": 384,
    "start_time": "2021-08-15T09:43:07.113Z"
   },
   {
    "duration": 393,
    "start_time": "2021-08-15T09:43:07.500Z"
   },
   {
    "duration": 393,
    "start_time": "2021-08-15T09:43:07.895Z"
   },
   {
    "duration": 416,
    "start_time": "2021-08-15T09:43:08.290Z"
   },
   {
    "duration": 407,
    "start_time": "2021-08-15T09:43:08.709Z"
   },
   {
    "duration": 21,
    "start_time": "2021-08-15T09:43:09.118Z"
   },
   {
    "duration": 57,
    "start_time": "2021-08-15T09:43:09.141Z"
   },
   {
    "duration": 22,
    "start_time": "2021-08-15T09:43:09.201Z"
   },
   {
    "duration": 6,
    "start_time": "2021-08-15T10:01:46.281Z"
   },
   {
    "duration": 2083,
    "start_time": "2021-08-15T11:22:46.345Z"
   },
   {
    "duration": 70,
    "start_time": "2021-08-15T11:22:48.430Z"
   },
   {
    "duration": 230,
    "start_time": "2021-08-15T11:22:48.503Z"
   },
   {
    "duration": 125,
    "start_time": "2021-08-15T11:22:48.736Z"
   },
   {
    "duration": 26,
    "start_time": "2021-08-15T11:22:48.864Z"
   },
   {
    "duration": 64,
    "start_time": "2021-08-15T11:22:48.892Z"
   },
   {
    "duration": 372,
    "start_time": "2021-08-15T11:22:48.958Z"
   },
   {
    "duration": 10,
    "start_time": "2021-08-15T11:22:49.333Z"
   },
   {
    "duration": 383,
    "start_time": "2021-08-15T11:22:49.356Z"
   },
   {
    "duration": 379,
    "start_time": "2021-08-15T11:22:49.741Z"
   },
   {
    "duration": 381,
    "start_time": "2021-08-15T11:22:50.123Z"
   },
   {
    "duration": 391,
    "start_time": "2021-08-15T11:22:50.507Z"
   },
   {
    "duration": 397,
    "start_time": "2021-08-15T11:22:50.901Z"
   },
   {
    "duration": 393,
    "start_time": "2021-08-15T11:22:51.301Z"
   },
   {
    "duration": 22,
    "start_time": "2021-08-15T11:22:51.697Z"
   },
   {
    "duration": 59,
    "start_time": "2021-08-15T11:22:51.721Z"
   },
   {
    "duration": 27,
    "start_time": "2021-08-15T11:22:51.783Z"
   },
   {
    "duration": 25,
    "start_time": "2021-08-15T11:28:27.699Z"
   },
   {
    "duration": 733,
    "start_time": "2021-08-15T11:28:32.760Z"
   },
   {
    "duration": 73,
    "start_time": "2021-08-15T11:28:33.496Z"
   },
   {
    "duration": 211,
    "start_time": "2021-08-15T11:28:33.573Z"
   },
   {
    "duration": 124,
    "start_time": "2021-08-15T11:28:33.788Z"
   },
   {
    "duration": 20,
    "start_time": "2021-08-15T11:28:33.915Z"
   },
   {
    "duration": 52,
    "start_time": "2021-08-15T11:28:33.938Z"
   },
   {
    "duration": 392,
    "start_time": "2021-08-15T11:28:33.993Z"
   },
   {
    "duration": 12,
    "start_time": "2021-08-15T11:28:34.387Z"
   },
   {
    "duration": 391,
    "start_time": "2021-08-15T11:28:34.403Z"
   },
   {
    "duration": 388,
    "start_time": "2021-08-15T11:28:34.797Z"
   },
   {
    "duration": 378,
    "start_time": "2021-08-15T11:28:35.188Z"
   },
   {
    "duration": 561,
    "start_time": "2021-08-15T11:28:35.568Z"
   },
   {
    "duration": 424,
    "start_time": "2021-08-15T11:28:36.131Z"
   },
   {
    "duration": 389,
    "start_time": "2021-08-15T11:28:36.558Z"
   },
   {
    "duration": 21,
    "start_time": "2021-08-15T11:28:36.957Z"
   },
   {
    "duration": 34,
    "start_time": "2021-08-15T11:28:36.980Z"
   },
   {
    "duration": 56,
    "start_time": "2021-08-15T11:28:37.017Z"
   },
   {
    "duration": 44,
    "start_time": "2021-08-15T11:29:51.195Z"
   },
   {
    "duration": 49,
    "start_time": "2021-08-15T11:29:58.688Z"
   },
   {
    "duration": 414,
    "start_time": "2021-08-15T11:30:09.079Z"
   },
   {
    "duration": 2015,
    "start_time": "2021-08-15T11:30:18.019Z"
   },
   {
    "duration": 70,
    "start_time": "2021-08-15T11:30:20.037Z"
   },
   {
    "duration": 237,
    "start_time": "2021-08-15T11:30:20.111Z"
   },
   {
    "duration": 134,
    "start_time": "2021-08-15T11:30:20.351Z"
   },
   {
    "duration": 27,
    "start_time": "2021-08-15T11:30:20.487Z"
   },
   {
    "duration": 63,
    "start_time": "2021-08-15T11:30:20.517Z"
   },
   {
    "duration": 398,
    "start_time": "2021-08-15T11:30:20.582Z"
   },
   {
    "duration": 11,
    "start_time": "2021-08-15T11:30:20.984Z"
   },
   {
    "duration": 398,
    "start_time": "2021-08-15T11:30:20.997Z"
   },
   {
    "duration": 414,
    "start_time": "2021-08-15T11:30:21.397Z"
   },
   {
    "duration": 397,
    "start_time": "2021-08-15T11:30:21.813Z"
   },
   {
    "duration": 412,
    "start_time": "2021-08-15T11:30:22.213Z"
   },
   {
    "duration": 447,
    "start_time": "2021-08-15T11:30:22.627Z"
   },
   {
    "duration": 434,
    "start_time": "2021-08-15T11:30:23.078Z"
   },
   {
    "duration": 19,
    "start_time": "2021-08-15T11:30:23.514Z"
   },
   {
    "duration": 32,
    "start_time": "2021-08-15T11:30:23.555Z"
   },
   {
    "duration": 22,
    "start_time": "2021-08-15T11:30:23.590Z"
   },
   {
    "duration": 92,
    "start_time": "2021-08-15T11:34:28.428Z"
   },
   {
    "duration": 275,
    "start_time": "2021-08-15T11:35:08.922Z"
   },
   {
    "duration": 1276,
    "start_time": "2021-08-15T11:35:17.343Z"
   },
   {
    "duration": 2433,
    "start_time": "2021-08-15T11:35:29.127Z"
   },
   {
    "duration": 52,
    "start_time": "2021-08-15T11:35:31.563Z"
   },
   {
    "duration": 243,
    "start_time": "2021-08-15T11:35:31.618Z"
   },
   {
    "duration": 134,
    "start_time": "2021-08-15T11:35:31.864Z"
   },
   {
    "duration": 27,
    "start_time": "2021-08-15T11:35:32.000Z"
   },
   {
    "duration": 55,
    "start_time": "2021-08-15T11:35:32.029Z"
   },
   {
    "duration": 391,
    "start_time": "2021-08-15T11:35:32.087Z"
   },
   {
    "duration": 12,
    "start_time": "2021-08-15T11:35:32.480Z"
   },
   {
    "duration": 395,
    "start_time": "2021-08-15T11:35:32.495Z"
   },
   {
    "duration": 395,
    "start_time": "2021-08-15T11:35:32.893Z"
   },
   {
    "duration": 382,
    "start_time": "2021-08-15T11:35:33.291Z"
   },
   {
    "duration": 380,
    "start_time": "2021-08-15T11:35:33.676Z"
   },
   {
    "duration": 404,
    "start_time": "2021-08-15T11:35:34.058Z"
   },
   {
    "duration": 394,
    "start_time": "2021-08-15T11:35:34.464Z"
   },
   {
    "duration": 23,
    "start_time": "2021-08-15T11:35:34.861Z"
   },
   {
    "duration": 80,
    "start_time": "2021-08-15T11:35:34.887Z"
   },
   {
    "duration": 30,
    "start_time": "2021-08-15T11:35:34.970Z"
   },
   {
    "duration": 735,
    "start_time": "2021-08-15T11:37:21.585Z"
   },
   {
    "duration": 2078,
    "start_time": "2021-08-15T11:37:29.542Z"
   },
   {
    "duration": 75,
    "start_time": "2021-08-15T11:37:31.623Z"
   },
   {
    "duration": 229,
    "start_time": "2021-08-15T11:37:31.701Z"
   },
   {
    "duration": 138,
    "start_time": "2021-08-15T11:37:31.932Z"
   },
   {
    "duration": 27,
    "start_time": "2021-08-15T11:37:32.072Z"
   },
   {
    "duration": 68,
    "start_time": "2021-08-15T11:37:32.101Z"
   },
   {
    "duration": 396,
    "start_time": "2021-08-15T11:37:32.171Z"
   },
   {
    "duration": 11,
    "start_time": "2021-08-15T11:37:32.571Z"
   },
   {
    "duration": 393,
    "start_time": "2021-08-15T11:37:32.585Z"
   },
   {
    "duration": 445,
    "start_time": "2021-08-15T11:37:32.981Z"
   },
   {
    "duration": 371,
    "start_time": "2021-08-15T11:37:33.429Z"
   },
   {
    "duration": 375,
    "start_time": "2021-08-15T11:37:33.802Z"
   },
   {
    "duration": 407,
    "start_time": "2021-08-15T11:37:34.179Z"
   },
   {
    "duration": 424,
    "start_time": "2021-08-15T11:37:34.589Z"
   },
   {
    "duration": 44,
    "start_time": "2021-08-15T11:37:35.016Z"
   },
   {
    "duration": 35,
    "start_time": "2021-08-15T11:37:35.063Z"
   },
   {
    "duration": 57,
    "start_time": "2021-08-15T11:37:35.101Z"
   },
   {
    "duration": 25,
    "start_time": "2021-08-15T11:41:09.511Z"
   },
   {
    "duration": 23,
    "start_time": "2021-08-15T11:42:18.985Z"
   },
   {
    "duration": 23,
    "start_time": "2021-08-15T11:43:14.242Z"
   },
   {
    "duration": 23,
    "start_time": "2021-08-15T11:50:15.842Z"
   },
   {
    "duration": 22,
    "start_time": "2021-08-15T11:50:48.190Z"
   },
   {
    "duration": 23,
    "start_time": "2021-08-15T11:51:03.386Z"
   },
   {
    "duration": 23,
    "start_time": "2021-08-15T11:51:47.843Z"
   },
   {
    "duration": 13,
    "start_time": "2021-08-15T11:57:29.670Z"
   },
   {
    "duration": 174,
    "start_time": "2021-08-15T12:08:44.258Z"
   },
   {
    "duration": 32,
    "start_time": "2021-08-15T12:08:52.480Z"
   },
   {
    "duration": 30,
    "start_time": "2021-08-15T12:10:08.865Z"
   },
   {
    "duration": 2180,
    "start_time": "2021-08-15T12:10:29.379Z"
   },
   {
    "duration": 61,
    "start_time": "2021-08-15T12:10:31.562Z"
   },
   {
    "duration": 212,
    "start_time": "2021-08-15T12:10:31.626Z"
   },
   {
    "duration": 132,
    "start_time": "2021-08-15T12:10:31.840Z"
   },
   {
    "duration": 32,
    "start_time": "2021-08-15T12:10:31.975Z"
   },
   {
    "duration": 43,
    "start_time": "2021-08-15T12:10:32.010Z"
   },
   {
    "duration": 453,
    "start_time": "2021-08-15T12:10:32.056Z"
   },
   {
    "duration": 45,
    "start_time": "2021-08-15T12:10:32.513Z"
   },
   {
    "duration": 482,
    "start_time": "2021-08-15T12:10:32.560Z"
   },
   {
    "duration": 390,
    "start_time": "2021-08-15T12:10:33.045Z"
   },
   {
    "duration": 384,
    "start_time": "2021-08-15T12:10:33.437Z"
   },
   {
    "duration": 390,
    "start_time": "2021-08-15T12:10:33.823Z"
   },
   {
    "duration": 413,
    "start_time": "2021-08-15T12:10:34.216Z"
   },
   {
    "duration": 639,
    "start_time": "2021-08-15T12:10:34.631Z"
   },
   {
    "duration": 47,
    "start_time": "2021-08-15T12:10:35.273Z"
   },
   {
    "duration": 60,
    "start_time": "2021-08-15T12:10:35.323Z"
   },
   {
    "duration": 33,
    "start_time": "2021-08-15T12:10:35.385Z"
   },
   {
    "duration": 47,
    "start_time": "2021-08-15T12:10:35.421Z"
   },
   {
    "duration": 2700,
    "start_time": "2021-08-15T12:13:00.210Z"
   },
   {
    "duration": 83,
    "start_time": "2021-08-15T12:13:02.912Z"
   },
   {
    "duration": 224,
    "start_time": "2021-08-15T12:13:02.998Z"
   },
   {
    "duration": 136,
    "start_time": "2021-08-15T12:13:03.225Z"
   },
   {
    "duration": 30,
    "start_time": "2021-08-15T12:13:03.363Z"
   },
   {
    "duration": 64,
    "start_time": "2021-08-15T12:13:03.395Z"
   },
   {
    "duration": 487,
    "start_time": "2021-08-15T12:13:03.461Z"
   },
   {
    "duration": 15,
    "start_time": "2021-08-15T12:13:03.951Z"
   },
   {
    "duration": 402,
    "start_time": "2021-08-15T12:13:03.969Z"
   },
   {
    "duration": 361,
    "start_time": "2021-08-15T12:13:04.373Z"
   },
   {
    "duration": 381,
    "start_time": "2021-08-15T12:13:04.736Z"
   },
   {
    "duration": 377,
    "start_time": "2021-08-15T12:13:05.119Z"
   },
   {
    "duration": 495,
    "start_time": "2021-08-15T12:13:05.498Z"
   },
   {
    "duration": 404,
    "start_time": "2021-08-15T12:13:05.996Z"
   },
   {
    "duration": 30,
    "start_time": "2021-08-15T12:13:06.403Z"
   },
   {
    "duration": 34,
    "start_time": "2021-08-15T12:13:06.456Z"
   },
   {
    "duration": 64,
    "start_time": "2021-08-15T12:13:06.492Z"
   },
   {
    "duration": 16,
    "start_time": "2021-08-15T12:13:06.559Z"
   }
  ],
  "kernelspec": {
   "display_name": "Python 3",
   "language": "python",
   "name": "python3"
  },
  "language_info": {
   "codemirror_mode": {
    "name": "ipython",
    "version": 3
   },
   "file_extension": ".py",
   "mimetype": "text/x-python",
   "name": "python",
   "nbconvert_exporter": "python",
   "pygments_lexer": "ipython3",
   "version": "3.8.5"
  },
  "toc": {
   "base_numbering": 1,
   "nav_menu": {},
   "number_sections": true,
   "sideBar": true,
   "skip_h1_title": true,
   "title_cell": "Table of Contents",
   "title_sidebar": "Contents",
   "toc_cell": false,
   "toc_position": {},
   "toc_section_display": true,
   "toc_window_display": false
  }
 },
 "nbformat": 4,
 "nbformat_minor": 4
}
