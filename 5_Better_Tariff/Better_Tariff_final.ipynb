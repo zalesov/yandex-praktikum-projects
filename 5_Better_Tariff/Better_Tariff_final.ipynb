{
 "cells": [
  {
   "cell_type": "markdown",
   "metadata": {},
   "source": [
    "# Рекомендация тарифов"
   ]
  },
  {
   "cell_type": "markdown",
   "metadata": {},
   "source": [
    "Цель: предсказать по признакам объекта (архивные данные клиентов телекоммуникационной компании), перейдет ли клиент на новую тарифную линейку. Метрика качества модели: accuracy.\n",
    "\n",
    "**Описание данных**  \n",
    "Каждый объект в наборе данных — это информация о поведении одного пользователя за месяц. \n",
    "is_ultra — целевой признак (1 - тариф \"1\" или 0 - другой тариф, всего тарифов 2)"
   ]
  },
  {
   "cell_type": "code",
   "execution_count": 24,
   "metadata": {},
   "outputs": [],
   "source": [
    "import pandas as pd\n",
    "import warnings\n",
    "from scipy import stats as st\n",
    "import math \n",
    "import seaborn as sns\n",
    "import matplotlib as plt\n",
    "\n",
    "from sklearn.model_selection import train_test_split\n",
    "from sklearn.tree import DecisionTreeClassifier\n",
    "from sklearn.ensemble import RandomForestClassifier\n",
    "from sklearn.linear_model import LogisticRegression\n",
    "from sklearn.metrics import accuracy_score\n",
    "\n",
    "from sklearn.metrics import mean_squared_error\n",
    "\n",
    "\n",
    "warnings.filterwarnings('ignore')"
   ]
  },
  {
   "cell_type": "code",
   "execution_count": 25,
   "metadata": {
    "scrolled": true
   },
   "outputs": [
    {
     "name": "stdout",
     "output_type": "stream",
     "text": [
      "<class 'pandas.core.frame.DataFrame'>\n",
      "RangeIndex: 3214 entries, 0 to 3213\n",
      "Data columns (total 5 columns):\n",
      " #   Column    Non-Null Count  Dtype  \n",
      "---  ------    --------------  -----  \n",
      " 0   calls     3214 non-null   float64\n",
      " 1   minutes   3214 non-null   float64\n",
      " 2   messages  3214 non-null   float64\n",
      " 3   mb_used   3214 non-null   float64\n",
      " 4   is_ultra  3214 non-null   int64  \n",
      "dtypes: float64(4), int64(1)\n",
      "memory usage: 125.7 KB\n",
      "None\n"
     ]
    },
    {
     "data": {
      "text/html": [
       "<div>\n",
       "<style scoped>\n",
       "    .dataframe tbody tr th:only-of-type {\n",
       "        vertical-align: middle;\n",
       "    }\n",
       "\n",
       "    .dataframe tbody tr th {\n",
       "        vertical-align: top;\n",
       "    }\n",
       "\n",
       "    .dataframe thead th {\n",
       "        text-align: right;\n",
       "    }\n",
       "</style>\n",
       "<table border=\"1\" class=\"dataframe\">\n",
       "  <thead>\n",
       "    <tr style=\"text-align: right;\">\n",
       "      <th></th>\n",
       "      <th>calls</th>\n",
       "      <th>minutes</th>\n",
       "      <th>messages</th>\n",
       "      <th>mb_used</th>\n",
       "      <th>is_ultra</th>\n",
       "    </tr>\n",
       "  </thead>\n",
       "  <tbody>\n",
       "    <tr>\n",
       "      <th>0</th>\n",
       "      <td>40.0</td>\n",
       "      <td>311.90</td>\n",
       "      <td>83.0</td>\n",
       "      <td>19915.42</td>\n",
       "      <td>0</td>\n",
       "    </tr>\n",
       "    <tr>\n",
       "      <th>1</th>\n",
       "      <td>85.0</td>\n",
       "      <td>516.75</td>\n",
       "      <td>56.0</td>\n",
       "      <td>22696.96</td>\n",
       "      <td>0</td>\n",
       "    </tr>\n",
       "    <tr>\n",
       "      <th>2</th>\n",
       "      <td>77.0</td>\n",
       "      <td>467.66</td>\n",
       "      <td>86.0</td>\n",
       "      <td>21060.45</td>\n",
       "      <td>0</td>\n",
       "    </tr>\n",
       "    <tr>\n",
       "      <th>3</th>\n",
       "      <td>106.0</td>\n",
       "      <td>745.53</td>\n",
       "      <td>81.0</td>\n",
       "      <td>8437.39</td>\n",
       "      <td>1</td>\n",
       "    </tr>\n",
       "    <tr>\n",
       "      <th>4</th>\n",
       "      <td>66.0</td>\n",
       "      <td>418.74</td>\n",
       "      <td>1.0</td>\n",
       "      <td>14502.75</td>\n",
       "      <td>0</td>\n",
       "    </tr>\n",
       "    <tr>\n",
       "      <th>5</th>\n",
       "      <td>58.0</td>\n",
       "      <td>344.56</td>\n",
       "      <td>21.0</td>\n",
       "      <td>15823.37</td>\n",
       "      <td>0</td>\n",
       "    </tr>\n",
       "    <tr>\n",
       "      <th>6</th>\n",
       "      <td>57.0</td>\n",
       "      <td>431.64</td>\n",
       "      <td>20.0</td>\n",
       "      <td>3738.90</td>\n",
       "      <td>1</td>\n",
       "    </tr>\n",
       "    <tr>\n",
       "      <th>7</th>\n",
       "      <td>15.0</td>\n",
       "      <td>132.40</td>\n",
       "      <td>6.0</td>\n",
       "      <td>21911.60</td>\n",
       "      <td>0</td>\n",
       "    </tr>\n",
       "    <tr>\n",
       "      <th>8</th>\n",
       "      <td>7.0</td>\n",
       "      <td>43.39</td>\n",
       "      <td>3.0</td>\n",
       "      <td>2538.67</td>\n",
       "      <td>1</td>\n",
       "    </tr>\n",
       "    <tr>\n",
       "      <th>9</th>\n",
       "      <td>90.0</td>\n",
       "      <td>665.41</td>\n",
       "      <td>38.0</td>\n",
       "      <td>17358.61</td>\n",
       "      <td>0</td>\n",
       "    </tr>\n",
       "    <tr>\n",
       "      <th>10</th>\n",
       "      <td>82.0</td>\n",
       "      <td>560.51</td>\n",
       "      <td>20.0</td>\n",
       "      <td>9619.53</td>\n",
       "      <td>1</td>\n",
       "    </tr>\n",
       "    <tr>\n",
       "      <th>11</th>\n",
       "      <td>45.0</td>\n",
       "      <td>344.32</td>\n",
       "      <td>13.0</td>\n",
       "      <td>19898.81</td>\n",
       "      <td>0</td>\n",
       "    </tr>\n",
       "    <tr>\n",
       "      <th>12</th>\n",
       "      <td>51.0</td>\n",
       "      <td>437.13</td>\n",
       "      <td>61.0</td>\n",
       "      <td>21523.58</td>\n",
       "      <td>0</td>\n",
       "    </tr>\n",
       "    <tr>\n",
       "      <th>13</th>\n",
       "      <td>56.0</td>\n",
       "      <td>433.07</td>\n",
       "      <td>16.0</td>\n",
       "      <td>16702.36</td>\n",
       "      <td>0</td>\n",
       "    </tr>\n",
       "    <tr>\n",
       "      <th>14</th>\n",
       "      <td>108.0</td>\n",
       "      <td>587.90</td>\n",
       "      <td>0.0</td>\n",
       "      <td>14406.50</td>\n",
       "      <td>1</td>\n",
       "    </tr>\n",
       "    <tr>\n",
       "      <th>15</th>\n",
       "      <td>6.0</td>\n",
       "      <td>22.13</td>\n",
       "      <td>0.0</td>\n",
       "      <td>2710.09</td>\n",
       "      <td>0</td>\n",
       "    </tr>\n",
       "    <tr>\n",
       "      <th>16</th>\n",
       "      <td>2.0</td>\n",
       "      <td>18.73</td>\n",
       "      <td>0.0</td>\n",
       "      <td>588.89</td>\n",
       "      <td>0</td>\n",
       "    </tr>\n",
       "    <tr>\n",
       "      <th>17</th>\n",
       "      <td>26.0</td>\n",
       "      <td>163.62</td>\n",
       "      <td>4.0</td>\n",
       "      <td>16870.34</td>\n",
       "      <td>0</td>\n",
       "    </tr>\n",
       "    <tr>\n",
       "      <th>18</th>\n",
       "      <td>79.0</td>\n",
       "      <td>532.62</td>\n",
       "      <td>90.0</td>\n",
       "      <td>19908.31</td>\n",
       "      <td>0</td>\n",
       "    </tr>\n",
       "    <tr>\n",
       "      <th>19</th>\n",
       "      <td>49.0</td>\n",
       "      <td>341.67</td>\n",
       "      <td>81.0</td>\n",
       "      <td>11770.28</td>\n",
       "      <td>1</td>\n",
       "    </tr>\n",
       "  </tbody>\n",
       "</table>\n",
       "</div>"
      ],
      "text/plain": [
       "    calls  minutes  messages   mb_used  is_ultra\n",
       "0    40.0   311.90      83.0  19915.42         0\n",
       "1    85.0   516.75      56.0  22696.96         0\n",
       "2    77.0   467.66      86.0  21060.45         0\n",
       "3   106.0   745.53      81.0   8437.39         1\n",
       "4    66.0   418.74       1.0  14502.75         0\n",
       "5    58.0   344.56      21.0  15823.37         0\n",
       "6    57.0   431.64      20.0   3738.90         1\n",
       "7    15.0   132.40       6.0  21911.60         0\n",
       "8     7.0    43.39       3.0   2538.67         1\n",
       "9    90.0   665.41      38.0  17358.61         0\n",
       "10   82.0   560.51      20.0   9619.53         1\n",
       "11   45.0   344.32      13.0  19898.81         0\n",
       "12   51.0   437.13      61.0  21523.58         0\n",
       "13   56.0   433.07      16.0  16702.36         0\n",
       "14  108.0   587.90       0.0  14406.50         1\n",
       "15    6.0    22.13       0.0   2710.09         0\n",
       "16    2.0    18.73       0.0    588.89         0\n",
       "17   26.0   163.62       4.0  16870.34         0\n",
       "18   79.0   532.62      90.0  19908.31         0\n",
       "19   49.0   341.67      81.0  11770.28         1"
      ]
     },
     "metadata": {},
     "output_type": "display_data"
    },
    {
     "name": "stdout",
     "output_type": "stream",
     "text": [
      "             calls      minutes     messages       mb_used     is_ultra\n",
      "count  3214.000000  3214.000000  3214.000000   3214.000000  3214.000000\n",
      "mean     63.038892   438.208787    38.281269  17207.673836     0.306472\n",
      "std      33.236368   234.569872    36.148326   7570.968246     0.461100\n",
      "min       0.000000     0.000000     0.000000      0.000000     0.000000\n",
      "25%      40.000000   274.575000     9.000000  12491.902500     0.000000\n",
      "50%      62.000000   430.600000    30.000000  16943.235000     0.000000\n",
      "75%      82.000000   571.927500    57.000000  21424.700000     1.000000\n",
      "max     244.000000  1632.060000   224.000000  49745.730000     1.000000\n"
     ]
    }
   ],
   "source": [
    "df = pd.read_csv('/Users/alexey_zalesov/Desktop/ya_prakrikum/ds/datasets/users_behavior.csv')\n",
    "\n",
    "print(df.info())\n",
    "display(df.head(20))\n",
    "print(df.describe())\n",
    "\n",
    "\n",
    "\n"
   ]
  },
  {
   "cell_type": "markdown",
   "metadata": {},
   "source": [
    "### Попробуем найти зависимость между столбцами для упрощения модели"
   ]
  },
  {
   "cell_type": "code",
   "execution_count": 26,
   "metadata": {},
   "outputs": [
    {
     "data": {
      "text/html": [
       "<div>\n",
       "<style scoped>\n",
       "    .dataframe tbody tr th:only-of-type {\n",
       "        vertical-align: middle;\n",
       "    }\n",
       "\n",
       "    .dataframe tbody tr th {\n",
       "        vertical-align: top;\n",
       "    }\n",
       "\n",
       "    .dataframe thead th {\n",
       "        text-align: right;\n",
       "    }\n",
       "</style>\n",
       "<table border=\"1\" class=\"dataframe\">\n",
       "  <thead>\n",
       "    <tr style=\"text-align: right;\">\n",
       "      <th></th>\n",
       "      <th>calls</th>\n",
       "      <th>minutes</th>\n",
       "      <th>messages</th>\n",
       "      <th>mb_used</th>\n",
       "      <th>is_ultra</th>\n",
       "    </tr>\n",
       "  </thead>\n",
       "  <tbody>\n",
       "    <tr>\n",
       "      <th>calls</th>\n",
       "      <td>1.000000</td>\n",
       "      <td>0.982083</td>\n",
       "      <td>0.177385</td>\n",
       "      <td>0.286442</td>\n",
       "      <td>0.207122</td>\n",
       "    </tr>\n",
       "    <tr>\n",
       "      <th>minutes</th>\n",
       "      <td>0.982083</td>\n",
       "      <td>1.000000</td>\n",
       "      <td>0.173110</td>\n",
       "      <td>0.280967</td>\n",
       "      <td>0.206955</td>\n",
       "    </tr>\n",
       "    <tr>\n",
       "      <th>messages</th>\n",
       "      <td>0.177385</td>\n",
       "      <td>0.173110</td>\n",
       "      <td>1.000000</td>\n",
       "      <td>0.195721</td>\n",
       "      <td>0.203830</td>\n",
       "    </tr>\n",
       "    <tr>\n",
       "      <th>mb_used</th>\n",
       "      <td>0.286442</td>\n",
       "      <td>0.280967</td>\n",
       "      <td>0.195721</td>\n",
       "      <td>1.000000</td>\n",
       "      <td>0.198568</td>\n",
       "    </tr>\n",
       "    <tr>\n",
       "      <th>is_ultra</th>\n",
       "      <td>0.207122</td>\n",
       "      <td>0.206955</td>\n",
       "      <td>0.203830</td>\n",
       "      <td>0.198568</td>\n",
       "      <td>1.000000</td>\n",
       "    </tr>\n",
       "  </tbody>\n",
       "</table>\n",
       "</div>"
      ],
      "text/plain": [
       "             calls   minutes  messages   mb_used  is_ultra\n",
       "calls     1.000000  0.982083  0.177385  0.286442  0.207122\n",
       "minutes   0.982083  1.000000  0.173110  0.280967  0.206955\n",
       "messages  0.177385  0.173110  1.000000  0.195721  0.203830\n",
       "mb_used   0.286442  0.280967  0.195721  1.000000  0.198568\n",
       "is_ultra  0.207122  0.206955  0.203830  0.198568  1.000000"
      ]
     },
     "execution_count": 26,
     "metadata": {},
     "output_type": "execute_result"
    }
   ],
   "source": [
    "df.corr()"
   ]
  },
  {
   "cell_type": "code",
   "execution_count": 27,
   "metadata": {},
   "outputs": [
    {
     "data": {
      "text/plain": [
       "<AxesSubplot:xlabel='messages', ylabel='mb_used'>"
      ]
     },
     "execution_count": 27,
     "metadata": {},
     "output_type": "execute_result"
    },
    {
     "data": {
      "image/png": "[encoded data removed]",
      "text/plain": [
       "<Figure size 432x288 with 1 Axes>"
      ]
     },
     "metadata": {
      "needs_background": "light"
     },
     "output_type": "display_data"
    },
    {
     "data": {
      "image/png": "[encoded data removed]",
      "text/plain": [
       "<Figure size 432x288 with 1 Axes>"
      ]
     },
     "metadata": {
      "needs_background": "light"
     },
     "output_type": "display_data"
    },
    {
     "data": {
      "image/png": "[encoded data removed]",
      "text/plain": [
       "<Figure size 432x288 with 1 Axes>"
      ]
     },
     "metadata": {
      "needs_background": "light"
     },
     "output_type": "display_data"
    },
    {
     "data": {
      "image/png": "[encoded data removed]",
      "text/plain": [
       "<Figure size 432x288 with 1 Axes>"
      ]
     },
     "metadata": {
      "needs_background": "light"
     },
     "output_type": "display_data"
    },
    {
     "data": {
      "image/png": "[encoded data removed]",
      "text/plain": [
       "<Figure size 432x288 with 1 Axes>"
      ]
     },
     "metadata": {
      "needs_background": "light"
     },
     "output_type": "display_data"
    },
    {
     "data": {
      "image/png": "[encoded data removed]",
      "text/plain": [
       "<Figure size 432x288 with 1 Axes>"
      ]
     },
     "metadata": {
      "needs_background": "light"
     },
     "output_type": "display_data"
    }
   ],
   "source": [
    "df.plot(x='calls', y='minutes', kind='scatter')\n",
    "df.plot(x='calls', y='messages', kind='scatter')\n",
    "df.plot(x='calls', y='mb_used', kind='scatter')\n",
    "\n",
    "df.plot(x='minutes', y='messages', kind='scatter')\n",
    "df.plot(x='minutes', y='mb_used', kind='scatter')\n",
    "\n",
    "df.plot(x='messages', y='mb_used', kind='scatter')"
   ]
  },
  {
   "cell_type": "markdown",
   "metadata": {},
   "source": [
    "Предлагаю исключить столбец \"calls\" из рассмотрения, так как у него корреляция со столбцом \"minutes\" = 0.982"
   ]
  },
  {
   "cell_type": "markdown",
   "metadata": {},
   "source": [
    "## Разбейте данные на выборки"
   ]
  },
  {
   "cell_type": "markdown",
   "metadata": {},
   "source": [
    "Предлагаю разбить выборки на тренировчную, валидационную и тестовую в соотношении 3:1:1, получится примерно 1900 объектов в тренировочной и примерно по 600 в валидационной и тестовой.\n",
    "\n",
    "Сначала разобьем на тренировочную+валидационную и тестовую:"
   ]
  },
  {
   "cell_type": "code",
   "execution_count": 28,
   "metadata": {},
   "outputs": [
    {
     "name": "stdout",
     "output_type": "stream",
     "text": [
      "(2571, 3)\n",
      "(643, 3)\n",
      "(2571,)\n",
      "(643,)\n"
     ]
    }
   ],
   "source": [
    "features = df.drop(columns=['is_ultra', 'calls'], axis=1)\n",
    "target = df['is_ultra']\n",
    "\n",
    "\n",
    "\n",
    "features_train_valid, features_test, target_train_valid, target_test = train_test_split(features, target,\n",
    "                                                                                        test_size=0.2,\n",
    "                                                                                        random_state=12345)\n",
    "\n",
    "print(features_train_valid.shape)\n",
    "print(features_test.shape)\n",
    "print(target_train_valid.shape)\n",
    "print(target_test.shape)\n",
    "\n",
    "\n",
    "#все работает"
   ]
  },
  {
   "cell_type": "markdown",
   "metadata": {},
   "source": [
    "Теперь разобьем тренировочную+валидационную на, собственно, тренировочную и валидационную:"
   ]
  },
  {
   "cell_type": "code",
   "execution_count": 29,
   "metadata": {},
   "outputs": [
    {
     "name": "stdout",
     "output_type": "stream",
     "text": [
      "(1928, 3)\n",
      "(643, 3)\n",
      "(1928,)\n",
      "(643,)\n"
     ]
    }
   ],
   "source": [
    "features_train, features_valid, target_train, target_valid = train_test_split(\n",
    "    features_train_valid, target_train_valid, test_size=0.25, random_state=12345 )\n",
    "\n",
    "\n",
    "print(features_train.shape)\n",
    "print(features_valid.shape)\n",
    "print(target_train.shape)\n",
    "print(target_valid.shape)\n",
    "\n",
    "#ура, все работает"
   ]
  },
  {
   "cell_type": "markdown",
   "metadata": {},
   "source": [
    "## Исследуем модели"
   ]
  },
  {
   "cell_type": "markdown",
   "metadata": {},
   "source": [
    "Предлагаю сравнить качество работы моделей: Случайный лес, Дерево решений, Логистическая регрессия. \n",
    "\n",
    "У какой модели будет лучший показатель accuracy, ту и булем использовать, как основную. \n",
    "\n",
    "В этой ячейку инициализируем модели, обучим, проверим на валидационной выборке."
   ]
  },
  {
   "cell_type": "code",
   "execution_count": 30,
   "metadata": {},
   "outputs": [
    {
     "name": "stdout",
     "output_type": "stream",
     "text": [
      "Качество модели дерева решений  0.6982892690513219\n",
      "Качество модели случайного леса  0.7869362363919129\n",
      "Качество модели логистической регрессии  0.7262830482115086\n"
     ]
    }
   ],
   "source": [
    "#инициализируем модели\n",
    "model_decision_tree = DecisionTreeClassifier(random_state=12345)\n",
    "model_random_forest = RandomForestClassifier(random_state=12345, n_estimators=10, )\n",
    "model_logistical_regression = LogisticRegression(random_state=12345)\n",
    "\n",
    "\n",
    "#обучаем модели\n",
    "model_decision_tree.fit(features_train, target_train)\n",
    "model_random_forest.fit(features_train, target_train)\n",
    "model_logistical_regression.fit(features_train, target_train)\n",
    "\n",
    "#делаем предсказания на валидационной выборке\n",
    "predictions_decision_tree = model_decision_tree.predict(features_valid) \n",
    "predictions_random_forest = model_random_forest.predict(features_valid) \n",
    "predictions_logistical_regression = model_logistical_regression.predict(features_valid) \n",
    "\n",
    "##проверяем предсказания на валидационной выборке по метрике accuracy\n",
    "accuracy_score_decision_tree = accuracy_score(target_valid, predictions_decision_tree)\n",
    "accuracy_score_random_forest = accuracy_score(target_valid, predictions_random_forest)\n",
    "accuracy_score_logistical_regression = accuracy_score(target_valid, predictions_logistical_regression)\n",
    "\n",
    "\n",
    "print(\"Качество модели дерева решений \", accuracy_score_decision_tree)\n",
    "print(\"Качество модели случайного леса \", accuracy_score_random_forest)\n",
    "print(\"Качество модели логистической регрессии \", accuracy_score_logistical_regression)\n",
    "\n",
    "\n",
    "\n",
    "\n",
    "\n",
    "\n"
   ]
  },
  {
   "cell_type": "markdown",
   "metadata": {},
   "source": [
    "Лучшее качество показала модель случайного леса. Возьмем ее и попробуем ее еще улучшить, меняя гиперпараметры. Выберем лучшие параметры, которые будем в дальнейшем проверять на тестовой выборке. "
   ]
  },
  {
   "cell_type": "code",
   "execution_count": 31,
   "metadata": {},
   "outputs": [
    {
     "name": "stdout",
     "output_type": "stream",
     "text": [
      "accuracy лучшей версии модели: 0.8055987558320373\n",
      "Нужная глубина: 10\n",
      "Нужное количество деревьев: 20\n"
     ]
    }
   ],
   "source": [
    "best_model = None\n",
    "best_result = 0\n",
    "best_depth = 0\n",
    "best_est = 0\n",
    "best_leaf_count = 0\n",
    "\n",
    "for depth in range (5,15):\n",
    "    for est in range (3, 30):\n",
    "        for leaf in range (1,4):\n",
    "        \n",
    "            model = RandomForestClassifier(random_state=12345, max_depth = depth, n_estimators=est,\n",
    "                                           min_samples_leaf = leaf )\n",
    "            model.fit(features_train, target_train)\n",
    "            predictions = model.predict(features_valid)\n",
    "            \n",
    "            accuracy = accuracy_score(target_valid, predictions)\n",
    "            if accuracy>best_result:\n",
    "                best_result = accuracy\n",
    "                best_model = model\n",
    "                best_depth = depth\n",
    "                best_est = est\n",
    "                best_leaf_count = 0\n",
    "            \n",
    "\n",
    "print('accuracy лучшей версии модели:', best_result)\n",
    "print('Нужная глубина:', best_depth)\n",
    "print('Нужное количество деревьев:', best_est)\n",
    "\n",
    "\n"
   ]
  },
  {
   "cell_type": "markdown",
   "metadata": {},
   "source": [
    "accuracy лучшей версии модели: 0.80248833592535\n",
    "Нужная глубина: 13\n",
    "Нужное количество деревьев: 26\n",
    "Нужное количество объектов для одного листка: 0"
   ]
  },
  {
   "cell_type": "markdown",
   "metadata": {},
   "source": [
    "Запомнили нужные гиперпараметры, переходим к тестовой выборке, проверим, насколько хорошо справится модель с такими параметрами с ней"
   ]
  },
  {
   "cell_type": "markdown",
   "metadata": {},
   "source": [
    "## Проверяем модель на тестовой выборке"
   ]
  },
  {
   "cell_type": "code",
   "execution_count": 32,
   "metadata": {
    "scrolled": true
   },
   "outputs": [
    {
     "name": "stdout",
     "output_type": "stream",
     "text": [
      "accuracy на тестовой выборке: 0.7884914463452566\n"
     ]
    }
   ],
   "source": [
    "test_predictions = best_model.predict(features_test)\n",
    "\n",
    "test_accuracy = accuracy_score(target_test, test_predictions)\n",
    "print('accuracy на тестовой выборке:', test_accuracy)\n"
   ]
  },
  {
   "cell_type": "markdown",
   "metadata": {},
   "source": [
    "Accuracy 0.79, подходит под наши условия. "
   ]
  },
  {
   "cell_type": "markdown",
   "metadata": {},
   "source": [
    "## Проверка модели на адекватность"
   ]
  },
  {
   "cell_type": "markdown",
   "metadata": {},
   "source": [
    "Я считаю, для проверки стоит взять массив случайных дробных чисел от 0 до 1 такой же длины как и массив target_test, применить функцию ceiling для конвертации каждого полученного в 0 или 1 в зависимости от константы, которая также будет определена случайным образом в  диапазоне [0.4,0.6] , и посчитать значение метрики accuracy для такого \"угадывания\" этой \"случайной\" модели. "
   ]
  },
  {
   "cell_type": "code",
   "execution_count": 33,
   "metadata": {},
   "outputs": [
    {
     "data": {
      "text/plain": [
       "array([0, 0, 1, 1, 1, 0, 1, 1, 1, 1])"
      ]
     },
     "metadata": {},
     "output_type": "display_data"
    },
    {
     "name": "stdout",
     "output_type": "stream",
     "text": [
      "accuracy случайного массивыа той же длины: 0.4432348367029549\n"
     ]
    }
   ],
   "source": [
    "import numpy as np\n",
    "sanity_sample = np.random.random_sample(len(target_test))\n",
    "sanity_const = np.random.random_integers(low=4, high=6)/10\n",
    "def random_sanity(sample, const):\n",
    "    for i in range(len(sample)):\n",
    "        if sample[i] <= const:\n",
    "            sample[i]=0\n",
    "        else:\n",
    "            sample[i]=1\n",
    "    return sample\n",
    "\n",
    "sample_after_random_ceiling = random_sanity(sanity_sample, sanity_const).astype('int')\n",
    "display(sample_after_random_ceiling[:10])\n",
    "\n",
    "accuracy_sanity_check = accuracy_score(target_test, sample_after_random_ceiling)\n",
    "print('accuracy случайного массивыа той же длины:', accuracy_sanity_check)\n"
   ]
  },
  {
   "cell_type": "markdown",
   "metadata": {},
   "source": [
    "Аccuracy случайного массива той же длины: 0.5396578538102644\n",
    "\n",
    "Accuracy получилось больше половины (на этой итераци, у меня). Наверное, это позволяет утверждать, что наш случайный лес все же лучше, чем случайная величина. "
   ]
  },
  {
   "cell_type": "markdown",
   "metadata": {},
   "source": [
    "# Вывод\n",
    "\n",
    "Данные были загружены и изучены. Далее они были разбиты на 3 выборки в соотношении 3:1:1 в два этапа. Было рассмотрено 3 модели для классификации, выбрана модлеь, показавшая лучший результат на валидационной выборке, после этого были проверены различные гиперпараметры для лучшей работы модели. На тестовой выборке итоговая модель показала accuracy 0.79. \n",
    "Также была попытка проверки на адекватность, которую модель, если такое можно считать проверкой, успешно прошла. "
   ]
  }
 ],
 "metadata": {
  "ExecuteTimeLog": [
   {
    "duration": 2179,
    "start_time": "2021-08-30T03:55:24.973Z"
   },
   {
    "duration": 52,
    "start_time": "2021-08-30T03:55:45.349Z"
   },
   {
    "duration": 101,
    "start_time": "2021-08-30T03:56:20.270Z"
   },
   {
    "duration": 7,
    "start_time": "2021-08-30T03:56:26.253Z"
   },
   {
    "duration": 88,
    "start_time": "2021-08-30T03:56:50.886Z"
   },
   {
    "duration": 34359,
    "start_time": "2021-08-30T03:56:57.636Z"
   },
   {
    "duration": 10,
    "start_time": "2021-08-30T03:58:52.556Z"
   },
   {
    "duration": 1586,
    "start_time": "2021-08-30T10:42:04.836Z"
   },
   {
    "duration": 542,
    "start_time": "2021-08-30T10:44:12.901Z"
   },
   {
    "duration": 68,
    "start_time": "2021-08-30T10:44:18.386Z"
   },
   {
    "duration": 3,
    "start_time": "2021-08-30T10:44:18.457Z"
   },
   {
    "duration": 427,
    "start_time": "2021-08-30T10:44:18.464Z"
   },
   {
    "duration": 50,
    "start_time": "2021-08-30T10:44:18.893Z"
   },
   {
    "duration": 22,
    "start_time": "2021-08-30T10:44:18.945Z"
   },
   {
    "duration": 151,
    "start_time": "2021-08-30T10:44:18.970Z"
   },
   {
    "duration": 56456,
    "start_time": "2021-08-30T10:44:19.124Z"
   },
   {
    "duration": 16,
    "start_time": "2021-08-30T10:45:15.583Z"
   },
   {
    "duration": 11,
    "start_time": "2021-08-30T10:45:15.603Z"
   },
   {
    "duration": 11527,
    "start_time": "2021-08-30T10:49:31.835Z"
   },
   {
    "duration": 568,
    "start_time": "2021-08-30T10:49:48.783Z"
   },
   {
    "duration": 959,
    "start_time": "2021-08-30T10:51:17.880Z"
   },
   {
    "duration": 948,
    "start_time": "2021-08-30T10:51:35.838Z"
   },
   {
    "duration": 1091,
    "start_time": "2021-08-30T10:52:42.038Z"
   },
   {
    "duration": 1028,
    "start_time": "2021-08-30T10:53:05.968Z"
   },
   {
    "duration": 447,
    "start_time": "2021-08-30T10:54:40.060Z"
   },
   {
    "duration": 1342,
    "start_time": "2021-08-30T10:56:49.056Z"
   },
   {
    "duration": 1847,
    "start_time": "2021-08-30T14:51:24.859Z"
   },
   {
    "duration": 3,
    "start_time": "2021-08-30T14:57:02.478Z"
   },
   {
    "duration": 1008,
    "start_time": "2021-08-30T15:11:51.803Z"
   },
   {
    "duration": 743,
    "start_time": "2021-08-30T15:14:18.633Z"
   },
   {
    "duration": 1874,
    "start_time": "2021-08-30T15:14:39.625Z"
   },
   {
    "duration": 774,
    "start_time": "2021-08-30T15:28:01.447Z"
   },
   {
    "duration": 1903,
    "start_time": "2021-08-30T15:28:08.214Z"
   },
   {
    "duration": 180,
    "start_time": "2021-08-30T15:29:44.045Z"
   },
   {
    "duration": 7386,
    "start_time": "2021-08-30T15:29:49.293Z"
   },
   {
    "duration": 1107,
    "start_time": "2021-08-30T15:34:28.827Z"
   },
   {
    "duration": 2850,
    "start_time": "2021-08-30T15:34:33.210Z"
   },
   {
    "duration": 3103,
    "start_time": "2021-08-30T15:38:31.412Z"
   },
   {
    "duration": 21,
    "start_time": "2021-08-30T15:44:34.176Z"
   },
   {
    "duration": 2657,
    "start_time": "2021-08-30T15:45:24.910Z"
   },
   {
    "duration": 14,
    "start_time": "2021-08-30T15:47:34.157Z"
   },
   {
    "duration": 18,
    "start_time": "2021-08-30T15:47:46.990Z"
   },
   {
    "duration": 183,
    "start_time": "2021-08-30T15:48:16.379Z"
   },
   {
    "duration": 3,
    "start_time": "2021-08-30T15:48:16.570Z"
   },
   {
    "duration": 24,
    "start_time": "2021-08-30T15:48:16.576Z"
   },
   {
    "duration": 3303,
    "start_time": "2021-08-30T15:48:16.604Z"
   },
   {
    "duration": 13,
    "start_time": "2021-08-30T15:48:19.910Z"
   },
   {
    "duration": 17,
    "start_time": "2021-08-30T15:48:19.926Z"
   },
   {
    "duration": 123,
    "start_time": "2021-08-30T15:48:19.969Z"
   },
   {
    "duration": 54568,
    "start_time": "2021-08-30T15:48:20.095Z"
   },
   {
    "duration": 18,
    "start_time": "2021-08-30T15:49:14.670Z"
   },
   {
    "duration": 16,
    "start_time": "2021-08-30T15:49:14.691Z"
   }
  ],
  "kernelspec": {
   "display_name": "Python 3",
   "language": "python",
   "name": "python3"
  },
  "language_info": {
   "codemirror_mode": {
    "name": "ipython",
    "version": 3
   },
   "file_extension": ".py",
   "mimetype": "text/x-python",
   "name": "python",
   "nbconvert_exporter": "python",
   "pygments_lexer": "ipython3",
   "version": "3.8.5"
  },
  "toc": {
   "base_numbering": 1,
   "nav_menu": {},
   "number_sections": true,
   "sideBar": true,
   "skip_h1_title": true,
   "title_cell": "Table of Contents",
   "title_sidebar": "Contents",
   "toc_cell": false,
   "toc_position": {},
   "toc_section_display": true,
   "toc_window_display": false
  }
 },
 "nbformat": 4,
 "nbformat_minor": 2
}
